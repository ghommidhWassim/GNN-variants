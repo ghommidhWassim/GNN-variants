{
  "nbformat": 4,
  "nbformat_minor": 0,
  "metadata": {
    "colab": {
      "provenance": [],
      "gpuType": "T4",
      "include_colab_link": true
    },
    "kernelspec": {
      "name": "python3",
      "display_name": "Python 3"
    },
    "language_info": {
      "name": "python"
    },
    "accelerator": "GPU"
  },
  "cells": [
    {
      "cell_type": "markdown",
      "metadata": {
        "id": "view-in-github",
        "colab_type": "text"
      },
      "source": [
        "<a href=\"https://colab.research.google.com/github/ghommidhWassim/GNN-variants/blob/main/nodeFeatCorrGCN.ipynb\" target=\"_parent\"><img src=\"https://colab.research.google.com/assets/colab-badge.svg\" alt=\"Open In Colab\"/></a>"
      ]
    },
    {
      "cell_type": "code",
      "execution_count": 1,
      "metadata": {
        "colab": {
          "base_uri": "https://localhost:8080/"
        },
        "id": "qZOSwsC8Mjpt",
        "outputId": "76089578-899b-457c-c830-14338831212d"
      },
      "outputs": [
        {
          "output_type": "stream",
          "name": "stdout",
          "text": [
            "  Installing build dependencies ... \u001b[?25l\u001b[?25hdone\n",
            "  Getting requirements to build wheel ... \u001b[?25l\u001b[?25hdone\n",
            "  Preparing metadata (pyproject.toml) ... \u001b[?25l\u001b[?25hdone\n",
            "  Building wheel for torch-geometric (pyproject.toml) ... \u001b[?25l\u001b[?25hdone\n",
            "2.6.0+cu124\n",
            "12.4\n",
            "Requirement already satisfied: torchvision in /usr/local/lib/python3.11/dist-packages (0.21.0+cu124)\n",
            "Requirement already satisfied: numpy in /usr/local/lib/python3.11/dist-packages (from torchvision) (2.0.2)\n",
            "Requirement already satisfied: torch==2.6.0 in /usr/local/lib/python3.11/dist-packages (from torchvision) (2.6.0+cu124)\n",
            "Requirement already satisfied: pillow!=8.3.*,>=5.3.0 in /usr/local/lib/python3.11/dist-packages (from torchvision) (11.2.1)\n",
            "Requirement already satisfied: filelock in /usr/local/lib/python3.11/dist-packages (from torch==2.6.0->torchvision) (3.18.0)\n",
            "Requirement already satisfied: typing-extensions>=4.10.0 in /usr/local/lib/python3.11/dist-packages (from torch==2.6.0->torchvision) (4.14.1)\n",
            "Requirement already satisfied: networkx in /usr/local/lib/python3.11/dist-packages (from torch==2.6.0->torchvision) (3.5)\n",
            "Requirement already satisfied: jinja2 in /usr/local/lib/python3.11/dist-packages (from torch==2.6.0->torchvision) (3.1.6)\n",
            "Requirement already satisfied: fsspec in /usr/local/lib/python3.11/dist-packages (from torch==2.6.0->torchvision) (2025.3.2)\n",
            "Collecting nvidia-cuda-nvrtc-cu12==12.4.127 (from torch==2.6.0->torchvision)\n",
            "  Downloading nvidia_cuda_nvrtc_cu12-12.4.127-py3-none-manylinux2014_x86_64.whl.metadata (1.5 kB)\n",
            "Collecting nvidia-cuda-runtime-cu12==12.4.127 (from torch==2.6.0->torchvision)\n",
            "  Downloading nvidia_cuda_runtime_cu12-12.4.127-py3-none-manylinux2014_x86_64.whl.metadata (1.5 kB)\n",
            "Collecting nvidia-cuda-cupti-cu12==12.4.127 (from torch==2.6.0->torchvision)\n",
            "  Downloading nvidia_cuda_cupti_cu12-12.4.127-py3-none-manylinux2014_x86_64.whl.metadata (1.6 kB)\n",
            "Collecting nvidia-cudnn-cu12==9.1.0.70 (from torch==2.6.0->torchvision)\n",
            "  Downloading nvidia_cudnn_cu12-9.1.0.70-py3-none-manylinux2014_x86_64.whl.metadata (1.6 kB)\n",
            "Collecting nvidia-cublas-cu12==12.4.5.8 (from torch==2.6.0->torchvision)\n",
            "  Downloading nvidia_cublas_cu12-12.4.5.8-py3-none-manylinux2014_x86_64.whl.metadata (1.5 kB)\n",
            "Collecting nvidia-cufft-cu12==11.2.1.3 (from torch==2.6.0->torchvision)\n",
            "  Downloading nvidia_cufft_cu12-11.2.1.3-py3-none-manylinux2014_x86_64.whl.metadata (1.5 kB)\n",
            "Collecting nvidia-curand-cu12==10.3.5.147 (from torch==2.6.0->torchvision)\n",
            "  Downloading nvidia_curand_cu12-10.3.5.147-py3-none-manylinux2014_x86_64.whl.metadata (1.5 kB)\n",
            "Collecting nvidia-cusolver-cu12==11.6.1.9 (from torch==2.6.0->torchvision)\n",
            "  Downloading nvidia_cusolver_cu12-11.6.1.9-py3-none-manylinux2014_x86_64.whl.metadata (1.6 kB)\n",
            "Collecting nvidia-cusparse-cu12==12.3.1.170 (from torch==2.6.0->torchvision)\n",
            "  Downloading nvidia_cusparse_cu12-12.3.1.170-py3-none-manylinux2014_x86_64.whl.metadata (1.6 kB)\n",
            "Requirement already satisfied: nvidia-cusparselt-cu12==0.6.2 in /usr/local/lib/python3.11/dist-packages (from torch==2.6.0->torchvision) (0.6.2)\n",
            "Requirement already satisfied: nvidia-nccl-cu12==2.21.5 in /usr/local/lib/python3.11/dist-packages (from torch==2.6.0->torchvision) (2.21.5)\n",
            "Requirement already satisfied: nvidia-nvtx-cu12==12.4.127 in /usr/local/lib/python3.11/dist-packages (from torch==2.6.0->torchvision) (12.4.127)\n",
            "Collecting nvidia-nvjitlink-cu12==12.4.127 (from torch==2.6.0->torchvision)\n",
            "  Downloading nvidia_nvjitlink_cu12-12.4.127-py3-none-manylinux2014_x86_64.whl.metadata (1.5 kB)\n",
            "Requirement already satisfied: triton==3.2.0 in /usr/local/lib/python3.11/dist-packages (from torch==2.6.0->torchvision) (3.2.0)\n",
            "Requirement already satisfied: sympy==1.13.1 in /usr/local/lib/python3.11/dist-packages (from torch==2.6.0->torchvision) (1.13.1)\n",
            "Requirement already satisfied: mpmath<1.4,>=1.1.0 in /usr/local/lib/python3.11/dist-packages (from sympy==1.13.1->torch==2.6.0->torchvision) (1.3.0)\n",
            "Requirement already satisfied: MarkupSafe>=2.0 in /usr/local/lib/python3.11/dist-packages (from jinja2->torch==2.6.0->torchvision) (3.0.2)\n",
            "Downloading nvidia_cublas_cu12-12.4.5.8-py3-none-manylinux2014_x86_64.whl (363.4 MB)\n",
            "\u001b[2K   \u001b[90m━━━━━━━━━━━━━━━━━━━━━━━━━━━━━━━━━━━━━━━━\u001b[0m \u001b[32m363.4/363.4 MB\u001b[0m \u001b[31m1.5 MB/s\u001b[0m eta \u001b[36m0:00:00\u001b[0m\n",
            "\u001b[?25hDownloading nvidia_cuda_cupti_cu12-12.4.127-py3-none-manylinux2014_x86_64.whl (13.8 MB)\n",
            "\u001b[2K   \u001b[90m━━━━━━━━━━━━━━━━━━━━━━━━━━━━━━━━━━━━━━━━\u001b[0m \u001b[32m13.8/13.8 MB\u001b[0m \u001b[31m80.4 MB/s\u001b[0m eta \u001b[36m0:00:00\u001b[0m\n",
            "\u001b[?25hDownloading nvidia_cuda_nvrtc_cu12-12.4.127-py3-none-manylinux2014_x86_64.whl (24.6 MB)\n",
            "\u001b[2K   \u001b[90m━━━━━━━━━━━━━━━━━━━━━━━━━━━━━━━━━━━━━━━━\u001b[0m \u001b[32m24.6/24.6 MB\u001b[0m \u001b[31m76.5 MB/s\u001b[0m eta \u001b[36m0:00:00\u001b[0m\n",
            "\u001b[?25hDownloading nvidia_cuda_runtime_cu12-12.4.127-py3-none-manylinux2014_x86_64.whl (883 kB)\n",
            "\u001b[2K   \u001b[90m━━━━━━━━━━━━━━━━━━━━━━━━━━━━━━━━━━━━━━━━\u001b[0m \u001b[32m883.7/883.7 kB\u001b[0m \u001b[31m45.9 MB/s\u001b[0m eta \u001b[36m0:00:00\u001b[0m\n",
            "\u001b[?25hDownloading nvidia_cudnn_cu12-9.1.0.70-py3-none-manylinux2014_x86_64.whl (664.8 MB)\n",
            "\u001b[2K   \u001b[90m━━━━━━━━━━━━━━━━━━━━━━━━━━━━━━━━━━━━━━━━\u001b[0m \u001b[32m664.8/664.8 MB\u001b[0m \u001b[31m3.0 MB/s\u001b[0m eta \u001b[36m0:00:00\u001b[0m\n",
            "\u001b[?25hDownloading nvidia_cufft_cu12-11.2.1.3-py3-none-manylinux2014_x86_64.whl (211.5 MB)\n",
            "\u001b[2K   \u001b[90m━━━━━━━━━━━━━━━━━━━━━━━━━━━━━━━━━━━━━━━━\u001b[0m \u001b[32m211.5/211.5 MB\u001b[0m \u001b[31m5.9 MB/s\u001b[0m eta \u001b[36m0:00:00\u001b[0m\n",
            "\u001b[?25hDownloading nvidia_curand_cu12-10.3.5.147-py3-none-manylinux2014_x86_64.whl (56.3 MB)\n",
            "\u001b[2K   \u001b[90m━━━━━━━━━━━━━━━━━━━━━━━━━━━━━━━━━━━━━━━━\u001b[0m \u001b[32m56.3/56.3 MB\u001b[0m \u001b[31m14.1 MB/s\u001b[0m eta \u001b[36m0:00:00\u001b[0m\n",
            "\u001b[?25hDownloading nvidia_cusolver_cu12-11.6.1.9-py3-none-manylinux2014_x86_64.whl (127.9 MB)\n",
            "\u001b[2K   \u001b[90m━━━━━━━━━━━━━━━━━━━━━━━━━━━━━━━━━━━━━━━━\u001b[0m \u001b[32m127.9/127.9 MB\u001b[0m \u001b[31m8.6 MB/s\u001b[0m eta \u001b[36m0:00:00\u001b[0m\n",
            "\u001b[?25hDownloading nvidia_cusparse_cu12-12.3.1.170-py3-none-manylinux2014_x86_64.whl (207.5 MB)\n",
            "\u001b[2K   \u001b[90m━━━━━━━━━━━━━━━━━━━━━━━━━━━━━━━━━━━━━━━━\u001b[0m \u001b[32m207.5/207.5 MB\u001b[0m \u001b[31m6.6 MB/s\u001b[0m eta \u001b[36m0:00:00\u001b[0m\n",
            "\u001b[?25hDownloading nvidia_nvjitlink_cu12-12.4.127-py3-none-manylinux2014_x86_64.whl (21.1 MB)\n",
            "\u001b[2K   \u001b[90m━━━━━━━━━━━━━━━━━━━━━━━━━━━━━━━━━━━━━━━━\u001b[0m \u001b[32m21.1/21.1 MB\u001b[0m \u001b[31m62.1 MB/s\u001b[0m eta \u001b[36m0:00:00\u001b[0m\n",
            "\u001b[?25hInstalling collected packages: nvidia-nvjitlink-cu12, nvidia-curand-cu12, nvidia-cufft-cu12, nvidia-cuda-runtime-cu12, nvidia-cuda-nvrtc-cu12, nvidia-cuda-cupti-cu12, nvidia-cublas-cu12, nvidia-cusparse-cu12, nvidia-cudnn-cu12, nvidia-cusolver-cu12\n",
            "  Attempting uninstall: nvidia-nvjitlink-cu12\n",
            "    Found existing installation: nvidia-nvjitlink-cu12 12.5.82\n",
            "    Uninstalling nvidia-nvjitlink-cu12-12.5.82:\n",
            "      Successfully uninstalled nvidia-nvjitlink-cu12-12.5.82\n",
            "  Attempting uninstall: nvidia-curand-cu12\n",
            "    Found existing installation: nvidia-curand-cu12 10.3.6.82\n",
            "    Uninstalling nvidia-curand-cu12-10.3.6.82:\n",
            "      Successfully uninstalled nvidia-curand-cu12-10.3.6.82\n",
            "  Attempting uninstall: nvidia-cufft-cu12\n",
            "    Found existing installation: nvidia-cufft-cu12 11.2.3.61\n",
            "    Uninstalling nvidia-cufft-cu12-11.2.3.61:\n",
            "      Successfully uninstalled nvidia-cufft-cu12-11.2.3.61\n",
            "  Attempting uninstall: nvidia-cuda-runtime-cu12\n",
            "    Found existing installation: nvidia-cuda-runtime-cu12 12.5.82\n",
            "    Uninstalling nvidia-cuda-runtime-cu12-12.5.82:\n",
            "      Successfully uninstalled nvidia-cuda-runtime-cu12-12.5.82\n",
            "  Attempting uninstall: nvidia-cuda-nvrtc-cu12\n",
            "    Found existing installation: nvidia-cuda-nvrtc-cu12 12.5.82\n",
            "    Uninstalling nvidia-cuda-nvrtc-cu12-12.5.82:\n",
            "      Successfully uninstalled nvidia-cuda-nvrtc-cu12-12.5.82\n",
            "  Attempting uninstall: nvidia-cuda-cupti-cu12\n",
            "    Found existing installation: nvidia-cuda-cupti-cu12 12.5.82\n",
            "    Uninstalling nvidia-cuda-cupti-cu12-12.5.82:\n",
            "      Successfully uninstalled nvidia-cuda-cupti-cu12-12.5.82\n",
            "  Attempting uninstall: nvidia-cublas-cu12\n",
            "    Found existing installation: nvidia-cublas-cu12 12.5.3.2\n",
            "    Uninstalling nvidia-cublas-cu12-12.5.3.2:\n",
            "      Successfully uninstalled nvidia-cublas-cu12-12.5.3.2\n",
            "  Attempting uninstall: nvidia-cusparse-cu12\n",
            "    Found existing installation: nvidia-cusparse-cu12 12.5.1.3\n",
            "    Uninstalling nvidia-cusparse-cu12-12.5.1.3:\n",
            "      Successfully uninstalled nvidia-cusparse-cu12-12.5.1.3\n",
            "  Attempting uninstall: nvidia-cudnn-cu12\n",
            "    Found existing installation: nvidia-cudnn-cu12 9.3.0.75\n",
            "    Uninstalling nvidia-cudnn-cu12-9.3.0.75:\n",
            "      Successfully uninstalled nvidia-cudnn-cu12-9.3.0.75\n",
            "  Attempting uninstall: nvidia-cusolver-cu12\n",
            "    Found existing installation: nvidia-cusolver-cu12 11.6.3.83\n",
            "    Uninstalling nvidia-cusolver-cu12-11.6.3.83:\n",
            "      Successfully uninstalled nvidia-cusolver-cu12-11.6.3.83\n",
            "Successfully installed nvidia-cublas-cu12-12.4.5.8 nvidia-cuda-cupti-cu12-12.4.127 nvidia-cuda-nvrtc-cu12-12.4.127 nvidia-cuda-runtime-cu12-12.4.127 nvidia-cudnn-cu12-9.1.0.70 nvidia-cufft-cu12-11.2.1.3 nvidia-curand-cu12-10.3.5.147 nvidia-cusolver-cu12-11.6.1.9 nvidia-cusparse-cu12-12.3.1.170 nvidia-nvjitlink-cu12-12.4.127\n",
            "Looking in links: https://data.pyg.org/whl/torch-2.6.0+cu124.html\n",
            "Collecting pyg_lib\n",
            "  Downloading https://data.pyg.org/whl/torch-2.6.0%2Bcu124/pyg_lib-0.4.0%2Bpt26cu124-cp311-cp311-linux_x86_64.whl (4.7 MB)\n",
            "\u001b[2K     \u001b[90m━━━━━━━━━━━━━━━━━━━━━━━━━━━━━━━━━━━━━━━━\u001b[0m \u001b[32m4.7/4.7 MB\u001b[0m \u001b[31m34.4 MB/s\u001b[0m eta \u001b[36m0:00:00\u001b[0m\n",
            "\u001b[?25hCollecting torch_scatter\n",
            "  Downloading https://data.pyg.org/whl/torch-2.6.0%2Bcu124/torch_scatter-2.1.2%2Bpt26cu124-cp311-cp311-linux_x86_64.whl (10.8 MB)\n",
            "\u001b[2K     \u001b[90m━━━━━━━━━━━━━━━━━━━━━━━━━━━━━━━━━━━━━━━\u001b[0m \u001b[32m10.8/10.8 MB\u001b[0m \u001b[31m102.2 MB/s\u001b[0m eta \u001b[36m0:00:00\u001b[0m\n",
            "\u001b[?25hCollecting torch_sparse\n",
            "  Downloading https://data.pyg.org/whl/torch-2.6.0%2Bcu124/torch_sparse-0.6.18%2Bpt26cu124-cp311-cp311-linux_x86_64.whl (5.0 MB)\n",
            "\u001b[2K     \u001b[90m━━━━━━━━━━━━━━━━━━━━━━━━━━━━━━━━━━━━━━━━\u001b[0m \u001b[32m5.0/5.0 MB\u001b[0m \u001b[31m95.9 MB/s\u001b[0m eta \u001b[36m0:00:00\u001b[0m\n",
            "\u001b[?25hCollecting torch_cluster\n",
            "  Downloading https://data.pyg.org/whl/torch-2.6.0%2Bcu124/torch_cluster-1.6.3%2Bpt26cu124-cp311-cp311-linux_x86_64.whl (3.4 MB)\n",
            "\u001b[2K     \u001b[90m━━━━━━━━━━━━━━━━━━━━━━━━━━━━━━━━━━━━━━━━\u001b[0m \u001b[32m3.4/3.4 MB\u001b[0m \u001b[31m88.7 MB/s\u001b[0m eta \u001b[36m0:00:00\u001b[0m\n",
            "\u001b[?25hCollecting torch_spline_conv\n",
            "  Downloading https://data.pyg.org/whl/torch-2.6.0%2Bcu124/torch_spline_conv-1.2.2%2Bpt26cu124-cp311-cp311-linux_x86_64.whl (1.0 MB)\n",
            "\u001b[2K     \u001b[90m━━━━━━━━━━━━━━━━━━━━━━━━━━━━━━━━━━━━━━━━\u001b[0m \u001b[32m1.0/1.0 MB\u001b[0m \u001b[31m45.2 MB/s\u001b[0m eta \u001b[36m0:00:00\u001b[0m\n",
            "\u001b[?25hRequirement already satisfied: scipy in /usr/local/lib/python3.11/dist-packages (from torch_sparse) (1.15.3)\n",
            "Requirement already satisfied: numpy<2.5,>=1.23.5 in /usr/local/lib/python3.11/dist-packages (from scipy->torch_sparse) (2.0.2)\n",
            "Installing collected packages: torch_spline_conv, torch_scatter, pyg_lib, torch_sparse, torch_cluster\n",
            "Successfully installed pyg_lib-0.4.0+pt26cu124 torch_cluster-1.6.3+pt26cu124 torch_scatter-2.1.2+pt26cu124 torch_sparse-0.6.18+pt26cu124 torch_spline_conv-1.2.2+pt26cu124\n"
          ]
        }
      ],
      "source": [
        "!pip install -q git+https://github.com/pyg-team/pytorch_geometric.git\n",
        "!python -c \"import torch; print(torch.__version__)\"\n",
        "!python -c \"import torch; print(torch.version.cuda)\"\n",
        "!pip install torchvision\n",
        "!pip install pyg_lib torch_scatter torch_sparse torch_cluster torch_spline_conv -f https://data.pyg.org/whl/torch-2.6.0+cu124.html\n"
      ]
    },
    {
      "cell_type": "code",
      "source": [
        "# Standard libraries\n",
        "import numpy as np\n",
        "from scipy import sparse\n",
        "import seaborn as sns\n",
        "import pandas as pd\n",
        "import time\n",
        "import json\n",
        "# Plotting libraries\n",
        "import matplotlib.pyplot as plt\n",
        "import networkx as nx\n",
        "from matplotlib import cm\n",
        "from IPython.display import Javascript  # Restrict height of output cell.\n",
        "\n",
        "# PyTorch\n",
        "import torch\n",
        "import torch.nn.functional as F\n",
        "from torch.nn import Linear\n",
        "import torch.nn as nn\n",
        "from torch_sparse import spmm\n",
        "# import pyg_lib\n",
        "import torch_sparse\n",
        "from torch_geometric.utils import to_networkx\n",
        "from sklearn.metrics import f1_score\n",
        "\n",
        "# PyTorch geometric\n",
        "from torch_geometric.nn import GCNConv\n",
        "from torch_geometric.datasets import Planetoid,Amazon\n",
        "from torch_geometric.loader import ClusterData, ClusterLoader\n",
        "from torch_geometric.transforms import NormalizeFeatures, RandomNodeSplit\n",
        "import torch_geometric.transforms as T\n",
        "from torch_geometric.data import Data\n",
        "from torch_geometric import seed_everything\n",
        "from torch.profiler import profile, record_function, ProfilerActivity\n",
        "import os.path as osp\n",
        "from torch_geometric.datasets import Planetoid\n",
        "from torch_geometric.loader import NeighborLoader\n",
        "from torch_geometric.nn import GraphSAGE\n",
        "from sklearn.metrics import accuracy_score\n",
        "from transformers import AutoModelForCausalLM\n",
        "from torch.profiler import profile, record_function, ProfilerActivity"
      ],
      "metadata": {
        "id": "Q0y6VyZAMzYu"
      },
      "execution_count": 2,
      "outputs": []
    },
    {
      "cell_type": "code",
      "source": [
        "def clean_gpu_memory():\n",
        "    \"\"\"Cleans GPU memory without fully resetting the CUDA context\"\"\"\n",
        "    import gc\n",
        "    gc.collect()  # Python garbage collection\n",
        "    if torch.cuda.is_available():\n",
        "        torch.cuda.empty_cache()  # PyTorch cache\n",
        "        torch.cuda.reset_peak_memory_stats()  # Reset tracking\n",
        "        print(f\"Memory after cleanup: {torch.cuda.memory_allocated()/1024**2:.2f} MB\")\n",
        "\n",
        "def f1_micro(data, mask):\n",
        "    model.eval()\n",
        "    out = model(data.x.to(device), data.edge_index.to(device))\n",
        "    pred = out.argmax(dim=1)\n",
        "    y_true = data.y[mask].cpu().numpy()\n",
        "    y_pred = pred[mask.to(device)].cpu().numpy()\n",
        "    return f1_score(y_true, y_pred, average='micro')\n"
      ],
      "metadata": {
        "id": "q5vzbaLgWcBv"
      },
      "execution_count": 3,
      "outputs": []
    },
    {
      "cell_type": "code",
      "source": [
        "device = torch.device('cuda' if torch.cuda.is_available() else 'cpu')\n",
        "print(f\"Initial allocated memory: {torch.cuda.memory_allocated() / (1024**2):.2f} MB\")\n",
        "\n",
        "def dataset_load():\n",
        "  print(f\"Using device: {device}\")\n",
        "  dataset = Planetoid(root='data/Planetoid', name='PubMed', transform=NormalizeFeatures())\n",
        "  num_features = dataset.num_features\n",
        "  num_classes = dataset.num_classes\n",
        "  data = dataset[0].to(device)  # Get the first graph object.\n",
        "  return num_features, data, num_classes, device,dataset"
      ],
      "metadata": {
        "colab": {
          "base_uri": "https://localhost:8080/"
        },
        "id": "K_VYH5nBNHXl",
        "outputId": "56632d60-f5de-4f97-8a14-8c2efd16773f"
      },
      "execution_count": 4,
      "outputs": [
        {
          "output_type": "stream",
          "name": "stdout",
          "text": [
            "Initial allocated memory: 0.00 MB\n"
          ]
        }
      ]
    },
    {
      "cell_type": "code",
      "source": [
        "num_features, data, num_classes, device, dataset = dataset_load()\n",
        "print(f'Number of nodes:          {data.num_nodes}')\n",
        "print(f'Number of edges:          {data.num_edges}')\n",
        "print(f'Average node degree:      {data.num_edges / data.num_nodes:.2f}')\n",
        "print(f'Number of training nodes: {data.train_mask.sum()}')\n",
        "print(f'Training node label rate: {int(data.train_mask.sum()) / data.num_nodes:.3f}')\n",
        "print(f'Has isolated nodes:       {data.has_isolated_nodes()}')\n",
        "print(f'Has self-loops:           {data.has_self_loops()}')\n",
        "print(f'Is undirected:            {data.is_undirected()}')"
      ],
      "metadata": {
        "colab": {
          "base_uri": "https://localhost:8080/"
        },
        "id": "O328-q0NNMAQ",
        "outputId": "5d3b3f25-ebb0-4c05-9f51-993ca15b18ae"
      },
      "execution_count": 5,
      "outputs": [
        {
          "output_type": "stream",
          "name": "stdout",
          "text": [
            "Using device: cpu\n"
          ]
        },
        {
          "output_type": "stream",
          "name": "stderr",
          "text": [
            "Downloading https://github.com/kimiyoung/planetoid/raw/master/data/ind.pubmed.x\n",
            "Downloading https://github.com/kimiyoung/planetoid/raw/master/data/ind.pubmed.tx\n",
            "Downloading https://github.com/kimiyoung/planetoid/raw/master/data/ind.pubmed.allx\n",
            "Downloading https://github.com/kimiyoung/planetoid/raw/master/data/ind.pubmed.y\n",
            "Downloading https://github.com/kimiyoung/planetoid/raw/master/data/ind.pubmed.ty\n",
            "Downloading https://github.com/kimiyoung/planetoid/raw/master/data/ind.pubmed.ally\n",
            "Downloading https://github.com/kimiyoung/planetoid/raw/master/data/ind.pubmed.graph\n",
            "Downloading https://github.com/kimiyoung/planetoid/raw/master/data/ind.pubmed.test.index\n",
            "Processing...\n",
            "Done!\n"
          ]
        },
        {
          "output_type": "stream",
          "name": "stdout",
          "text": [
            "Number of nodes:          19717\n",
            "Number of edges:          88648\n",
            "Average node degree:      4.50\n",
            "Number of training nodes: 60\n",
            "Training node label rate: 0.003\n",
            "Has isolated nodes:       False\n",
            "Has self-loops:           False\n",
            "Is undirected:            True\n"
          ]
        }
      ]
    },
    {
      "cell_type": "code",
      "source": [
        "\n",
        "\n",
        "class GCN(torch.nn.Module):\n",
        "    def __init__(self, in_channels, hidden_channels, out_channels):\n",
        "        super().__init__()\n",
        "        self.conv1 = GCNConv(in_channels, hidden_channels)\n",
        "        self.conv2 = GCNConv(hidden_channels, out_channels)\n",
        "\n",
        "    def forward(self, x, edge_index):\n",
        "        x = self.conv1(x, edge_index)\n",
        "        x = x.relu()\n",
        "        x = F.dropout(x, p=0.5, training=self.training)\n",
        "        x = self.conv2(x, edge_index)\n",
        "        return F.log_softmax(x, dim=-1)\n"
      ],
      "metadata": {
        "id": "lPsgIR3oNUFn"
      },
      "execution_count": 6,
      "outputs": []
    },
    {
      "cell_type": "code",
      "source": [
        "def train(data, mask):\n",
        "  model.train()\n",
        "  optimizer.zero_grad()  # Clear gradients.\n",
        "  out = model(data.x, data.edge_index)  # Perform a single forward pass.\n",
        "  loss = criterion(out[mask], data.y[mask])  # Compute the loss solely based on the training nodes.\n",
        "  loss.backward()  # Derive gradients.\n",
        "  optimizer.step()  # Update parameters based on gradients.\n",
        "  return loss\n",
        "\n",
        "def test(data, mask):\n",
        "  model.eval()\n",
        "  out = model(data.x.to(device), data.edge_index.to(device))\n",
        "  pred = out.argmax(dim=1)\n",
        "  correct = pred[mask.to(device)] == data.y[mask.to(device)]\n",
        "  acc = int(correct.sum()) / int(mask.sum())\n",
        "  return acc"
      ],
      "metadata": {
        "id": "HHEgYQ9fNWg6"
      },
      "execution_count": 7,
      "outputs": []
    },
    {
      "cell_type": "code",
      "source": [
        "import torch\n",
        "from torch_geometric.utils import subgraph, to_networkx\n",
        "import numpy as np\n",
        "from scipy.stats import pearsonr\n",
        "from sklearn.metrics.pairwise import cosine_similarity\n",
        "\n",
        "def compute_corr_matrix(features):\n",
        "    # features: [num_nodes, num_features] numpy array\n",
        "    norm_features = features / (np.linalg.norm(features, axis=1, keepdims=True) + 1e-8)\n",
        "    corr_matrix = cosine_similarity(norm_features)\n",
        "    return corr_matrix\n",
        "\n",
        "def select_least_correlated_nodes(nodes_idx, features_np, num_select):\n",
        "    # nodes_idx: list of node indices (int) to consider neighbors for\n",
        "    # features_np: numpy array of features of those nodes\n",
        "    n = len(nodes_idx)\n",
        "    corr_matrix = compute_corr_matrix(features_np)\n",
        "\n",
        "    selected_indices = set()\n",
        "    for i in range(n):\n",
        "        # sort neighbors by ascending correlation (less correlated first)\n",
        "        corr_values = corr_matrix[i]\n",
        "        sorted_indices = np.argsort(np.abs(corr_values))  # abs because correlation ranges [-1,1]\n",
        "        # remove self index\n",
        "        sorted_indices = sorted_indices[sorted_indices != i]\n",
        "\n",
        "        # select top-k least correlated neighbors (or all available)\n",
        "        k = min(num_select, len(sorted_indices))\n",
        "        for idx in sorted_indices[:k]:\n",
        "            selected_indices.add(nodes_idx[idx])\n",
        "    return list(selected_indices)\n",
        "\n",
        "def custom_partition(data, num_neighbors=4, num_hops=2):\n",
        "    all_nodes = set(range(data.num_nodes))\n",
        "    used_nodes = set()\n",
        "    subgraphs = []\n",
        "\n",
        "    x_np = data.x.cpu().numpy()\n",
        "\n",
        "    while len(used_nodes) < data.num_nodes:\n",
        "        # Remaining nodes to pick from\n",
        "        candidate_nodes = list(all_nodes - used_nodes)\n",
        "        if not candidate_nodes:\n",
        "            break\n",
        "\n",
        "        # Pick a random seed node not used yet\n",
        "        seed = np.random.choice(candidate_nodes)\n",
        "        current_hop_nodes = [seed]\n",
        "        selected_nodes = set([seed])  # Include starting node\n",
        "\n",
        "        for hop in range(num_hops):\n",
        "            neighbors = []\n",
        "            # get neighbors of current hop nodes\n",
        "            for node in current_hop_nodes:\n",
        "                neigh = data.edge_index[1][data.edge_index[0] == node].cpu().numpy()\n",
        "                neighbors.extend(neigh.tolist())\n",
        "            neighbors = list(set(neighbors) - used_nodes - selected_nodes)\n",
        "            if not neighbors:\n",
        "                break\n",
        "\n",
        "            # get features of neighbors and current hop nodes combined\n",
        "            nodes_to_consider = current_hop_nodes + neighbors\n",
        "            feats = x_np[nodes_to_consider]\n",
        "\n",
        "            # select least correlated neighbors among neighbors\n",
        "            selected_neighbors = select_least_correlated_nodes(neighbors, x_np[neighbors], num_neighbors)\n",
        "\n",
        "            selected_nodes.update(selected_neighbors)\n",
        "            current_hop_nodes = selected_neighbors\n",
        "\n",
        "        used_nodes.update(selected_nodes)\n",
        "\n",
        "        # Build subgraph with selected nodes\n",
        "        sub_nodes = list(selected_nodes)\n",
        "        edge_index_sub, _ = subgraph(sub_nodes, data.edge_index, relabel_nodes=True, num_nodes=data.num_nodes)\n",
        "\n",
        "        x_sub = data.x[sub_nodes]\n",
        "        y_sub = data.y[sub_nodes]\n",
        "        mask_sub = {}\n",
        "        for key in ['train_mask', 'val_mask', 'test_mask']:\n",
        "            if hasattr(data, key):\n",
        "                mask = getattr(data, key)\n",
        "                mask_sub[key] = mask[sub_nodes]\n",
        "\n",
        "        subgraph_data = Data(\n",
        "            x=x_sub,\n",
        "            edge_index=edge_index_sub,\n",
        "            y=y_sub,\n",
        "            **mask_sub\n",
        "        )\n",
        "        subgraphs.append(subgraph_data)\n",
        "\n",
        "    return subgraphs\n"
      ],
      "metadata": {
        "id": "k_T9ZMfUg7Ej"
      },
      "execution_count": 8,
      "outputs": []
    },
    {
      "cell_type": "code",
      "source": [
        "subgraphs = custom_partition(data, num_neighbors=300, num_hops=64)\n",
        "\n",
        "from torch_geometric.loader import DataLoader\n",
        "loader = DataLoader(subgraphs, batch_size=128, shuffle=True)\n"
      ],
      "metadata": {
        "id": "-P1I3AuKg_BX"
      },
      "execution_count": 85,
      "outputs": []
    },
    {
      "cell_type": "code",
      "source": [
        "data = data.cpu()\n",
        "cluster_data = ClusterData(data, num_parts=128)\n",
        "loader = ClusterLoader(cluster_data, batch_size=128, shuffle=True)\n"
      ],
      "metadata": {
        "colab": {
          "base_uri": "https://localhost:8080/"
        },
        "id": "ihEBRMOCNZu9",
        "outputId": "9a5267ee-bba2-4a01-dc3f-e291e05e3d96"
      },
      "execution_count": 9,
      "outputs": [
        {
          "output_type": "stream",
          "name": "stderr",
          "text": [
            "Computing METIS partitioning...\n",
            "Done!\n"
          ]
        }
      ]
    },
    {
      "cell_type": "code",
      "source": [
        "def avg_neighbors_per_node(subgraphs):\n",
        "    total_neighbors = 0\n",
        "    total_nodes = 0\n",
        "\n",
        "    for g in subgraphs:\n",
        "        edge_index = g.edge_index\n",
        "        num_nodes = g.num_nodes\n",
        "        num_edges = edge_index.size(1)\n",
        "        # Each edge connects two nodes, but we count for undirected graph\n",
        "        total_neighbors += num_edges\n",
        "        total_nodes += num_nodes\n",
        "\n",
        "    avg = total_neighbors / total_nodes\n",
        "    print(f\"Average neighbors per node: {avg:.2f}\")\n",
        "    return avg\n",
        "\n"
      ],
      "metadata": {
        "id": "ABqsSNDkmxj7"
      },
      "execution_count": 10,
      "outputs": []
    },
    {
      "cell_type": "code",
      "source": [],
      "metadata": {
        "id": "ub1apqbdNb0i"
      },
      "execution_count": null,
      "outputs": []
    },
    {
      "cell_type": "code",
      "source": [
        "def train_batch(loader):\n",
        "    model.train()\n",
        "    total_loss = 0\n",
        "    i = 1\n",
        "    for sub_data in loader:\n",
        "        sub_data = sub_data.to(device)\n",
        "        batch_mem = sum(t.element_size() * t.nelement() for t in [sub_data.x, sub_data.edge_index, sub_data.y])\n",
        "        #print(f\"Batch {i}: {batch_mem/1024**2:.2f} MB cluster data\")\n",
        "\n",
        "        out = model(sub_data.x, sub_data.edge_index)\n",
        "        #print(f\"  + Forward pass: {torch.cuda.max_memory_allocated()/1024**2:.2f} MB\")\n",
        "        loss = criterion(out[sub_data.train_mask], sub_data.y[sub_data.train_mask])\n",
        "        loss.backward()\n",
        "        optimizer.step()\n",
        "        optimizer.zero_grad()\n",
        "        total_loss += loss.item()\n",
        "        i += 1\n",
        "    return total_loss / i  # Optional: average loss\n"
      ],
      "metadata": {
        "id": "WEiBKvxMZww9"
      },
      "execution_count": 11,
      "outputs": []
    },
    {
      "cell_type": "code",
      "source": [
        "def estimate_subgraph_memory(subgraph):\n",
        "    bytes_per_float = 4  # float32\n",
        "    bytes_per_int = 4    # int32\n",
        "\n",
        "    num_nodes = subgraph.num_nodes\n",
        "    num_edges = subgraph.edge_index.size(1)\n",
        "    num_features = subgraph.x.size(1)\n",
        "\n",
        "    feature_memory = num_nodes * num_features * bytes_per_float\n",
        "    edge_memory = 2 * num_edges * bytes_per_int\n",
        "    label_memory = num_nodes * bytes_per_int\n",
        "\n",
        "    total_memory_bytes = feature_memory + edge_memory + label_memory\n",
        "    total_memory_MB = total_memory_bytes / (1024 ** 2)\n",
        "\n",
        "    return total_memory_MB\n",
        "\n",
        "memories = [estimate_subgraph_memory(g) for g in loader]\n",
        "avg_mem = sum(memories) / len(memories)\n",
        "print(f\"Average subgraph memory: {avg_mem:.2f} MB\")\n",
        "avg_neighbors_per_node(subgraphs)\n",
        "print(f\"Number of subgraphs: {len(subgraphs)}\")"
      ],
      "metadata": {
        "id": "XFCIB7kMHHSU",
        "outputId": "c897adc2-490e-46ad-f34e-c5e8c20f7061",
        "colab": {
          "base_uri": "https://localhost:8080/",
          "height": 221
        }
      },
      "execution_count": 12,
      "outputs": [
        {
          "output_type": "stream",
          "name": "stdout",
          "text": [
            "Average subgraph memory: 38.36 MB\n"
          ]
        },
        {
          "output_type": "error",
          "ename": "NameError",
          "evalue": "name 'subgraphs' is not defined",
          "traceback": [
            "\u001b[0;31m---------------------------------------------------------------------------\u001b[0m",
            "\u001b[0;31mNameError\u001b[0m                                 Traceback (most recent call last)",
            "\u001b[0;32m/tmp/ipython-input-12-2094235369.py\u001b[0m in \u001b[0;36m<cell line: 0>\u001b[0;34m()\u001b[0m\n\u001b[1;32m     19\u001b[0m \u001b[0mavg_mem\u001b[0m \u001b[0;34m=\u001b[0m \u001b[0msum\u001b[0m\u001b[0;34m(\u001b[0m\u001b[0mmemories\u001b[0m\u001b[0;34m)\u001b[0m \u001b[0;34m/\u001b[0m \u001b[0mlen\u001b[0m\u001b[0;34m(\u001b[0m\u001b[0mmemories\u001b[0m\u001b[0;34m)\u001b[0m\u001b[0;34m\u001b[0m\u001b[0;34m\u001b[0m\u001b[0m\n\u001b[1;32m     20\u001b[0m \u001b[0mprint\u001b[0m\u001b[0;34m(\u001b[0m\u001b[0;34mf\"Average subgraph memory: {avg_mem:.2f} MB\"\u001b[0m\u001b[0;34m)\u001b[0m\u001b[0;34m\u001b[0m\u001b[0;34m\u001b[0m\u001b[0m\n\u001b[0;32m---> 21\u001b[0;31m \u001b[0mavg_neighbors_per_node\u001b[0m\u001b[0;34m(\u001b[0m\u001b[0msubgraphs\u001b[0m\u001b[0;34m)\u001b[0m\u001b[0;34m\u001b[0m\u001b[0;34m\u001b[0m\u001b[0m\n\u001b[0m\u001b[1;32m     22\u001b[0m \u001b[0mprint\u001b[0m\u001b[0;34m(\u001b[0m\u001b[0;34mf\"Number of subgraphs: {len(subgraphs)}\"\u001b[0m\u001b[0;34m)\u001b[0m\u001b[0;34m\u001b[0m\u001b[0;34m\u001b[0m\u001b[0m\n",
            "\u001b[0;31mNameError\u001b[0m: name 'subgraphs' is not defined"
          ]
        }
      ]
    },
    {
      "cell_type": "code",
      "source": [
        "\n",
        "#model = GCN(hidden_channels=64).to(device)\n",
        "model = GCN(\n",
        "    in_channels=num_features,\n",
        "    hidden_channels=64,\n",
        "    out_channels=num_classes\n",
        ").to(device)\n",
        "optimizer = torch.optim.Adam(model.parameters(), lr=0.01)\n",
        "criterion = torch.nn.CrossEntropyLoss().to(device)\n",
        "\n",
        "display(Javascript('''google.colab.output.setIframeHeight(0, true, {maxHeight: 300})'''))\n",
        "data=data.to(device)\n",
        "res=[]\n",
        "training=[]\n",
        "for i in range(10):\n",
        "  clean_gpu_memory()\n",
        "  start_time= time.time()\n",
        "  for epoch in range(1, 101):\n",
        "    loss = train_batch(loader)\n",
        "    if epoch % 10 == 0:\n",
        "      train_acc = test(data, data.train_mask)\n",
        "      val_acc = test(data, data.val_mask)\n",
        "      val_f1 = f1_micro(data, data.val_mask)\n",
        "      print(f'Epoch: {epoch:03d}, Train Acc: {train_acc:.4f}, Val Acc: {val_acc:.4f}, Val F1 (micro): {val_f1:.4f}')\n",
        "  test_acc = test(data, data.test_mask)\n",
        "  res.append(test_acc)\n",
        "  end_time = time.time()\n",
        "  training.append(end_time - start_time)\n",
        "  print(f\"Training time: {end_time - start_time:.2f} seconds\")\n"
      ],
      "metadata": {
        "colab": {
          "base_uri": "https://localhost:8080/",
          "height": 300
        },
        "id": "4AauHVIeNeaF",
        "outputId": "77387254-8f81-4333-c568-540700595d39"
      },
      "execution_count": 87,
      "outputs": [
        {
          "output_type": "display_data",
          "data": {
            "text/plain": [
              "<IPython.core.display.Javascript object>"
            ],
            "application/javascript": [
              "google.colab.output.setIframeHeight(0, true, {maxHeight: 300})"
            ]
          },
          "metadata": {}
        },
        {
          "output_type": "stream",
          "name": "stdout",
          "text": [
            "Memory after cleanup: 193.68 MB\n",
            "Epoch: 010, Train Acc: 0.9000, Val Acc: 0.7400, Val F1 (micro): 0.7400\n",
            "Epoch: 020, Train Acc: 0.9500, Val Acc: 0.7480, Val F1 (micro): 0.7480\n",
            "Epoch: 030, Train Acc: 0.9667, Val Acc: 0.7640, Val F1 (micro): 0.7640\n",
            "Epoch: 040, Train Acc: 0.9833, Val Acc: 0.7700, Val F1 (micro): 0.7700\n",
            "Epoch: 050, Train Acc: 1.0000, Val Acc: 0.7880, Val F1 (micro): 0.7880\n",
            "Epoch: 060, Train Acc: 1.0000, Val Acc: 0.7740, Val F1 (micro): 0.7740\n",
            "Epoch: 070, Train Acc: 1.0000, Val Acc: 0.7800, Val F1 (micro): 0.7800\n",
            "Epoch: 080, Train Acc: 1.0000, Val Acc: 0.7740, Val F1 (micro): 0.7740\n",
            "Epoch: 090, Train Acc: 1.0000, Val Acc: 0.7640, Val F1 (micro): 0.7640\n",
            "Epoch: 100, Train Acc: 1.0000, Val Acc: 0.7660, Val F1 (micro): 0.7660\n",
            "Training time: 0.96 seconds\n",
            "Memory after cleanup: 193.36 MB\n",
            "Epoch: 010, Train Acc: 1.0000, Val Acc: 0.7620, Val F1 (micro): 0.7620\n",
            "Epoch: 020, Train Acc: 1.0000, Val Acc: 0.7620, Val F1 (micro): 0.7620\n",
            "Epoch: 030, Train Acc: 1.0000, Val Acc: 0.7680, Val F1 (micro): 0.7680\n",
            "Epoch: 040, Train Acc: 1.0000, Val Acc: 0.7640, Val F1 (micro): 0.7640\n",
            "Epoch: 050, Train Acc: 1.0000, Val Acc: 0.7600, Val F1 (micro): 0.7600\n",
            "Epoch: 060, Train Acc: 1.0000, Val Acc: 0.7580, Val F1 (micro): 0.7580\n",
            "Epoch: 070, Train Acc: 1.0000, Val Acc: 0.7560, Val F1 (micro): 0.7560\n",
            "Epoch: 080, Train Acc: 1.0000, Val Acc: 0.7580, Val F1 (micro): 0.7580\n",
            "Epoch: 090, Train Acc: 1.0000, Val Acc: 0.7620, Val F1 (micro): 0.7620\n",
            "Epoch: 100, Train Acc: 1.0000, Val Acc: 0.7560, Val F1 (micro): 0.7560\n",
            "Training time: 0.86 seconds\n",
            "Memory after cleanup: 193.36 MB\n",
            "Epoch: 010, Train Acc: 1.0000, Val Acc: 0.7580, Val F1 (micro): 0.7580\n",
            "Epoch: 020, Train Acc: 1.0000, Val Acc: 0.7700, Val F1 (micro): 0.7700\n",
            "Epoch: 030, Train Acc: 1.0000, Val Acc: 0.7600, Val F1 (micro): 0.7600\n",
            "Epoch: 040, Train Acc: 1.0000, Val Acc: 0.7600, Val F1 (micro): 0.7600\n",
            "Epoch: 050, Train Acc: 1.0000, Val Acc: 0.7600, Val F1 (micro): 0.7600\n",
            "Epoch: 060, Train Acc: 1.0000, Val Acc: 0.7620, Val F1 (micro): 0.7620\n",
            "Epoch: 070, Train Acc: 1.0000, Val Acc: 0.7660, Val F1 (micro): 0.7660\n",
            "Epoch: 080, Train Acc: 1.0000, Val Acc: 0.7600, Val F1 (micro): 0.7600\n",
            "Epoch: 090, Train Acc: 1.0000, Val Acc: 0.7600, Val F1 (micro): 0.7600\n",
            "Epoch: 100, Train Acc: 1.0000, Val Acc: 0.7620, Val F1 (micro): 0.7620\n",
            "Training time: 0.85 seconds\n",
            "Memory after cleanup: 193.36 MB\n",
            "Epoch: 010, Train Acc: 1.0000, Val Acc: 0.7620, Val F1 (micro): 0.7620\n",
            "Epoch: 020, Train Acc: 1.0000, Val Acc: 0.7580, Val F1 (micro): 0.7580\n",
            "Epoch: 030, Train Acc: 1.0000, Val Acc: 0.7620, Val F1 (micro): 0.7620\n",
            "Epoch: 040, Train Acc: 1.0000, Val Acc: 0.7640, Val F1 (micro): 0.7640\n",
            "Epoch: 050, Train Acc: 1.0000, Val Acc: 0.7640, Val F1 (micro): 0.7640\n",
            "Epoch: 060, Train Acc: 1.0000, Val Acc: 0.7580, Val F1 (micro): 0.7580\n",
            "Epoch: 070, Train Acc: 1.0000, Val Acc: 0.7640, Val F1 (micro): 0.7640\n",
            "Epoch: 080, Train Acc: 1.0000, Val Acc: 0.7620, Val F1 (micro): 0.7620\n",
            "Epoch: 090, Train Acc: 1.0000, Val Acc: 0.7620, Val F1 (micro): 0.7620\n",
            "Epoch: 100, Train Acc: 1.0000, Val Acc: 0.7620, Val F1 (micro): 0.7620\n",
            "Training time: 0.85 seconds\n",
            "Memory after cleanup: 193.36 MB\n",
            "Epoch: 010, Train Acc: 1.0000, Val Acc: 0.7620, Val F1 (micro): 0.7620\n",
            "Epoch: 020, Train Acc: 1.0000, Val Acc: 0.7600, Val F1 (micro): 0.7600\n",
            "Epoch: 030, Train Acc: 1.0000, Val Acc: 0.7600, Val F1 (micro): 0.7600\n",
            "Epoch: 040, Train Acc: 1.0000, Val Acc: 0.7600, Val F1 (micro): 0.7600\n",
            "Epoch: 050, Train Acc: 1.0000, Val Acc: 0.7620, Val F1 (micro): 0.7620\n",
            "Epoch: 060, Train Acc: 1.0000, Val Acc: 0.7600, Val F1 (micro): 0.7600\n",
            "Epoch: 070, Train Acc: 1.0000, Val Acc: 0.7620, Val F1 (micro): 0.7620\n",
            "Epoch: 080, Train Acc: 1.0000, Val Acc: 0.7660, Val F1 (micro): 0.7660\n",
            "Epoch: 090, Train Acc: 1.0000, Val Acc: 0.7680, Val F1 (micro): 0.7680\n",
            "Epoch: 100, Train Acc: 1.0000, Val Acc: 0.7620, Val F1 (micro): 0.7620\n",
            "Training time: 0.85 seconds\n",
            "Memory after cleanup: 193.36 MB\n",
            "Epoch: 010, Train Acc: 1.0000, Val Acc: 0.7600, Val F1 (micro): 0.7600\n",
            "Epoch: 020, Train Acc: 1.0000, Val Acc: 0.7620, Val F1 (micro): 0.7620\n",
            "Epoch: 030, Train Acc: 1.0000, Val Acc: 0.7620, Val F1 (micro): 0.7620\n",
            "Epoch: 040, Train Acc: 1.0000, Val Acc: 0.7620, Val F1 (micro): 0.7620\n",
            "Epoch: 050, Train Acc: 1.0000, Val Acc: 0.7620, Val F1 (micro): 0.7620\n",
            "Epoch: 060, Train Acc: 1.0000, Val Acc: 0.7600, Val F1 (micro): 0.7600\n",
            "Epoch: 070, Train Acc: 1.0000, Val Acc: 0.7600, Val F1 (micro): 0.7600\n",
            "Epoch: 080, Train Acc: 1.0000, Val Acc: 0.7620, Val F1 (micro): 0.7620\n",
            "Epoch: 090, Train Acc: 1.0000, Val Acc: 0.7620, Val F1 (micro): 0.7620\n",
            "Epoch: 100, Train Acc: 1.0000, Val Acc: 0.7640, Val F1 (micro): 0.7640\n",
            "Training time: 0.85 seconds\n",
            "Memory after cleanup: 193.36 MB\n",
            "Epoch: 010, Train Acc: 1.0000, Val Acc: 0.7640, Val F1 (micro): 0.7640\n",
            "Epoch: 020, Train Acc: 1.0000, Val Acc: 0.7620, Val F1 (micro): 0.7620\n",
            "Epoch: 030, Train Acc: 1.0000, Val Acc: 0.7600, Val F1 (micro): 0.7600\n",
            "Epoch: 040, Train Acc: 1.0000, Val Acc: 0.7600, Val F1 (micro): 0.7600\n",
            "Epoch: 050, Train Acc: 1.0000, Val Acc: 0.7600, Val F1 (micro): 0.7600\n",
            "Epoch: 060, Train Acc: 1.0000, Val Acc: 0.7600, Val F1 (micro): 0.7600\n",
            "Epoch: 070, Train Acc: 1.0000, Val Acc: 0.7600, Val F1 (micro): 0.7600\n",
            "Epoch: 080, Train Acc: 1.0000, Val Acc: 0.7600, Val F1 (micro): 0.7600\n",
            "Epoch: 090, Train Acc: 1.0000, Val Acc: 0.7600, Val F1 (micro): 0.7600\n",
            "Epoch: 100, Train Acc: 1.0000, Val Acc: 0.7600, Val F1 (micro): 0.7600\n",
            "Training time: 0.89 seconds\n",
            "Memory after cleanup: 193.36 MB\n",
            "Epoch: 010, Train Acc: 1.0000, Val Acc: 0.7600, Val F1 (micro): 0.7600\n",
            "Epoch: 020, Train Acc: 1.0000, Val Acc: 0.7600, Val F1 (micro): 0.7600\n",
            "Epoch: 030, Train Acc: 1.0000, Val Acc: 0.7580, Val F1 (micro): 0.7580\n",
            "Epoch: 040, Train Acc: 1.0000, Val Acc: 0.7620, Val F1 (micro): 0.7620\n",
            "Epoch: 050, Train Acc: 1.0000, Val Acc: 0.7580, Val F1 (micro): 0.7580\n",
            "Epoch: 060, Train Acc: 1.0000, Val Acc: 0.7560, Val F1 (micro): 0.7560\n",
            "Epoch: 070, Train Acc: 1.0000, Val Acc: 0.7560, Val F1 (micro): 0.7560\n",
            "Epoch: 080, Train Acc: 1.0000, Val Acc: 0.7560, Val F1 (micro): 0.7560\n",
            "Epoch: 090, Train Acc: 1.0000, Val Acc: 0.7600, Val F1 (micro): 0.7600\n",
            "Epoch: 100, Train Acc: 1.0000, Val Acc: 0.7620, Val F1 (micro): 0.7620\n",
            "Training time: 1.05 seconds\n",
            "Memory after cleanup: 193.36 MB\n",
            "Epoch: 010, Train Acc: 1.0000, Val Acc: 0.7620, Val F1 (micro): 0.7620\n",
            "Epoch: 020, Train Acc: 1.0000, Val Acc: 0.7580, Val F1 (micro): 0.7580\n",
            "Epoch: 030, Train Acc: 1.0000, Val Acc: 0.7560, Val F1 (micro): 0.7560\n",
            "Epoch: 040, Train Acc: 1.0000, Val Acc: 0.7600, Val F1 (micro): 0.7600\n",
            "Epoch: 050, Train Acc: 1.0000, Val Acc: 0.7580, Val F1 (micro): 0.7580\n",
            "Epoch: 060, Train Acc: 1.0000, Val Acc: 0.7580, Val F1 (micro): 0.7580\n",
            "Epoch: 070, Train Acc: 1.0000, Val Acc: 0.7620, Val F1 (micro): 0.7620\n",
            "Epoch: 080, Train Acc: 1.0000, Val Acc: 0.7620, Val F1 (micro): 0.7620\n",
            "Epoch: 090, Train Acc: 1.0000, Val Acc: 0.7580, Val F1 (micro): 0.7580\n",
            "Epoch: 100, Train Acc: 1.0000, Val Acc: 0.7580, Val F1 (micro): 0.7580\n",
            "Training time: 0.94 seconds\n",
            "Memory after cleanup: 193.36 MB\n",
            "Epoch: 010, Train Acc: 1.0000, Val Acc: 0.7580, Val F1 (micro): 0.7580\n",
            "Epoch: 020, Train Acc: 1.0000, Val Acc: 0.7580, Val F1 (micro): 0.7580\n",
            "Epoch: 030, Train Acc: 1.0000, Val Acc: 0.7600, Val F1 (micro): 0.7600\n",
            "Epoch: 040, Train Acc: 1.0000, Val Acc: 0.7580, Val F1 (micro): 0.7580\n",
            "Epoch: 050, Train Acc: 1.0000, Val Acc: 0.7600, Val F1 (micro): 0.7600\n",
            "Epoch: 060, Train Acc: 1.0000, Val Acc: 0.7600, Val F1 (micro): 0.7600\n",
            "Epoch: 070, Train Acc: 1.0000, Val Acc: 0.7580, Val F1 (micro): 0.7580\n",
            "Epoch: 080, Train Acc: 1.0000, Val Acc: 0.7580, Val F1 (micro): 0.7580\n",
            "Epoch: 090, Train Acc: 1.0000, Val Acc: 0.7540, Val F1 (micro): 0.7540\n",
            "Epoch: 100, Train Acc: 1.0000, Val Acc: 0.7540, Val F1 (micro): 0.7540\n",
            "Training time: 0.86 seconds\n"
          ]
        }
      ]
    },
    {
      "cell_type": "code",
      "source": [
        "print(res)\n",
        "print(sum(res)/10)"
      ],
      "metadata": {
        "id": "jl5VGPfq3rYO",
        "outputId": "bb30f3cf-7f90-4509-bb1f-a84b2c65e703",
        "colab": {
          "base_uri": "https://localhost:8080/"
        }
      },
      "execution_count": 88,
      "outputs": [
        {
          "output_type": "stream",
          "name": "stdout",
          "text": [
            "[0.757, 0.757, 0.761, 0.76, 0.759, 0.759, 0.761, 0.759, 0.759, 0.757]\n",
            "0.7589\n"
          ]
        }
      ]
    },
    {
      "cell_type": "code",
      "source": [
        "print(training)\n",
        "print(sum(training)/10)"
      ],
      "metadata": {
        "id": "dxGVSYwcVCtu",
        "outputId": "303f095c-0216-453d-e5aa-f585e9045fb9",
        "colab": {
          "base_uri": "https://localhost:8080/"
        }
      },
      "execution_count": 89,
      "outputs": [
        {
          "output_type": "stream",
          "name": "stdout",
          "text": [
            "[0.9606695175170898, 0.8578195571899414, 0.8523299694061279, 0.8538804054260254, 0.8508808612823486, 0.8549938201904297, 0.8874640464782715, 1.0498828887939453, 0.9405148029327393, 0.8576340675354004]\n",
            "0.8966069936752319\n"
          ]
        }
      ]
    },
    {
      "cell_type": "code",
      "source": [
        "test_acc = test(data, data.test_mask)\n",
        "\n",
        "test_f1 = f1_micro(data, data.test_mask)\n",
        "print(f'Test F1 Score (micro): {test_f1:.4f}')\n",
        "print(f'Test test accuracy (micro):  {test_acc:.4f}')"
      ],
      "metadata": {
        "colab": {
          "base_uri": "https://localhost:8080/"
        },
        "id": "hcNfZBSmNiLn",
        "outputId": "fe9d9981-f20a-4fda-f757-24bbff865c71"
      },
      "execution_count": null,
      "outputs": [
        {
          "output_type": "stream",
          "name": "stdout",
          "text": [
            "Test F1 Score (micro): 0.7790\n",
            "Test test accuracy (micro):  0.7790\n"
          ]
        }
      ]
    },
    {
      "cell_type": "code",
      "source": [
        "print(f\"Allocated memory after tensor creation: {torch.cuda.memory_allocated() / (1024**2):.2f} MB\")\n",
        "print(f\"Reserved memory after tensor creation: {torch.cuda.memory_reserved() / (1024**2):.2f} MB\")\n",
        "print(f\"Peak allocated memory: {torch.cuda.max_memory_allocated() / (1024**2):.2f} MB\")\n"
      ],
      "metadata": {
        "colab": {
          "base_uri": "https://localhost:8080/"
        },
        "id": "M1XAKTikNvgG",
        "outputId": "1ac990e2-b3e7-410a-bbe8-4b6b1c6b971c"
      },
      "execution_count": 90,
      "outputs": [
        {
          "output_type": "stream",
          "name": "stdout",
          "text": [
            "Allocated memory after tensor creation: 193.36 MB\n",
            "Reserved memory after tensor creation: 340.00 MB\n",
            "Peak allocated memory: 297.64 MB\n"
          ]
        }
      ]
    },
    {
      "cell_type": "code",
      "source": [
        "peak_memory_mb=f\"{torch.cuda.max_memory_allocated()/1024**2:.2f}\"\n",
        "total_train_time=f\"{end_time - start_time:.2f}\"\n",
        "\n",
        "metrics = {\n",
        "    \"model\": \"clusterGCN\",\n",
        "    \"accuracy\": test_acc,\n",
        "    \"f1_micro\":test_f1,\n",
        "    \"peak_memory_MB\": peak_memory_mb,\n",
        "    \"train_time_sec\": total_train_time,\n",
        "    \"mem_MB\":peak_memory_mb\n",
        "}\n",
        "\n",
        "with open(\"clusterGCN_pubmed_results.json\", \"w\") as f:\n",
        "    json.dump(metrics, f)"
      ],
      "metadata": {
        "id": "t0dJbrwYWh4R"
      },
      "execution_count": null,
      "outputs": []
    },
    {
      "cell_type": "markdown",
      "source": [
        "**cora dataset**"
      ],
      "metadata": {
        "id": "q8jleIIAXtCZ"
      }
    },
    {
      "cell_type": "code",
      "source": [
        "clean_gpu_memory()\n",
        "\n",
        "def dataset_load():\n",
        "  print(f\"Using device: {device}\")\n",
        "  dataset = Planetoid(root='data/Planetoid', name='Cora', transform=NormalizeFeatures())\n",
        "  num_features = dataset.num_features\n",
        "  num_classes = dataset.num_classes\n",
        "  data = dataset[0].to(device)  # Get the first graph object.\n",
        "  return num_features, data, num_classes, device,dataset\n",
        "\n",
        "num_features, data, num_classes, device, dataset = dataset_load()\n",
        "#subgraphs = custom_partition(data, num_neighbors=300, num_hops=64)\n",
        "\n",
        "#loader = DataLoader(subgraphs, batch_size=128, shuffle=True)\n",
        "\n",
        "data = data.cpu()\n",
        "cluster_data = ClusterData(data, num_parts=128)\n",
        "loader = ClusterLoader(cluster_data, batch_size=128, shuffle=True)\n"
      ],
      "metadata": {
        "id": "SM5dFqrWbVUn",
        "outputId": "46d3c5f7-1a82-4c9a-d52d-cf3e1bfd677c",
        "colab": {
          "base_uri": "https://localhost:8080/"
        }
      },
      "execution_count": 14,
      "outputs": [
        {
          "output_type": "stream",
          "name": "stdout",
          "text": [
            "Using device: cpu\n"
          ]
        },
        {
          "output_type": "stream",
          "name": "stderr",
          "text": [
            "Computing METIS partitioning...\n",
            "Done!\n"
          ]
        }
      ]
    },
    {
      "cell_type": "code",
      "source": [
        "\n",
        "\n",
        "\n",
        "model = GCN(\n",
        "    in_channels=num_features,\n",
        "    hidden_channels=64,\n",
        "    out_channels=num_classes\n",
        ").to(device)\n",
        "optimizer = torch.optim.Adam(model.parameters(), lr=0.01)\n",
        "criterion = torch.nn.CrossEntropyLoss().to(device)\n",
        "\n",
        "display(Javascript('''google.colab.output.setIframeHeight(0, true, {maxHeight: 300})'''))\n",
        "data=data.to(device)\n",
        "\n",
        "res=[]\n",
        "training=[]\n",
        "for i in range(10):\n",
        "  clean_gpu_memory()\n",
        "  start_time= time.time()\n",
        "  for epoch in range(1, 101):\n",
        "    loss = train_batch(loader)\n",
        "    if epoch % 10 == 0:\n",
        "      train_acc = test(data, data.train_mask)\n",
        "      val_acc = test(data, data.val_mask)\n",
        "      val_f1 = f1_micro(data, data.val_mask)\n",
        "      print(f'Epoch: {epoch:03d}, Train Acc: {train_acc:.4f}, Val Acc: {val_acc:.4f}, Val F1 (micro): {val_f1:.4f}')\n",
        "\n",
        "  end_time = time.time()\n",
        "  print(f\"Training time: {end_time - start_time:.2f} seconds\")\n",
        "  test_acc = test(data, data.test_mask)\n",
        "  res.append(test_acc)\n",
        "  training.append(end_time - start_time)\n",
        "\n",
        "test_acc = test(data, data.test_mask)\n",
        "\n",
        "test_f1 = f1_micro(data, data.test_mask)\n",
        "print(f'Test F1 Score (micro): {test_f1:.4f}')\n",
        "print(f'Test test accuracy (micro):  {test_acc:.4f}')"
      ],
      "metadata": {
        "colab": {
          "base_uri": "https://localhost:8080/",
          "height": 300
        },
        "id": "fMWEipJkcz_j",
        "outputId": "bbe188c3-7c64-48b1-b0aa-af312c200e16"
      },
      "execution_count": 98,
      "outputs": [
        {
          "output_type": "display_data",
          "data": {
            "text/plain": [
              "<IPython.core.display.Javascript object>"
            ],
            "application/javascript": [
              "google.colab.output.setIframeHeight(0, true, {maxHeight: 300})"
            ]
          },
          "metadata": {}
        },
        {
          "output_type": "stream",
          "name": "stdout",
          "text": [
            "Memory after cleanup: 145.22 MB\n",
            "Epoch: 010, Train Acc: 0.5500, Val Acc: 0.3040, Val F1 (micro): 0.3040\n",
            "Epoch: 020, Train Acc: 0.8857, Val Acc: 0.6580, Val F1 (micro): 0.6580\n",
            "Epoch: 030, Train Acc: 0.9857, Val Acc: 0.7460, Val F1 (micro): 0.7460\n",
            "Epoch: 040, Train Acc: 0.9857, Val Acc: 0.7740, Val F1 (micro): 0.7740\n",
            "Epoch: 050, Train Acc: 0.9929, Val Acc: 0.7960, Val F1 (micro): 0.7960\n",
            "Epoch: 060, Train Acc: 1.0000, Val Acc: 0.7920, Val F1 (micro): 0.7920\n",
            "Epoch: 070, Train Acc: 1.0000, Val Acc: 0.7780, Val F1 (micro): 0.7780\n",
            "Epoch: 080, Train Acc: 1.0000, Val Acc: 0.7920, Val F1 (micro): 0.7920\n",
            "Epoch: 090, Train Acc: 1.0000, Val Acc: 0.7860, Val F1 (micro): 0.7860\n",
            "Epoch: 100, Train Acc: 0.9929, Val Acc: 0.7860, Val F1 (micro): 0.7860\n",
            "Training time: 2.24 seconds\n",
            "Memory after cleanup: 145.93 MB\n",
            "Epoch: 010, Train Acc: 0.9929, Val Acc: 0.7840, Val F1 (micro): 0.7840\n",
            "Epoch: 020, Train Acc: 0.9929, Val Acc: 0.7880, Val F1 (micro): 0.7880\n",
            "Epoch: 030, Train Acc: 0.9929, Val Acc: 0.7800, Val F1 (micro): 0.7800\n",
            "Epoch: 040, Train Acc: 0.9929, Val Acc: 0.7780, Val F1 (micro): 0.7780\n",
            "Epoch: 050, Train Acc: 0.9929, Val Acc: 0.7840, Val F1 (micro): 0.7840\n",
            "Epoch: 060, Train Acc: 0.9929, Val Acc: 0.7840, Val F1 (micro): 0.7840\n",
            "Epoch: 070, Train Acc: 0.9929, Val Acc: 0.7860, Val F1 (micro): 0.7860\n",
            "Epoch: 080, Train Acc: 0.9929, Val Acc: 0.7860, Val F1 (micro): 0.7860\n",
            "Epoch: 090, Train Acc: 0.9929, Val Acc: 0.7840, Val F1 (micro): 0.7840\n",
            "Epoch: 100, Train Acc: 0.9929, Val Acc: 0.7840, Val F1 (micro): 0.7840\n",
            "Training time: 1.84 seconds\n",
            "Memory after cleanup: 145.93 MB\n",
            "Epoch: 010, Train Acc: 0.9929, Val Acc: 0.7800, Val F1 (micro): 0.7800\n",
            "Epoch: 020, Train Acc: 0.9929, Val Acc: 0.7820, Val F1 (micro): 0.7820\n",
            "Epoch: 030, Train Acc: 0.9929, Val Acc: 0.7800, Val F1 (micro): 0.7800\n",
            "Epoch: 040, Train Acc: 0.9929, Val Acc: 0.7820, Val F1 (micro): 0.7820\n",
            "Epoch: 050, Train Acc: 0.9929, Val Acc: 0.7820, Val F1 (micro): 0.7820\n",
            "Epoch: 060, Train Acc: 0.9929, Val Acc: 0.7840, Val F1 (micro): 0.7840\n",
            "Epoch: 070, Train Acc: 0.9929, Val Acc: 0.7840, Val F1 (micro): 0.7840\n",
            "Epoch: 080, Train Acc: 0.9929, Val Acc: 0.7840, Val F1 (micro): 0.7840\n",
            "Epoch: 090, Train Acc: 0.9929, Val Acc: 0.7820, Val F1 (micro): 0.7820\n",
            "Epoch: 100, Train Acc: 0.9929, Val Acc: 0.7820, Val F1 (micro): 0.7820\n",
            "Training time: 1.82 seconds\n",
            "Memory after cleanup: 145.93 MB\n",
            "Epoch: 010, Train Acc: 0.9929, Val Acc: 0.7800, Val F1 (micro): 0.7800\n",
            "Epoch: 020, Train Acc: 0.9929, Val Acc: 0.7800, Val F1 (micro): 0.7800\n",
            "Epoch: 030, Train Acc: 0.9929, Val Acc: 0.7800, Val F1 (micro): 0.7800\n",
            "Epoch: 040, Train Acc: 0.9929, Val Acc: 0.7800, Val F1 (micro): 0.7800\n",
            "Epoch: 050, Train Acc: 0.9929, Val Acc: 0.7800, Val F1 (micro): 0.7800\n",
            "Epoch: 060, Train Acc: 0.9929, Val Acc: 0.7840, Val F1 (micro): 0.7840\n",
            "Epoch: 070, Train Acc: 0.9929, Val Acc: 0.7840, Val F1 (micro): 0.7840\n",
            "Epoch: 080, Train Acc: 0.9929, Val Acc: 0.7800, Val F1 (micro): 0.7800\n",
            "Epoch: 090, Train Acc: 0.9929, Val Acc: 0.7800, Val F1 (micro): 0.7800\n",
            "Epoch: 100, Train Acc: 0.9929, Val Acc: 0.7780, Val F1 (micro): 0.7780\n",
            "Training time: 1.81 seconds\n",
            "Memory after cleanup: 145.93 MB\n",
            "Epoch: 010, Train Acc: 0.9929, Val Acc: 0.7780, Val F1 (micro): 0.7780\n",
            "Epoch: 020, Train Acc: 0.9929, Val Acc: 0.7780, Val F1 (micro): 0.7780\n",
            "Epoch: 030, Train Acc: 0.9929, Val Acc: 0.7760, Val F1 (micro): 0.7760\n",
            "Epoch: 040, Train Acc: 0.9929, Val Acc: 0.7760, Val F1 (micro): 0.7760\n",
            "Epoch: 050, Train Acc: 0.9929, Val Acc: 0.7780, Val F1 (micro): 0.7780\n",
            "Epoch: 060, Train Acc: 0.9929, Val Acc: 0.7820, Val F1 (micro): 0.7820\n",
            "Epoch: 070, Train Acc: 0.9929, Val Acc: 0.7820, Val F1 (micro): 0.7820\n",
            "Epoch: 080, Train Acc: 0.9929, Val Acc: 0.7800, Val F1 (micro): 0.7800\n",
            "Epoch: 090, Train Acc: 0.9929, Val Acc: 0.7800, Val F1 (micro): 0.7800\n",
            "Epoch: 100, Train Acc: 0.9929, Val Acc: 0.7780, Val F1 (micro): 0.7780\n",
            "Training time: 1.80 seconds\n",
            "Memory after cleanup: 145.93 MB\n",
            "Epoch: 010, Train Acc: 0.9929, Val Acc: 0.7780, Val F1 (micro): 0.7780\n",
            "Epoch: 020, Train Acc: 0.9929, Val Acc: 0.7760, Val F1 (micro): 0.7760\n",
            "Epoch: 030, Train Acc: 0.9929, Val Acc: 0.7780, Val F1 (micro): 0.7780\n",
            "Epoch: 040, Train Acc: 0.9929, Val Acc: 0.7800, Val F1 (micro): 0.7800\n",
            "Epoch: 050, Train Acc: 0.9929, Val Acc: 0.7780, Val F1 (micro): 0.7780\n",
            "Epoch: 060, Train Acc: 0.9929, Val Acc: 0.7760, Val F1 (micro): 0.7760\n",
            "Epoch: 070, Train Acc: 0.9929, Val Acc: 0.7760, Val F1 (micro): 0.7760\n",
            "Epoch: 080, Train Acc: 0.9929, Val Acc: 0.7780, Val F1 (micro): 0.7780\n",
            "Epoch: 090, Train Acc: 0.9929, Val Acc: 0.7760, Val F1 (micro): 0.7760\n",
            "Epoch: 100, Train Acc: 0.9929, Val Acc: 0.7780, Val F1 (micro): 0.7780\n",
            "Training time: 2.31 seconds\n",
            "Memory after cleanup: 145.93 MB\n",
            "Epoch: 010, Train Acc: 0.9929, Val Acc: 0.7780, Val F1 (micro): 0.7780\n",
            "Epoch: 020, Train Acc: 0.9929, Val Acc: 0.7760, Val F1 (micro): 0.7760\n",
            "Epoch: 030, Train Acc: 0.9929, Val Acc: 0.7740, Val F1 (micro): 0.7740\n",
            "Epoch: 040, Train Acc: 0.9929, Val Acc: 0.7720, Val F1 (micro): 0.7720\n",
            "Epoch: 050, Train Acc: 0.9929, Val Acc: 0.7720, Val F1 (micro): 0.7720\n",
            "Epoch: 060, Train Acc: 0.9929, Val Acc: 0.7780, Val F1 (micro): 0.7780\n",
            "Epoch: 070, Train Acc: 0.9929, Val Acc: 0.7760, Val F1 (micro): 0.7760\n",
            "Epoch: 080, Train Acc: 0.9929, Val Acc: 0.7740, Val F1 (micro): 0.7740\n",
            "Epoch: 090, Train Acc: 0.9929, Val Acc: 0.7740, Val F1 (micro): 0.7740\n",
            "Epoch: 100, Train Acc: 0.9929, Val Acc: 0.7740, Val F1 (micro): 0.7740\n",
            "Training time: 1.74 seconds\n",
            "Memory after cleanup: 145.93 MB\n",
            "Epoch: 010, Train Acc: 0.9929, Val Acc: 0.7760, Val F1 (micro): 0.7760\n",
            "Epoch: 020, Train Acc: 0.9929, Val Acc: 0.7740, Val F1 (micro): 0.7740\n",
            "Epoch: 030, Train Acc: 0.9929, Val Acc: 0.7740, Val F1 (micro): 0.7740\n",
            "Epoch: 040, Train Acc: 0.9929, Val Acc: 0.7760, Val F1 (micro): 0.7760\n",
            "Epoch: 050, Train Acc: 0.9929, Val Acc: 0.7740, Val F1 (micro): 0.7740\n",
            "Epoch: 060, Train Acc: 0.9929, Val Acc: 0.7740, Val F1 (micro): 0.7740\n",
            "Epoch: 070, Train Acc: 0.9929, Val Acc: 0.7740, Val F1 (micro): 0.7740\n",
            "Epoch: 080, Train Acc: 0.9929, Val Acc: 0.7760, Val F1 (micro): 0.7760\n",
            "Epoch: 090, Train Acc: 0.9929, Val Acc: 0.7740, Val F1 (micro): 0.7740\n",
            "Epoch: 100, Train Acc: 0.9929, Val Acc: 0.7780, Val F1 (micro): 0.7780\n",
            "Training time: 1.82 seconds\n",
            "Memory after cleanup: 145.93 MB\n",
            "Epoch: 010, Train Acc: 0.9929, Val Acc: 0.7720, Val F1 (micro): 0.7720\n",
            "Epoch: 020, Train Acc: 0.9929, Val Acc: 0.7760, Val F1 (micro): 0.7760\n",
            "Epoch: 030, Train Acc: 0.9929, Val Acc: 0.7800, Val F1 (micro): 0.7800\n",
            "Epoch: 040, Train Acc: 0.9929, Val Acc: 0.7800, Val F1 (micro): 0.7800\n",
            "Epoch: 050, Train Acc: 0.9929, Val Acc: 0.7780, Val F1 (micro): 0.7780\n",
            "Epoch: 060, Train Acc: 0.9929, Val Acc: 0.7780, Val F1 (micro): 0.7780\n",
            "Epoch: 070, Train Acc: 0.9929, Val Acc: 0.7800, Val F1 (micro): 0.7800\n",
            "Epoch: 080, Train Acc: 0.9929, Val Acc: 0.7780, Val F1 (micro): 0.7780\n",
            "Epoch: 090, Train Acc: 0.9929, Val Acc: 0.7780, Val F1 (micro): 0.7780\n",
            "Epoch: 100, Train Acc: 0.9929, Val Acc: 0.7800, Val F1 (micro): 0.7800\n",
            "Training time: 1.79 seconds\n",
            "Memory after cleanup: 145.93 MB\n",
            "Epoch: 010, Train Acc: 0.9929, Val Acc: 0.7760, Val F1 (micro): 0.7760\n",
            "Epoch: 020, Train Acc: 0.9929, Val Acc: 0.7780, Val F1 (micro): 0.7780\n",
            "Epoch: 030, Train Acc: 0.9929, Val Acc: 0.7780, Val F1 (micro): 0.7780\n",
            "Epoch: 040, Train Acc: 0.9929, Val Acc: 0.7800, Val F1 (micro): 0.7800\n",
            "Epoch: 050, Train Acc: 0.9929, Val Acc: 0.7780, Val F1 (micro): 0.7780\n",
            "Epoch: 060, Train Acc: 0.9929, Val Acc: 0.7780, Val F1 (micro): 0.7780\n",
            "Epoch: 070, Train Acc: 0.9929, Val Acc: 0.7780, Val F1 (micro): 0.7780\n",
            "Epoch: 080, Train Acc: 0.9929, Val Acc: 0.7780, Val F1 (micro): 0.7780\n",
            "Epoch: 090, Train Acc: 0.9929, Val Acc: 0.7780, Val F1 (micro): 0.7780\n",
            "Epoch: 100, Train Acc: 0.9929, Val Acc: 0.7820, Val F1 (micro): 0.7820\n",
            "Training time: 1.79 seconds\n",
            "Test F1 Score (micro): 0.7850\n",
            "Test test accuracy (micro):  0.7850\n"
          ]
        }
      ]
    },
    {
      "cell_type": "code",
      "source": [
        "print(res)\n",
        "print(sum(res)/10)"
      ],
      "metadata": {
        "id": "NTuBRvlv4O9s",
        "outputId": "a64ca7c2-ec9d-4389-f6b1-9e8b5d0c0737",
        "colab": {
          "base_uri": "https://localhost:8080/"
        }
      },
      "execution_count": 99,
      "outputs": [
        {
          "output_type": "stream",
          "name": "stdout",
          "text": [
            "[0.801, 0.792, 0.789, 0.787, 0.784, 0.784, 0.786, 0.782, 0.784, 0.785]\n",
            "0.7874\n"
          ]
        }
      ]
    },
    {
      "cell_type": "code",
      "source": [
        "print(training)\n",
        "print(sum(training)/10)"
      ],
      "metadata": {
        "id": "NRftGp7TZUmC",
        "outputId": "cf52b70f-a032-47b2-c8ea-c0005c03b3fe",
        "colab": {
          "base_uri": "https://localhost:8080/"
        }
      },
      "execution_count": 100,
      "outputs": [
        {
          "output_type": "stream",
          "name": "stdout",
          "text": [
            "[2.2379417419433594, 1.843902349472046, 1.8249516487121582, 1.80808687210083, 1.8024303913116455, 2.3058760166168213, 1.742635726928711, 1.8226909637451172, 1.791804552078247, 1.79359769821167]\n",
            "1.8973917961120605\n"
          ]
        }
      ]
    },
    {
      "cell_type": "code",
      "source": [
        "print(f\"Allocated memory after tensor creation: {torch.cuda.memory_allocated() / (1024**2):.2f} MB\")\n",
        "print(f\"Reserved memory after tensor creation: {torch.cuda.memory_reserved() / (1024**2):.2f} MB\")\n",
        "print(f\"Peak allocated memory: {torch.cuda.max_memory_allocated() / (1024**2):.2f} MB\")\n",
        "memories = [estimate_subgraph_memory(g) for g in loader]\n",
        "avg_mem = sum(memories) / len(memories)\n",
        "print(f\"Average subgraph memory: {avg_mem:.2f} MB\")\n",
        "avg_neighbors_per_node(subgraphs)\n",
        "print(f\"Number of subgraphs: {len(subgraphs)}\")"
      ],
      "metadata": {
        "id": "YErsFwmf1daW",
        "outputId": "7253ae73-2d12-4abf-cc4e-cb9e115bc4d6",
        "colab": {
          "base_uri": "https://localhost:8080/"
        }
      },
      "execution_count": 15,
      "outputs": [
        {
          "output_type": "stream",
          "name": "stdout",
          "text": [
            "Allocated memory after tensor creation: 0.00 MB\n",
            "Reserved memory after tensor creation: 0.00 MB\n",
            "Peak allocated memory: 0.00 MB\n",
            "Average subgraph memory: 14.89 MB\n",
            "Average neighbors per node: 3.84\n",
            "Number of subgraphs: 149\n"
          ]
        }
      ]
    },
    {
      "cell_type": "code",
      "source": [
        "peak_memory_mb=f\"{torch.cuda.max_memory_allocated()/1024**2:.2f}\"\n",
        "total_train_time=f\"{end_time - start_time:.2f}\"\n",
        "\n",
        "metrics = {\n",
        "    \"model\": \"clusterGCN\",\n",
        "    \"accuracy\": test_acc,\n",
        "    \"f1_micro\":test_f1,\n",
        "    \"peak_memory_MB\": peak_memory_mb,\n",
        "    \"train_time_sec\": total_train_time,\n",
        "    \"mem_MB\":peak_memory_mb\n",
        "}\n",
        "\n",
        "with open(\"clusterGCN_Cora_results.json\", \"w\") as f:\n",
        "    json.dump(metrics, f)"
      ],
      "metadata": {
        "id": "ooDLb5xXeZeC"
      },
      "execution_count": null,
      "outputs": []
    },
    {
      "cell_type": "markdown",
      "source": [
        "**citeser dataset**"
      ],
      "metadata": {
        "id": "YKZulth9emqc"
      }
    },
    {
      "cell_type": "code",
      "source": [
        "clean_gpu_memory()\n",
        "\n",
        "def dataset_load():\n",
        "  print(f\"Using device: {device}\")\n",
        "  dataset = Planetoid(root='data/Planetoid', name='CiteSeer', transform=NormalizeFeatures())\n",
        "  num_features = dataset.num_features\n",
        "  num_classes = dataset.num_classes\n",
        "  data = dataset[0].to(device)  # Get the first graph object.\n",
        "  return num_features, data, num_classes, device,dataset\n",
        "\n",
        "num_features, data, num_classes, device, dataset = dataset_load()\n",
        "#subgraphs = custom_partition(data, num_neighbors=300, num_hops=64)\n",
        "\n",
        "#loader = DataLoader(subgraphs, batch_size=128, shuffle=True)\n",
        "\n",
        "data = data.cpu()\n",
        "cluster_data = ClusterData(data, num_parts=128)\n",
        "loader = ClusterLoader(cluster_data, batch_size=128, shuffle=True)"
      ],
      "metadata": {
        "id": "K6Bt5AVCb64k",
        "outputId": "91b4a831-ef12-43e7-baa3-790a6ec005d1",
        "colab": {
          "base_uri": "https://localhost:8080/"
        }
      },
      "execution_count": 16,
      "outputs": [
        {
          "output_type": "stream",
          "name": "stdout",
          "text": [
            "Using device: cpu\n"
          ]
        },
        {
          "output_type": "stream",
          "name": "stderr",
          "text": [
            "Downloading https://github.com/kimiyoung/planetoid/raw/master/data/ind.citeseer.x\n",
            "Downloading https://github.com/kimiyoung/planetoid/raw/master/data/ind.citeseer.tx\n",
            "Downloading https://github.com/kimiyoung/planetoid/raw/master/data/ind.citeseer.allx\n",
            "Downloading https://github.com/kimiyoung/planetoid/raw/master/data/ind.citeseer.y\n",
            "Downloading https://github.com/kimiyoung/planetoid/raw/master/data/ind.citeseer.ty\n",
            "Downloading https://github.com/kimiyoung/planetoid/raw/master/data/ind.citeseer.ally\n",
            "Downloading https://github.com/kimiyoung/planetoid/raw/master/data/ind.citeseer.graph\n",
            "Downloading https://github.com/kimiyoung/planetoid/raw/master/data/ind.citeseer.test.index\n",
            "Processing...\n",
            "Done!\n",
            "Computing METIS partitioning...\n",
            "Done!\n"
          ]
        }
      ]
    },
    {
      "cell_type": "code",
      "source": [
        "\n",
        "\n",
        "\n",
        "model = GCN(\n",
        "    in_channels=num_features,\n",
        "    hidden_channels=64,\n",
        "    out_channels=num_classes\n",
        ").to(device)\n",
        "optimizer = torch.optim.Adam(model.parameters(), lr=0.01)\n",
        "criterion = torch.nn.CrossEntropyLoss().to(device)\n",
        "\n",
        "display(Javascript('''google.colab.output.setIframeHeight(0, true, {maxHeight: 300})'''))\n",
        "data=data.to(device)\n",
        "res=[]\n",
        "training=[]\n",
        "for i in range(10):\n",
        "  clean_gpu_memory()\n",
        "  start_time= time.time()\n",
        "  for epoch in range(1, 101):\n",
        "    loss = train_batch(loader)\n",
        "    if epoch % 10 == 0:\n",
        "      train_acc = test(data, data.train_mask)\n",
        "      val_acc = test(data, data.val_mask)\n",
        "      val_f1 = f1_micro(data, data.val_mask)\n",
        "      print(f'Epoch: {epoch:03d}, Train Acc: {train_acc:.4f}, Val Acc: {val_acc:.4f}, Val F1 (micro): {val_f1:.4f}')\n",
        "\n",
        "  end_time = time.time()\n",
        "  print(f\"Training time: {end_time - start_time:.2f} seconds\")\n",
        "  test_acc = test(data, data.test_mask)\n",
        "  res.append(test_acc)\n",
        "  training.append(end_time - start_time)\n",
        "\n",
        "test_acc = test(data, data.test_mask)\n",
        "\n",
        "test_f1 = f1_micro(data, data.test_mask)\n",
        "print(f'Test F1 Score (micro): {test_f1:.4f}')\n",
        "print(f'Test test accuracy (micro):  {test_acc:.4f}')"
      ],
      "metadata": {
        "id": "GzLUKUyEesF1",
        "outputId": "44dc326c-f5f8-4e41-f873-acef25150ce8",
        "colab": {
          "base_uri": "https://localhost:8080/",
          "height": 300
        }
      },
      "execution_count": 103,
      "outputs": [
        {
          "output_type": "display_data",
          "data": {
            "text/plain": [
              "<IPython.core.display.Javascript object>"
            ],
            "application/javascript": [
              "google.colab.output.setIframeHeight(0, true, {maxHeight: 300})"
            ]
          },
          "metadata": {}
        },
        {
          "output_type": "stream",
          "name": "stdout",
          "text": [
            "Memory after cleanup: 211.73 MB\n",
            "Epoch: 010, Train Acc: 0.8167, Val Acc: 0.5100, Val F1 (micro): 0.5100\n",
            "Epoch: 020, Train Acc: 0.9917, Val Acc: 0.6580, Val F1 (micro): 0.6580\n",
            "Epoch: 030, Train Acc: 1.0000, Val Acc: 0.6480, Val F1 (micro): 0.6480\n",
            "Epoch: 040, Train Acc: 1.0000, Val Acc: 0.6340, Val F1 (micro): 0.6340\n",
            "Epoch: 050, Train Acc: 1.0000, Val Acc: 0.6440, Val F1 (micro): 0.6440\n",
            "Epoch: 060, Train Acc: 1.0000, Val Acc: 0.6300, Val F1 (micro): 0.6300\n",
            "Epoch: 070, Train Acc: 1.0000, Val Acc: 0.6260, Val F1 (micro): 0.6260\n",
            "Epoch: 080, Train Acc: 1.0000, Val Acc: 0.6320, Val F1 (micro): 0.6320\n",
            "Epoch: 090, Train Acc: 1.0000, Val Acc: 0.6340, Val F1 (micro): 0.6340\n",
            "Epoch: 100, Train Acc: 1.0000, Val Acc: 0.6280, Val F1 (micro): 0.6280\n",
            "Training time: 8.49 seconds\n",
            "Memory after cleanup: 213.55 MB\n",
            "Epoch: 010, Train Acc: 1.0000, Val Acc: 0.6160, Val F1 (micro): 0.6160\n",
            "Epoch: 020, Train Acc: 1.0000, Val Acc: 0.6280, Val F1 (micro): 0.6280\n",
            "Epoch: 030, Train Acc: 1.0000, Val Acc: 0.6280, Val F1 (micro): 0.6280\n",
            "Epoch: 040, Train Acc: 1.0000, Val Acc: 0.6320, Val F1 (micro): 0.6320\n",
            "Epoch: 050, Train Acc: 1.0000, Val Acc: 0.6260, Val F1 (micro): 0.6260\n",
            "Epoch: 060, Train Acc: 1.0000, Val Acc: 0.6300, Val F1 (micro): 0.6300\n",
            "Epoch: 070, Train Acc: 1.0000, Val Acc: 0.6280, Val F1 (micro): 0.6280\n",
            "Epoch: 080, Train Acc: 1.0000, Val Acc: 0.6400, Val F1 (micro): 0.6400\n",
            "Epoch: 090, Train Acc: 1.0000, Val Acc: 0.6280, Val F1 (micro): 0.6280\n",
            "Epoch: 100, Train Acc: 1.0000, Val Acc: 0.6360, Val F1 (micro): 0.6360\n",
            "Training time: 7.88 seconds\n",
            "Memory after cleanup: 213.55 MB\n",
            "Epoch: 010, Train Acc: 1.0000, Val Acc: 0.6300, Val F1 (micro): 0.6300\n",
            "Epoch: 020, Train Acc: 1.0000, Val Acc: 0.6280, Val F1 (micro): 0.6280\n",
            "Epoch: 030, Train Acc: 1.0000, Val Acc: 0.6380, Val F1 (micro): 0.6380\n",
            "Epoch: 040, Train Acc: 1.0000, Val Acc: 0.6220, Val F1 (micro): 0.6220\n",
            "Epoch: 050, Train Acc: 1.0000, Val Acc: 0.6200, Val F1 (micro): 0.6200\n",
            "Epoch: 060, Train Acc: 1.0000, Val Acc: 0.6280, Val F1 (micro): 0.6280\n",
            "Epoch: 070, Train Acc: 1.0000, Val Acc: 0.6260, Val F1 (micro): 0.6260\n",
            "Epoch: 080, Train Acc: 1.0000, Val Acc: 0.6100, Val F1 (micro): 0.6100\n",
            "Epoch: 090, Train Acc: 1.0000, Val Acc: 0.6200, Val F1 (micro): 0.6200\n",
            "Epoch: 100, Train Acc: 1.0000, Val Acc: 0.6360, Val F1 (micro): 0.6360\n",
            "Training time: 8.48 seconds\n",
            "Memory after cleanup: 213.55 MB\n",
            "Epoch: 010, Train Acc: 1.0000, Val Acc: 0.6240, Val F1 (micro): 0.6240\n",
            "Epoch: 020, Train Acc: 1.0000, Val Acc: 0.6280, Val F1 (micro): 0.6280\n",
            "Epoch: 030, Train Acc: 1.0000, Val Acc: 0.6320, Val F1 (micro): 0.6320\n",
            "Epoch: 040, Train Acc: 1.0000, Val Acc: 0.6160, Val F1 (micro): 0.6160\n",
            "Epoch: 050, Train Acc: 1.0000, Val Acc: 0.6240, Val F1 (micro): 0.6240\n",
            "Epoch: 060, Train Acc: 1.0000, Val Acc: 0.6240, Val F1 (micro): 0.6240\n",
            "Epoch: 070, Train Acc: 1.0000, Val Acc: 0.6200, Val F1 (micro): 0.6200\n",
            "Epoch: 080, Train Acc: 1.0000, Val Acc: 0.6260, Val F1 (micro): 0.6260\n",
            "Epoch: 090, Train Acc: 1.0000, Val Acc: 0.6260, Val F1 (micro): 0.6260\n",
            "Epoch: 100, Train Acc: 1.0000, Val Acc: 0.6240, Val F1 (micro): 0.6240\n",
            "Training time: 8.38 seconds\n",
            "Memory after cleanup: 213.55 MB\n",
            "Epoch: 010, Train Acc: 1.0000, Val Acc: 0.6180, Val F1 (micro): 0.6180\n",
            "Epoch: 020, Train Acc: 1.0000, Val Acc: 0.6240, Val F1 (micro): 0.6240\n",
            "Epoch: 030, Train Acc: 1.0000, Val Acc: 0.6260, Val F1 (micro): 0.6260\n",
            "Epoch: 040, Train Acc: 1.0000, Val Acc: 0.6260, Val F1 (micro): 0.6260\n",
            "Epoch: 050, Train Acc: 1.0000, Val Acc: 0.6360, Val F1 (micro): 0.6360\n",
            "Epoch: 060, Train Acc: 1.0000, Val Acc: 0.6360, Val F1 (micro): 0.6360\n",
            "Epoch: 070, Train Acc: 1.0000, Val Acc: 0.6320, Val F1 (micro): 0.6320\n",
            "Epoch: 080, Train Acc: 1.0000, Val Acc: 0.6280, Val F1 (micro): 0.6280\n",
            "Epoch: 090, Train Acc: 1.0000, Val Acc: 0.6160, Val F1 (micro): 0.6160\n",
            "Epoch: 100, Train Acc: 1.0000, Val Acc: 0.6240, Val F1 (micro): 0.6240\n",
            "Training time: 7.81 seconds\n",
            "Memory after cleanup: 213.55 MB\n",
            "Epoch: 010, Train Acc: 1.0000, Val Acc: 0.6240, Val F1 (micro): 0.6240\n",
            "Epoch: 020, Train Acc: 1.0000, Val Acc: 0.6220, Val F1 (micro): 0.6220\n",
            "Epoch: 030, Train Acc: 1.0000, Val Acc: 0.6260, Val F1 (micro): 0.6260\n",
            "Epoch: 040, Train Acc: 1.0000, Val Acc: 0.6260, Val F1 (micro): 0.6260\n",
            "Epoch: 050, Train Acc: 1.0000, Val Acc: 0.6260, Val F1 (micro): 0.6260\n",
            "Epoch: 060, Train Acc: 1.0000, Val Acc: 0.6300, Val F1 (micro): 0.6300\n",
            "Epoch: 070, Train Acc: 1.0000, Val Acc: 0.6140, Val F1 (micro): 0.6140\n",
            "Epoch: 080, Train Acc: 1.0000, Val Acc: 0.6120, Val F1 (micro): 0.6120\n",
            "Epoch: 090, Train Acc: 1.0000, Val Acc: 0.6280, Val F1 (micro): 0.6280\n",
            "Epoch: 100, Train Acc: 1.0000, Val Acc: 0.6320, Val F1 (micro): 0.6320\n",
            "Training time: 8.30 seconds\n",
            "Memory after cleanup: 213.55 MB\n",
            "Epoch: 010, Train Acc: 1.0000, Val Acc: 0.6300, Val F1 (micro): 0.6300\n",
            "Epoch: 020, Train Acc: 1.0000, Val Acc: 0.6240, Val F1 (micro): 0.6240\n",
            "Epoch: 030, Train Acc: 1.0000, Val Acc: 0.6160, Val F1 (micro): 0.6160\n",
            "Epoch: 040, Train Acc: 1.0000, Val Acc: 0.6180, Val F1 (micro): 0.6180\n",
            "Epoch: 050, Train Acc: 1.0000, Val Acc: 0.6160, Val F1 (micro): 0.6160\n",
            "Epoch: 060, Train Acc: 1.0000, Val Acc: 0.6240, Val F1 (micro): 0.6240\n",
            "Epoch: 070, Train Acc: 1.0000, Val Acc: 0.6280, Val F1 (micro): 0.6280\n",
            "Epoch: 080, Train Acc: 1.0000, Val Acc: 0.6240, Val F1 (micro): 0.6240\n",
            "Epoch: 090, Train Acc: 1.0000, Val Acc: 0.6300, Val F1 (micro): 0.6300\n",
            "Epoch: 100, Train Acc: 1.0000, Val Acc: 0.6300, Val F1 (micro): 0.6300\n",
            "Training time: 8.43 seconds\n",
            "Memory after cleanup: 213.55 MB\n",
            "Epoch: 010, Train Acc: 1.0000, Val Acc: 0.6260, Val F1 (micro): 0.6260\n",
            "Epoch: 020, Train Acc: 1.0000, Val Acc: 0.6260, Val F1 (micro): 0.6260\n",
            "Epoch: 030, Train Acc: 1.0000, Val Acc: 0.6180, Val F1 (micro): 0.6180\n",
            "Epoch: 040, Train Acc: 1.0000, Val Acc: 0.6100, Val F1 (micro): 0.6100\n",
            "Epoch: 050, Train Acc: 1.0000, Val Acc: 0.6140, Val F1 (micro): 0.6140\n",
            "Epoch: 060, Train Acc: 1.0000, Val Acc: 0.6100, Val F1 (micro): 0.6100\n",
            "Epoch: 070, Train Acc: 1.0000, Val Acc: 0.6260, Val F1 (micro): 0.6260\n",
            "Epoch: 080, Train Acc: 1.0000, Val Acc: 0.6120, Val F1 (micro): 0.6120\n",
            "Epoch: 090, Train Acc: 1.0000, Val Acc: 0.6100, Val F1 (micro): 0.6100\n",
            "Epoch: 100, Train Acc: 1.0000, Val Acc: 0.6160, Val F1 (micro): 0.6160\n",
            "Training time: 8.17 seconds\n",
            "Memory after cleanup: 213.55 MB\n",
            "Epoch: 010, Train Acc: 1.0000, Val Acc: 0.6260, Val F1 (micro): 0.6260\n",
            "Epoch: 020, Train Acc: 1.0000, Val Acc: 0.6240, Val F1 (micro): 0.6240\n",
            "Epoch: 030, Train Acc: 1.0000, Val Acc: 0.6120, Val F1 (micro): 0.6120\n",
            "Epoch: 040, Train Acc: 1.0000, Val Acc: 0.6140, Val F1 (micro): 0.6140\n",
            "Epoch: 050, Train Acc: 1.0000, Val Acc: 0.6040, Val F1 (micro): 0.6040\n",
            "Epoch: 060, Train Acc: 1.0000, Val Acc: 0.6080, Val F1 (micro): 0.6080\n",
            "Epoch: 070, Train Acc: 1.0000, Val Acc: 0.6040, Val F1 (micro): 0.6040\n",
            "Epoch: 080, Train Acc: 1.0000, Val Acc: 0.6060, Val F1 (micro): 0.6060\n",
            "Epoch: 090, Train Acc: 1.0000, Val Acc: 0.6120, Val F1 (micro): 0.6120\n",
            "Epoch: 100, Train Acc: 1.0000, Val Acc: 0.6140, Val F1 (micro): 0.6140\n",
            "Training time: 7.75 seconds\n",
            "Memory after cleanup: 213.55 MB\n",
            "Epoch: 010, Train Acc: 1.0000, Val Acc: 0.6040, Val F1 (micro): 0.6040\n",
            "Epoch: 020, Train Acc: 1.0000, Val Acc: 0.6020, Val F1 (micro): 0.6020\n",
            "Epoch: 030, Train Acc: 1.0000, Val Acc: 0.6060, Val F1 (micro): 0.6060\n",
            "Epoch: 040, Train Acc: 1.0000, Val Acc: 0.6100, Val F1 (micro): 0.6100\n",
            "Epoch: 050, Train Acc: 1.0000, Val Acc: 0.6100, Val F1 (micro): 0.6100\n",
            "Epoch: 060, Train Acc: 1.0000, Val Acc: 0.5880, Val F1 (micro): 0.5880\n",
            "Epoch: 070, Train Acc: 1.0000, Val Acc: 0.5880, Val F1 (micro): 0.5880\n",
            "Epoch: 080, Train Acc: 1.0000, Val Acc: 0.5840, Val F1 (micro): 0.5840\n",
            "Epoch: 090, Train Acc: 1.0000, Val Acc: 0.5820, Val F1 (micro): 0.5820\n",
            "Epoch: 100, Train Acc: 1.0000, Val Acc: 0.5660, Val F1 (micro): 0.5660\n",
            "Training time: 8.36 seconds\n",
            "Test F1 Score (micro): 0.5770\n",
            "Test test accuracy (micro):  0.5770\n"
          ]
        }
      ]
    },
    {
      "cell_type": "code",
      "source": [
        "print(res)\n",
        "print(sum(res)/10)\n",
        "print(training)\n",
        "print(sum(training)/10)\n",
        "print(f\"Allocated memory after tensor creation: {torch.cuda.memory_allocated() / (1024**2):.2f} MB\")\n",
        "print(f\"Reserved memory after tensor creation: {torch.cuda.memory_reserved() / (1024**2):.2f} MB\")\n",
        "print(f\"Peak allocated memory: {torch.cuda.max_memory_allocated() / (1024**2):.2f} MB\")\n",
        "memories = [estimate_subgraph_memory(g) for g in loader]\n",
        "avg_mem = sum(memories) / len(memories)\n",
        "print(f\"Average subgraph memory: {avg_mem:.2f} MB\")\n",
        "avg_neighbors_per_node(subgraphs)\n",
        "print(f\"Number of subgraphs: {len(subgraphs)}\")\n"
      ],
      "metadata": {
        "id": "ux_tjd2T40qQ",
        "outputId": "35d67fcf-d8da-465e-eb44-20aaa38aebce",
        "colab": {
          "base_uri": "https://localhost:8080/",
          "height": 221
        }
      },
      "execution_count": 17,
      "outputs": [
        {
          "output_type": "error",
          "ename": "NameError",
          "evalue": "name 'res' is not defined",
          "traceback": [
            "\u001b[0;31m---------------------------------------------------------------------------\u001b[0m",
            "\u001b[0;31mNameError\u001b[0m                                 Traceback (most recent call last)",
            "\u001b[0;32m/tmp/ipython-input-17-1821968654.py\u001b[0m in \u001b[0;36m<cell line: 0>\u001b[0;34m()\u001b[0m\n\u001b[0;32m----> 1\u001b[0;31m \u001b[0mprint\u001b[0m\u001b[0;34m(\u001b[0m\u001b[0mres\u001b[0m\u001b[0;34m)\u001b[0m\u001b[0;34m\u001b[0m\u001b[0;34m\u001b[0m\u001b[0m\n\u001b[0m\u001b[1;32m      2\u001b[0m \u001b[0mprint\u001b[0m\u001b[0;34m(\u001b[0m\u001b[0msum\u001b[0m\u001b[0;34m(\u001b[0m\u001b[0mres\u001b[0m\u001b[0;34m)\u001b[0m\u001b[0;34m/\u001b[0m\u001b[0;36m10\u001b[0m\u001b[0;34m)\u001b[0m\u001b[0;34m\u001b[0m\u001b[0;34m\u001b[0m\u001b[0m\n\u001b[1;32m      3\u001b[0m \u001b[0mprint\u001b[0m\u001b[0;34m(\u001b[0m\u001b[0mtraining\u001b[0m\u001b[0;34m)\u001b[0m\u001b[0;34m\u001b[0m\u001b[0;34m\u001b[0m\u001b[0m\n\u001b[1;32m      4\u001b[0m \u001b[0mprint\u001b[0m\u001b[0;34m(\u001b[0m\u001b[0msum\u001b[0m\u001b[0;34m(\u001b[0m\u001b[0mtraining\u001b[0m\u001b[0;34m)\u001b[0m\u001b[0;34m/\u001b[0m\u001b[0;36m10\u001b[0m\u001b[0;34m)\u001b[0m\u001b[0;34m\u001b[0m\u001b[0;34m\u001b[0m\u001b[0m\n\u001b[1;32m      5\u001b[0m \u001b[0mprint\u001b[0m\u001b[0;34m(\u001b[0m\u001b[0;34mf\"Allocated memory after tensor creation: {torch.cuda.memory_allocated() / (1024**2):.2f} MB\"\u001b[0m\u001b[0;34m)\u001b[0m\u001b[0;34m\u001b[0m\u001b[0;34m\u001b[0m\u001b[0m\n",
            "\u001b[0;31mNameError\u001b[0m: name 'res' is not defined"
          ]
        }
      ]
    },
    {
      "cell_type": "code",
      "source": [
        "peak_memory_mb=f\"{torch.cuda.max_memory_allocated()/1024**2:.2f}\"\n",
        "total_train_time=f\"{end_time - start_time:.2f}\"\n",
        "\n",
        "metrics = {\n",
        "    \"model\": \"clusterGCN\",\n",
        "    \"accuracy\": test_acc,\n",
        "    \"f1_micro\":test_f1,\n",
        "    \"peak_memory_MB\": peak_memory_mb,\n",
        "    \"train_time_sec\": total_train_time,\n",
        "    \"mem_MB\":peak_memory_mb\n",
        "}\n",
        "\n",
        "with open(\"clusterGCN_CiteSeer_results.json\", \"w\") as f:\n",
        "    json.dump(metrics, f)"
      ],
      "metadata": {
        "id": "lzUy-01ve370"
      },
      "execution_count": null,
      "outputs": []
    },
    {
      "cell_type": "markdown",
      "source": [
        "**Amazon dataset**"
      ],
      "metadata": {
        "id": "38Lu3wX1fLKC"
      }
    },
    {
      "cell_type": "code",
      "source": [
        "clean_gpu_memory()\n",
        "\n",
        "def dataset_load():\n",
        "  print(f\"Using device: {device}\")\n",
        "  dataset = Amazon(\n",
        "        root='data/Amazon',\n",
        "        name='Computers',\n",
        "        transform=T.Compose([\n",
        "        NormalizeFeatures(),          # feature‑wise ℓ₂ normalisation\n",
        "        RandomNodeSplit(              # ⇦ add a split transform\n",
        "                split='train_rest',       # 10% val, 10% test by default\n",
        "                num_val=0.1,\n",
        "                num_test=0.1,\n",
        "                num_splits=1,\n",
        "            )\n",
        "        ])\n",
        "    )\n",
        "  num_features = dataset.num_features\n",
        "  num_classes = dataset.num_classes\n",
        "  data = dataset[0].to(device)  # Get the first graph object.\n",
        "  return num_features, data, num_classes, device,dataset\n",
        "\n",
        "num_features, data, num_classes, device, dataset = dataset_load()\n",
        "\n",
        "#subgraphs = custom_partition(data, num_neighbors=300, num_hops=64)\n",
        "\n",
        "#loader = DataLoader(subgraphs, batch_size=128, shuffle=True)\n",
        "\n",
        "data = data.cpu()\n",
        "cluster_data = ClusterData(data, num_parts=128)\n",
        "loader = ClusterLoader(cluster_data, batch_size=128, shuffle=True)"
      ],
      "metadata": {
        "id": "PjEjGTadfnUT",
        "outputId": "dacda81a-3a10-43e5-844e-f7efc02412e7",
        "colab": {
          "base_uri": "https://localhost:8080/"
        }
      },
      "execution_count": 19,
      "outputs": [
        {
          "output_type": "stream",
          "name": "stdout",
          "text": [
            "Using device: cpu\n"
          ]
        },
        {
          "output_type": "stream",
          "name": "stderr",
          "text": [
            "Downloading https://github.com/shchur/gnn-benchmark/raw/master/data/npz/amazon_electronics_computers.npz\n",
            "Processing...\n",
            "Done!\n",
            "Computing METIS partitioning...\n",
            "Done!\n"
          ]
        }
      ]
    },
    {
      "cell_type": "code",
      "source": [
        "\n",
        "\n",
        "\n",
        "model = GCN(\n",
        "    in_channels=num_features,\n",
        "    hidden_channels=64,\n",
        "    out_channels=num_classes\n",
        ").to(device)\n",
        "optimizer = torch.optim.Adam(model.parameters(), lr=0.01)\n",
        "criterion = torch.nn.CrossEntropyLoss().to(device)\n",
        "\n",
        "display(Javascript('''google.colab.output.setIframeHeight(0, true, {maxHeight: 300})'''))\n",
        "data=data.to(device)\n",
        "\n",
        "res=[]\n",
        "training=[]\n",
        "for i in range(10):\n",
        "  clean_gpu_memory()\n",
        "  start_time= time.time()\n",
        "  for epoch in range(1, 101):\n",
        "    loss = train_batch(loader)\n",
        "    if epoch % 10 == 0:\n",
        "      train_acc = test(data, data.train_mask)\n",
        "      val_acc = test(data, data.val_mask)\n",
        "      val_f1 = f1_micro(data, data.val_mask)\n",
        "      print(f'Epoch: {epoch:03d}, Train Acc: {train_acc:.4f}, Val Acc: {val_acc:.4f}, Val F1 (micro): {val_f1:.4f}')\n",
        "\n",
        "  end_time = time.time()\n",
        "  print(f\"Training time: {end_time - start_time:.2f} seconds\")\n",
        "  test_acc = test(data, data.test_mask)\n",
        "  res.append(test_acc)\n",
        "  training.append(end_time - start_time)\n",
        "\n",
        "test_acc = test(data, data.test_mask)\n",
        "\n",
        "test_f1 = f1_micro(data, data.test_mask)\n",
        "print(f'Test F1 Score (micro): {test_f1:.4f}')\n",
        "print(f'Test test accuracy (micro):  {test_acc:.4f}')"
      ],
      "metadata": {
        "id": "IwvBacXte8XG",
        "outputId": "72f2a3da-677c-430a-9347-fa4ba30de60d",
        "colab": {
          "base_uri": "https://localhost:8080/",
          "height": 300
        }
      },
      "execution_count": 76,
      "outputs": [
        {
          "output_type": "display_data",
          "data": {
            "text/plain": [
              "<IPython.core.display.Javascript object>"
            ],
            "application/javascript": [
              "google.colab.output.setIframeHeight(0, true, {maxHeight: 300})"
            ]
          },
          "metadata": {}
        },
        {
          "output_type": "stream",
          "name": "stdout",
          "text": [
            "Memory after cleanup: 162.62 MB\n",
            "Epoch: 010, Train Acc: 0.3763, Val Acc: 0.3738, Val F1 (micro): 0.3738\n",
            "Epoch: 020, Train Acc: 0.3764, Val Acc: 0.3738, Val F1 (micro): 0.3738\n",
            "Epoch: 030, Train Acc: 0.3781, Val Acc: 0.3738, Val F1 (micro): 0.3738\n",
            "Epoch: 040, Train Acc: 0.3807, Val Acc: 0.3760, Val F1 (micro): 0.3760\n",
            "Epoch: 050, Train Acc: 0.4269, Val Acc: 0.4349, Val F1 (micro): 0.4349\n",
            "Epoch: 060, Train Acc: 0.4654, Val Acc: 0.4742, Val F1 (micro): 0.4742\n",
            "Epoch: 070, Train Acc: 0.5406, Val Acc: 0.5411, Val F1 (micro): 0.5411\n",
            "Epoch: 080, Train Acc: 0.5613, Val Acc: 0.5673, Val F1 (micro): 0.5673\n",
            "Epoch: 090, Train Acc: 0.5920, Val Acc: 0.6029, Val F1 (micro): 0.6029\n",
            "Epoch: 100, Train Acc: 0.6208, Val Acc: 0.6167, Val F1 (micro): 0.6167\n",
            "Training time: 4.38 seconds\n",
            "Memory after cleanup: 163.00 MB\n",
            "Epoch: 010, Train Acc: 0.6470, Val Acc: 0.6407, Val F1 (micro): 0.6407\n",
            "Epoch: 020, Train Acc: 0.6495, Val Acc: 0.6465, Val F1 (micro): 0.6465\n",
            "Epoch: 030, Train Acc: 0.6456, Val Acc: 0.6356, Val F1 (micro): 0.6356\n",
            "Epoch: 040, Train Acc: 0.7189, Val Acc: 0.7084, Val F1 (micro): 0.7084\n",
            "Epoch: 050, Train Acc: 0.7506, Val Acc: 0.7462, Val F1 (micro): 0.7462\n",
            "Epoch: 060, Train Acc: 0.7611, Val Acc: 0.7615, Val F1 (micro): 0.7615\n",
            "Epoch: 070, Train Acc: 0.7613, Val Acc: 0.7542, Val F1 (micro): 0.7542\n",
            "Epoch: 080, Train Acc: 0.7979, Val Acc: 0.7927, Val F1 (micro): 0.7927\n",
            "Epoch: 090, Train Acc: 0.7993, Val Acc: 0.7949, Val F1 (micro): 0.7949\n",
            "Epoch: 100, Train Acc: 0.8133, Val Acc: 0.8138, Val F1 (micro): 0.8138\n",
            "Training time: 4.05 seconds\n",
            "Memory after cleanup: 163.00 MB\n",
            "Epoch: 010, Train Acc: 0.8107, Val Acc: 0.8058, Val F1 (micro): 0.8058\n",
            "Epoch: 020, Train Acc: 0.8122, Val Acc: 0.8065, Val F1 (micro): 0.8065\n",
            "Epoch: 030, Train Acc: 0.8166, Val Acc: 0.8131, Val F1 (micro): 0.8131\n",
            "Epoch: 040, Train Acc: 0.8205, Val Acc: 0.8189, Val F1 (micro): 0.8189\n",
            "Epoch: 050, Train Acc: 0.8207, Val Acc: 0.8175, Val F1 (micro): 0.8175\n",
            "Epoch: 060, Train Acc: 0.8261, Val Acc: 0.8255, Val F1 (micro): 0.8255\n",
            "Epoch: 070, Train Acc: 0.8281, Val Acc: 0.8160, Val F1 (micro): 0.8160\n",
            "Epoch: 080, Train Acc: 0.8279, Val Acc: 0.8276, Val F1 (micro): 0.8276\n",
            "Epoch: 090, Train Acc: 0.8300, Val Acc: 0.8313, Val F1 (micro): 0.8313\n",
            "Epoch: 100, Train Acc: 0.8322, Val Acc: 0.8320, Val F1 (micro): 0.8320\n",
            "Training time: 4.49 seconds\n",
            "Memory after cleanup: 163.00 MB\n",
            "Epoch: 010, Train Acc: 0.8311, Val Acc: 0.8320, Val F1 (micro): 0.8320\n",
            "Epoch: 020, Train Acc: 0.8347, Val Acc: 0.8305, Val F1 (micro): 0.8305\n",
            "Epoch: 030, Train Acc: 0.8338, Val Acc: 0.8349, Val F1 (micro): 0.8349\n",
            "Epoch: 040, Train Acc: 0.8384, Val Acc: 0.8298, Val F1 (micro): 0.8298\n",
            "Epoch: 050, Train Acc: 0.8368, Val Acc: 0.8327, Val F1 (micro): 0.8327\n",
            "Epoch: 060, Train Acc: 0.8381, Val Acc: 0.8342, Val F1 (micro): 0.8342\n",
            "Epoch: 070, Train Acc: 0.8398, Val Acc: 0.8342, Val F1 (micro): 0.8342\n",
            "Epoch: 080, Train Acc: 0.8434, Val Acc: 0.8378, Val F1 (micro): 0.8378\n",
            "Epoch: 090, Train Acc: 0.8481, Val Acc: 0.8473, Val F1 (micro): 0.8473\n",
            "Epoch: 100, Train Acc: 0.8517, Val Acc: 0.8451, Val F1 (micro): 0.8451\n",
            "Training time: 3.98 seconds\n",
            "Memory after cleanup: 163.00 MB\n",
            "Epoch: 010, Train Acc: 0.8567, Val Acc: 0.8531, Val F1 (micro): 0.8531\n",
            "Epoch: 020, Train Acc: 0.8568, Val Acc: 0.8436, Val F1 (micro): 0.8436\n",
            "Epoch: 030, Train Acc: 0.8566, Val Acc: 0.8516, Val F1 (micro): 0.8516\n",
            "Epoch: 040, Train Acc: 0.8644, Val Acc: 0.8596, Val F1 (micro): 0.8596\n",
            "Epoch: 050, Train Acc: 0.8668, Val Acc: 0.8582, Val F1 (micro): 0.8582\n",
            "Epoch: 060, Train Acc: 0.8799, Val Acc: 0.8662, Val F1 (micro): 0.8662\n",
            "Epoch: 070, Train Acc: 0.8758, Val Acc: 0.8713, Val F1 (micro): 0.8713\n",
            "Epoch: 080, Train Acc: 0.8825, Val Acc: 0.8684, Val F1 (micro): 0.8684\n",
            "Epoch: 090, Train Acc: 0.8832, Val Acc: 0.8705, Val F1 (micro): 0.8705\n",
            "Epoch: 100, Train Acc: 0.8875, Val Acc: 0.8735, Val F1 (micro): 0.8735\n",
            "Training time: 3.93 seconds\n",
            "Memory after cleanup: 163.00 MB\n",
            "Epoch: 010, Train Acc: 0.8857, Val Acc: 0.8720, Val F1 (micro): 0.8720\n",
            "Epoch: 020, Train Acc: 0.8877, Val Acc: 0.8778, Val F1 (micro): 0.8778\n",
            "Epoch: 030, Train Acc: 0.8844, Val Acc: 0.8742, Val F1 (micro): 0.8742\n",
            "Epoch: 040, Train Acc: 0.8881, Val Acc: 0.8756, Val F1 (micro): 0.8756\n",
            "Epoch: 050, Train Acc: 0.8940, Val Acc: 0.8836, Val F1 (micro): 0.8836\n",
            "Epoch: 060, Train Acc: 0.8881, Val Acc: 0.8793, Val F1 (micro): 0.8793\n",
            "Epoch: 070, Train Acc: 0.8932, Val Acc: 0.8822, Val F1 (micro): 0.8822\n",
            "Epoch: 080, Train Acc: 0.8914, Val Acc: 0.8807, Val F1 (micro): 0.8807\n",
            "Epoch: 090, Train Acc: 0.8955, Val Acc: 0.8829, Val F1 (micro): 0.8829\n",
            "Epoch: 100, Train Acc: 0.8930, Val Acc: 0.8836, Val F1 (micro): 0.8836\n",
            "Training time: 4.64 seconds\n",
            "Memory after cleanup: 163.00 MB\n",
            "Epoch: 010, Train Acc: 0.8933, Val Acc: 0.8793, Val F1 (micro): 0.8793\n",
            "Epoch: 020, Train Acc: 0.8972, Val Acc: 0.8865, Val F1 (micro): 0.8865\n",
            "Epoch: 030, Train Acc: 0.8966, Val Acc: 0.8858, Val F1 (micro): 0.8858\n",
            "Epoch: 040, Train Acc: 0.8981, Val Acc: 0.8844, Val F1 (micro): 0.8844\n",
            "Epoch: 050, Train Acc: 0.8967, Val Acc: 0.8895, Val F1 (micro): 0.8895\n",
            "Epoch: 060, Train Acc: 0.8993, Val Acc: 0.8880, Val F1 (micro): 0.8880\n",
            "Epoch: 070, Train Acc: 0.9007, Val Acc: 0.8873, Val F1 (micro): 0.8873\n",
            "Epoch: 080, Train Acc: 0.8979, Val Acc: 0.8836, Val F1 (micro): 0.8836\n",
            "Epoch: 090, Train Acc: 0.9016, Val Acc: 0.8902, Val F1 (micro): 0.8902\n",
            "Epoch: 100, Train Acc: 0.8993, Val Acc: 0.8873, Val F1 (micro): 0.8873\n",
            "Training time: 3.97 seconds\n",
            "Memory after cleanup: 163.00 MB\n",
            "Epoch: 010, Train Acc: 0.9016, Val Acc: 0.8873, Val F1 (micro): 0.8873\n",
            "Epoch: 020, Train Acc: 0.9017, Val Acc: 0.8858, Val F1 (micro): 0.8858\n",
            "Epoch: 030, Train Acc: 0.8997, Val Acc: 0.8815, Val F1 (micro): 0.8815\n",
            "Epoch: 040, Train Acc: 0.9020, Val Acc: 0.8851, Val F1 (micro): 0.8851\n",
            "Epoch: 050, Train Acc: 0.9013, Val Acc: 0.8836, Val F1 (micro): 0.8836\n",
            "Epoch: 060, Train Acc: 0.9053, Val Acc: 0.8895, Val F1 (micro): 0.8895\n",
            "Epoch: 070, Train Acc: 0.9036, Val Acc: 0.8895, Val F1 (micro): 0.8895\n",
            "Epoch: 080, Train Acc: 0.9036, Val Acc: 0.8880, Val F1 (micro): 0.8880\n",
            "Epoch: 090, Train Acc: 0.9071, Val Acc: 0.8887, Val F1 (micro): 0.8887\n",
            "Epoch: 100, Train Acc: 0.9067, Val Acc: 0.8895, Val F1 (micro): 0.8895\n",
            "Training time: 4.06 seconds\n",
            "Memory after cleanup: 163.00 MB\n",
            "Epoch: 010, Train Acc: 0.9057, Val Acc: 0.8909, Val F1 (micro): 0.8909\n",
            "Epoch: 020, Train Acc: 0.9066, Val Acc: 0.8865, Val F1 (micro): 0.8865\n",
            "Epoch: 030, Train Acc: 0.9063, Val Acc: 0.8938, Val F1 (micro): 0.8938\n",
            "Epoch: 040, Train Acc: 0.9077, Val Acc: 0.8880, Val F1 (micro): 0.8880\n",
            "Epoch: 050, Train Acc: 0.9078, Val Acc: 0.8902, Val F1 (micro): 0.8902\n",
            "Epoch: 060, Train Acc: 0.9091, Val Acc: 0.8902, Val F1 (micro): 0.8902\n",
            "Epoch: 070, Train Acc: 0.9100, Val Acc: 0.8916, Val F1 (micro): 0.8916\n",
            "Epoch: 080, Train Acc: 0.9093, Val Acc: 0.8931, Val F1 (micro): 0.8931\n",
            "Epoch: 090, Train Acc: 0.9077, Val Acc: 0.8931, Val F1 (micro): 0.8931\n",
            "Epoch: 100, Train Acc: 0.9118, Val Acc: 0.8909, Val F1 (micro): 0.8909\n",
            "Training time: 4.37 seconds\n",
            "Memory after cleanup: 163.00 MB\n",
            "Epoch: 010, Train Acc: 0.9097, Val Acc: 0.8916, Val F1 (micro): 0.8916\n",
            "Epoch: 020, Train Acc: 0.9122, Val Acc: 0.8953, Val F1 (micro): 0.8953\n",
            "Epoch: 030, Train Acc: 0.9109, Val Acc: 0.8924, Val F1 (micro): 0.8924\n",
            "Epoch: 040, Train Acc: 0.9107, Val Acc: 0.8902, Val F1 (micro): 0.8902\n",
            "Epoch: 050, Train Acc: 0.9096, Val Acc: 0.8873, Val F1 (micro): 0.8873\n",
            "Epoch: 060, Train Acc: 0.9087, Val Acc: 0.8851, Val F1 (micro): 0.8851\n",
            "Epoch: 070, Train Acc: 0.9130, Val Acc: 0.8924, Val F1 (micro): 0.8924\n",
            "Epoch: 080, Train Acc: 0.9116, Val Acc: 0.8902, Val F1 (micro): 0.8902\n",
            "Epoch: 090, Train Acc: 0.9130, Val Acc: 0.8975, Val F1 (micro): 0.8975\n",
            "Epoch: 100, Train Acc: 0.9124, Val Acc: 0.8902, Val F1 (micro): 0.8902\n",
            "Training time: 3.94 seconds\n",
            "Test F1 Score (micro): 0.8931\n",
            "Test test accuracy (micro):  0.8931\n"
          ]
        }
      ]
    },
    {
      "cell_type": "code",
      "source": [
        "print(res)\n",
        "print(sum(res)/10)\n",
        "print(training)\n",
        "print(sum(training)/10)\n",
        "print(f\"Allocated memory after tensor creation: {torch.cuda.memory_allocated() / (1024**2):.2f} MB\")\n",
        "print(f\"Reserved memory after tensor creation: {torch.cuda.memory_reserved() / (1024**2):.2f} MB\")\n",
        "print(f\"Peak allocated memory: {torch.cuda.max_memory_allocated() / (1024**2):.2f} MB\")\n",
        "memories = [estimate_subgraph_memory(g) for g in loader]\n",
        "avg_mem = sum(memories) / len(memories)\n",
        "print(f\"Average subgraph memory: {avg_mem:.2f} MB\")\n",
        "avg_neighbors_per_node(subgraphs)\n",
        "print(f\"Number of subgraphs: {len(subgraphs)}\")\n"
      ],
      "metadata": {
        "id": "NFsid8Rx-zJa",
        "outputId": "996f0e76-f952-4dd8-a453-d55091b47fdc",
        "colab": {
          "base_uri": "https://localhost:8080/"
        }
      },
      "execution_count": 79,
      "outputs": [
        {
          "output_type": "stream",
          "name": "stdout",
          "text": [
            "[0.6065454545454545, 0.8021818181818182, 0.8152727272727273, 0.8334545454545454, 0.8741818181818182, 0.8836363636363637, 0.8858181818181818, 0.8952727272727272, 0.8945454545454545, 0.893090909090909]\n",
            "0.8384\n",
            "[4.382862329483032, 4.053532123565674, 4.493819952011108, 3.9802539348602295, 3.9277055263519287, 4.641192197799683, 3.974245548248291, 4.0580735206604, 4.369818925857544, 3.941255569458008]\n",
            "4.18227596282959\n",
            "Allocated memory after tensor creation: 163.00 MB\n",
            "Reserved memory after tensor creation: 514.00 MB\n",
            "Peak allocated memory: 474.98 MB\n",
            "Average subgraph memory: 14.68 MB\n",
            "Average neighbors per node: 35.74\n",
            "Number of subgraphs: 361\n"
          ]
        }
      ]
    },
    {
      "cell_type": "code",
      "source": [
        "peak_memory_mb=f\"{torch.cuda.max_memory_allocated()/1024**2:.2f}\"\n",
        "total_train_time=f\"{end_time - start_time:.2f}\"\n",
        "\n",
        "metrics = {\n",
        "    \"model\": \"clusterGCN\",\n",
        "    \"accuracy\": test_acc,\n",
        "    \"f1_micro\":test_f1,\n",
        "    \"peak_memory_MB\": peak_memory_mb,\n",
        "    \"train_time_sec\": total_train_time,\n",
        "    \"mem_MB\":peak_memory_mb\n",
        "}\n",
        "\n",
        "with open(\"clusterGCN_Amazon_results.json\", \"w\") as f:\n",
        "    json.dump(metrics, f)"
      ],
      "metadata": {
        "id": "MjuBc24QfqKN"
      },
      "execution_count": null,
      "outputs": []
    },
    {
      "cell_type": "code",
      "source": [
        "import pandas as pd\n",
        "\n",
        "# Example results (replace with your actual values)\n",
        "results = [\n",
        "    # dataset, method, accuracy, training_time (s), peak_memory (MB), num_subgraphs, avg_subgraph_memory\n",
        "    (\"Cora\", \"Custom\", 0.78, 1.94, 70.48, 152,7.45),\n",
        "    (\"Cora\", \"METIS\", 0.78, 2.87, 70.69, 128, 14.89),\n",
        "    (\"Cora\", \"Custom-2\", 0.78, 1.89, 168.80, 147, 7.45),\n",
        "\n",
        "    (\"Pubmed\", \"Custom\", 0.76, 6.65, 159.85, 295,12.78),\n",
        "    (\"Pubmed\", \"METIS\", 0.76, 6.39, 160.35, 128, 38.36),\n",
        "    (\"Pubmed\", \"Custom-2\", 0.75, 0.89, 297.64, 29, 38.36),\n",
        "\n",
        "    (\"Citeseer\", \"Custom\", 0.62, 9.00, 155.42, 880, 6.72),\n",
        "    (\"Citeseer\", \"METIS\", 0.65, 6.60, 170.18, 128, 47.08),\n",
        "    (\"Citeseer\", \"Custom-2\", 0.62, 8.20, 255.00, 860, 6.72),\n",
        "\n",
        "    (\"Amazon\", \"Custom\", 0.74, 5.08, 427.28, 388, 11.01),\n",
        "    (\"Amazon\", \"Custom-2\", 0.83, 4.18, 474.98, 361, 14.68),\n",
        "    (\"Amazon\", \"METIS\", 0.85, 9.26, 426.65, 128, 44.04),\n",
        "]\n",
        "\n",
        "df = pd.DataFrame(results, columns=[\"Dataset\", \"Method\", \"Accuracy\", \"TrainingTime\", \"PeakMemory\", \"SubgraphCount\", \"AVG_Subgraph_Mem\"])\n",
        "import seaborn as sns\n",
        "import matplotlib.pyplot as plt\n",
        "\n",
        "sns.set(style=\"whitegrid\")\n",
        "plt.figure(figsize=(12, 6))\n",
        "sns.barplot(data=df, x=\"Dataset\", y=\"Accuracy\", hue=\"Method\")\n",
        "plt.title(\"Accuracy by Dataset and Method\")\n",
        "plt.ylim(0.6, 1.0)\n",
        "plt.show()\n",
        "\n",
        "plt.figure(figsize=(12, 6))\n",
        "sns.barplot(data=df, x=\"Dataset\", y=\"TrainingTime\", hue=\"Method\")\n",
        "plt.title(\"Training Time by Dataset and Method\")\n",
        "plt.ylabel(\"Training Time (seconds)\")\n",
        "plt.show()\n",
        "\n",
        "plt.figure(figsize=(12, 6))\n",
        "sns.barplot(data=df, x=\"Dataset\", y=\"PeakMemory\", hue=\"Method\")\n",
        "plt.title(\"Peak Memory Usage by Dataset and Method\")\n",
        "plt.ylabel(\"Peak Memory (MB)\")\n",
        "plt.show()\n",
        "\n",
        "plt.figure(figsize=(12, 6))\n",
        "sns.barplot(data=df, x=\"Dataset\", y=\"AVG_Subgraph_Mem\", hue=\"Method\")\n",
        "plt.title(\"avg subgraph Memory  Usage by Dataset and Method\")\n",
        "plt.ylabel(\"AVG_Subgraph_Mem\")\n",
        "plt.show()\n",
        "\n",
        "plt.figure(figsize=(10, 6))\n",
        "sns.lineplot(data=df, x=\"SubgraphCount\", y=\"TrainingTime\", hue=\"Dataset\", style=\"Method\", markers=True)\n",
        "plt.title(\"Training Time vs. Subgraph Count\")\n",
        "plt.xlabel(\"Subgraph Count\")\n",
        "plt.ylabel(\"Training Time (s)\")\n",
        "plt.show()\n",
        "# Create pivot for heatmap\n",
        "heatmap_df = df.pivot_table(index=\"Dataset\", columns=\"Method\", values=\"Accuracy\")\n",
        "\n",
        "plt.figure(figsize=(8, 5))\n",
        "sns.heatmap(heatmap_df, annot=True, fmt=\".3f\", cmap=\"YlGnBu\")\n",
        "plt.title(\"Accuracy Heatmap: Custom vs. METIS\")\n",
        "plt.show()\n"
      ],
      "metadata": {
        "id": "andXw5ZUtzon",
        "outputId": "d0bee438-ce88-48f1-8453-b7f43c46299c",
        "colab": {
          "base_uri": "https://localhost:8080/",
          "height": 1000
        }
      },
      "execution_count": 23,
      "outputs": [
        {
          "output_type": "display_data",
          "data": {
            "text/plain": [
              "<Figure size 1200x600 with 1 Axes>"
            ],
            "image/png": "[encoded data removed]"
          },
          "metadata": {}
        },
        {
          "output_type": "display_data",
          "data": {
            "text/plain": [
              "<Figure size 1200x600 with 1 Axes>"
            ],
            "image/png": "[encoded data removed]"
          },
          "metadata": {}
        },
        {
          "output_type": "display_data",
          "data": {
            "text/plain": [
              "<Figure size 1200x600 with 1 Axes>"
            ],
            "image/png": "[encoded data removed]"
          },
          "metadata": {}
        },
        {
          "output_type": "display_data",
          "data": {
            "text/plain": [
              "<Figure size 1200x600 with 1 Axes>"
            ],
            "image/png": "[encoded data removed]"
          },
          "metadata": {}
        },
        {
          "output_type": "display_data",
          "data": {
            "text/plain": [
              "<Figure size 1000x600 with 1 Axes>"
            ],
            "image/png": "[encoded data removed]"
          },
          "metadata": {}
        },
        {
          "output_type": "display_data",
          "data": {
            "text/plain": [
              "<Figure size 800x500 with 2 Axes>"
            ],
            "image/png": "[encoded data removed]"
          },
          "metadata": {}
        }
      ]
    },
    {
      "cell_type": "code",
      "source": [
        "import pandas as pd\n",
        "import numpy as np\n",
        "import seaborn as sns\n",
        "import matplotlib.pyplot as plt\n",
        "from sklearn.metrics.pairwise import cosine_similarity\n",
        "\n",
        "# Step 1: Create fake numeric data\n",
        "np.random.seed(0)\n",
        "\n",
        "features = data.x.cpu().numpy()  # Shape: (num_nodes, num_features)\n",
        "df = pd.DataFrame(features)\n",
        "# Step 2: Compute correlation/similarity matrices\n",
        "df_numeric = df.select_dtypes(include=['number'])\n",
        "\n",
        "correlations = {\n",
        "    'Pearson': df_numeric.corr(method='pearson'),\n",
        "    'Spearman': df_numeric.corr(method='spearman'),\n",
        "    'Kendall': df_numeric.corr(method='kendall'),\n",
        "    'Cosine': pd.DataFrame(\n",
        "        cosine_similarity(df_numeric.T),\n",
        "        index=df_numeric.columns,\n",
        "        columns=df_numeric.columns\n",
        "    )\n",
        "}\n",
        "\n",
        "# Step 3: Plot heatmaps\n",
        "fig, axes = plt.subplots(2, 2, figsize=(16, 12))\n",
        "axes = axes.flatten()\n",
        "\n",
        "for ax, (name, corr_matrix) in zip(axes, correlations.items()):\n",
        "    sns.heatmap(corr_matrix, ax=ax, cmap='coolwarm', annot=True, fmt=\".2f\", square=True, cbar=False)\n",
        "    ax.set_title(f'{name} Correlation Matrix', fontsize=14)\n",
        "\n",
        "plt.tight_layout()\n",
        "plt.show()\n"
      ],
      "metadata": {
        "id": "Ks5ZMCsHxGqD",
        "outputId": "eaadbfbc-9759-4a67-9bcb-1858db2e0186",
        "colab": {
          "base_uri": "https://localhost:8080/",
          "height": 373
        }
      },
      "execution_count": 24,
      "outputs": [
        {
          "output_type": "error",
          "ename": "KeyboardInterrupt",
          "evalue": "",
          "traceback": [
            "\u001b[0;31m---------------------------------------------------------------------------\u001b[0m",
            "\u001b[0;31mKeyboardInterrupt\u001b[0m                         Traceback (most recent call last)",
            "\u001b[0;32m/tmp/ipython-input-24-1572998152.py\u001b[0m in \u001b[0;36m<cell line: 0>\u001b[0;34m()\u001b[0m\n\u001b[1;32m     16\u001b[0m     \u001b[0;34m'Pearson'\u001b[0m\u001b[0;34m:\u001b[0m \u001b[0mdf_numeric\u001b[0m\u001b[0;34m.\u001b[0m\u001b[0mcorr\u001b[0m\u001b[0;34m(\u001b[0m\u001b[0mmethod\u001b[0m\u001b[0;34m=\u001b[0m\u001b[0;34m'pearson'\u001b[0m\u001b[0;34m)\u001b[0m\u001b[0;34m,\u001b[0m\u001b[0;34m\u001b[0m\u001b[0;34m\u001b[0m\u001b[0m\n\u001b[1;32m     17\u001b[0m     \u001b[0;34m'Spearman'\u001b[0m\u001b[0;34m:\u001b[0m \u001b[0mdf_numeric\u001b[0m\u001b[0;34m.\u001b[0m\u001b[0mcorr\u001b[0m\u001b[0;34m(\u001b[0m\u001b[0mmethod\u001b[0m\u001b[0;34m=\u001b[0m\u001b[0;34m'spearman'\u001b[0m\u001b[0;34m)\u001b[0m\u001b[0;34m,\u001b[0m\u001b[0;34m\u001b[0m\u001b[0;34m\u001b[0m\u001b[0m\n\u001b[0;32m---> 18\u001b[0;31m     \u001b[0;34m'Kendall'\u001b[0m\u001b[0;34m:\u001b[0m \u001b[0mdf_numeric\u001b[0m\u001b[0;34m.\u001b[0m\u001b[0mcorr\u001b[0m\u001b[0;34m(\u001b[0m\u001b[0mmethod\u001b[0m\u001b[0;34m=\u001b[0m\u001b[0;34m'kendall'\u001b[0m\u001b[0;34m)\u001b[0m\u001b[0;34m,\u001b[0m\u001b[0;34m\u001b[0m\u001b[0;34m\u001b[0m\u001b[0m\n\u001b[0m\u001b[1;32m     19\u001b[0m     'Cosine': pd.DataFrame(\n\u001b[1;32m     20\u001b[0m         \u001b[0mcosine_similarity\u001b[0m\u001b[0;34m(\u001b[0m\u001b[0mdf_numeric\u001b[0m\u001b[0;34m.\u001b[0m\u001b[0mT\u001b[0m\u001b[0;34m)\u001b[0m\u001b[0;34m,\u001b[0m\u001b[0;34m\u001b[0m\u001b[0;34m\u001b[0m\u001b[0m\n",
            "\u001b[0;32m/usr/local/lib/python3.11/dist-packages/pandas/core/frame.py\u001b[0m in \u001b[0;36mcorr\u001b[0;34m(self, method, min_periods, numeric_only)\u001b[0m\n\u001b[1;32m  11074\u001b[0m                         \u001b[0mc\u001b[0m \u001b[0;34m=\u001b[0m \u001b[0mcorrf\u001b[0m\u001b[0;34m(\u001b[0m\u001b[0mac\u001b[0m\u001b[0;34m[\u001b[0m\u001b[0mvalid\u001b[0m\u001b[0;34m]\u001b[0m\u001b[0;34m,\u001b[0m \u001b[0mbc\u001b[0m\u001b[0;34m[\u001b[0m\u001b[0mvalid\u001b[0m\u001b[0;34m]\u001b[0m\u001b[0;34m)\u001b[0m\u001b[0;34m\u001b[0m\u001b[0;34m\u001b[0m\u001b[0m\n\u001b[1;32m  11075\u001b[0m                     \u001b[0;32melse\u001b[0m\u001b[0;34m:\u001b[0m\u001b[0;34m\u001b[0m\u001b[0;34m\u001b[0m\u001b[0m\n\u001b[0;32m> 11076\u001b[0;31m                         \u001b[0mc\u001b[0m \u001b[0;34m=\u001b[0m \u001b[0mcorrf\u001b[0m\u001b[0;34m(\u001b[0m\u001b[0mac\u001b[0m\u001b[0;34m,\u001b[0m \u001b[0mbc\u001b[0m\u001b[0;34m)\u001b[0m\u001b[0;34m\u001b[0m\u001b[0;34m\u001b[0m\u001b[0m\n\u001b[0m\u001b[1;32m  11077\u001b[0m                     \u001b[0mcorrel\u001b[0m\u001b[0;34m[\u001b[0m\u001b[0mi\u001b[0m\u001b[0;34m,\u001b[0m \u001b[0mj\u001b[0m\u001b[0;34m]\u001b[0m \u001b[0;34m=\u001b[0m \u001b[0mc\u001b[0m\u001b[0;34m\u001b[0m\u001b[0;34m\u001b[0m\u001b[0m\n\u001b[1;32m  11078\u001b[0m                     \u001b[0mcorrel\u001b[0m\u001b[0;34m[\u001b[0m\u001b[0mj\u001b[0m\u001b[0;34m,\u001b[0m \u001b[0mi\u001b[0m\u001b[0;34m]\u001b[0m \u001b[0;34m=\u001b[0m \u001b[0mc\u001b[0m\u001b[0;34m\u001b[0m\u001b[0;34m\u001b[0m\u001b[0m\n",
            "\u001b[0;32m/usr/local/lib/python3.11/dist-packages/pandas/core/nanops.py\u001b[0m in \u001b[0;36mfunc\u001b[0;34m(a, b)\u001b[0m\n\u001b[1;32m   1623\u001b[0m \u001b[0;34m\u001b[0m\u001b[0m\n\u001b[1;32m   1624\u001b[0m         \u001b[0;32mdef\u001b[0m \u001b[0mfunc\u001b[0m\u001b[0;34m(\u001b[0m\u001b[0ma\u001b[0m\u001b[0;34m,\u001b[0m \u001b[0mb\u001b[0m\u001b[0;34m)\u001b[0m\u001b[0;34m:\u001b[0m\u001b[0;34m\u001b[0m\u001b[0;34m\u001b[0m\u001b[0m\n\u001b[0;32m-> 1625\u001b[0;31m             \u001b[0;32mreturn\u001b[0m \u001b[0mkendalltau\u001b[0m\u001b[0;34m(\u001b[0m\u001b[0ma\u001b[0m\u001b[0;34m,\u001b[0m \u001b[0mb\u001b[0m\u001b[0;34m)\u001b[0m\u001b[0;34m[\u001b[0m\u001b[0;36m0\u001b[0m\u001b[0;34m]\u001b[0m\u001b[0;34m\u001b[0m\u001b[0;34m\u001b[0m\u001b[0m\n\u001b[0m\u001b[1;32m   1626\u001b[0m \u001b[0;34m\u001b[0m\u001b[0m\n\u001b[1;32m   1627\u001b[0m         \u001b[0;32mreturn\u001b[0m \u001b[0mfunc\u001b[0m\u001b[0;34m\u001b[0m\u001b[0;34m\u001b[0m\u001b[0m\n",
            "\u001b[0;32m/usr/local/lib/python3.11/dist-packages/scipy/stats/_stats_py.py\u001b[0m in \u001b[0;36mkendalltau\u001b[0;34m(x, y, nan_policy, method, variant, alternative)\u001b[0m\n\u001b[1;32m   5567\u001b[0m \u001b[0;34m\u001b[0m\u001b[0m\n\u001b[1;32m   5568\u001b[0m     \u001b[0msize\u001b[0m \u001b[0;34m=\u001b[0m \u001b[0mx\u001b[0m\u001b[0;34m.\u001b[0m\u001b[0msize\u001b[0m\u001b[0;34m\u001b[0m\u001b[0;34m\u001b[0m\u001b[0m\n\u001b[0;32m-> 5569\u001b[0;31m     \u001b[0mperm\u001b[0m \u001b[0;34m=\u001b[0m \u001b[0mnp\u001b[0m\u001b[0;34m.\u001b[0m\u001b[0margsort\u001b[0m\u001b[0;34m(\u001b[0m\u001b[0my\u001b[0m\u001b[0;34m)\u001b[0m  \u001b[0;31m# sort on y and convert y to dense ranks\u001b[0m\u001b[0;34m\u001b[0m\u001b[0;34m\u001b[0m\u001b[0m\n\u001b[0m\u001b[1;32m   5570\u001b[0m     \u001b[0mx\u001b[0m\u001b[0;34m,\u001b[0m \u001b[0my\u001b[0m \u001b[0;34m=\u001b[0m \u001b[0mx\u001b[0m\u001b[0;34m[\u001b[0m\u001b[0mperm\u001b[0m\u001b[0;34m]\u001b[0m\u001b[0;34m,\u001b[0m \u001b[0my\u001b[0m\u001b[0;34m[\u001b[0m\u001b[0mperm\u001b[0m\u001b[0;34m]\u001b[0m\u001b[0;34m\u001b[0m\u001b[0;34m\u001b[0m\u001b[0m\n\u001b[1;32m   5571\u001b[0m     \u001b[0my\u001b[0m \u001b[0;34m=\u001b[0m \u001b[0mnp\u001b[0m\u001b[0;34m.\u001b[0m\u001b[0mr_\u001b[0m\u001b[0;34m[\u001b[0m\u001b[0;32mTrue\u001b[0m\u001b[0;34m,\u001b[0m \u001b[0my\u001b[0m\u001b[0;34m[\u001b[0m\u001b[0;36m1\u001b[0m\u001b[0;34m:\u001b[0m\u001b[0;34m]\u001b[0m \u001b[0;34m!=\u001b[0m \u001b[0my\u001b[0m\u001b[0;34m[\u001b[0m\u001b[0;34m:\u001b[0m\u001b[0;34m-\u001b[0m\u001b[0;36m1\u001b[0m\u001b[0;34m]\u001b[0m\u001b[0;34m]\u001b[0m\u001b[0;34m.\u001b[0m\u001b[0mcumsum\u001b[0m\u001b[0;34m(\u001b[0m\u001b[0mdtype\u001b[0m\u001b[0;34m=\u001b[0m\u001b[0mnp\u001b[0m\u001b[0;34m.\u001b[0m\u001b[0mintp\u001b[0m\u001b[0;34m)\u001b[0m\u001b[0;34m\u001b[0m\u001b[0;34m\u001b[0m\u001b[0m\n",
            "\u001b[0;32m/usr/local/lib/python3.11/dist-packages/numpy/_core/fromnumeric.py\u001b[0m in \u001b[0;36margsort\u001b[0;34m(a, axis, kind, order, stable)\u001b[0m\n\u001b[1;32m   1198\u001b[0m \u001b[0;34m\u001b[0m\u001b[0m\n\u001b[1;32m   1199\u001b[0m     \"\"\"\n\u001b[0;32m-> 1200\u001b[0;31m     return _wrapfunc(\n\u001b[0m\u001b[1;32m   1201\u001b[0m         \u001b[0ma\u001b[0m\u001b[0;34m,\u001b[0m \u001b[0;34m'argsort'\u001b[0m\u001b[0;34m,\u001b[0m \u001b[0maxis\u001b[0m\u001b[0;34m=\u001b[0m\u001b[0maxis\u001b[0m\u001b[0;34m,\u001b[0m \u001b[0mkind\u001b[0m\u001b[0;34m=\u001b[0m\u001b[0mkind\u001b[0m\u001b[0;34m,\u001b[0m \u001b[0morder\u001b[0m\u001b[0;34m=\u001b[0m\u001b[0morder\u001b[0m\u001b[0;34m,\u001b[0m \u001b[0mstable\u001b[0m\u001b[0;34m=\u001b[0m\u001b[0mstable\u001b[0m\u001b[0;34m\u001b[0m\u001b[0;34m\u001b[0m\u001b[0m\n\u001b[1;32m   1202\u001b[0m     )\n",
            "\u001b[0;32m/usr/local/lib/python3.11/dist-packages/numpy/_core/fromnumeric.py\u001b[0m in \u001b[0;36m_wrapfunc\u001b[0;34m(obj, method, *args, **kwds)\u001b[0m\n\u001b[1;32m     55\u001b[0m \u001b[0;34m\u001b[0m\u001b[0m\n\u001b[1;32m     56\u001b[0m     \u001b[0;32mtry\u001b[0m\u001b[0;34m:\u001b[0m\u001b[0;34m\u001b[0m\u001b[0;34m\u001b[0m\u001b[0m\n\u001b[0;32m---> 57\u001b[0;31m         \u001b[0;32mreturn\u001b[0m \u001b[0mbound\u001b[0m\u001b[0;34m(\u001b[0m\u001b[0;34m*\u001b[0m\u001b[0margs\u001b[0m\u001b[0;34m,\u001b[0m \u001b[0;34m**\u001b[0m\u001b[0mkwds\u001b[0m\u001b[0;34m)\u001b[0m\u001b[0;34m\u001b[0m\u001b[0;34m\u001b[0m\u001b[0m\n\u001b[0m\u001b[1;32m     58\u001b[0m     \u001b[0;32mexcept\u001b[0m \u001b[0mTypeError\u001b[0m\u001b[0;34m:\u001b[0m\u001b[0;34m\u001b[0m\u001b[0;34m\u001b[0m\u001b[0m\n\u001b[1;32m     59\u001b[0m         \u001b[0;31m# A TypeError occurs if the object does have such a method in its\u001b[0m\u001b[0;34m\u001b[0m\u001b[0;34m\u001b[0m\u001b[0m\n",
            "\u001b[0;31mKeyboardInterrupt\u001b[0m: "
          ]
        }
      ]
    }
  ]
}