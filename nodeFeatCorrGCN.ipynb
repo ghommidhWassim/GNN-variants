{
  "nbformat": 4,
  "nbformat_minor": 0,
  "metadata": {
    "colab": {
      "provenance": [],
      "gpuType": "T4",
      "include_colab_link": true
    },
    "kernelspec": {
      "name": "python3",
      "display_name": "Python 3"
    },
    "language_info": {
      "name": "python"
    },
    "accelerator": "GPU"
  },
  "cells": [
    {
      "cell_type": "markdown",
      "metadata": {
        "id": "view-in-github",
        "colab_type": "text"
      },
      "source": [
        "<a href=\"https://colab.research.google.com/github/ghommidhWassim/GNN-variants/blob/main/nodeFeatCorrGCN.ipynb\" target=\"_parent\"><img src=\"https://colab.research.google.com/assets/colab-badge.svg\" alt=\"Open In Colab\"/></a>"
      ]
    },
    {
      "cell_type": "code",
      "execution_count": 1,
      "metadata": {
        "colab": {
          "base_uri": "https://localhost:8080/"
        },
        "id": "qZOSwsC8Mjpt",
        "outputId": "9edb9988-0efa-441e-ea69-b527fbc1cf1e"
      },
      "outputs": [
        {
          "output_type": "stream",
          "name": "stdout",
          "text": [
            "  Installing build dependencies ... \u001b[?25l\u001b[?25hdone\n",
            "  Getting requirements to build wheel ... \u001b[?25l\u001b[?25hdone\n",
            "  Preparing metadata (pyproject.toml) ... \u001b[?25l\u001b[?25hdone\n",
            "2.6.0+cu124\n",
            "12.4\n",
            "Requirement already satisfied: torchvision in /usr/local/lib/python3.11/dist-packages (0.21.0+cu124)\n",
            "Requirement already satisfied: numpy in /usr/local/lib/python3.11/dist-packages (from torchvision) (2.0.2)\n",
            "Requirement already satisfied: torch==2.6.0 in /usr/local/lib/python3.11/dist-packages (from torchvision) (2.6.0+cu124)\n",
            "Requirement already satisfied: pillow!=8.3.*,>=5.3.0 in /usr/local/lib/python3.11/dist-packages (from torchvision) (11.2.1)\n",
            "Requirement already satisfied: filelock in /usr/local/lib/python3.11/dist-packages (from torch==2.6.0->torchvision) (3.18.0)\n",
            "Requirement already satisfied: typing-extensions>=4.10.0 in /usr/local/lib/python3.11/dist-packages (from torch==2.6.0->torchvision) (4.14.1)\n",
            "Requirement already satisfied: networkx in /usr/local/lib/python3.11/dist-packages (from torch==2.6.0->torchvision) (3.5)\n",
            "Requirement already satisfied: jinja2 in /usr/local/lib/python3.11/dist-packages (from torch==2.6.0->torchvision) (3.1.6)\n",
            "Requirement already satisfied: fsspec in /usr/local/lib/python3.11/dist-packages (from torch==2.6.0->torchvision) (2025.3.2)\n",
            "Requirement already satisfied: nvidia-cuda-nvrtc-cu12==12.4.127 in /usr/local/lib/python3.11/dist-packages (from torch==2.6.0->torchvision) (12.4.127)\n",
            "Requirement already satisfied: nvidia-cuda-runtime-cu12==12.4.127 in /usr/local/lib/python3.11/dist-packages (from torch==2.6.0->torchvision) (12.4.127)\n",
            "Requirement already satisfied: nvidia-cuda-cupti-cu12==12.4.127 in /usr/local/lib/python3.11/dist-packages (from torch==2.6.0->torchvision) (12.4.127)\n",
            "Requirement already satisfied: nvidia-cudnn-cu12==9.1.0.70 in /usr/local/lib/python3.11/dist-packages (from torch==2.6.0->torchvision) (9.1.0.70)\n",
            "Requirement already satisfied: nvidia-cublas-cu12==12.4.5.8 in /usr/local/lib/python3.11/dist-packages (from torch==2.6.0->torchvision) (12.4.5.8)\n",
            "Requirement already satisfied: nvidia-cufft-cu12==11.2.1.3 in /usr/local/lib/python3.11/dist-packages (from torch==2.6.0->torchvision) (11.2.1.3)\n",
            "Requirement already satisfied: nvidia-curand-cu12==10.3.5.147 in /usr/local/lib/python3.11/dist-packages (from torch==2.6.0->torchvision) (10.3.5.147)\n",
            "Requirement already satisfied: nvidia-cusolver-cu12==11.6.1.9 in /usr/local/lib/python3.11/dist-packages (from torch==2.6.0->torchvision) (11.6.1.9)\n",
            "Requirement already satisfied: nvidia-cusparse-cu12==12.3.1.170 in /usr/local/lib/python3.11/dist-packages (from torch==2.6.0->torchvision) (12.3.1.170)\n",
            "Requirement already satisfied: nvidia-cusparselt-cu12==0.6.2 in /usr/local/lib/python3.11/dist-packages (from torch==2.6.0->torchvision) (0.6.2)\n",
            "Requirement already satisfied: nvidia-nccl-cu12==2.21.5 in /usr/local/lib/python3.11/dist-packages (from torch==2.6.0->torchvision) (2.21.5)\n",
            "Requirement already satisfied: nvidia-nvtx-cu12==12.4.127 in /usr/local/lib/python3.11/dist-packages (from torch==2.6.0->torchvision) (12.4.127)\n",
            "Requirement already satisfied: nvidia-nvjitlink-cu12==12.4.127 in /usr/local/lib/python3.11/dist-packages (from torch==2.6.0->torchvision) (12.4.127)\n",
            "Requirement already satisfied: triton==3.2.0 in /usr/local/lib/python3.11/dist-packages (from torch==2.6.0->torchvision) (3.2.0)\n",
            "Requirement already satisfied: sympy==1.13.1 in /usr/local/lib/python3.11/dist-packages (from torch==2.6.0->torchvision) (1.13.1)\n",
            "Requirement already satisfied: mpmath<1.4,>=1.1.0 in /usr/local/lib/python3.11/dist-packages (from sympy==1.13.1->torch==2.6.0->torchvision) (1.3.0)\n",
            "Requirement already satisfied: MarkupSafe>=2.0 in /usr/local/lib/python3.11/dist-packages (from jinja2->torch==2.6.0->torchvision) (3.0.2)\n",
            "Looking in links: https://data.pyg.org/whl/torch-2.6.0+cu124.html\n",
            "Requirement already satisfied: pyg_lib in /usr/local/lib/python3.11/dist-packages (0.4.0+pt26cu124)\n",
            "Requirement already satisfied: torch_scatter in /usr/local/lib/python3.11/dist-packages (2.1.2+pt26cu124)\n",
            "Requirement already satisfied: torch_sparse in /usr/local/lib/python3.11/dist-packages (0.6.18+pt26cu124)\n",
            "Requirement already satisfied: torch_cluster in /usr/local/lib/python3.11/dist-packages (1.6.3+pt26cu124)\n",
            "Requirement already satisfied: torch_spline_conv in /usr/local/lib/python3.11/dist-packages (1.2.2+pt26cu124)\n",
            "Requirement already satisfied: scipy in /usr/local/lib/python3.11/dist-packages (from torch_sparse) (1.15.3)\n",
            "Requirement already satisfied: numpy<2.5,>=1.23.5 in /usr/local/lib/python3.11/dist-packages (from scipy->torch_sparse) (2.0.2)\n"
          ]
        }
      ],
      "source": [
        "!pip install -q git+https://github.com/pyg-team/pytorch_geometric.git\n",
        "!python -c \"import torch; print(torch.__version__)\"\n",
        "!python -c \"import torch; print(torch.version.cuda)\"\n",
        "!pip install torchvision\n",
        "!pip install pyg_lib torch_scatter torch_sparse torch_cluster torch_spline_conv -f https://data.pyg.org/whl/torch-2.6.0+cu124.html\n"
      ]
    },
    {
      "cell_type": "code",
      "source": [
        "# Standard libraries\n",
        "import numpy as np\n",
        "from scipy import sparse\n",
        "import seaborn as sns\n",
        "import pandas as pd\n",
        "import time\n",
        "import json\n",
        "# Plotting libraries\n",
        "import matplotlib.pyplot as plt\n",
        "import networkx as nx\n",
        "from matplotlib import cm\n",
        "from IPython.display import Javascript  # Restrict height of output cell.\n",
        "\n",
        "# PyTorch\n",
        "import torch\n",
        "import torch.nn.functional as F\n",
        "from torch.nn import Linear\n",
        "import torch.nn as nn\n",
        "from torch_sparse import spmm\n",
        "# import pyg_lib\n",
        "import torch_sparse\n",
        "from torch_geometric.utils import to_networkx\n",
        "from sklearn.metrics import f1_score\n",
        "\n",
        "# PyTorch geometric\n",
        "from torch_geometric.nn import GCNConv\n",
        "from torch_geometric.datasets import Planetoid,Amazon\n",
        "from torch_geometric.loader import ClusterData, ClusterLoader\n",
        "from torch_geometric.transforms import NormalizeFeatures, RandomNodeSplit\n",
        "import torch_geometric.transforms as T\n",
        "from torch_geometric.data import Data\n",
        "from torch_geometric import seed_everything\n",
        "from torch.profiler import profile, record_function, ProfilerActivity\n",
        "import os.path as osp\n",
        "from torch_geometric.datasets import Planetoid\n",
        "from torch_geometric.loader import NeighborLoader\n",
        "from torch_geometric.nn import GraphSAGE\n",
        "from sklearn.metrics import accuracy_score\n",
        "from transformers import AutoModelForCausalLM\n",
        "from torch.profiler import profile, record_function, ProfilerActivity"
      ],
      "metadata": {
        "id": "Q0y6VyZAMzYu"
      },
      "execution_count": 3,
      "outputs": []
    },
    {
      "cell_type": "code",
      "source": [
        "def clean_gpu_memory():\n",
        "    \"\"\"Cleans GPU memory without fully resetting the CUDA context\"\"\"\n",
        "    import gc\n",
        "    gc.collect()  # Python garbage collection\n",
        "    if torch.cuda.is_available():\n",
        "        torch.cuda.empty_cache()  # PyTorch cache\n",
        "        torch.cuda.reset_peak_memory_stats()  # Reset tracking\n",
        "        print(f\"Memory after cleanup: {torch.cuda.memory_allocated()/1024**2:.2f} MB\")\n",
        "\n",
        "def f1_micro(data, mask):\n",
        "    model.eval()\n",
        "    out = model(data.x.to(device), data.edge_index.to(device))\n",
        "    pred = out.argmax(dim=1)\n",
        "    y_true = data.y[mask].cpu().numpy()\n",
        "    y_pred = pred[mask.to(device)].cpu().numpy()\n",
        "    return f1_score(y_true, y_pred, average='micro')\n"
      ],
      "metadata": {
        "id": "q5vzbaLgWcBv"
      },
      "execution_count": 4,
      "outputs": []
    },
    {
      "cell_type": "code",
      "source": [
        "device = torch.device('cuda' if torch.cuda.is_available() else 'cpu')\n",
        "print(f\"Initial allocated memory: {torch.cuda.memory_allocated() / (1024**2):.2f} MB\")\n",
        "\n",
        "def dataset_load():\n",
        "  print(f\"Using device: {device}\")\n",
        "  dataset = Planetoid(root='data/Planetoid', name='PubMed', transform=NormalizeFeatures())\n",
        "  num_features = dataset.num_features\n",
        "  num_classes = dataset.num_classes\n",
        "  data = dataset[0].to(device)  # Get the first graph object.\n",
        "  return num_features, data, num_classes, device,dataset"
      ],
      "metadata": {
        "colab": {
          "base_uri": "https://localhost:8080/"
        },
        "id": "K_VYH5nBNHXl",
        "outputId": "f459c984-80f0-4f46-ba4d-727d9ae935ee"
      },
      "execution_count": 5,
      "outputs": [
        {
          "output_type": "stream",
          "name": "stdout",
          "text": [
            "Initial allocated memory: 0.00 MB\n"
          ]
        }
      ]
    },
    {
      "cell_type": "code",
      "source": [
        "num_features, data, num_classes, device, dataset = dataset_load()\n",
        "print(f'Number of nodes:          {data.num_nodes}')\n",
        "print(f'Number of edges:          {data.num_edges}')\n",
        "print(f'Average node degree:      {data.num_edges / data.num_nodes:.2f}')\n",
        "print(f'Number of training nodes: {data.train_mask.sum()}')\n",
        "print(f'Training node label rate: {int(data.train_mask.sum()) / data.num_nodes:.3f}')\n",
        "print(f'Has isolated nodes:       {data.has_isolated_nodes()}')\n",
        "print(f'Has self-loops:           {data.has_self_loops()}')\n",
        "print(f'Is undirected:            {data.is_undirected()}')"
      ],
      "metadata": {
        "colab": {
          "base_uri": "https://localhost:8080/"
        },
        "id": "O328-q0NNMAQ",
        "outputId": "8d7f8af1-b49b-4e8b-c454-1bb473a56a53"
      },
      "execution_count": 6,
      "outputs": [
        {
          "output_type": "stream",
          "name": "stdout",
          "text": [
            "Using device: cuda\n",
            "Number of nodes:          19717\n",
            "Number of edges:          88648\n",
            "Average node degree:      4.50\n",
            "Number of training nodes: 60\n",
            "Training node label rate: 0.003\n",
            "Has isolated nodes:       False\n",
            "Has self-loops:           False\n",
            "Is undirected:            True\n"
          ]
        }
      ]
    },
    {
      "cell_type": "code",
      "source": [
        "class GCN(torch.nn.Module):\n",
        "  def __init__(self, hidden_channels):\n",
        "    super().__init__()\n",
        "    self.conv1 = GCNConv(num_features, hidden_channels)\n",
        "    self.conv2 = GCNConv(hidden_channels, num_classes)\n",
        "\n",
        "  def forward(self, x, edge_index):\n",
        "    x = self.conv1(x, edge_index)\n",
        "    x = x.relu()\n",
        "    x = F.dropout(x, p=0.5, training=self.training)\n",
        "    x = self.conv2(x, edge_index)\n",
        "    return F.log_softmax(x, dim=-1)"
      ],
      "metadata": {
        "id": "lPsgIR3oNUFn"
      },
      "execution_count": 7,
      "outputs": []
    },
    {
      "cell_type": "code",
      "source": [
        "def train(data, mask):\n",
        "  model.train()\n",
        "  optimizer.zero_grad()  # Clear gradients.\n",
        "  out = model(data.x, data.edge_index)  # Perform a single forward pass.\n",
        "  loss = criterion(out[mask], data.y[mask])  # Compute the loss solely based on the training nodes.\n",
        "  loss.backward()  # Derive gradients.\n",
        "  optimizer.step()  # Update parameters based on gradients.\n",
        "  return loss\n",
        "\n",
        "def test(data, mask):\n",
        "  model.eval()\n",
        "  out = model(data.x.to(device), data.edge_index.to(device))\n",
        "  pred = out.argmax(dim=1)\n",
        "  correct = pred[mask.to(device)] == data.y[mask.to(device)]\n",
        "  acc = int(correct.sum()) / int(mask.sum())\n",
        "  return acc"
      ],
      "metadata": {
        "id": "HHEgYQ9fNWg6"
      },
      "execution_count": 8,
      "outputs": []
    },
    {
      "cell_type": "code",
      "source": [
        "import torch\n",
        "from torch_geometric.utils import subgraph, to_networkx\n",
        "import numpy as np\n",
        "from scipy.stats import pearsonr\n",
        "from sklearn.metrics.pairwise import cosine_similarity\n",
        "\n",
        "def compute_corr_matrix(features):\n",
        "    # features: [num_nodes, num_features] numpy array\n",
        "    norm_features = features / (np.linalg.norm(features, axis=1, keepdims=True) + 1e-8)\n",
        "    corr_matrix = cosine_similarity(norm_features)\n",
        "    return corr_matrix\n",
        "\n",
        "def select_least_correlated_nodes(nodes_idx, features_np, num_select):\n",
        "    # nodes_idx: list of node indices (int) to consider neighbors for\n",
        "    # features_np: numpy array of features of those nodes\n",
        "    n = len(nodes_idx)\n",
        "    corr_matrix = compute_corr_matrix(features_np)\n",
        "\n",
        "    selected_indices = set()\n",
        "    for i in range(n):\n",
        "        # sort neighbors by ascending correlation (less correlated first)\n",
        "        corr_values = corr_matrix[i]\n",
        "        sorted_indices = np.argsort(np.abs(corr_values))  # abs because correlation ranges [-1,1]\n",
        "        # remove self index\n",
        "        sorted_indices = sorted_indices[sorted_indices != i]\n",
        "\n",
        "        # select top-k least correlated neighbors (or all available)\n",
        "        k = min(num_select, len(sorted_indices))\n",
        "        for idx in sorted_indices[:k]:\n",
        "            selected_indices.add(nodes_idx[idx])\n",
        "    return list(selected_indices)\n",
        "\n",
        "def custom_partition(data, num_neighbors=4, num_hops=2):\n",
        "    all_nodes = set(range(data.num_nodes))\n",
        "    used_nodes = set()\n",
        "    subgraphs = []\n",
        "\n",
        "    x_np = data.x.cpu().numpy()\n",
        "\n",
        "    while len(used_nodes) < data.num_nodes:\n",
        "        # Remaining nodes to pick from\n",
        "        candidate_nodes = list(all_nodes - used_nodes)\n",
        "        if not candidate_nodes:\n",
        "            break\n",
        "\n",
        "        # Pick a random seed node not used yet\n",
        "        seed = np.random.choice(candidate_nodes)\n",
        "        current_hop_nodes = [seed]\n",
        "        selected_nodes = set([seed])  # Include starting node\n",
        "\n",
        "        for hop in range(num_hops):\n",
        "            neighbors = []\n",
        "            # get neighbors of current hop nodes\n",
        "            for node in current_hop_nodes:\n",
        "                neigh = data.edge_index[1][data.edge_index[0] == node].cpu().numpy()\n",
        "                neighbors.extend(neigh.tolist())\n",
        "            neighbors = list(set(neighbors) - used_nodes - selected_nodes)\n",
        "            if not neighbors:\n",
        "                break\n",
        "\n",
        "            # get features of neighbors and current hop nodes combined\n",
        "            nodes_to_consider = current_hop_nodes + neighbors\n",
        "            feats = x_np[nodes_to_consider]\n",
        "\n",
        "            # select least correlated neighbors among neighbors\n",
        "            selected_neighbors = select_least_correlated_nodes(neighbors, x_np[neighbors], num_neighbors)\n",
        "\n",
        "            selected_nodes.update(selected_neighbors)\n",
        "            current_hop_nodes = selected_neighbors\n",
        "\n",
        "        used_nodes.update(selected_nodes)\n",
        "\n",
        "        # Build subgraph with selected nodes\n",
        "        sub_nodes = list(selected_nodes)\n",
        "        edge_index_sub, _ = subgraph(sub_nodes, data.edge_index, relabel_nodes=True, num_nodes=data.num_nodes)\n",
        "\n",
        "        x_sub = data.x[sub_nodes]\n",
        "        y_sub = data.y[sub_nodes]\n",
        "        mask_sub = {}\n",
        "        for key in ['train_mask', 'val_mask', 'test_mask']:\n",
        "            if hasattr(data, key):\n",
        "                mask = getattr(data, key)\n",
        "                mask_sub[key] = mask[sub_nodes]\n",
        "\n",
        "        subgraph_data = Data(\n",
        "            x=x_sub,\n",
        "            edge_index=edge_index_sub,\n",
        "            y=y_sub,\n",
        "            **mask_sub\n",
        "        )\n",
        "        subgraphs.append(subgraph_data)\n",
        "\n",
        "    return subgraphs\n"
      ],
      "metadata": {
        "id": "k_T9ZMfUg7Ej"
      },
      "execution_count": 9,
      "outputs": []
    },
    {
      "cell_type": "code",
      "source": [
        "subgraphs = custom_partition(data, num_neighbors=128, num_hops=32)\n",
        "\n",
        "from torch_geometric.loader import DataLoader\n",
        "loader = DataLoader(subgraphs, batch_size=128, shuffle=True,num_workers=2)\n"
      ],
      "metadata": {
        "id": "-P1I3AuKg_BX"
      },
      "execution_count": null,
      "outputs": []
    },
    {
      "cell_type": "code",
      "source": [
        "def avg_neighbors_per_node(subgraphs):\n",
        "    total_neighbors = 0\n",
        "    total_nodes = 0\n",
        "\n",
        "    for g in subgraphs:\n",
        "        edge_index = g.edge_index\n",
        "        num_nodes = g.num_nodes\n",
        "        num_edges = edge_index.size(1)\n",
        "        # Each edge connects two nodes, but we count for undirected graph\n",
        "        total_neighbors += num_edges\n",
        "        total_nodes += num_nodes\n",
        "\n",
        "    avg = total_neighbors / total_nodes\n",
        "    print(f\"Average neighbors per node: {avg:.2f}\")\n",
        "    return avg\n",
        "avg_neighbors_per_node(subgraphs)\n",
        "print(f\"Number of subgraphs: {len(subgraphs)}\")\n"
      ],
      "metadata": {
        "id": "ABqsSNDkmxj7",
        "outputId": "cbf08ebc-4068-4a9b-eb67-7eb5b934d828",
        "colab": {
          "base_uri": "https://localhost:8080/"
        }
      },
      "execution_count": 59,
      "outputs": [
        {
          "output_type": "stream",
          "name": "stdout",
          "text": [
            "Average neighbors per node: 4.46\n",
            "Number of subgraphs: 234\n"
          ]
        }
      ]
    },
    {
      "cell_type": "code",
      "source": [
        "data = data.cpu()\n",
        "cluster_data = ClusterData(data, num_parts=128)\n",
        "loader = ClusterLoader(cluster_data, batch_size=32, shuffle=True)\n"
      ],
      "metadata": {
        "colab": {
          "base_uri": "https://localhost:8080/"
        },
        "id": "ihEBRMOCNZu9",
        "outputId": "05b43d3e-91f0-4928-b453-2ba6b2b5fcb8"
      },
      "execution_count": 42,
      "outputs": [
        {
          "output_type": "stream",
          "name": "stderr",
          "text": [
            "Computing METIS partitioning...\n",
            "Done!\n"
          ]
        }
      ]
    },
    {
      "cell_type": "code",
      "source": [],
      "metadata": {
        "id": "ub1apqbdNb0i"
      },
      "execution_count": null,
      "outputs": []
    },
    {
      "cell_type": "code",
      "source": [
        "def train_batch(loader):\n",
        "    model.train()\n",
        "    total_loss = 0\n",
        "    i = 1\n",
        "    for sub_data in loader:\n",
        "        sub_data = sub_data.to(device)\n",
        "        batch_mem = sum(t.element_size() * t.nelement() for t in [sub_data.x, sub_data.edge_index, sub_data.y])\n",
        "        #print(f\"Batch {i}: {batch_mem/1024**2:.2f} MB cluster data\")\n",
        "\n",
        "        out = model(sub_data.x, sub_data.edge_index)\n",
        "        #print(f\"  + Forward pass: {torch.cuda.max_memory_allocated()/1024**2:.2f} MB\")\n",
        "        loss = criterion(out[sub_data.train_mask], sub_data.y[sub_data.train_mask])\n",
        "        loss.backward()\n",
        "        optimizer.step()\n",
        "        optimizer.zero_grad()\n",
        "        total_loss += loss.item()\n",
        "        i += 1\n",
        "    return total_loss / i  # Optional: average loss\n"
      ],
      "metadata": {
        "id": "WEiBKvxMZww9"
      },
      "execution_count": 31,
      "outputs": []
    },
    {
      "cell_type": "code",
      "source": [
        "\n",
        "model = GCN(hidden_channels=64).to(device)\n",
        "optimizer = torch.optim.Adam(model.parameters(), lr=0.01)\n",
        "criterion = torch.nn.CrossEntropyLoss().to(device)\n",
        "\n",
        "display(Javascript('''google.colab.output.setIframeHeight(0, true, {maxHeight: 300})'''))\n",
        "data=data.to(device)\n",
        "res=[]\n",
        "for i in range(10):\n",
        "  clean_gpu_memory()\n",
        "  start_time= time.time()\n",
        "  for epoch in range(1, 101):\n",
        "    loss = train_batch(loader)\n",
        "    if epoch % 10 == 0:\n",
        "      train_acc = test(data, data.train_mask)\n",
        "      val_acc = test(data, data.val_mask)\n",
        "      val_f1 = f1_micro(data, data.val_mask)\n",
        "      print(f'Epoch: {epoch:03d}, Train Acc: {train_acc:.4f}, Val Acc: {val_acc:.4f}, Val F1 (micro): {val_f1:.4f}')\n",
        "  test_acc = test(data, data.test_mask)\n",
        "  res.append(test_acc)\n",
        "  end_time = time.time()\n",
        "  print(f\"Training time: {end_time - start_time:.2f} seconds\")\n"
      ],
      "metadata": {
        "colab": {
          "base_uri": "https://localhost:8080/",
          "height": 300
        },
        "id": "4AauHVIeNeaF",
        "outputId": "ae5c2304-1959-4bf8-ab66-05f14970ee2b"
      },
      "execution_count": 60,
      "outputs": [
        {
          "output_type": "display_data",
          "data": {
            "text/plain": [
              "<IPython.core.display.Javascript object>"
            ],
            "application/javascript": [
              "google.colab.output.setIframeHeight(0, true, {maxHeight: 300})"
            ]
          },
          "metadata": {}
        },
        {
          "output_type": "stream",
          "name": "stdout",
          "text": [
            "Memory after cleanup: 99.66 MB\n"
          ]
        },
        {
          "output_type": "error",
          "ename": "RuntimeError",
          "evalue": "Caught RuntimeError in DataLoader worker process 0.\nOriginal Traceback (most recent call last):\n  File \"/usr/local/lib/python3.11/dist-packages/torch/utils/data/_utils/worker.py\", line 349, in _worker_loop\n    data = fetcher.fetch(index)  # type: ignore[possibly-undefined]\n           ^^^^^^^^^^^^^^^^^^^^\n  File \"/usr/local/lib/python3.11/dist-packages/torch/utils/data/_utils/fetch.py\", line 55, in fetch\n    return self.collate_fn(data)\n           ^^^^^^^^^^^^^^^^^^^^^\n  File \"/usr/local/lib/python3.11/dist-packages/torch_geometric/loader/dataloader.py\", line 27, in __call__\n    return Batch.from_data_list(\n           ^^^^^^^^^^^^^^^^^^^^^\n  File \"/usr/local/lib/python3.11/dist-packages/torch_geometric/data/batch.py\", line 97, in from_data_list\n    batch, slice_dict, inc_dict = collate(\n                                  ^^^^^^^^\n  File \"/usr/local/lib/python3.11/dist-packages/torch_geometric/data/collate.py\", line 109, in collate\n    value, slices, incs = _collate(attr, values, data_list, stores,\n                          ^^^^^^^^^^^^^^^^^^^^^^^^^^^^^^^^^^^^^^^^^\n  File \"/usr/local/lib/python3.11/dist-packages/torch_geometric/data/collate.py\", line 192, in _collate\n    storage = elem.untyped_storage()._new_shared(\n              ^^^^^^^^^^^^^^^^^^^^^^^^^^^^^^^^^^^\n  File \"/usr/local/lib/python3.11/dist-packages/torch/storage.py\", line 411, in _new_shared\n    return cls(size, device=device)\n           ^^^^^^^^^^^^^^^^^^^^^^^^\n  File \"/usr/local/lib/python3.11/dist-packages/torch/cuda/__init__.py\", line 305, in _lazy_init\n    raise RuntimeError(\nRuntimeError: Cannot re-initialize CUDA in forked subprocess. To use CUDA with multiprocessing, you must use the 'spawn' start method\n",
          "traceback": [
            "\u001b[0;31m---------------------------------------------------------------------------\u001b[0m",
            "\u001b[0;31mRuntimeError\u001b[0m                              Traceback (most recent call last)",
            "\u001b[0;32m/tmp/ipython-input-60-2176600482.py\u001b[0m in \u001b[0;36m<cell line: 0>\u001b[0;34m()\u001b[0m\n\u001b[1;32m     10\u001b[0m   \u001b[0mstart_time\u001b[0m\u001b[0;34m=\u001b[0m \u001b[0mtime\u001b[0m\u001b[0;34m.\u001b[0m\u001b[0mtime\u001b[0m\u001b[0;34m(\u001b[0m\u001b[0;34m)\u001b[0m\u001b[0;34m\u001b[0m\u001b[0;34m\u001b[0m\u001b[0m\n\u001b[1;32m     11\u001b[0m   \u001b[0;32mfor\u001b[0m \u001b[0mepoch\u001b[0m \u001b[0;32min\u001b[0m \u001b[0mrange\u001b[0m\u001b[0;34m(\u001b[0m\u001b[0;36m1\u001b[0m\u001b[0;34m,\u001b[0m \u001b[0;36m101\u001b[0m\u001b[0;34m)\u001b[0m\u001b[0;34m:\u001b[0m\u001b[0;34m\u001b[0m\u001b[0;34m\u001b[0m\u001b[0m\n\u001b[0;32m---> 12\u001b[0;31m     \u001b[0mloss\u001b[0m \u001b[0;34m=\u001b[0m \u001b[0mtrain_batch\u001b[0m\u001b[0;34m(\u001b[0m\u001b[0mloader\u001b[0m\u001b[0;34m)\u001b[0m\u001b[0;34m\u001b[0m\u001b[0;34m\u001b[0m\u001b[0m\n\u001b[0m\u001b[1;32m     13\u001b[0m     \u001b[0;32mif\u001b[0m \u001b[0mepoch\u001b[0m \u001b[0;34m%\u001b[0m \u001b[0;36m10\u001b[0m \u001b[0;34m==\u001b[0m \u001b[0;36m0\u001b[0m\u001b[0;34m:\u001b[0m\u001b[0;34m\u001b[0m\u001b[0;34m\u001b[0m\u001b[0m\n\u001b[1;32m     14\u001b[0m       \u001b[0mtrain_acc\u001b[0m \u001b[0;34m=\u001b[0m \u001b[0mtest\u001b[0m\u001b[0;34m(\u001b[0m\u001b[0mdata\u001b[0m\u001b[0;34m,\u001b[0m \u001b[0mdata\u001b[0m\u001b[0;34m.\u001b[0m\u001b[0mtrain_mask\u001b[0m\u001b[0;34m)\u001b[0m\u001b[0;34m\u001b[0m\u001b[0;34m\u001b[0m\u001b[0m\n",
            "\u001b[0;32m/tmp/ipython-input-31-1498344529.py\u001b[0m in \u001b[0;36mtrain_batch\u001b[0;34m(loader)\u001b[0m\n\u001b[1;32m      3\u001b[0m     \u001b[0mtotal_loss\u001b[0m \u001b[0;34m=\u001b[0m \u001b[0;36m0\u001b[0m\u001b[0;34m\u001b[0m\u001b[0;34m\u001b[0m\u001b[0m\n\u001b[1;32m      4\u001b[0m     \u001b[0mi\u001b[0m \u001b[0;34m=\u001b[0m \u001b[0;36m1\u001b[0m\u001b[0;34m\u001b[0m\u001b[0;34m\u001b[0m\u001b[0m\n\u001b[0;32m----> 5\u001b[0;31m     \u001b[0;32mfor\u001b[0m \u001b[0msub_data\u001b[0m \u001b[0;32min\u001b[0m \u001b[0mloader\u001b[0m\u001b[0;34m:\u001b[0m\u001b[0;34m\u001b[0m\u001b[0;34m\u001b[0m\u001b[0m\n\u001b[0m\u001b[1;32m      6\u001b[0m         \u001b[0msub_data\u001b[0m \u001b[0;34m=\u001b[0m \u001b[0msub_data\u001b[0m\u001b[0;34m.\u001b[0m\u001b[0mto\u001b[0m\u001b[0;34m(\u001b[0m\u001b[0mdevice\u001b[0m\u001b[0;34m)\u001b[0m\u001b[0;34m\u001b[0m\u001b[0;34m\u001b[0m\u001b[0m\n\u001b[1;32m      7\u001b[0m         \u001b[0mbatch_mem\u001b[0m \u001b[0;34m=\u001b[0m \u001b[0msum\u001b[0m\u001b[0;34m(\u001b[0m\u001b[0mt\u001b[0m\u001b[0;34m.\u001b[0m\u001b[0melement_size\u001b[0m\u001b[0;34m(\u001b[0m\u001b[0;34m)\u001b[0m \u001b[0;34m*\u001b[0m \u001b[0mt\u001b[0m\u001b[0;34m.\u001b[0m\u001b[0mnelement\u001b[0m\u001b[0;34m(\u001b[0m\u001b[0;34m)\u001b[0m \u001b[0;32mfor\u001b[0m \u001b[0mt\u001b[0m \u001b[0;32min\u001b[0m \u001b[0;34m[\u001b[0m\u001b[0msub_data\u001b[0m\u001b[0;34m.\u001b[0m\u001b[0mx\u001b[0m\u001b[0;34m,\u001b[0m \u001b[0msub_data\u001b[0m\u001b[0;34m.\u001b[0m\u001b[0medge_index\u001b[0m\u001b[0;34m,\u001b[0m \u001b[0msub_data\u001b[0m\u001b[0;34m.\u001b[0m\u001b[0my\u001b[0m\u001b[0;34m]\u001b[0m\u001b[0;34m)\u001b[0m\u001b[0;34m\u001b[0m\u001b[0;34m\u001b[0m\u001b[0m\n",
            "\u001b[0;32m/usr/local/lib/python3.11/dist-packages/torch/utils/data/dataloader.py\u001b[0m in \u001b[0;36m__next__\u001b[0;34m(self)\u001b[0m\n\u001b[1;32m    706\u001b[0m                 \u001b[0;31m# TODO(https://github.com/pytorch/pytorch/issues/76750)\u001b[0m\u001b[0;34m\u001b[0m\u001b[0;34m\u001b[0m\u001b[0m\n\u001b[1;32m    707\u001b[0m                 \u001b[0mself\u001b[0m\u001b[0;34m.\u001b[0m\u001b[0m_reset\u001b[0m\u001b[0;34m(\u001b[0m\u001b[0;34m)\u001b[0m  \u001b[0;31m# type: ignore[call-arg]\u001b[0m\u001b[0;34m\u001b[0m\u001b[0;34m\u001b[0m\u001b[0m\n\u001b[0;32m--> 708\u001b[0;31m             \u001b[0mdata\u001b[0m \u001b[0;34m=\u001b[0m \u001b[0mself\u001b[0m\u001b[0;34m.\u001b[0m\u001b[0m_next_data\u001b[0m\u001b[0;34m(\u001b[0m\u001b[0;34m)\u001b[0m\u001b[0;34m\u001b[0m\u001b[0;34m\u001b[0m\u001b[0m\n\u001b[0m\u001b[1;32m    709\u001b[0m             \u001b[0mself\u001b[0m\u001b[0;34m.\u001b[0m\u001b[0m_num_yielded\u001b[0m \u001b[0;34m+=\u001b[0m \u001b[0;36m1\u001b[0m\u001b[0;34m\u001b[0m\u001b[0;34m\u001b[0m\u001b[0m\n\u001b[1;32m    710\u001b[0m             if (\n",
            "\u001b[0;32m/usr/local/lib/python3.11/dist-packages/torch/utils/data/dataloader.py\u001b[0m in \u001b[0;36m_next_data\u001b[0;34m(self)\u001b[0m\n\u001b[1;32m   1478\u001b[0m                 \u001b[0;32mdel\u001b[0m \u001b[0mself\u001b[0m\u001b[0;34m.\u001b[0m\u001b[0m_task_info\u001b[0m\u001b[0;34m[\u001b[0m\u001b[0midx\u001b[0m\u001b[0;34m]\u001b[0m\u001b[0;34m\u001b[0m\u001b[0;34m\u001b[0m\u001b[0m\n\u001b[1;32m   1479\u001b[0m                 \u001b[0mself\u001b[0m\u001b[0;34m.\u001b[0m\u001b[0m_rcvd_idx\u001b[0m \u001b[0;34m+=\u001b[0m \u001b[0;36m1\u001b[0m\u001b[0;34m\u001b[0m\u001b[0;34m\u001b[0m\u001b[0m\n\u001b[0;32m-> 1480\u001b[0;31m                 \u001b[0;32mreturn\u001b[0m \u001b[0mself\u001b[0m\u001b[0;34m.\u001b[0m\u001b[0m_process_data\u001b[0m\u001b[0;34m(\u001b[0m\u001b[0mdata\u001b[0m\u001b[0;34m)\u001b[0m\u001b[0;34m\u001b[0m\u001b[0;34m\u001b[0m\u001b[0m\n\u001b[0m\u001b[1;32m   1481\u001b[0m \u001b[0;34m\u001b[0m\u001b[0m\n\u001b[1;32m   1482\u001b[0m     \u001b[0;32mdef\u001b[0m \u001b[0m_try_put_index\u001b[0m\u001b[0;34m(\u001b[0m\u001b[0mself\u001b[0m\u001b[0;34m)\u001b[0m\u001b[0;34m:\u001b[0m\u001b[0;34m\u001b[0m\u001b[0;34m\u001b[0m\u001b[0m\n",
            "\u001b[0;32m/usr/local/lib/python3.11/dist-packages/torch/utils/data/dataloader.py\u001b[0m in \u001b[0;36m_process_data\u001b[0;34m(self, data)\u001b[0m\n\u001b[1;32m   1503\u001b[0m         \u001b[0mself\u001b[0m\u001b[0;34m.\u001b[0m\u001b[0m_try_put_index\u001b[0m\u001b[0;34m(\u001b[0m\u001b[0;34m)\u001b[0m\u001b[0;34m\u001b[0m\u001b[0;34m\u001b[0m\u001b[0m\n\u001b[1;32m   1504\u001b[0m         \u001b[0;32mif\u001b[0m \u001b[0misinstance\u001b[0m\u001b[0;34m(\u001b[0m\u001b[0mdata\u001b[0m\u001b[0;34m,\u001b[0m \u001b[0mExceptionWrapper\u001b[0m\u001b[0;34m)\u001b[0m\u001b[0;34m:\u001b[0m\u001b[0;34m\u001b[0m\u001b[0;34m\u001b[0m\u001b[0m\n\u001b[0;32m-> 1505\u001b[0;31m             \u001b[0mdata\u001b[0m\u001b[0;34m.\u001b[0m\u001b[0mreraise\u001b[0m\u001b[0;34m(\u001b[0m\u001b[0;34m)\u001b[0m\u001b[0;34m\u001b[0m\u001b[0;34m\u001b[0m\u001b[0m\n\u001b[0m\u001b[1;32m   1506\u001b[0m         \u001b[0;32mreturn\u001b[0m \u001b[0mdata\u001b[0m\u001b[0;34m\u001b[0m\u001b[0;34m\u001b[0m\u001b[0m\n\u001b[1;32m   1507\u001b[0m \u001b[0;34m\u001b[0m\u001b[0m\n",
            "\u001b[0;32m/usr/local/lib/python3.11/dist-packages/torch/_utils.py\u001b[0m in \u001b[0;36mreraise\u001b[0;34m(self)\u001b[0m\n\u001b[1;32m    731\u001b[0m             \u001b[0;31m# instantiate since we don't know how to\u001b[0m\u001b[0;34m\u001b[0m\u001b[0;34m\u001b[0m\u001b[0m\n\u001b[1;32m    732\u001b[0m             \u001b[0;32mraise\u001b[0m \u001b[0mRuntimeError\u001b[0m\u001b[0;34m(\u001b[0m\u001b[0mmsg\u001b[0m\u001b[0;34m)\u001b[0m \u001b[0;32mfrom\u001b[0m \u001b[0;32mNone\u001b[0m\u001b[0;34m\u001b[0m\u001b[0;34m\u001b[0m\u001b[0m\n\u001b[0;32m--> 733\u001b[0;31m         \u001b[0;32mraise\u001b[0m \u001b[0mexception\u001b[0m\u001b[0;34m\u001b[0m\u001b[0;34m\u001b[0m\u001b[0m\n\u001b[0m\u001b[1;32m    734\u001b[0m \u001b[0;34m\u001b[0m\u001b[0m\n\u001b[1;32m    735\u001b[0m \u001b[0;34m\u001b[0m\u001b[0m\n",
            "\u001b[0;31mRuntimeError\u001b[0m: Caught RuntimeError in DataLoader worker process 0.\nOriginal Traceback (most recent call last):\n  File \"/usr/local/lib/python3.11/dist-packages/torch/utils/data/_utils/worker.py\", line 349, in _worker_loop\n    data = fetcher.fetch(index)  # type: ignore[possibly-undefined]\n           ^^^^^^^^^^^^^^^^^^^^\n  File \"/usr/local/lib/python3.11/dist-packages/torch/utils/data/_utils/fetch.py\", line 55, in fetch\n    return self.collate_fn(data)\n           ^^^^^^^^^^^^^^^^^^^^^\n  File \"/usr/local/lib/python3.11/dist-packages/torch_geometric/loader/dataloader.py\", line 27, in __call__\n    return Batch.from_data_list(\n           ^^^^^^^^^^^^^^^^^^^^^\n  File \"/usr/local/lib/python3.11/dist-packages/torch_geometric/data/batch.py\", line 97, in from_data_list\n    batch, slice_dict, inc_dict = collate(\n                                  ^^^^^^^^\n  File \"/usr/local/lib/python3.11/dist-packages/torch_geometric/data/collate.py\", line 109, in collate\n    value, slices, incs = _collate(attr, values, data_list, stores,\n                          ^^^^^^^^^^^^^^^^^^^^^^^^^^^^^^^^^^^^^^^^^\n  File \"/usr/local/lib/python3.11/dist-packages/torch_geometric/data/collate.py\", line 192, in _collate\n    storage = elem.untyped_storage()._new_shared(\n              ^^^^^^^^^^^^^^^^^^^^^^^^^^^^^^^^^^^\n  File \"/usr/local/lib/python3.11/dist-packages/torch/storage.py\", line 411, in _new_shared\n    return cls(size, device=device)\n           ^^^^^^^^^^^^^^^^^^^^^^^^\n  File \"/usr/local/lib/python3.11/dist-packages/torch/cuda/__init__.py\", line 305, in _lazy_init\n    raise RuntimeError(\nRuntimeError: Cannot re-initialize CUDA in forked subprocess. To use CUDA with multiprocessing, you must use the 'spawn' start method\n"
          ]
        }
      ]
    },
    {
      "cell_type": "code",
      "source": [
        "print(res)\n",
        "print(sum(res)/10)"
      ],
      "metadata": {
        "id": "jl5VGPfq3rYO",
        "outputId": "cf0c3e6c-e179-4fa6-eed9-d2b72936c7d6",
        "colab": {
          "base_uri": "https://localhost:8080/"
        }
      },
      "execution_count": 26,
      "outputs": [
        {
          "output_type": "stream",
          "name": "stdout",
          "text": [
            "[0.772, 0.777, 0.762, 0.777, 0.76, 0.739, 0.775, 0.764, 0.759, 0.779]\n",
            "0.7664000000000001\n"
          ]
        }
      ]
    },
    {
      "cell_type": "code",
      "source": [
        "test_acc = test(data, data.test_mask)\n",
        "\n",
        "test_f1 = f1_micro(data, data.test_mask)\n",
        "print(f'Test F1 Score (micro): {test_f1:.4f}')\n",
        "print(f'Test test accuracy (micro):  {test_acc:.4f}')"
      ],
      "metadata": {
        "colab": {
          "base_uri": "https://localhost:8080/"
        },
        "id": "hcNfZBSmNiLn",
        "outputId": "fe9d9981-f20a-4fda-f757-24bbff865c71"
      },
      "execution_count": 27,
      "outputs": [
        {
          "output_type": "stream",
          "name": "stdout",
          "text": [
            "Test F1 Score (micro): 0.7790\n",
            "Test test accuracy (micro):  0.7790\n"
          ]
        }
      ]
    },
    {
      "cell_type": "code",
      "source": [
        "print(f\"Allocated memory after tensor creation: {torch.cuda.memory_allocated() / (1024**2):.2f} MB\")\n",
        "print(f\"Reserved memory after tensor creation: {torch.cuda.memory_reserved() / (1024**2):.2f} MB\")\n",
        "print(f\"Peak allocated memory: {torch.cuda.max_memory_allocated() / (1024**2):.2f} MB\")\n"
      ],
      "metadata": {
        "colab": {
          "base_uri": "https://localhost:8080/"
        },
        "id": "M1XAKTikNvgG",
        "outputId": "0d55ce3a-aae0-489b-ae6b-ff87687393a2"
      },
      "execution_count": 28,
      "outputs": [
        {
          "output_type": "stream",
          "name": "stdout",
          "text": [
            "Allocated memory after tensor creation: 134.76 MB\n",
            "Reserved memory after tensor creation: 218.00 MB\n",
            "Peak allocated memory: 199.37 MB\n"
          ]
        }
      ]
    },
    {
      "cell_type": "code",
      "source": [
        "peak_memory_mb=f\"{torch.cuda.max_memory_allocated()/1024**2:.2f}\"\n",
        "total_train_time=f\"{end_time - start_time:.2f}\"\n",
        "\n",
        "metrics = {\n",
        "    \"model\": \"clusterGCN\",\n",
        "    \"accuracy\": test_acc,\n",
        "    \"f1_micro\":test_f1,\n",
        "    \"peak_memory_MB\": peak_memory_mb,\n",
        "    \"train_time_sec\": total_train_time,\n",
        "    \"mem_MB\":peak_memory_mb\n",
        "}\n",
        "\n",
        "with open(\"clusterGCN_pubmed_results.json\", \"w\") as f:\n",
        "    json.dump(metrics, f)"
      ],
      "metadata": {
        "id": "t0dJbrwYWh4R"
      },
      "execution_count": null,
      "outputs": []
    },
    {
      "cell_type": "markdown",
      "source": [
        "**cora dataset**"
      ],
      "metadata": {
        "id": "q8jleIIAXtCZ"
      }
    },
    {
      "cell_type": "code",
      "source": [
        "clean_gpu_memory()\n",
        "\n",
        "def dataset_load():\n",
        "  print(f\"Using device: {device}\")\n",
        "  dataset = Planetoid(root='data/Planetoid', name='Cora', transform=NormalizeFeatures())\n",
        "  num_features = dataset.num_features\n",
        "  num_classes = dataset.num_classes\n",
        "  data = dataset[0].to(device)  # Get the first graph object.\n",
        "  return num_features, data, num_classes, device,dataset\n",
        "\n",
        "num_features, data, num_classes, device, dataset = dataset_load()\n",
        "subgraphs = custom_partition(data, num_neighbors=5, num_hops=2)\n",
        "\n",
        "loader = DataLoader(subgraphs, batch_size=128, shuffle=True)\n",
        "\n",
        "\n",
        "model = GCN(hidden_channels=64).to(device)\n",
        "optimizer = torch.optim.Adam(model.parameters(), lr=0.01)\n",
        "criterion = torch.nn.CrossEntropyLoss().to(device)\n",
        "\n",
        "display(Javascript('''google.colab.output.setIframeHeight(0, true, {maxHeight: 300})'''))\n",
        "data=data.to(device)\n",
        "\n",
        "res=[]\n",
        "for i in range(10):\n",
        "  clean_gpu_memory()\n",
        "  start_time= time.time()\n",
        "  for epoch in range(1, 101):\n",
        "    loss = train_batch(loader)\n",
        "    if epoch % 10 == 0:\n",
        "      train_acc = test(data, data.train_mask)\n",
        "      val_acc = test(data, data.val_mask)\n",
        "      val_f1 = f1_micro(data, data.val_mask)\n",
        "      print(f'Epoch: {epoch:03d}, Train Acc: {train_acc:.4f}, Val Acc: {val_acc:.4f}, Val F1 (micro): {val_f1:.4f}')\n",
        "\n",
        "  end_time = time.time()\n",
        "  print(f\"Training time: {end_time - start_time:.2f} seconds\")\n",
        "  test_acc = test(data, data.test_mask)\n",
        "  res.append(test_acc)\n",
        "\n",
        "\n",
        "test_acc = test(data, data.test_mask)\n",
        "\n",
        "test_f1 = f1_micro(data, data.test_mask)\n",
        "print(f'Test F1 Score (micro): {test_f1:.4f}')\n",
        "print(f'Test test accuracy (micro):  {test_acc:.4f}')"
      ],
      "metadata": {
        "colab": {
          "base_uri": "https://localhost:8080/",
          "height": 300
        },
        "id": "fMWEipJkcz_j",
        "outputId": "d4b14d17-5fd7-4e98-d090-fc968132788e"
      },
      "execution_count": null,
      "outputs": [
        {
          "output_type": "stream",
          "name": "stdout",
          "text": [
            "Memory after cleanup: 49.72 MB\n",
            "Using device: cuda\n"
          ]
        },
        {
          "output_type": "display_data",
          "data": {
            "text/plain": [
              "<IPython.core.display.Javascript object>"
            ],
            "application/javascript": [
              "google.colab.output.setIframeHeight(0, true, {maxHeight: 300})"
            ]
          },
          "metadata": {}
        },
        {
          "output_type": "stream",
          "name": "stdout",
          "text": [
            "Memory after cleanup: 66.54 MB\n",
            "Epoch: 010, Train Acc: 0.9643, Val Acc: 0.7800, Val F1 (micro): 0.7800\n",
            "Epoch: 020, Train Acc: 0.9786, Val Acc: 0.7860, Val F1 (micro): 0.7860\n",
            "Epoch: 030, Train Acc: 0.9786, Val Acc: 0.7820, Val F1 (micro): 0.7820\n",
            "Epoch: 040, Train Acc: 0.9929, Val Acc: 0.7720, Val F1 (micro): 0.7720\n",
            "Epoch: 050, Train Acc: 0.9857, Val Acc: 0.7720, Val F1 (micro): 0.7720\n",
            "Epoch: 060, Train Acc: 0.9929, Val Acc: 0.7800, Val F1 (micro): 0.7800\n",
            "Epoch: 070, Train Acc: 0.9929, Val Acc: 0.7780, Val F1 (micro): 0.7780\n",
            "Epoch: 080, Train Acc: 1.0000, Val Acc: 0.7780, Val F1 (micro): 0.7780\n",
            "Epoch: 090, Train Acc: 1.0000, Val Acc: 0.7760, Val F1 (micro): 0.7760\n",
            "Epoch: 100, Train Acc: 0.9929, Val Acc: 0.7800, Val F1 (micro): 0.7800\n",
            "Training time: 10.51 seconds\n",
            "Memory after cleanup: 49.67 MB\n",
            "Epoch: 010, Train Acc: 0.9929, Val Acc: 0.7760, Val F1 (micro): 0.7760\n",
            "Epoch: 020, Train Acc: 0.9857, Val Acc: 0.7500, Val F1 (micro): 0.7500\n",
            "Epoch: 030, Train Acc: 0.9929, Val Acc: 0.7680, Val F1 (micro): 0.7680\n",
            "Epoch: 040, Train Acc: 0.9929, Val Acc: 0.7760, Val F1 (micro): 0.7760\n",
            "Epoch: 050, Train Acc: 1.0000, Val Acc: 0.7640, Val F1 (micro): 0.7640\n",
            "Epoch: 060, Train Acc: 1.0000, Val Acc: 0.7780, Val F1 (micro): 0.7780\n",
            "Epoch: 070, Train Acc: 1.0000, Val Acc: 0.7720, Val F1 (micro): 0.7720\n",
            "Epoch: 080, Train Acc: 0.9929, Val Acc: 0.7800, Val F1 (micro): 0.7800\n",
            "Epoch: 090, Train Acc: 0.9929, Val Acc: 0.7820, Val F1 (micro): 0.7820\n",
            "Epoch: 100, Train Acc: 1.0000, Val Acc: 0.7740, Val F1 (micro): 0.7740\n",
            "Training time: 10.59 seconds\n",
            "Memory after cleanup: 49.67 MB\n",
            "Epoch: 010, Train Acc: 0.9929, Val Acc: 0.7700, Val F1 (micro): 0.7700\n",
            "Epoch: 020, Train Acc: 0.9857, Val Acc: 0.7800, Val F1 (micro): 0.7800\n",
            "Epoch: 030, Train Acc: 0.9929, Val Acc: 0.7640, Val F1 (micro): 0.7640\n",
            "Epoch: 040, Train Acc: 0.9929, Val Acc: 0.7760, Val F1 (micro): 0.7760\n",
            "Epoch: 050, Train Acc: 1.0000, Val Acc: 0.7640, Val F1 (micro): 0.7640\n",
            "Epoch: 060, Train Acc: 0.9929, Val Acc: 0.7800, Val F1 (micro): 0.7800\n",
            "Epoch: 070, Train Acc: 1.0000, Val Acc: 0.7680, Val F1 (micro): 0.7680\n",
            "Epoch: 080, Train Acc: 0.9929, Val Acc: 0.7620, Val F1 (micro): 0.7620\n",
            "Epoch: 090, Train Acc: 0.9929, Val Acc: 0.7700, Val F1 (micro): 0.7700\n",
            "Epoch: 100, Train Acc: 0.9929, Val Acc: 0.7700, Val F1 (micro): 0.7700\n",
            "Training time: 10.13 seconds\n",
            "Memory after cleanup: 49.67 MB\n",
            "Epoch: 010, Train Acc: 1.0000, Val Acc: 0.7640, Val F1 (micro): 0.7640\n",
            "Epoch: 020, Train Acc: 1.0000, Val Acc: 0.7600, Val F1 (micro): 0.7600\n",
            "Epoch: 030, Train Acc: 1.0000, Val Acc: 0.7760, Val F1 (micro): 0.7760\n",
            "Epoch: 040, Train Acc: 1.0000, Val Acc: 0.7880, Val F1 (micro): 0.7880\n",
            "Epoch: 050, Train Acc: 1.0000, Val Acc: 0.7460, Val F1 (micro): 0.7460\n",
            "Epoch: 060, Train Acc: 1.0000, Val Acc: 0.7680, Val F1 (micro): 0.7680\n",
            "Epoch: 070, Train Acc: 1.0000, Val Acc: 0.7560, Val F1 (micro): 0.7560\n",
            "Epoch: 080, Train Acc: 1.0000, Val Acc: 0.7540, Val F1 (micro): 0.7540\n",
            "Epoch: 090, Train Acc: 1.0000, Val Acc: 0.7660, Val F1 (micro): 0.7660\n",
            "Epoch: 100, Train Acc: 1.0000, Val Acc: 0.7700, Val F1 (micro): 0.7700\n",
            "Training time: 10.14 seconds\n",
            "Memory after cleanup: 49.67 MB\n",
            "Epoch: 010, Train Acc: 1.0000, Val Acc: 0.7680, Val F1 (micro): 0.7680\n",
            "Epoch: 020, Train Acc: 1.0000, Val Acc: 0.7680, Val F1 (micro): 0.7680\n",
            "Epoch: 030, Train Acc: 1.0000, Val Acc: 0.7380, Val F1 (micro): 0.7380\n",
            "Epoch: 040, Train Acc: 1.0000, Val Acc: 0.7840, Val F1 (micro): 0.7840\n",
            "Epoch: 050, Train Acc: 1.0000, Val Acc: 0.7520, Val F1 (micro): 0.7520\n",
            "Epoch: 060, Train Acc: 1.0000, Val Acc: 0.7560, Val F1 (micro): 0.7560\n",
            "Epoch: 070, Train Acc: 1.0000, Val Acc: 0.7900, Val F1 (micro): 0.7900\n",
            "Epoch: 080, Train Acc: 0.9929, Val Acc: 0.7240, Val F1 (micro): 0.7240\n",
            "Epoch: 090, Train Acc: 1.0000, Val Acc: 0.7620, Val F1 (micro): 0.7620\n",
            "Epoch: 100, Train Acc: 0.9786, Val Acc: 0.7520, Val F1 (micro): 0.7520\n",
            "Training time: 10.61 seconds\n",
            "Memory after cleanup: 49.67 MB\n",
            "Epoch: 010, Train Acc: 0.9929, Val Acc: 0.7720, Val F1 (micro): 0.7720\n",
            "Epoch: 020, Train Acc: 0.9857, Val Acc: 0.7420, Val F1 (micro): 0.7420\n",
            "Epoch: 030, Train Acc: 1.0000, Val Acc: 0.7540, Val F1 (micro): 0.7540\n",
            "Epoch: 040, Train Acc: 0.9857, Val Acc: 0.7340, Val F1 (micro): 0.7340\n",
            "Epoch: 050, Train Acc: 1.0000, Val Acc: 0.7460, Val F1 (micro): 0.7460\n",
            "Epoch: 060, Train Acc: 0.9857, Val Acc: 0.7260, Val F1 (micro): 0.7260\n",
            "Epoch: 070, Train Acc: 0.9857, Val Acc: 0.7440, Val F1 (micro): 0.7440\n",
            "Epoch: 080, Train Acc: 0.9929, Val Acc: 0.7700, Val F1 (micro): 0.7700\n",
            "Epoch: 090, Train Acc: 1.0000, Val Acc: 0.7580, Val F1 (micro): 0.7580\n",
            "Epoch: 100, Train Acc: 1.0000, Val Acc: 0.7740, Val F1 (micro): 0.7740\n",
            "Training time: 10.42 seconds\n",
            "Memory after cleanup: 49.67 MB\n",
            "Epoch: 010, Train Acc: 0.9929, Val Acc: 0.7480, Val F1 (micro): 0.7480\n",
            "Epoch: 020, Train Acc: 1.0000, Val Acc: 0.7660, Val F1 (micro): 0.7660\n",
            "Epoch: 030, Train Acc: 1.0000, Val Acc: 0.7860, Val F1 (micro): 0.7860\n",
            "Epoch: 040, Train Acc: 1.0000, Val Acc: 0.7580, Val F1 (micro): 0.7580\n",
            "Epoch: 050, Train Acc: 1.0000, Val Acc: 0.7800, Val F1 (micro): 0.7800\n",
            "Epoch: 060, Train Acc: 1.0000, Val Acc: 0.7620, Val F1 (micro): 0.7620\n",
            "Epoch: 070, Train Acc: 1.0000, Val Acc: 0.7860, Val F1 (micro): 0.7860\n",
            "Epoch: 080, Train Acc: 1.0000, Val Acc: 0.7820, Val F1 (micro): 0.7820\n",
            "Epoch: 090, Train Acc: 1.0000, Val Acc: 0.7600, Val F1 (micro): 0.7600\n",
            "Epoch: 100, Train Acc: 0.9929, Val Acc: 0.7480, Val F1 (micro): 0.7480\n",
            "Training time: 10.46 seconds\n",
            "Memory after cleanup: 49.67 MB\n",
            "Epoch: 010, Train Acc: 1.0000, Val Acc: 0.7640, Val F1 (micro): 0.7640\n",
            "Epoch: 020, Train Acc: 1.0000, Val Acc: 0.7640, Val F1 (micro): 0.7640\n",
            "Epoch: 030, Train Acc: 1.0000, Val Acc: 0.7720, Val F1 (micro): 0.7720\n",
            "Epoch: 040, Train Acc: 1.0000, Val Acc: 0.7640, Val F1 (micro): 0.7640\n",
            "Epoch: 050, Train Acc: 1.0000, Val Acc: 0.7720, Val F1 (micro): 0.7720\n",
            "Epoch: 060, Train Acc: 1.0000, Val Acc: 0.7740, Val F1 (micro): 0.7740\n",
            "Epoch: 070, Train Acc: 1.0000, Val Acc: 0.7620, Val F1 (micro): 0.7620\n",
            "Epoch: 080, Train Acc: 0.9786, Val Acc: 0.7160, Val F1 (micro): 0.7160\n",
            "Epoch: 090, Train Acc: 0.9929, Val Acc: 0.7540, Val F1 (micro): 0.7540\n",
            "Epoch: 100, Train Acc: 1.0000, Val Acc: 0.7560, Val F1 (micro): 0.7560\n",
            "Training time: 10.51 seconds\n",
            "Memory after cleanup: 49.67 MB\n",
            "Epoch: 010, Train Acc: 1.0000, Val Acc: 0.7460, Val F1 (micro): 0.7460\n",
            "Epoch: 020, Train Acc: 1.0000, Val Acc: 0.7360, Val F1 (micro): 0.7360\n",
            "Epoch: 030, Train Acc: 0.9929, Val Acc: 0.6980, Val F1 (micro): 0.6980\n",
            "Epoch: 040, Train Acc: 0.9929, Val Acc: 0.7340, Val F1 (micro): 0.7340\n",
            "Epoch: 050, Train Acc: 1.0000, Val Acc: 0.7460, Val F1 (micro): 0.7460\n",
            "Epoch: 060, Train Acc: 0.9929, Val Acc: 0.7440, Val F1 (micro): 0.7440\n",
            "Epoch: 070, Train Acc: 0.9857, Val Acc: 0.6900, Val F1 (micro): 0.6900\n",
            "Epoch: 080, Train Acc: 0.9929, Val Acc: 0.7280, Val F1 (micro): 0.7280\n",
            "Epoch: 090, Train Acc: 0.9929, Val Acc: 0.7520, Val F1 (micro): 0.7520\n",
            "Epoch: 100, Train Acc: 0.9929, Val Acc: 0.7340, Val F1 (micro): 0.7340\n",
            "Training time: 10.40 seconds\n",
            "Memory after cleanup: 49.67 MB\n",
            "Epoch: 010, Train Acc: 0.9929, Val Acc: 0.7500, Val F1 (micro): 0.7500\n",
            "Epoch: 020, Train Acc: 0.9929, Val Acc: 0.7480, Val F1 (micro): 0.7480\n",
            "Epoch: 030, Train Acc: 0.9929, Val Acc: 0.7580, Val F1 (micro): 0.7580\n",
            "Epoch: 040, Train Acc: 1.0000, Val Acc: 0.7680, Val F1 (micro): 0.7680\n",
            "Epoch: 050, Train Acc: 0.9929, Val Acc: 0.7620, Val F1 (micro): 0.7620\n",
            "Epoch: 060, Train Acc: 0.9929, Val Acc: 0.7580, Val F1 (micro): 0.7580\n",
            "Epoch: 070, Train Acc: 0.9929, Val Acc: 0.7560, Val F1 (micro): 0.7560\n",
            "Epoch: 080, Train Acc: 0.9929, Val Acc: 0.7500, Val F1 (micro): 0.7500\n",
            "Epoch: 090, Train Acc: 1.0000, Val Acc: 0.7460, Val F1 (micro): 0.7460\n",
            "Epoch: 100, Train Acc: 1.0000, Val Acc: 0.7400, Val F1 (micro): 0.7400\n",
            "Training time: 10.53 seconds\n",
            "Test F1 Score (micro): 0.7630\n",
            "Test test accuracy (micro):  0.7630\n"
          ]
        }
      ]
    },
    {
      "cell_type": "code",
      "source": [
        "print(res)\n",
        "print(sum(res)/10)"
      ],
      "metadata": {
        "id": "NTuBRvlv4O9s",
        "outputId": "4d97ea28-fcea-4e65-fca0-3f34eee64b12",
        "colab": {
          "base_uri": "https://localhost:8080/"
        }
      },
      "execution_count": null,
      "outputs": [
        {
          "output_type": "stream",
          "name": "stdout",
          "text": [
            "[0.779, 0.771, 0.772, 0.78, 0.756, 0.769, 0.772, 0.759, 0.75, 0.763]\n",
            "0.7671000000000001\n"
          ]
        }
      ]
    },
    {
      "cell_type": "code",
      "source": [
        "print(f\"Allocated memory after tensor creation: {torch.cuda.memory_allocated() / (1024**2):.2f} MB\")\n",
        "print(f\"Reserved memory after tensor creation: {torch.cuda.memory_reserved() / (1024**2):.2f} MB\")\n",
        "print(f\"Peak allocated memory: {torch.cuda.max_memory_allocated() / (1024**2):.2f} MB\")\n"
      ],
      "metadata": {
        "id": "YErsFwmf1daW",
        "outputId": "5b47cf85-d838-4784-bba9-4b11d5d45dfe",
        "colab": {
          "base_uri": "https://localhost:8080/"
        }
      },
      "execution_count": null,
      "outputs": [
        {
          "output_type": "stream",
          "name": "stdout",
          "text": [
            "Allocated memory after tensor creation: 49.67 MB\n",
            "Reserved memory after tensor creation: 90.00 MB\n",
            "Peak allocated memory: 57.72 MB\n"
          ]
        }
      ]
    },
    {
      "cell_type": "code",
      "source": [
        "peak_memory_mb=f\"{torch.cuda.max_memory_allocated()/1024**2:.2f}\"\n",
        "total_train_time=f\"{end_time - start_time:.2f}\"\n",
        "\n",
        "metrics = {\n",
        "    \"model\": \"clusterGCN\",\n",
        "    \"accuracy\": test_acc,\n",
        "    \"f1_micro\":test_f1,\n",
        "    \"peak_memory_MB\": peak_memory_mb,\n",
        "    \"train_time_sec\": total_train_time,\n",
        "    \"mem_MB\":peak_memory_mb\n",
        "}\n",
        "\n",
        "with open(\"clusterGCN_Cora_results.json\", \"w\") as f:\n",
        "    json.dump(metrics, f)"
      ],
      "metadata": {
        "id": "ooDLb5xXeZeC"
      },
      "execution_count": null,
      "outputs": []
    },
    {
      "cell_type": "markdown",
      "source": [
        "**citeser dataset**"
      ],
      "metadata": {
        "id": "YKZulth9emqc"
      }
    },
    {
      "cell_type": "code",
      "source": [
        "clean_gpu_memory()\n",
        "\n",
        "def dataset_load():\n",
        "  print(f\"Using device: {device}\")\n",
        "  dataset = Planetoid(root='data/Planetoid', name='CiteSeer', transform=NormalizeFeatures())\n",
        "  num_features = dataset.num_features\n",
        "  num_classes = dataset.num_classes\n",
        "  data = dataset[0].to(device)  # Get the first graph object.\n",
        "  return num_features, data, num_classes, device,dataset\n",
        "\n",
        "num_features, data, num_classes, device, dataset = dataset_load()\n",
        "subgraphs = custom_partition(data, num_neighbors=5, num_hops=2)\n",
        "\n",
        "loader = DataLoader(subgraphs, batch_size=128, shuffle=True)\n",
        "\n",
        "\n",
        "model = GCN(hidden_channels=64).to(device)\n",
        "optimizer = torch.optim.Adam(model.parameters(), lr=0.01)\n",
        "criterion = torch.nn.CrossEntropyLoss().to(device)\n",
        "\n",
        "display(Javascript('''google.colab.output.setIframeHeight(0, true, {maxHeight: 300})'''))\n",
        "data=data.to(device)\n",
        "res=[]\n",
        "for i in range(10):\n",
        "  clean_gpu_memory()\n",
        "  start_time= time.time()\n",
        "  for epoch in range(1, 101):\n",
        "    loss = train_batch(loader)\n",
        "    if epoch % 10 == 0:\n",
        "      train_acc = test(data, data.train_mask)\n",
        "      val_acc = test(data, data.val_mask)\n",
        "      val_f1 = f1_micro(data, data.val_mask)\n",
        "      print(f'Epoch: {epoch:03d}, Train Acc: {train_acc:.4f}, Val Acc: {val_acc:.4f}, Val F1 (micro): {val_f1:.4f}')\n",
        "\n",
        "  end_time = time.time()\n",
        "  print(f\"Training time: {end_time - start_time:.2f} seconds\")\n",
        "  test_acc = test(data, data.test_mask)\n",
        "  res.append(test_acc)\n",
        "\n",
        "\n",
        "test_acc = test(data, data.test_mask)\n",
        "\n",
        "test_f1 = f1_micro(data, data.test_mask)\n",
        "print(f'Test F1 Score (micro): {test_f1:.4f}')\n",
        "print(f'Test test accuracy (micro):  {test_acc:.4f}')"
      ],
      "metadata": {
        "id": "GzLUKUyEesF1",
        "outputId": "e0f5e9de-3cf3-4b64-ba52-48960686ac03",
        "colab": {
          "base_uri": "https://localhost:8080/",
          "height": 300
        }
      },
      "execution_count": null,
      "outputs": [
        {
          "output_type": "stream",
          "name": "stdout",
          "text": [
            "Memory after cleanup: 49.67 MB\n",
            "Using device: cuda\n"
          ]
        },
        {
          "output_type": "stream",
          "name": "stderr",
          "text": [
            "Downloading https://github.com/kimiyoung/planetoid/raw/master/data/ind.citeseer.x\n",
            "Downloading https://github.com/kimiyoung/planetoid/raw/master/data/ind.citeseer.tx\n",
            "Downloading https://github.com/kimiyoung/planetoid/raw/master/data/ind.citeseer.allx\n",
            "Downloading https://github.com/kimiyoung/planetoid/raw/master/data/ind.citeseer.y\n",
            "Downloading https://github.com/kimiyoung/planetoid/raw/master/data/ind.citeseer.ty\n",
            "Downloading https://github.com/kimiyoung/planetoid/raw/master/data/ind.citeseer.ally\n",
            "Downloading https://github.com/kimiyoung/planetoid/raw/master/data/ind.citeseer.graph\n",
            "Downloading https://github.com/kimiyoung/planetoid/raw/master/data/ind.citeseer.test.index\n",
            "Processing...\n",
            "Done!\n",
            "/tmp/ipython-input-14-2948250694.py:12: ConstantInputWarning: An input array is constant; the correlation coefficient is not defined.\n",
            "  corr, _ = pearsonr(features[i], features[j])\n"
          ]
        },
        {
          "output_type": "display_data",
          "data": {
            "text/plain": [
              "<IPython.core.display.Javascript object>"
            ],
            "application/javascript": [
              "google.colab.output.setIframeHeight(0, true, {maxHeight: 300})"
            ]
          },
          "metadata": {}
        },
        {
          "output_type": "stream",
          "name": "stdout",
          "text": [
            "Memory after cleanup: 130.57 MB\n",
            "Epoch: 010, Train Acc: 0.9667, Val Acc: 0.6660, Val F1 (micro): 0.6660\n",
            "Epoch: 020, Train Acc: 0.9750, Val Acc: 0.6680, Val F1 (micro): 0.6680\n",
            "Epoch: 030, Train Acc: 0.9833, Val Acc: 0.7040, Val F1 (micro): 0.7040\n",
            "Epoch: 040, Train Acc: 0.9917, Val Acc: 0.6820, Val F1 (micro): 0.6820\n",
            "Epoch: 050, Train Acc: 0.9750, Val Acc: 0.6900, Val F1 (micro): 0.6900\n",
            "Epoch: 060, Train Acc: 0.9917, Val Acc: 0.6860, Val F1 (micro): 0.6860\n",
            "Epoch: 070, Train Acc: 0.9917, Val Acc: 0.6860, Val F1 (micro): 0.6860\n",
            "Epoch: 080, Train Acc: 0.9917, Val Acc: 0.6860, Val F1 (micro): 0.6860\n",
            "Epoch: 090, Train Acc: 0.9917, Val Acc: 0.6740, Val F1 (micro): 0.6740\n",
            "Epoch: 100, Train Acc: 0.9833, Val Acc: 0.6700, Val F1 (micro): 0.6700\n",
            "Training time: 16.56 seconds\n",
            "Memory after cleanup: 117.05 MB\n",
            "Epoch: 010, Train Acc: 0.9917, Val Acc: 0.6880, Val F1 (micro): 0.6880\n",
            "Epoch: 020, Train Acc: 0.9917, Val Acc: 0.6840, Val F1 (micro): 0.6840\n",
            "Epoch: 030, Train Acc: 0.9917, Val Acc: 0.6720, Val F1 (micro): 0.6720\n",
            "Epoch: 040, Train Acc: 0.9917, Val Acc: 0.6780, Val F1 (micro): 0.6780\n",
            "Epoch: 050, Train Acc: 0.9917, Val Acc: 0.6600, Val F1 (micro): 0.6600\n",
            "Epoch: 060, Train Acc: 0.9833, Val Acc: 0.6860, Val F1 (micro): 0.6860\n",
            "Epoch: 070, Train Acc: 0.9917, Val Acc: 0.6920, Val F1 (micro): 0.6920\n",
            "Epoch: 080, Train Acc: 0.9917, Val Acc: 0.6800, Val F1 (micro): 0.6800\n",
            "Epoch: 090, Train Acc: 0.9917, Val Acc: 0.6500, Val F1 (micro): 0.6500\n",
            "Epoch: 100, Train Acc: 0.9917, Val Acc: 0.6840, Val F1 (micro): 0.6840\n",
            "Training time: 16.53 seconds\n",
            "Memory after cleanup: 117.05 MB\n",
            "Epoch: 010, Train Acc: 0.9917, Val Acc: 0.6900, Val F1 (micro): 0.6900\n",
            "Epoch: 020, Train Acc: 0.9750, Val Acc: 0.6860, Val F1 (micro): 0.6860\n",
            "Epoch: 030, Train Acc: 0.9833, Val Acc: 0.7140, Val F1 (micro): 0.7140\n",
            "Epoch: 040, Train Acc: 0.9917, Val Acc: 0.6840, Val F1 (micro): 0.6840\n",
            "Epoch: 050, Train Acc: 0.9833, Val Acc: 0.6980, Val F1 (micro): 0.6980\n",
            "Epoch: 060, Train Acc: 0.9917, Val Acc: 0.6860, Val F1 (micro): 0.6860\n",
            "Epoch: 070, Train Acc: 0.9833, Val Acc: 0.7080, Val F1 (micro): 0.7080\n",
            "Epoch: 080, Train Acc: 0.9917, Val Acc: 0.6540, Val F1 (micro): 0.6540\n",
            "Epoch: 090, Train Acc: 0.9917, Val Acc: 0.6600, Val F1 (micro): 0.6600\n",
            "Epoch: 100, Train Acc: 0.9833, Val Acc: 0.6700, Val F1 (micro): 0.6700\n",
            "Training time: 16.80 seconds\n",
            "Memory after cleanup: 117.05 MB\n",
            "Epoch: 010, Train Acc: 0.9833, Val Acc: 0.6820, Val F1 (micro): 0.6820\n",
            "Epoch: 020, Train Acc: 0.9833, Val Acc: 0.6600, Val F1 (micro): 0.6600\n",
            "Epoch: 030, Train Acc: 0.9917, Val Acc: 0.6900, Val F1 (micro): 0.6900\n",
            "Epoch: 040, Train Acc: 0.9917, Val Acc: 0.7020, Val F1 (micro): 0.7020\n",
            "Epoch: 050, Train Acc: 0.9917, Val Acc: 0.6880, Val F1 (micro): 0.6880\n",
            "Epoch: 060, Train Acc: 0.9917, Val Acc: 0.6920, Val F1 (micro): 0.6920\n",
            "Epoch: 070, Train Acc: 0.9917, Val Acc: 0.6420, Val F1 (micro): 0.6420\n",
            "Epoch: 080, Train Acc: 0.9917, Val Acc: 0.6680, Val F1 (micro): 0.6680\n",
            "Epoch: 090, Train Acc: 0.9833, Val Acc: 0.6620, Val F1 (micro): 0.6620\n",
            "Epoch: 100, Train Acc: 0.9917, Val Acc: 0.7100, Val F1 (micro): 0.7100\n",
            "Training time: 16.40 seconds\n",
            "Memory after cleanup: 117.05 MB\n",
            "Epoch: 010, Train Acc: 0.9667, Val Acc: 0.6740, Val F1 (micro): 0.6740\n",
            "Epoch: 020, Train Acc: 0.9833, Val Acc: 0.6860, Val F1 (micro): 0.6860\n",
            "Epoch: 030, Train Acc: 0.9583, Val Acc: 0.6700, Val F1 (micro): 0.6700\n",
            "Epoch: 040, Train Acc: 0.9917, Val Acc: 0.6460, Val F1 (micro): 0.6460\n",
            "Epoch: 050, Train Acc: 0.9833, Val Acc: 0.6860, Val F1 (micro): 0.6860\n",
            "Epoch: 060, Train Acc: 0.9917, Val Acc: 0.6820, Val F1 (micro): 0.6820\n",
            "Epoch: 070, Train Acc: 0.9917, Val Acc: 0.6780, Val F1 (micro): 0.6780\n",
            "Epoch: 080, Train Acc: 0.9917, Val Acc: 0.6780, Val F1 (micro): 0.6780\n",
            "Epoch: 090, Train Acc: 0.9917, Val Acc: 0.6680, Val F1 (micro): 0.6680\n",
            "Epoch: 100, Train Acc: 0.9833, Val Acc: 0.6720, Val F1 (micro): 0.6720\n",
            "Training time: 17.11 seconds\n",
            "Memory after cleanup: 117.05 MB\n",
            "Epoch: 010, Train Acc: 0.9833, Val Acc: 0.6820, Val F1 (micro): 0.6820\n",
            "Epoch: 020, Train Acc: 0.9917, Val Acc: 0.6720, Val F1 (micro): 0.6720\n",
            "Epoch: 030, Train Acc: 0.9917, Val Acc: 0.6780, Val F1 (micro): 0.6780\n",
            "Epoch: 040, Train Acc: 0.9917, Val Acc: 0.6000, Val F1 (micro): 0.6000\n",
            "Epoch: 050, Train Acc: 0.9917, Val Acc: 0.6320, Val F1 (micro): 0.6320\n",
            "Epoch: 060, Train Acc: 0.9917, Val Acc: 0.6520, Val F1 (micro): 0.6520\n",
            "Epoch: 070, Train Acc: 0.9917, Val Acc: 0.6480, Val F1 (micro): 0.6480\n",
            "Epoch: 080, Train Acc: 0.9833, Val Acc: 0.6820, Val F1 (micro): 0.6820\n",
            "Epoch: 090, Train Acc: 0.9833, Val Acc: 0.6680, Val F1 (micro): 0.6680\n",
            "Epoch: 100, Train Acc: 0.9833, Val Acc: 0.6320, Val F1 (micro): 0.6320\n",
            "Training time: 16.46 seconds\n",
            "Memory after cleanup: 117.05 MB\n",
            "Epoch: 010, Train Acc: 0.9917, Val Acc: 0.6340, Val F1 (micro): 0.6340\n",
            "Epoch: 020, Train Acc: 0.9833, Val Acc: 0.6640, Val F1 (micro): 0.6640\n",
            "Epoch: 030, Train Acc: 0.9833, Val Acc: 0.6660, Val F1 (micro): 0.6660\n",
            "Epoch: 040, Train Acc: 0.9833, Val Acc: 0.6780, Val F1 (micro): 0.6780\n",
            "Epoch: 050, Train Acc: 0.9917, Val Acc: 0.6760, Val F1 (micro): 0.6760\n",
            "Epoch: 060, Train Acc: 0.9917, Val Acc: 0.6900, Val F1 (micro): 0.6900\n",
            "Epoch: 070, Train Acc: 0.9917, Val Acc: 0.6920, Val F1 (micro): 0.6920\n",
            "Epoch: 080, Train Acc: 0.9917, Val Acc: 0.6960, Val F1 (micro): 0.6960\n",
            "Epoch: 090, Train Acc: 0.9917, Val Acc: 0.6740, Val F1 (micro): 0.6740\n",
            "Epoch: 100, Train Acc: 0.9917, Val Acc: 0.6780, Val F1 (micro): 0.6780\n",
            "Training time: 16.80 seconds\n",
            "Memory after cleanup: 117.05 MB\n",
            "Epoch: 010, Train Acc: 0.9917, Val Acc: 0.6660, Val F1 (micro): 0.6660\n",
            "Epoch: 020, Train Acc: 0.9917, Val Acc: 0.6600, Val F1 (micro): 0.6600\n",
            "Epoch: 030, Train Acc: 0.9917, Val Acc: 0.6800, Val F1 (micro): 0.6800\n",
            "Epoch: 040, Train Acc: 0.9833, Val Acc: 0.6320, Val F1 (micro): 0.6320\n",
            "Epoch: 050, Train Acc: 0.9917, Val Acc: 0.6300, Val F1 (micro): 0.6300\n",
            "Epoch: 060, Train Acc: 0.9583, Val Acc: 0.6600, Val F1 (micro): 0.6600\n",
            "Epoch: 070, Train Acc: 0.9833, Val Acc: 0.6760, Val F1 (micro): 0.6760\n",
            "Epoch: 080, Train Acc: 0.9750, Val Acc: 0.6720, Val F1 (micro): 0.6720\n",
            "Epoch: 090, Train Acc: 0.9833, Val Acc: 0.6800, Val F1 (micro): 0.6800\n",
            "Epoch: 100, Train Acc: 0.9833, Val Acc: 0.6540, Val F1 (micro): 0.6540\n",
            "Training time: 17.12 seconds\n",
            "Memory after cleanup: 117.05 MB\n",
            "Epoch: 010, Train Acc: 0.9833, Val Acc: 0.6660, Val F1 (micro): 0.6660\n",
            "Epoch: 020, Train Acc: 0.9750, Val Acc: 0.6460, Val F1 (micro): 0.6460\n",
            "Epoch: 030, Train Acc: 0.9750, Val Acc: 0.6440, Val F1 (micro): 0.6440\n",
            "Epoch: 040, Train Acc: 0.9917, Val Acc: 0.6460, Val F1 (micro): 0.6460\n",
            "Epoch: 050, Train Acc: 0.9917, Val Acc: 0.6680, Val F1 (micro): 0.6680\n",
            "Epoch: 060, Train Acc: 0.9917, Val Acc: 0.6660, Val F1 (micro): 0.6660\n",
            "Epoch: 070, Train Acc: 0.9917, Val Acc: 0.6720, Val F1 (micro): 0.6720\n",
            "Epoch: 080, Train Acc: 0.9667, Val Acc: 0.6900, Val F1 (micro): 0.6900\n",
            "Epoch: 090, Train Acc: 0.9833, Val Acc: 0.6740, Val F1 (micro): 0.6740\n",
            "Epoch: 100, Train Acc: 0.9833, Val Acc: 0.6880, Val F1 (micro): 0.6880\n",
            "Training time: 16.73 seconds\n",
            "Memory after cleanup: 117.05 MB\n",
            "Epoch: 010, Train Acc: 0.9667, Val Acc: 0.6660, Val F1 (micro): 0.6660\n",
            "Epoch: 020, Train Acc: 0.9750, Val Acc: 0.6520, Val F1 (micro): 0.6520\n",
            "Epoch: 030, Train Acc: 0.9750, Val Acc: 0.6680, Val F1 (micro): 0.6680\n",
            "Epoch: 040, Train Acc: 0.9750, Val Acc: 0.6720, Val F1 (micro): 0.6720\n",
            "Epoch: 050, Train Acc: 0.9750, Val Acc: 0.6620, Val F1 (micro): 0.6620\n",
            "Epoch: 060, Train Acc: 0.9917, Val Acc: 0.6660, Val F1 (micro): 0.6660\n",
            "Epoch: 070, Train Acc: 0.9917, Val Acc: 0.6140, Val F1 (micro): 0.6140\n",
            "Epoch: 080, Train Acc: 0.9917, Val Acc: 0.6820, Val F1 (micro): 0.6820\n",
            "Epoch: 090, Train Acc: 0.9750, Val Acc: 0.6800, Val F1 (micro): 0.6800\n",
            "Epoch: 100, Train Acc: 0.9750, Val Acc: 0.6720, Val F1 (micro): 0.6720\n",
            "Training time: 17.37 seconds\n",
            "Test F1 Score (micro): 0.6490\n",
            "Test test accuracy (micro):  0.6490\n"
          ]
        }
      ]
    },
    {
      "cell_type": "code",
      "source": [
        "print(res)\n",
        "print(sum(res)/10)\n",
        "print(f\"Allocated memory after tensor creation: {torch.cuda.memory_allocated() / (1024**2):.2f} MB\")\n",
        "print(f\"Reserved memory after tensor creation: {torch.cuda.memory_reserved() / (1024**2):.2f} MB\")\n",
        "print(f\"Peak allocated memory: {torch.cuda.max_memory_allocated() / (1024**2):.2f} MB\")\n"
      ],
      "metadata": {
        "id": "ux_tjd2T40qQ",
        "outputId": "71d9ddad-acf3-44a5-da0d-8bd5f790d0d0",
        "colab": {
          "base_uri": "https://localhost:8080/"
        }
      },
      "execution_count": null,
      "outputs": [
        {
          "output_type": "stream",
          "name": "stdout",
          "text": [
            "[0.674, 0.662, 0.657, 0.671, 0.644, 0.595, 0.666, 0.63, 0.668, 0.649]\n",
            "0.6516000000000001\n",
            "Allocated memory after tensor creation: 117.05 MB\n",
            "Reserved memory after tensor creation: 156.00 MB\n",
            "Peak allocated memory: 127.21 MB\n"
          ]
        }
      ]
    },
    {
      "cell_type": "code",
      "source": [
        "peak_memory_mb=f\"{torch.cuda.max_memory_allocated()/1024**2:.2f}\"\n",
        "total_train_time=f\"{end_time - start_time:.2f}\"\n",
        "\n",
        "metrics = {\n",
        "    \"model\": \"clusterGCN\",\n",
        "    \"accuracy\": test_acc,\n",
        "    \"f1_micro\":test_f1,\n",
        "    \"peak_memory_MB\": peak_memory_mb,\n",
        "    \"train_time_sec\": total_train_time,\n",
        "    \"mem_MB\":peak_memory_mb\n",
        "}\n",
        "\n",
        "with open(\"clusterGCN_CiteSeer_results.json\", \"w\") as f:\n",
        "    json.dump(metrics, f)"
      ],
      "metadata": {
        "id": "lzUy-01ve370"
      },
      "execution_count": null,
      "outputs": []
    },
    {
      "cell_type": "markdown",
      "source": [
        "**Amazon dataset**"
      ],
      "metadata": {
        "id": "38Lu3wX1fLKC"
      }
    },
    {
      "cell_type": "code",
      "source": [
        "clean_gpu_memory()\n",
        "\n",
        "def dataset_load():\n",
        "  print(f\"Using device: {device}\")\n",
        "  dataset = Amazon(\n",
        "        root='data/Amazon',\n",
        "        name='Computers',\n",
        "        transform=T.Compose([\n",
        "        NormalizeFeatures(),          # feature‑wise ℓ₂ normalisation\n",
        "        RandomNodeSplit(              # ⇦ add a split transform\n",
        "                split='train_rest',       # 10% val, 10% test by default\n",
        "                num_val=0.1,\n",
        "                num_test=0.1,\n",
        "                num_splits=1,\n",
        "            )\n",
        "        ])\n",
        "    )\n",
        "  num_features = dataset.num_features\n",
        "  num_classes = dataset.num_classes\n",
        "  data = dataset[0].to(device)  # Get the first graph object.\n",
        "  return num_features, data, num_classes, device,dataset\n",
        "\n",
        "num_features, data, num_classes, device, dataset = dataset_load()\n",
        "subgraphs = custom_partition(data, num_neighbors=5, num_hops=2)\n",
        "\n",
        "loader = DataLoader(subgraphs, batch_size=128, shuffle=True)\n",
        "\n",
        "model = GCN(hidden_channels=64).to(device)\n",
        "optimizer = torch.optim.Adam(model.parameters(), lr=0.01)\n",
        "criterion = torch.nn.CrossEntropyLoss().to(device)\n",
        "\n",
        "display(Javascript('''google.colab.output.setIframeHeight(0, true, {maxHeight: 300})'''))\n",
        "data=data.to(device)\n",
        "\n",
        "res=[]\n",
        "for i in range(10):\n",
        "  clean_gpu_memory()\n",
        "  start_time= time.time()\n",
        "  for epoch in range(1, 101):\n",
        "    loss = train_batch(loader)\n",
        "    if epoch % 10 == 0:\n",
        "      train_acc = test(data, data.train_mask)\n",
        "      val_acc = test(data, data.val_mask)\n",
        "      val_f1 = f1_micro(data, data.val_mask)\n",
        "      print(f'Epoch: {epoch:03d}, Train Acc: {train_acc:.4f}, Val Acc: {val_acc:.4f}, Val F1 (micro): {val_f1:.4f}')\n",
        "\n",
        "  end_time = time.time()\n",
        "  print(f\"Training time: {end_time - start_time:.2f} seconds\")\n",
        "  test_acc = test(data, data.test_mask)\n",
        "  res.append(test_acc)\n",
        "\n",
        "test_acc = test(data, data.test_mask)\n",
        "\n",
        "test_f1 = f1_micro(data, data.test_mask)\n",
        "print(f'Test F1 Score (micro): {test_f1:.4f}')\n",
        "print(f'Test test accuracy (micro):  {test_acc:.4f}')"
      ],
      "metadata": {
        "id": "IwvBacXte8XG",
        "outputId": "8f2b37be-4d32-474c-d2a1-0c41a4dd25fd",
        "colab": {
          "base_uri": "https://localhost:8080/",
          "height": 300
        }
      },
      "execution_count": null,
      "outputs": [
        {
          "output_type": "stream",
          "name": "stdout",
          "text": [
            "Memory after cleanup: 117.05 MB\n",
            "Using device: cuda\n"
          ]
        },
        {
          "output_type": "stream",
          "name": "stderr",
          "text": [
            "Downloading https://github.com/shchur/gnn-benchmark/raw/master/data/npz/amazon_electronics_computers.npz\n",
            "Processing...\n",
            "Done!\n",
            "/tmp/ipython-input-14-2948250694.py:12: ConstantInputWarning: An input array is constant; the correlation coefficient is not defined.\n",
            "  corr, _ = pearsonr(features[i], features[j])\n"
          ]
        },
        {
          "output_type": "display_data",
          "data": {
            "text/plain": [
              "<IPython.core.display.Javascript object>"
            ],
            "application/javascript": [
              "google.colab.output.setIframeHeight(0, true, {maxHeight: 300})"
            ]
          },
          "metadata": {}
        },
        {
          "output_type": "stream",
          "name": "stdout",
          "text": [
            "Memory after cleanup: 166.81 MB\n",
            "Epoch: 010, Train Acc: 0.6537, Val Acc: 0.6793, Val F1 (micro): 0.6793\n",
            "Epoch: 020, Train Acc: 0.7433, Val Acc: 0.7549, Val F1 (micro): 0.7549\n",
            "Epoch: 030, Train Acc: 0.7874, Val Acc: 0.7920, Val F1 (micro): 0.7920\n",
            "Epoch: 040, Train Acc: 0.8193, Val Acc: 0.8160, Val F1 (micro): 0.8160\n",
            "Epoch: 050, Train Acc: 0.8464, Val Acc: 0.8422, Val F1 (micro): 0.8422\n",
            "Epoch: 060, Train Acc: 0.8504, Val Acc: 0.8451, Val F1 (micro): 0.8451\n",
            "Epoch: 070, Train Acc: 0.8672, Val Acc: 0.8655, Val F1 (micro): 0.8655\n",
            "Epoch: 080, Train Acc: 0.8738, Val Acc: 0.8647, Val F1 (micro): 0.8647\n",
            "Epoch: 090, Train Acc: 0.8876, Val Acc: 0.8785, Val F1 (micro): 0.8785\n",
            "Epoch: 100, Train Acc: 0.8787, Val Acc: 0.8705, Val F1 (micro): 0.8705\n",
            "Training time: 24.53 seconds\n",
            "Memory after cleanup: 113.57 MB\n",
            "Epoch: 010, Train Acc: 0.8912, Val Acc: 0.8749, Val F1 (micro): 0.8749\n",
            "Epoch: 020, Train Acc: 0.8902, Val Acc: 0.8778, Val F1 (micro): 0.8778\n",
            "Epoch: 030, Train Acc: 0.8977, Val Acc: 0.8865, Val F1 (micro): 0.8865\n",
            "Epoch: 040, Train Acc: 0.8905, Val Acc: 0.8785, Val F1 (micro): 0.8785\n",
            "Epoch: 050, Train Acc: 0.8919, Val Acc: 0.8778, Val F1 (micro): 0.8778\n",
            "Epoch: 060, Train Acc: 0.9047, Val Acc: 0.8924, Val F1 (micro): 0.8924\n",
            "Epoch: 070, Train Acc: 0.9047, Val Acc: 0.8938, Val F1 (micro): 0.8938\n",
            "Epoch: 080, Train Acc: 0.9021, Val Acc: 0.8902, Val F1 (micro): 0.8902\n",
            "Epoch: 090, Train Acc: 0.9051, Val Acc: 0.8916, Val F1 (micro): 0.8916\n",
            "Epoch: 100, Train Acc: 0.9127, Val Acc: 0.8982, Val F1 (micro): 0.8982\n",
            "Training time: 24.31 seconds\n",
            "Memory after cleanup: 113.57 MB\n",
            "Epoch: 010, Train Acc: 0.9079, Val Acc: 0.8953, Val F1 (micro): 0.8953\n",
            "Epoch: 020, Train Acc: 0.9075, Val Acc: 0.8996, Val F1 (micro): 0.8996\n",
            "Epoch: 030, Train Acc: 0.9102, Val Acc: 0.8975, Val F1 (micro): 0.8975\n",
            "Epoch: 040, Train Acc: 0.9100, Val Acc: 0.8960, Val F1 (micro): 0.8960\n",
            "Epoch: 050, Train Acc: 0.9127, Val Acc: 0.8982, Val F1 (micro): 0.8982\n",
            "Epoch: 060, Train Acc: 0.9136, Val Acc: 0.9004, Val F1 (micro): 0.9004\n",
            "Epoch: 070, Train Acc: 0.9127, Val Acc: 0.8982, Val F1 (micro): 0.8982\n",
            "Epoch: 080, Train Acc: 0.9154, Val Acc: 0.8989, Val F1 (micro): 0.8989\n",
            "Epoch: 090, Train Acc: 0.9179, Val Acc: 0.9011, Val F1 (micro): 0.9011\n",
            "Epoch: 100, Train Acc: 0.9116, Val Acc: 0.8975, Val F1 (micro): 0.8975\n",
            "Training time: 25.01 seconds\n",
            "Memory after cleanup: 113.57 MB\n",
            "Epoch: 010, Train Acc: 0.9194, Val Acc: 0.9018, Val F1 (micro): 0.9018\n",
            "Epoch: 020, Train Acc: 0.9205, Val Acc: 0.8960, Val F1 (micro): 0.8960\n",
            "Epoch: 030, Train Acc: 0.9167, Val Acc: 0.9011, Val F1 (micro): 0.9011\n",
            "Epoch: 040, Train Acc: 0.9163, Val Acc: 0.9055, Val F1 (micro): 0.9055\n",
            "Epoch: 050, Train Acc: 0.9214, Val Acc: 0.9011, Val F1 (micro): 0.9011\n",
            "Epoch: 060, Train Acc: 0.9203, Val Acc: 0.9018, Val F1 (micro): 0.9018\n",
            "Epoch: 070, Train Acc: 0.9213, Val Acc: 0.9011, Val F1 (micro): 0.9011\n",
            "Epoch: 080, Train Acc: 0.9204, Val Acc: 0.9040, Val F1 (micro): 0.9040\n",
            "Epoch: 090, Train Acc: 0.9184, Val Acc: 0.9004, Val F1 (micro): 0.9004\n",
            "Epoch: 100, Train Acc: 0.9161, Val Acc: 0.8996, Val F1 (micro): 0.8996\n",
            "Training time: 24.91 seconds\n",
            "Memory after cleanup: 113.57 MB\n",
            "Epoch: 010, Train Acc: 0.9176, Val Acc: 0.9025, Val F1 (micro): 0.9025\n",
            "Epoch: 020, Train Acc: 0.9219, Val Acc: 0.9018, Val F1 (micro): 0.9018\n",
            "Epoch: 030, Train Acc: 0.9255, Val Acc: 0.9018, Val F1 (micro): 0.9018\n",
            "Epoch: 040, Train Acc: 0.9197, Val Acc: 0.9033, Val F1 (micro): 0.9033\n",
            "Epoch: 050, Train Acc: 0.9218, Val Acc: 0.9025, Val F1 (micro): 0.9025\n",
            "Epoch: 060, Train Acc: 0.9247, Val Acc: 0.9055, Val F1 (micro): 0.9055\n",
            "Epoch: 070, Train Acc: 0.9259, Val Acc: 0.9076, Val F1 (micro): 0.9076\n",
            "Epoch: 080, Train Acc: 0.9199, Val Acc: 0.8996, Val F1 (micro): 0.8996\n",
            "Epoch: 090, Train Acc: 0.9240, Val Acc: 0.9062, Val F1 (micro): 0.9062\n",
            "Epoch: 100, Train Acc: 0.9269, Val Acc: 0.9062, Val F1 (micro): 0.9062\n",
            "Training time: 25.20 seconds\n",
            "Memory after cleanup: 113.57 MB\n",
            "Epoch: 010, Train Acc: 0.9247, Val Acc: 0.9069, Val F1 (micro): 0.9069\n",
            "Epoch: 020, Train Acc: 0.9273, Val Acc: 0.9062, Val F1 (micro): 0.9062\n",
            "Epoch: 030, Train Acc: 0.9252, Val Acc: 0.9040, Val F1 (micro): 0.9040\n",
            "Epoch: 040, Train Acc: 0.9297, Val Acc: 0.9076, Val F1 (micro): 0.9076\n",
            "Epoch: 050, Train Acc: 0.9288, Val Acc: 0.9033, Val F1 (micro): 0.9033\n",
            "Epoch: 060, Train Acc: 0.9281, Val Acc: 0.9033, Val F1 (micro): 0.9033\n",
            "Epoch: 070, Train Acc: 0.9288, Val Acc: 0.9055, Val F1 (micro): 0.9055\n",
            "Epoch: 080, Train Acc: 0.9288, Val Acc: 0.9025, Val F1 (micro): 0.9025\n",
            "Epoch: 090, Train Acc: 0.9277, Val Acc: 0.9040, Val F1 (micro): 0.9040\n",
            "Epoch: 100, Train Acc: 0.9289, Val Acc: 0.9033, Val F1 (micro): 0.9033\n",
            "Training time: 24.67 seconds\n",
            "Memory after cleanup: 113.57 MB\n",
            "Epoch: 010, Train Acc: 0.9293, Val Acc: 0.9076, Val F1 (micro): 0.9076\n",
            "Epoch: 020, Train Acc: 0.9241, Val Acc: 0.9033, Val F1 (micro): 0.9033\n",
            "Epoch: 030, Train Acc: 0.9254, Val Acc: 0.9055, Val F1 (micro): 0.9055\n",
            "Epoch: 040, Train Acc: 0.9262, Val Acc: 0.9055, Val F1 (micro): 0.9055\n",
            "Epoch: 050, Train Acc: 0.9280, Val Acc: 0.9062, Val F1 (micro): 0.9062\n",
            "Epoch: 060, Train Acc: 0.9297, Val Acc: 0.9025, Val F1 (micro): 0.9025\n",
            "Epoch: 070, Train Acc: 0.9298, Val Acc: 0.9040, Val F1 (micro): 0.9040\n",
            "Epoch: 080, Train Acc: 0.9313, Val Acc: 0.9062, Val F1 (micro): 0.9062\n",
            "Epoch: 090, Train Acc: 0.9309, Val Acc: 0.9055, Val F1 (micro): 0.9055\n",
            "Epoch: 100, Train Acc: 0.9270, Val Acc: 0.9055, Val F1 (micro): 0.9055\n",
            "Training time: 24.51 seconds\n",
            "Memory after cleanup: 113.57 MB\n",
            "Epoch: 010, Train Acc: 0.9289, Val Acc: 0.9033, Val F1 (micro): 0.9033\n",
            "Epoch: 020, Train Acc: 0.9273, Val Acc: 0.9076, Val F1 (micro): 0.9076\n",
            "Epoch: 030, Train Acc: 0.9311, Val Acc: 0.9062, Val F1 (micro): 0.9062\n",
            "Epoch: 040, Train Acc: 0.9246, Val Acc: 0.9025, Val F1 (micro): 0.9025\n",
            "Epoch: 050, Train Acc: 0.9316, Val Acc: 0.9047, Val F1 (micro): 0.9047\n",
            "Epoch: 060, Train Acc: 0.9302, Val Acc: 0.9062, Val F1 (micro): 0.9062\n",
            "Epoch: 070, Train Acc: 0.9286, Val Acc: 0.9047, Val F1 (micro): 0.9047\n",
            "Epoch: 080, Train Acc: 0.9322, Val Acc: 0.9062, Val F1 (micro): 0.9062\n",
            "Epoch: 090, Train Acc: 0.9322, Val Acc: 0.9062, Val F1 (micro): 0.9062\n",
            "Epoch: 100, Train Acc: 0.9306, Val Acc: 0.9040, Val F1 (micro): 0.9040\n",
            "Training time: 24.52 seconds\n",
            "Memory after cleanup: 113.57 MB\n",
            "Epoch: 010, Train Acc: 0.9286, Val Acc: 0.9076, Val F1 (micro): 0.9076\n",
            "Epoch: 020, Train Acc: 0.9309, Val Acc: 0.9062, Val F1 (micro): 0.9062\n",
            "Epoch: 030, Train Acc: 0.9294, Val Acc: 0.9084, Val F1 (micro): 0.9084\n",
            "Epoch: 040, Train Acc: 0.9331, Val Acc: 0.9091, Val F1 (micro): 0.9091\n",
            "Epoch: 050, Train Acc: 0.9307, Val Acc: 0.9025, Val F1 (micro): 0.9025\n",
            "Epoch: 060, Train Acc: 0.9333, Val Acc: 0.9069, Val F1 (micro): 0.9069\n",
            "Epoch: 070, Train Acc: 0.9301, Val Acc: 0.9047, Val F1 (micro): 0.9047\n",
            "Epoch: 080, Train Acc: 0.9323, Val Acc: 0.9084, Val F1 (micro): 0.9084\n",
            "Epoch: 090, Train Acc: 0.9296, Val Acc: 0.9055, Val F1 (micro): 0.9055\n",
            "Epoch: 100, Train Acc: 0.9326, Val Acc: 0.9055, Val F1 (micro): 0.9055\n",
            "Training time: 24.58 seconds\n",
            "Memory after cleanup: 113.57 MB\n",
            "Epoch: 010, Train Acc: 0.9281, Val Acc: 0.9047, Val F1 (micro): 0.9047\n",
            "Epoch: 020, Train Acc: 0.9283, Val Acc: 0.9069, Val F1 (micro): 0.9069\n",
            "Epoch: 030, Train Acc: 0.9292, Val Acc: 0.9055, Val F1 (micro): 0.9055\n",
            "Epoch: 040, Train Acc: 0.9307, Val Acc: 0.9055, Val F1 (micro): 0.9055\n",
            "Epoch: 050, Train Acc: 0.9347, Val Acc: 0.9076, Val F1 (micro): 0.9076\n",
            "Epoch: 060, Train Acc: 0.9336, Val Acc: 0.9076, Val F1 (micro): 0.9076\n",
            "Epoch: 070, Train Acc: 0.9296, Val Acc: 0.9033, Val F1 (micro): 0.9033\n",
            "Epoch: 080, Train Acc: 0.9326, Val Acc: 0.9047, Val F1 (micro): 0.9047\n",
            "Epoch: 090, Train Acc: 0.9310, Val Acc: 0.9047, Val F1 (micro): 0.9047\n",
            "Epoch: 100, Train Acc: 0.9306, Val Acc: 0.9069, Val F1 (micro): 0.9069\n",
            "Training time: 24.57 seconds\n",
            "Test F1 Score (micro): 0.8960\n",
            "Test test accuracy (micro):  0.8960\n"
          ]
        }
      ]
    },
    {
      "cell_type": "code",
      "source": [
        "print(res)\n",
        "print(sum(res)/10)\n",
        "print(f\"Allocated memory after tensor creation: {torch.cuda.memory_allocated() / (1024**2):.2f} MB\")\n",
        "print(f\"Reserved memory after tensor creation: {torch.cuda.memory_reserved() / (1024**2):.2f} MB\")\n",
        "print(f\"Peak allocated memory: {torch.cuda.max_memory_allocated() / (1024**2):.2f} MB\")\n"
      ],
      "metadata": {
        "id": "NFsid8Rx-zJa",
        "outputId": "7f352e5b-3e91-4745-fb91-8647d83c4bbe",
        "colab": {
          "base_uri": "https://localhost:8080/"
        }
      },
      "execution_count": null,
      "outputs": [
        {
          "output_type": "stream",
          "name": "stdout",
          "text": [
            "[0.8552727272727273, 0.885090909090909, 0.8887272727272727, 0.8836363636363637, 0.901090909090909, 0.9032727272727272, 0.8974545454545455, 0.9054545454545454, 0.9061818181818182, 0.896]\n",
            "0.8922181818181819\n",
            "Allocated memory after tensor creation: 113.57 MB\n",
            "Reserved memory after tensor creation: 538.00 MB\n",
            "Peak allocated memory: 378.43 MB\n"
          ]
        }
      ]
    },
    {
      "cell_type": "code",
      "source": [
        "peak_memory_mb=f\"{torch.cuda.max_memory_allocated()/1024**2:.2f}\"\n",
        "total_train_time=f\"{end_time - start_time:.2f}\"\n",
        "\n",
        "metrics = {\n",
        "    \"model\": \"clusterGCN\",\n",
        "    \"accuracy\": test_acc,\n",
        "    \"f1_micro\":test_f1,\n",
        "    \"peak_memory_MB\": peak_memory_mb,\n",
        "    \"train_time_sec\": total_train_time,\n",
        "    \"mem_MB\":peak_memory_mb\n",
        "}\n",
        "\n",
        "with open(\"clusterGCN_Amazon_results.json\", \"w\") as f:\n",
        "    json.dump(metrics, f)"
      ],
      "metadata": {
        "id": "MjuBc24QfqKN"
      },
      "execution_count": null,
      "outputs": []
    }
  ]
}