{
  "nbformat": 4,
  "nbformat_minor": 0,
  "metadata": {
    "colab": {
      "provenance": [],
      "gpuType": "T4",
      "include_colab_link": true
    },
    "kernelspec": {
      "name": "python3",
      "display_name": "Python 3"
    },
    "language_info": {
      "name": "python"
    },
    "accelerator": "GPU"
  },
  "cells": [
    {
      "cell_type": "markdown",
      "metadata": {
        "id": "view-in-github",
        "colab_type": "text"
      },
      "source": [
        "<a href=\"https://colab.research.google.com/github/ghommidhWassim/GNN-variants/blob/main/nodeFeatCorrGCN.ipynb\" target=\"_parent\"><img src=\"https://colab.research.google.com/assets/colab-badge.svg\" alt=\"Open In Colab\"/></a>"
      ]
    },
    {
      "cell_type": "code",
      "execution_count": 1,
      "metadata": {
        "colab": {
          "base_uri": "https://localhost:8080/"
        },
        "id": "qZOSwsC8Mjpt",
        "outputId": "444bc4a6-480d-4645-cd18-ff535776c504"
      },
      "outputs": [
        {
          "output_type": "stream",
          "name": "stdout",
          "text": [
            "  Installing build dependencies ... \u001b[?25l\u001b[?25hdone\n",
            "  Getting requirements to build wheel ... \u001b[?25l\u001b[?25hdone\n",
            "  Preparing metadata (pyproject.toml) ... \u001b[?25l\u001b[?25hdone\n",
            "  Building wheel for torch-geometric (pyproject.toml) ... \u001b[?25l\u001b[?25hdone\n",
            "2.6.0+cu124\n",
            "12.4\n",
            "Requirement already satisfied: torchvision in /usr/local/lib/python3.11/dist-packages (0.21.0+cu124)\n",
            "Requirement already satisfied: numpy in /usr/local/lib/python3.11/dist-packages (from torchvision) (2.0.2)\n",
            "Requirement already satisfied: torch==2.6.0 in /usr/local/lib/python3.11/dist-packages (from torchvision) (2.6.0+cu124)\n",
            "Requirement already satisfied: pillow!=8.3.*,>=5.3.0 in /usr/local/lib/python3.11/dist-packages (from torchvision) (11.2.1)\n",
            "Requirement already satisfied: filelock in /usr/local/lib/python3.11/dist-packages (from torch==2.6.0->torchvision) (3.18.0)\n",
            "Requirement already satisfied: typing-extensions>=4.10.0 in /usr/local/lib/python3.11/dist-packages (from torch==2.6.0->torchvision) (4.14.1)\n",
            "Requirement already satisfied: networkx in /usr/local/lib/python3.11/dist-packages (from torch==2.6.0->torchvision) (3.5)\n",
            "Requirement already satisfied: jinja2 in /usr/local/lib/python3.11/dist-packages (from torch==2.6.0->torchvision) (3.1.6)\n",
            "Requirement already satisfied: fsspec in /usr/local/lib/python3.11/dist-packages (from torch==2.6.0->torchvision) (2025.3.2)\n",
            "Collecting nvidia-cuda-nvrtc-cu12==12.4.127 (from torch==2.6.0->torchvision)\n",
            "  Downloading nvidia_cuda_nvrtc_cu12-12.4.127-py3-none-manylinux2014_x86_64.whl.metadata (1.5 kB)\n",
            "Collecting nvidia-cuda-runtime-cu12==12.4.127 (from torch==2.6.0->torchvision)\n",
            "  Downloading nvidia_cuda_runtime_cu12-12.4.127-py3-none-manylinux2014_x86_64.whl.metadata (1.5 kB)\n",
            "Collecting nvidia-cuda-cupti-cu12==12.4.127 (from torch==2.6.0->torchvision)\n",
            "  Downloading nvidia_cuda_cupti_cu12-12.4.127-py3-none-manylinux2014_x86_64.whl.metadata (1.6 kB)\n",
            "Collecting nvidia-cudnn-cu12==9.1.0.70 (from torch==2.6.0->torchvision)\n",
            "  Downloading nvidia_cudnn_cu12-9.1.0.70-py3-none-manylinux2014_x86_64.whl.metadata (1.6 kB)\n",
            "Collecting nvidia-cublas-cu12==12.4.5.8 (from torch==2.6.0->torchvision)\n",
            "  Downloading nvidia_cublas_cu12-12.4.5.8-py3-none-manylinux2014_x86_64.whl.metadata (1.5 kB)\n",
            "Collecting nvidia-cufft-cu12==11.2.1.3 (from torch==2.6.0->torchvision)\n",
            "  Downloading nvidia_cufft_cu12-11.2.1.3-py3-none-manylinux2014_x86_64.whl.metadata (1.5 kB)\n",
            "Collecting nvidia-curand-cu12==10.3.5.147 (from torch==2.6.0->torchvision)\n",
            "  Downloading nvidia_curand_cu12-10.3.5.147-py3-none-manylinux2014_x86_64.whl.metadata (1.5 kB)\n",
            "Collecting nvidia-cusolver-cu12==11.6.1.9 (from torch==2.6.0->torchvision)\n",
            "  Downloading nvidia_cusolver_cu12-11.6.1.9-py3-none-manylinux2014_x86_64.whl.metadata (1.6 kB)\n",
            "Collecting nvidia-cusparse-cu12==12.3.1.170 (from torch==2.6.0->torchvision)\n",
            "  Downloading nvidia_cusparse_cu12-12.3.1.170-py3-none-manylinux2014_x86_64.whl.metadata (1.6 kB)\n",
            "Requirement already satisfied: nvidia-cusparselt-cu12==0.6.2 in /usr/local/lib/python3.11/dist-packages (from torch==2.6.0->torchvision) (0.6.2)\n",
            "Requirement already satisfied: nvidia-nccl-cu12==2.21.5 in /usr/local/lib/python3.11/dist-packages (from torch==2.6.0->torchvision) (2.21.5)\n",
            "Requirement already satisfied: nvidia-nvtx-cu12==12.4.127 in /usr/local/lib/python3.11/dist-packages (from torch==2.6.0->torchvision) (12.4.127)\n",
            "Collecting nvidia-nvjitlink-cu12==12.4.127 (from torch==2.6.0->torchvision)\n",
            "  Downloading nvidia_nvjitlink_cu12-12.4.127-py3-none-manylinux2014_x86_64.whl.metadata (1.5 kB)\n",
            "Requirement already satisfied: triton==3.2.0 in /usr/local/lib/python3.11/dist-packages (from torch==2.6.0->torchvision) (3.2.0)\n",
            "Requirement already satisfied: sympy==1.13.1 in /usr/local/lib/python3.11/dist-packages (from torch==2.6.0->torchvision) (1.13.1)\n",
            "Requirement already satisfied: mpmath<1.4,>=1.1.0 in /usr/local/lib/python3.11/dist-packages (from sympy==1.13.1->torch==2.6.0->torchvision) (1.3.0)\n",
            "Requirement already satisfied: MarkupSafe>=2.0 in /usr/local/lib/python3.11/dist-packages (from jinja2->torch==2.6.0->torchvision) (3.0.2)\n",
            "Downloading nvidia_cublas_cu12-12.4.5.8-py3-none-manylinux2014_x86_64.whl (363.4 MB)\n",
            "\u001b[2K   \u001b[90m━━━━━━━━━━━━━━━━━━━━━━━━━━━━━━━━━━━━━━━━\u001b[0m \u001b[32m363.4/363.4 MB\u001b[0m \u001b[31m3.9 MB/s\u001b[0m eta \u001b[36m0:00:00\u001b[0m\n",
            "\u001b[?25hDownloading nvidia_cuda_cupti_cu12-12.4.127-py3-none-manylinux2014_x86_64.whl (13.8 MB)\n",
            "\u001b[2K   \u001b[90m━━━━━━━━━━━━━━━━━━━━━━━━━━━━━━━━━━━━━━━━\u001b[0m \u001b[32m13.8/13.8 MB\u001b[0m \u001b[31m90.5 MB/s\u001b[0m eta \u001b[36m0:00:00\u001b[0m\n",
            "\u001b[?25hDownloading nvidia_cuda_nvrtc_cu12-12.4.127-py3-none-manylinux2014_x86_64.whl (24.6 MB)\n",
            "\u001b[2K   \u001b[90m━━━━━━━━━━━━━━━━━━━━━━━━━━━━━━━━━━━━━━━━\u001b[0m \u001b[32m24.6/24.6 MB\u001b[0m \u001b[31m74.9 MB/s\u001b[0m eta \u001b[36m0:00:00\u001b[0m\n",
            "\u001b[?25hDownloading nvidia_cuda_runtime_cu12-12.4.127-py3-none-manylinux2014_x86_64.whl (883 kB)\n",
            "\u001b[2K   \u001b[90m━━━━━━━━━━━━━━━━━━━━━━━━━━━━━━━━━━━━━━━━\u001b[0m \u001b[32m883.7/883.7 kB\u001b[0m \u001b[31m49.1 MB/s\u001b[0m eta \u001b[36m0:00:00\u001b[0m\n",
            "\u001b[?25hDownloading nvidia_cudnn_cu12-9.1.0.70-py3-none-manylinux2014_x86_64.whl (664.8 MB)\n",
            "\u001b[2K   \u001b[90m━━━━━━━━━━━━━━━━━━━━━━━━━━━━━━━━━━━━━━━\u001b[0m \u001b[32m664.8/664.8 MB\u001b[0m \u001b[31m835.0 kB/s\u001b[0m eta \u001b[36m0:00:00\u001b[0m\n",
            "\u001b[?25hDownloading nvidia_cufft_cu12-11.2.1.3-py3-none-manylinux2014_x86_64.whl (211.5 MB)\n",
            "\u001b[2K   \u001b[90m━━━━━━━━━━━━━━━━━━━━━━━━━━━━━━━━━━━━━━━━\u001b[0m \u001b[32m211.5/211.5 MB\u001b[0m \u001b[31m6.3 MB/s\u001b[0m eta \u001b[36m0:00:00\u001b[0m\n",
            "\u001b[?25hDownloading nvidia_curand_cu12-10.3.5.147-py3-none-manylinux2014_x86_64.whl (56.3 MB)\n",
            "\u001b[2K   \u001b[90m━━━━━━━━━━━━━━━━━━━━━━━━━━━━━━━━━━━━━━━━\u001b[0m \u001b[32m56.3/56.3 MB\u001b[0m \u001b[31m14.5 MB/s\u001b[0m eta \u001b[36m0:00:00\u001b[0m\n",
            "\u001b[?25hDownloading nvidia_cusolver_cu12-11.6.1.9-py3-none-manylinux2014_x86_64.whl (127.9 MB)\n",
            "\u001b[2K   \u001b[90m━━━━━━━━━━━━━━━━━━━━━━━━━━━━━━━━━━━━━━━━\u001b[0m \u001b[32m127.9/127.9 MB\u001b[0m \u001b[31m8.0 MB/s\u001b[0m eta \u001b[36m0:00:00\u001b[0m\n",
            "\u001b[?25hDownloading nvidia_cusparse_cu12-12.3.1.170-py3-none-manylinux2014_x86_64.whl (207.5 MB)\n",
            "\u001b[2K   \u001b[90m━━━━━━━━━━━━━━━━━━━━━━━━━━━━━━━━━━━━━━━━\u001b[0m \u001b[32m207.5/207.5 MB\u001b[0m \u001b[31m7.4 MB/s\u001b[0m eta \u001b[36m0:00:00\u001b[0m\n",
            "\u001b[?25hDownloading nvidia_nvjitlink_cu12-12.4.127-py3-none-manylinux2014_x86_64.whl (21.1 MB)\n",
            "\u001b[2K   \u001b[90m━━━━━━━━━━━━━━━━━━━━━━━━━━━━━━━━━━━━━━━━\u001b[0m \u001b[32m21.1/21.1 MB\u001b[0m \u001b[31m42.3 MB/s\u001b[0m eta \u001b[36m0:00:00\u001b[0m\n",
            "\u001b[?25hInstalling collected packages: nvidia-nvjitlink-cu12, nvidia-curand-cu12, nvidia-cufft-cu12, nvidia-cuda-runtime-cu12, nvidia-cuda-nvrtc-cu12, nvidia-cuda-cupti-cu12, nvidia-cublas-cu12, nvidia-cusparse-cu12, nvidia-cudnn-cu12, nvidia-cusolver-cu12\n",
            "  Attempting uninstall: nvidia-nvjitlink-cu12\n",
            "    Found existing installation: nvidia-nvjitlink-cu12 12.5.82\n",
            "    Uninstalling nvidia-nvjitlink-cu12-12.5.82:\n",
            "      Successfully uninstalled nvidia-nvjitlink-cu12-12.5.82\n",
            "  Attempting uninstall: nvidia-curand-cu12\n",
            "    Found existing installation: nvidia-curand-cu12 10.3.6.82\n",
            "    Uninstalling nvidia-curand-cu12-10.3.6.82:\n",
            "      Successfully uninstalled nvidia-curand-cu12-10.3.6.82\n",
            "  Attempting uninstall: nvidia-cufft-cu12\n",
            "    Found existing installation: nvidia-cufft-cu12 11.2.3.61\n",
            "    Uninstalling nvidia-cufft-cu12-11.2.3.61:\n",
            "      Successfully uninstalled nvidia-cufft-cu12-11.2.3.61\n",
            "  Attempting uninstall: nvidia-cuda-runtime-cu12\n",
            "    Found existing installation: nvidia-cuda-runtime-cu12 12.5.82\n",
            "    Uninstalling nvidia-cuda-runtime-cu12-12.5.82:\n",
            "      Successfully uninstalled nvidia-cuda-runtime-cu12-12.5.82\n",
            "  Attempting uninstall: nvidia-cuda-nvrtc-cu12\n",
            "    Found existing installation: nvidia-cuda-nvrtc-cu12 12.5.82\n",
            "    Uninstalling nvidia-cuda-nvrtc-cu12-12.5.82:\n",
            "      Successfully uninstalled nvidia-cuda-nvrtc-cu12-12.5.82\n",
            "  Attempting uninstall: nvidia-cuda-cupti-cu12\n",
            "    Found existing installation: nvidia-cuda-cupti-cu12 12.5.82\n",
            "    Uninstalling nvidia-cuda-cupti-cu12-12.5.82:\n",
            "      Successfully uninstalled nvidia-cuda-cupti-cu12-12.5.82\n",
            "  Attempting uninstall: nvidia-cublas-cu12\n",
            "    Found existing installation: nvidia-cublas-cu12 12.5.3.2\n",
            "    Uninstalling nvidia-cublas-cu12-12.5.3.2:\n",
            "      Successfully uninstalled nvidia-cublas-cu12-12.5.3.2\n",
            "  Attempting uninstall: nvidia-cusparse-cu12\n",
            "    Found existing installation: nvidia-cusparse-cu12 12.5.1.3\n",
            "    Uninstalling nvidia-cusparse-cu12-12.5.1.3:\n",
            "      Successfully uninstalled nvidia-cusparse-cu12-12.5.1.3\n",
            "  Attempting uninstall: nvidia-cudnn-cu12\n",
            "    Found existing installation: nvidia-cudnn-cu12 9.3.0.75\n",
            "    Uninstalling nvidia-cudnn-cu12-9.3.0.75:\n",
            "      Successfully uninstalled nvidia-cudnn-cu12-9.3.0.75\n",
            "  Attempting uninstall: nvidia-cusolver-cu12\n",
            "    Found existing installation: nvidia-cusolver-cu12 11.6.3.83\n",
            "    Uninstalling nvidia-cusolver-cu12-11.6.3.83:\n",
            "      Successfully uninstalled nvidia-cusolver-cu12-11.6.3.83\n",
            "Successfully installed nvidia-cublas-cu12-12.4.5.8 nvidia-cuda-cupti-cu12-12.4.127 nvidia-cuda-nvrtc-cu12-12.4.127 nvidia-cuda-runtime-cu12-12.4.127 nvidia-cudnn-cu12-9.1.0.70 nvidia-cufft-cu12-11.2.1.3 nvidia-curand-cu12-10.3.5.147 nvidia-cusolver-cu12-11.6.1.9 nvidia-cusparse-cu12-12.3.1.170 nvidia-nvjitlink-cu12-12.4.127\n",
            "Looking in links: https://data.pyg.org/whl/torch-2.6.0+cu124.html\n",
            "Collecting pyg_lib\n",
            "  Downloading https://data.pyg.org/whl/torch-2.6.0%2Bcu124/pyg_lib-0.4.0%2Bpt26cu124-cp311-cp311-linux_x86_64.whl (4.7 MB)\n",
            "\u001b[2K     \u001b[90m━━━━━━━━━━━━━━━━━━━━━━━━━━━━━━━━━━━━━━━━\u001b[0m \u001b[32m4.7/4.7 MB\u001b[0m \u001b[31m20.7 MB/s\u001b[0m eta \u001b[36m0:00:00\u001b[0m\n",
            "\u001b[?25hCollecting torch_scatter\n",
            "  Downloading https://data.pyg.org/whl/torch-2.6.0%2Bcu124/torch_scatter-2.1.2%2Bpt26cu124-cp311-cp311-linux_x86_64.whl (10.8 MB)\n",
            "\u001b[2K     \u001b[90m━━━━━━━━━━━━━━━━━━━━━━━━━━━━━━━━━━━━━━━━\u001b[0m \u001b[32m10.8/10.8 MB\u001b[0m \u001b[31m49.2 MB/s\u001b[0m eta \u001b[36m0:00:00\u001b[0m\n",
            "\u001b[?25hCollecting torch_sparse\n",
            "  Downloading https://data.pyg.org/whl/torch-2.6.0%2Bcu124/torch_sparse-0.6.18%2Bpt26cu124-cp311-cp311-linux_x86_64.whl (5.0 MB)\n",
            "\u001b[2K     \u001b[90m━━━━━━━━━━━━━━━━━━━━━━━━━━━━━━━━━━━━━━━━\u001b[0m \u001b[32m5.0/5.0 MB\u001b[0m \u001b[31m99.7 MB/s\u001b[0m eta \u001b[36m0:00:00\u001b[0m\n",
            "\u001b[?25hCollecting torch_cluster\n",
            "  Downloading https://data.pyg.org/whl/torch-2.6.0%2Bcu124/torch_cluster-1.6.3%2Bpt26cu124-cp311-cp311-linux_x86_64.whl (3.4 MB)\n",
            "\u001b[2K     \u001b[90m━━━━━━━━━━━━━━━━━━━━━━━━━━━━━━━━━━━━━━━━\u001b[0m \u001b[32m3.4/3.4 MB\u001b[0m \u001b[31m95.6 MB/s\u001b[0m eta \u001b[36m0:00:00\u001b[0m\n",
            "\u001b[?25hCollecting torch_spline_conv\n",
            "  Downloading https://data.pyg.org/whl/torch-2.6.0%2Bcu124/torch_spline_conv-1.2.2%2Bpt26cu124-cp311-cp311-linux_x86_64.whl (1.0 MB)\n",
            "\u001b[2K     \u001b[90m━━━━━━━━━━━━━━━━━━━━━━━━━━━━━━━━━━━━━━━━\u001b[0m \u001b[32m1.0/1.0 MB\u001b[0m \u001b[31m58.2 MB/s\u001b[0m eta \u001b[36m0:00:00\u001b[0m\n",
            "\u001b[?25hRequirement already satisfied: scipy in /usr/local/lib/python3.11/dist-packages (from torch_sparse) (1.15.3)\n",
            "Requirement already satisfied: numpy<2.5,>=1.23.5 in /usr/local/lib/python3.11/dist-packages (from scipy->torch_sparse) (2.0.2)\n",
            "Installing collected packages: torch_spline_conv, torch_scatter, pyg_lib, torch_sparse, torch_cluster\n",
            "Successfully installed pyg_lib-0.4.0+pt26cu124 torch_cluster-1.6.3+pt26cu124 torch_scatter-2.1.2+pt26cu124 torch_sparse-0.6.18+pt26cu124 torch_spline_conv-1.2.2+pt26cu124\n"
          ]
        }
      ],
      "source": [
        "!pip install -q git+https://github.com/pyg-team/pytorch_geometric.git\n",
        "!python -c \"import torch; print(torch.__version__)\"\n",
        "!python -c \"import torch; print(torch.version.cuda)\"\n",
        "!pip install torchvision\n",
        "!pip install pyg_lib torch_scatter torch_sparse torch_cluster torch_spline_conv -f https://data.pyg.org/whl/torch-2.6.0+cu124.html\n"
      ]
    },
    {
      "cell_type": "code",
      "source": [
        "# Standard libraries\n",
        "import numpy as np\n",
        "from scipy import sparse\n",
        "import seaborn as sns\n",
        "import pandas as pd\n",
        "import time\n",
        "import json\n",
        "# Plotting libraries\n",
        "import matplotlib.pyplot as plt\n",
        "import networkx as nx\n",
        "from matplotlib import cm\n",
        "from IPython.display import Javascript  # Restrict height of output cell.\n",
        "\n",
        "# PyTorch\n",
        "import torch\n",
        "import torch.nn.functional as F\n",
        "from torch.nn import Linear\n",
        "import torch.nn as nn\n",
        "from torch_sparse import spmm\n",
        "# import pyg_lib\n",
        "import torch_sparse\n",
        "from torch_geometric.utils import to_networkx\n",
        "from sklearn.metrics import f1_score\n",
        "\n",
        "# PyTorch geometric\n",
        "from torch_geometric.nn import GCNConv\n",
        "from torch_geometric.datasets import Planetoid,Amazon\n",
        "from torch_geometric.loader import ClusterData, ClusterLoader\n",
        "from torch_geometric.transforms import NormalizeFeatures, RandomNodeSplit\n",
        "import torch_geometric.transforms as T\n",
        "from torch_geometric.data import Data\n",
        "from torch_geometric import seed_everything\n",
        "from torch.profiler import profile, record_function, ProfilerActivity\n",
        "import os.path as osp\n",
        "from torch_geometric.datasets import Planetoid\n",
        "from torch_geometric.loader import NeighborLoader\n",
        "from torch_geometric.nn import GraphSAGE\n",
        "from sklearn.metrics import accuracy_score\n",
        "from transformers import AutoModelForCausalLM\n",
        "from torch.profiler import profile, record_function, ProfilerActivity"
      ],
      "metadata": {
        "id": "Q0y6VyZAMzYu"
      },
      "execution_count": 11,
      "outputs": []
    },
    {
      "cell_type": "code",
      "source": [
        "def clean_gpu_memory():\n",
        "    \"\"\"Cleans GPU memory without fully resetting the CUDA context\"\"\"\n",
        "    import gc\n",
        "    gc.collect()  # Python garbage collection\n",
        "    if torch.cuda.is_available():\n",
        "        torch.cuda.empty_cache()  # PyTorch cache\n",
        "        torch.cuda.reset_peak_memory_stats()  # Reset tracking\n",
        "        print(f\"Memory after cleanup: {torch.cuda.memory_allocated()/1024**2:.2f} MB\")\n",
        "\n",
        "def f1_micro(data, mask):\n",
        "    model.eval()\n",
        "    out = model(data.x.to(device), data.edge_index.to(device))\n",
        "    pred = out.argmax(dim=1)\n",
        "    y_true = data.y[mask].cpu().numpy()\n",
        "    y_pred = pred[mask.to(device)].cpu().numpy()\n",
        "    return f1_score(y_true, y_pred, average='micro')\n"
      ],
      "metadata": {
        "id": "q5vzbaLgWcBv"
      },
      "execution_count": 3,
      "outputs": []
    },
    {
      "cell_type": "code",
      "source": [
        "device = torch.device('cuda' if torch.cuda.is_available() else 'cpu')\n",
        "print(f\"Initial allocated memory: {torch.cuda.memory_allocated() / (1024**2):.2f} MB\")\n",
        "\n",
        "def dataset_load():\n",
        "  print(f\"Using device: {device}\")\n",
        "  dataset = Planetoid(root='data/Planetoid', name='PubMed', transform=NormalizeFeatures())\n",
        "  num_features = dataset.num_features\n",
        "  num_classes = dataset.num_classes\n",
        "  data = dataset[0].to(device)  # Get the first graph object.\n",
        "  return num_features, data, num_classes, device,dataset"
      ],
      "metadata": {
        "colab": {
          "base_uri": "https://localhost:8080/"
        },
        "id": "K_VYH5nBNHXl",
        "outputId": "6d29cfba-b492-408c-fd3d-690427957581"
      },
      "execution_count": 4,
      "outputs": [
        {
          "output_type": "stream",
          "name": "stdout",
          "text": [
            "Initial allocated memory: 0.00 MB\n"
          ]
        }
      ]
    },
    {
      "cell_type": "code",
      "source": [
        "num_features, data, num_classes, device, dataset = dataset_load()\n",
        "print(f'Number of nodes:          {data.num_nodes}')\n",
        "print(f'Number of edges:          {data.num_edges}')\n",
        "print(f'Average node degree:      {data.num_edges / data.num_nodes:.2f}')\n",
        "print(f'Number of training nodes: {data.train_mask.sum()}')\n",
        "print(f'Training node label rate: {int(data.train_mask.sum()) / data.num_nodes:.3f}')\n",
        "print(f'Has isolated nodes:       {data.has_isolated_nodes()}')\n",
        "print(f'Has self-loops:           {data.has_self_loops()}')\n",
        "print(f'Is undirected:            {data.is_undirected()}')"
      ],
      "metadata": {
        "colab": {
          "base_uri": "https://localhost:8080/"
        },
        "id": "O328-q0NNMAQ",
        "outputId": "003509c6-501e-4ac8-b2be-ad8dca678207"
      },
      "execution_count": 5,
      "outputs": [
        {
          "output_type": "stream",
          "name": "stdout",
          "text": [
            "Using device: cuda\n"
          ]
        },
        {
          "output_type": "stream",
          "name": "stderr",
          "text": [
            "Downloading https://github.com/kimiyoung/planetoid/raw/master/data/ind.pubmed.x\n",
            "Downloading https://github.com/kimiyoung/planetoid/raw/master/data/ind.pubmed.tx\n",
            "Downloading https://github.com/kimiyoung/planetoid/raw/master/data/ind.pubmed.allx\n",
            "Downloading https://github.com/kimiyoung/planetoid/raw/master/data/ind.pubmed.y\n",
            "Downloading https://github.com/kimiyoung/planetoid/raw/master/data/ind.pubmed.ty\n",
            "Downloading https://github.com/kimiyoung/planetoid/raw/master/data/ind.pubmed.ally\n",
            "Downloading https://github.com/kimiyoung/planetoid/raw/master/data/ind.pubmed.graph\n",
            "Downloading https://github.com/kimiyoung/planetoid/raw/master/data/ind.pubmed.test.index\n",
            "Processing...\n",
            "Done!\n"
          ]
        },
        {
          "output_type": "stream",
          "name": "stdout",
          "text": [
            "Number of nodes:          19717\n",
            "Number of edges:          88648\n",
            "Average node degree:      4.50\n",
            "Number of training nodes: 60\n",
            "Training node label rate: 0.003\n",
            "Has isolated nodes:       False\n",
            "Has self-loops:           False\n",
            "Is undirected:            True\n"
          ]
        }
      ]
    },
    {
      "cell_type": "code",
      "source": [
        "class GCN(torch.nn.Module):\n",
        "  def __init__(self, hidden_channels):\n",
        "    super().__init__()\n",
        "    self.conv1 = GCNConv(num_features, hidden_channels)\n",
        "    self.conv2 = GCNConv(hidden_channels, num_classes)\n",
        "\n",
        "  def forward(self, x, edge_index):\n",
        "    x = self.conv1(x, edge_index)\n",
        "    x = x.relu()\n",
        "    x = F.dropout(x, p=0.5, training=self.training)\n",
        "    x = self.conv2(x, edge_index)\n",
        "    return F.log_softmax(x, dim=-1)"
      ],
      "metadata": {
        "id": "lPsgIR3oNUFn"
      },
      "execution_count": 6,
      "outputs": []
    },
    {
      "cell_type": "code",
      "source": [
        "def train(data, mask):\n",
        "  model.train()\n",
        "  optimizer.zero_grad()  # Clear gradients.\n",
        "  out = model(data.x, data.edge_index)  # Perform a single forward pass.\n",
        "  loss = criterion(out[mask], data.y[mask])  # Compute the loss solely based on the training nodes.\n",
        "  loss.backward()  # Derive gradients.\n",
        "  optimizer.step()  # Update parameters based on gradients.\n",
        "  return loss\n",
        "\n",
        "def test(data, mask):\n",
        "  model.eval()\n",
        "  out = model(data.x.to(device), data.edge_index.to(device))\n",
        "  pred = out.argmax(dim=1)\n",
        "  correct = pred[mask.to(device)] == data.y[mask.to(device)]\n",
        "  acc = int(correct.sum()) / int(mask.sum())\n",
        "  return acc"
      ],
      "metadata": {
        "id": "HHEgYQ9fNWg6"
      },
      "execution_count": 7,
      "outputs": []
    },
    {
      "cell_type": "code",
      "source": [
        "import torch\n",
        "from torch_geometric.utils import subgraph, to_networkx\n",
        "import numpy as np\n",
        "from scipy.stats import pearsonr\n",
        "\n",
        "def compute_corr_matrix(features):\n",
        "    # features: [num_nodes, num_features] numpy array\n",
        "    n = features.shape[0]\n",
        "    corr_matrix = np.ones((n, n))\n",
        "    for i in range(n):\n",
        "        for j in range(i + 1, n):\n",
        "            corr, _ = pearsonr(features[i], features[j])\n",
        "            corr_matrix[i, j] = corr\n",
        "            corr_matrix[j, i] = corr\n",
        "    return corr_matrix\n",
        "\n",
        "def select_least_correlated_nodes(nodes_idx, features_np, num_select):\n",
        "    # nodes_idx: list of node indices (int) to consider neighbors for\n",
        "    # features_np: numpy array of features of those nodes\n",
        "    n = len(nodes_idx)\n",
        "    corr_matrix = compute_corr_matrix(features_np)\n",
        "\n",
        "    selected_indices = set()\n",
        "    for i in range(n):\n",
        "        # sort neighbors by ascending correlation (less correlated first)\n",
        "        corr_values = corr_matrix[i]\n",
        "        sorted_indices = np.argsort(np.abs(corr_values))  # abs because correlation ranges [-1,1]\n",
        "        # remove self index\n",
        "        sorted_indices = sorted_indices[sorted_indices != i]\n",
        "\n",
        "        # select top-k least correlated neighbors (or all available)\n",
        "        k = min(num_select, len(sorted_indices))\n",
        "        for idx in sorted_indices[:k]:\n",
        "            selected_indices.add(nodes_idx[idx])\n",
        "    return list(selected_indices)\n",
        "\n",
        "def custom_partition(data, num_neighbors=4, num_hops=2):\n",
        "    all_nodes = set(range(data.num_nodes))\n",
        "    used_nodes = set()\n",
        "    subgraphs = []\n",
        "\n",
        "    x_np = data.x.cpu().numpy()\n",
        "\n",
        "    while len(used_nodes) < data.num_nodes:\n",
        "        # Remaining nodes to pick from\n",
        "        candidate_nodes = list(all_nodes - used_nodes)\n",
        "        if not candidate_nodes:\n",
        "            break\n",
        "\n",
        "        # Pick a random seed node not used yet\n",
        "        seed = np.random.choice(candidate_nodes)\n",
        "        current_hop_nodes = [seed]\n",
        "        selected_nodes = set([seed])  # Include starting node\n",
        "\n",
        "        for hop in range(num_hops):\n",
        "            neighbors = []\n",
        "            # get neighbors of current hop nodes\n",
        "            for node in current_hop_nodes:\n",
        "                neigh = data.edge_index[1][data.edge_index[0] == node].cpu().numpy()\n",
        "                neighbors.extend(neigh.tolist())\n",
        "            neighbors = list(set(neighbors) - used_nodes - selected_nodes)\n",
        "            if not neighbors:\n",
        "                break\n",
        "\n",
        "            # get features of neighbors and current hop nodes combined\n",
        "            nodes_to_consider = current_hop_nodes + neighbors\n",
        "            feats = x_np[nodes_to_consider]\n",
        "\n",
        "            # select least correlated neighbors among neighbors\n",
        "            selected_neighbors = select_least_correlated_nodes(neighbors, x_np[neighbors], num_neighbors)\n",
        "\n",
        "            selected_nodes.update(selected_neighbors)\n",
        "            current_hop_nodes = selected_neighbors\n",
        "\n",
        "        used_nodes.update(selected_nodes)\n",
        "\n",
        "        # Build subgraph with selected nodes\n",
        "        sub_nodes = list(selected_nodes)\n",
        "        edge_index_sub, _ = subgraph(sub_nodes, data.edge_index, relabel_nodes=True, num_nodes=data.num_nodes)\n",
        "\n",
        "        x_sub = data.x[sub_nodes]\n",
        "        y_sub = data.y[sub_nodes]\n",
        "        mask_sub = {}\n",
        "        for key in ['train_mask', 'val_mask', 'test_mask']:\n",
        "            if hasattr(data, key):\n",
        "                mask = getattr(data, key)\n",
        "                mask_sub[key] = mask[sub_nodes]\n",
        "\n",
        "        subgraph_data = Data(\n",
        "            x=x_sub,\n",
        "            edge_index=edge_index_sub,\n",
        "            y=y_sub,\n",
        "            **mask_sub\n",
        "        )\n",
        "        subgraphs.append(subgraph_data)\n",
        "\n",
        "    return subgraphs\n"
      ],
      "metadata": {
        "id": "k_T9ZMfUg7Ej"
      },
      "execution_count": 14,
      "outputs": []
    },
    {
      "cell_type": "code",
      "source": [
        "subgraphs = custom_partition(data, num_neighbors=5, num_hops=2)\n",
        "\n",
        "from torch_geometric.loader import DataLoader\n",
        "loader = DataLoader(subgraphs, batch_size=128, shuffle=True)\n"
      ],
      "metadata": {
        "id": "-P1I3AuKg_BX"
      },
      "execution_count": 48,
      "outputs": []
    },
    {
      "cell_type": "code",
      "source": [
        "def avg_neighbors_per_node(subgraphs):\n",
        "    total_neighbors = 0\n",
        "    total_nodes = 0\n",
        "\n",
        "    for g in subgraphs:\n",
        "        edge_index = g.edge_index\n",
        "        num_nodes = g.num_nodes\n",
        "        num_edges = edge_index.size(1)\n",
        "        # Each edge connects two nodes, but we count for undirected graph\n",
        "        total_neighbors += num_edges\n",
        "        total_nodes += num_nodes\n",
        "\n",
        "    avg = total_neighbors / total_nodes\n",
        "    print(f\"Average neighbors per node: {avg:.2f}\")\n",
        "    return avg\n",
        "avg_neighbors_per_node(subgraphs)\n",
        "print(f\"Number of subgraphs: {len(subgraphs)}\")\n"
      ],
      "metadata": {
        "id": "ABqsSNDkmxj7",
        "outputId": "61be0ab3-6139-4642-98b8-7e3d927a7c0f",
        "colab": {
          "base_uri": "https://localhost:8080/"
        }
      },
      "execution_count": 49,
      "outputs": [
        {
          "output_type": "stream",
          "name": "stdout",
          "text": [
            "Average neighbors per node: 1.71\n",
            "Number of subgraphs: 1071\n"
          ]
        }
      ]
    },
    {
      "cell_type": "code",
      "source": [
        "data = data.cpu()\n",
        "cluster_data = ClusterData(data, num_parts=128)\n",
        "train_loader = ClusterLoader(cluster_data, batch_size=32, shuffle=True)\n"
      ],
      "metadata": {
        "colab": {
          "base_uri": "https://localhost:8080/"
        },
        "id": "ihEBRMOCNZu9",
        "outputId": "34219255-c805-446b-8c9a-09322ce573b4"
      },
      "execution_count": null,
      "outputs": [
        {
          "output_type": "stream",
          "name": "stderr",
          "text": [
            "Computing METIS partitioning...\n",
            "Done!\n"
          ]
        }
      ]
    },
    {
      "cell_type": "code",
      "source": [],
      "metadata": {
        "id": "ub1apqbdNb0i"
      },
      "execution_count": null,
      "outputs": []
    },
    {
      "cell_type": "code",
      "source": [
        "def train_batch(loader):\n",
        "    model.train()\n",
        "    total_loss = 0\n",
        "    i = 1\n",
        "    for sub_data in loader:\n",
        "        sub_data = sub_data.to(device)\n",
        "        batch_mem = sum(t.element_size() * t.nelement() for t in [sub_data.x, sub_data.edge_index, sub_data.y])\n",
        "        #print(f\"Batch {i}: {batch_mem/1024**2:.2f} MB cluster data\")\n",
        "\n",
        "        out = model(sub_data.x, sub_data.edge_index)\n",
        "        #print(f\"  + Forward pass: {torch.cuda.max_memory_allocated()/1024**2:.2f} MB\")\n",
        "        loss = criterion(out[sub_data.train_mask], sub_data.y[sub_data.train_mask])\n",
        "        loss.backward()\n",
        "        optimizer.step()\n",
        "        optimizer.zero_grad()\n",
        "        total_loss += loss.item()\n",
        "        i += 1\n",
        "    return total_loss / i  # Optional: average loss\n"
      ],
      "metadata": {
        "id": "WEiBKvxMZww9"
      },
      "execution_count": 43,
      "outputs": []
    },
    {
      "cell_type": "code",
      "source": [
        "\n",
        "model = GCN(hidden_channels=64).to(device)\n",
        "optimizer = torch.optim.Adam(model.parameters(), lr=0.01)\n",
        "criterion = torch.nn.CrossEntropyLoss().to(device)\n",
        "\n",
        "display(Javascript('''google.colab.output.setIframeHeight(0, true, {maxHeight: 300})'''))\n",
        "data=data.to(device)\n",
        "res=[]\n",
        "for i in range(10):\n",
        "  clean_gpu_memory()\n",
        "  start_time= time.time()\n",
        "  for epoch in range(1, 101):\n",
        "    loss = train_batch(loader)\n",
        "    if epoch % 10 == 0:\n",
        "      train_acc = test(data, data.train_mask)\n",
        "      val_acc = test(data, data.val_mask)\n",
        "      val_f1 = f1_micro(data, data.val_mask)\n",
        "      print(f'Epoch: {epoch:03d}, Train Acc: {train_acc:.4f}, Val Acc: {val_acc:.4f}, Val F1 (micro): {val_f1:.4f}')\n",
        "  test_acc = test(data, data.test_mask)\n",
        "  res.append(test_acc)\n",
        "  end_time = time.time()\n",
        "  print(f\"Training time: {end_time - start_time:.2f} seconds\")\n"
      ],
      "metadata": {
        "colab": {
          "base_uri": "https://localhost:8080/",
          "height": 300
        },
        "id": "4AauHVIeNeaF",
        "outputId": "98ffdc4f-c16d-4047-a7a5-a4db63eb3f9f"
      },
      "execution_count": 50,
      "outputs": [
        {
          "output_type": "display_data",
          "data": {
            "text/plain": [
              "<IPython.core.display.Javascript object>"
            ],
            "application/javascript": [
              "google.colab.output.setIframeHeight(0, true, {maxHeight: 300})"
            ]
          },
          "metadata": {}
        },
        {
          "output_type": "stream",
          "name": "stdout",
          "text": [
            "Memory after cleanup: 50.07 MB\n",
            "Epoch: 010, Train Acc: 0.9643, Val Acc: 0.6960, Val F1 (micro): 0.6960\n",
            "Epoch: 020, Train Acc: 0.9929, Val Acc: 0.7460, Val F1 (micro): 0.7460\n",
            "Epoch: 030, Train Acc: 0.9929, Val Acc: 0.7180, Val F1 (micro): 0.7180\n",
            "Epoch: 040, Train Acc: 0.9786, Val Acc: 0.7080, Val F1 (micro): 0.7080\n",
            "Epoch: 050, Train Acc: 0.9857, Val Acc: 0.7580, Val F1 (micro): 0.7580\n",
            "Epoch: 060, Train Acc: 0.9857, Val Acc: 0.7520, Val F1 (micro): 0.7520\n",
            "Epoch: 070, Train Acc: 0.9929, Val Acc: 0.7360, Val F1 (micro): 0.7360\n",
            "Epoch: 080, Train Acc: 0.9929, Val Acc: 0.7320, Val F1 (micro): 0.7320\n",
            "Epoch: 090, Train Acc: 0.9929, Val Acc: 0.7200, Val F1 (micro): 0.7200\n",
            "Epoch: 100, Train Acc: 0.9929, Val Acc: 0.7320, Val F1 (micro): 0.7320\n",
            "Training time: 10.86 seconds\n",
            "Memory after cleanup: 49.72 MB\n",
            "Epoch: 010, Train Acc: 0.9929, Val Acc: 0.7240, Val F1 (micro): 0.7240\n",
            "Epoch: 020, Train Acc: 0.9929, Val Acc: 0.7140, Val F1 (micro): 0.7140\n",
            "Epoch: 030, Train Acc: 0.9929, Val Acc: 0.7200, Val F1 (micro): 0.7200\n",
            "Epoch: 040, Train Acc: 0.9857, Val Acc: 0.7160, Val F1 (micro): 0.7160\n",
            "Epoch: 050, Train Acc: 0.9929, Val Acc: 0.7200, Val F1 (micro): 0.7200\n",
            "Epoch: 060, Train Acc: 0.9929, Val Acc: 0.7220, Val F1 (micro): 0.7220\n",
            "Epoch: 070, Train Acc: 0.9929, Val Acc: 0.7160, Val F1 (micro): 0.7160\n",
            "Epoch: 080, Train Acc: 0.9857, Val Acc: 0.7220, Val F1 (micro): 0.7220\n",
            "Epoch: 090, Train Acc: 0.9929, Val Acc: 0.7180, Val F1 (micro): 0.7180\n",
            "Epoch: 100, Train Acc: 0.9929, Val Acc: 0.7360, Val F1 (micro): 0.7360\n",
            "Training time: 10.84 seconds\n",
            "Memory after cleanup: 49.72 MB\n",
            "Epoch: 010, Train Acc: 0.9929, Val Acc: 0.7340, Val F1 (micro): 0.7340\n",
            "Epoch: 020, Train Acc: 0.9929, Val Acc: 0.7260, Val F1 (micro): 0.7260\n",
            "Epoch: 030, Train Acc: 0.9929, Val Acc: 0.7400, Val F1 (micro): 0.7400\n",
            "Epoch: 040, Train Acc: 0.9929, Val Acc: 0.7160, Val F1 (micro): 0.7160\n",
            "Epoch: 050, Train Acc: 0.9929, Val Acc: 0.7120, Val F1 (micro): 0.7120\n",
            "Epoch: 060, Train Acc: 0.9929, Val Acc: 0.7140, Val F1 (micro): 0.7140\n",
            "Epoch: 070, Train Acc: 0.9929, Val Acc: 0.6740, Val F1 (micro): 0.6740\n",
            "Epoch: 080, Train Acc: 0.9929, Val Acc: 0.7160, Val F1 (micro): 0.7160\n",
            "Epoch: 090, Train Acc: 0.9929, Val Acc: 0.7180, Val F1 (micro): 0.7180\n",
            "Epoch: 100, Train Acc: 0.9929, Val Acc: 0.7240, Val F1 (micro): 0.7240\n",
            "Training time: 10.30 seconds\n",
            "Memory after cleanup: 49.72 MB\n",
            "Epoch: 010, Train Acc: 0.9929, Val Acc: 0.7200, Val F1 (micro): 0.7200\n",
            "Epoch: 020, Train Acc: 0.9929, Val Acc: 0.7260, Val F1 (micro): 0.7260\n",
            "Epoch: 030, Train Acc: 0.9929, Val Acc: 0.7300, Val F1 (micro): 0.7300\n",
            "Epoch: 040, Train Acc: 0.9929, Val Acc: 0.7120, Val F1 (micro): 0.7120\n",
            "Epoch: 050, Train Acc: 0.9929, Val Acc: 0.7280, Val F1 (micro): 0.7280\n",
            "Epoch: 060, Train Acc: 0.9929, Val Acc: 0.7380, Val F1 (micro): 0.7380\n",
            "Epoch: 070, Train Acc: 0.9929, Val Acc: 0.7280, Val F1 (micro): 0.7280\n",
            "Epoch: 080, Train Acc: 0.9929, Val Acc: 0.6920, Val F1 (micro): 0.6920\n",
            "Epoch: 090, Train Acc: 0.9929, Val Acc: 0.7040, Val F1 (micro): 0.7040\n",
            "Epoch: 100, Train Acc: 0.9929, Val Acc: 0.7040, Val F1 (micro): 0.7040\n",
            "Training time: 10.86 seconds\n",
            "Memory after cleanup: 49.72 MB\n",
            "Epoch: 010, Train Acc: 0.9857, Val Acc: 0.6900, Val F1 (micro): 0.6900\n",
            "Epoch: 020, Train Acc: 0.9929, Val Acc: 0.6940, Val F1 (micro): 0.6940\n",
            "Epoch: 030, Train Acc: 0.9929, Val Acc: 0.7000, Val F1 (micro): 0.7000\n",
            "Epoch: 040, Train Acc: 0.9929, Val Acc: 0.7180, Val F1 (micro): 0.7180\n",
            "Epoch: 050, Train Acc: 0.9929, Val Acc: 0.7100, Val F1 (micro): 0.7100\n",
            "Epoch: 060, Train Acc: 0.9929, Val Acc: 0.7120, Val F1 (micro): 0.7120\n",
            "Epoch: 070, Train Acc: 0.9929, Val Acc: 0.7060, Val F1 (micro): 0.7060\n",
            "Epoch: 080, Train Acc: 0.9929, Val Acc: 0.7060, Val F1 (micro): 0.7060\n",
            "Epoch: 090, Train Acc: 0.9929, Val Acc: 0.7100, Val F1 (micro): 0.7100\n",
            "Epoch: 100, Train Acc: 0.9929, Val Acc: 0.7080, Val F1 (micro): 0.7080\n",
            "Training time: 11.85 seconds\n",
            "Memory after cleanup: 49.72 MB\n",
            "Epoch: 010, Train Acc: 0.9929, Val Acc: 0.7060, Val F1 (micro): 0.7060\n",
            "Epoch: 020, Train Acc: 0.9929, Val Acc: 0.7000, Val F1 (micro): 0.7000\n",
            "Epoch: 030, Train Acc: 0.9929, Val Acc: 0.6880, Val F1 (micro): 0.6880\n",
            "Epoch: 040, Train Acc: 0.9929, Val Acc: 0.6800, Val F1 (micro): 0.6800\n",
            "Epoch: 050, Train Acc: 0.9929, Val Acc: 0.6980, Val F1 (micro): 0.6980\n",
            "Epoch: 060, Train Acc: 0.9929, Val Acc: 0.6880, Val F1 (micro): 0.6880\n",
            "Epoch: 070, Train Acc: 0.9857, Val Acc: 0.6840, Val F1 (micro): 0.6840\n",
            "Epoch: 080, Train Acc: 0.9929, Val Acc: 0.6960, Val F1 (micro): 0.6960\n",
            "Epoch: 090, Train Acc: 0.9929, Val Acc: 0.7040, Val F1 (micro): 0.7040\n",
            "Epoch: 100, Train Acc: 0.9929, Val Acc: 0.6980, Val F1 (micro): 0.6980\n",
            "Training time: 10.90 seconds\n",
            "Memory after cleanup: 49.72 MB\n",
            "Epoch: 010, Train Acc: 0.9929, Val Acc: 0.7040, Val F1 (micro): 0.7040\n",
            "Epoch: 020, Train Acc: 0.9857, Val Acc: 0.6780, Val F1 (micro): 0.6780\n",
            "Epoch: 030, Train Acc: 0.9857, Val Acc: 0.6860, Val F1 (micro): 0.6860\n",
            "Epoch: 040, Train Acc: 0.9929, Val Acc: 0.6960, Val F1 (micro): 0.6960\n",
            "Epoch: 050, Train Acc: 0.9929, Val Acc: 0.6900, Val F1 (micro): 0.6900\n",
            "Epoch: 060, Train Acc: 0.9929, Val Acc: 0.7120, Val F1 (micro): 0.7120\n",
            "Epoch: 070, Train Acc: 0.9929, Val Acc: 0.7080, Val F1 (micro): 0.7080\n",
            "Epoch: 080, Train Acc: 0.9929, Val Acc: 0.7080, Val F1 (micro): 0.7080\n",
            "Epoch: 090, Train Acc: 0.9857, Val Acc: 0.6980, Val F1 (micro): 0.6980\n",
            "Epoch: 100, Train Acc: 0.9929, Val Acc: 0.7300, Val F1 (micro): 0.7300\n",
            "Training time: 12.51 seconds\n",
            "Memory after cleanup: 49.72 MB\n",
            "Epoch: 010, Train Acc: 0.9929, Val Acc: 0.7280, Val F1 (micro): 0.7280\n",
            "Epoch: 020, Train Acc: 0.9929, Val Acc: 0.7220, Val F1 (micro): 0.7220\n",
            "Epoch: 030, Train Acc: 0.9929, Val Acc: 0.7360, Val F1 (micro): 0.7360\n",
            "Epoch: 040, Train Acc: 0.9929, Val Acc: 0.7200, Val F1 (micro): 0.7200\n",
            "Epoch: 050, Train Acc: 0.9929, Val Acc: 0.7200, Val F1 (micro): 0.7200\n",
            "Epoch: 060, Train Acc: 0.9929, Val Acc: 0.7240, Val F1 (micro): 0.7240\n",
            "Epoch: 070, Train Acc: 0.9929, Val Acc: 0.7280, Val F1 (micro): 0.7280\n",
            "Epoch: 080, Train Acc: 0.9929, Val Acc: 0.7120, Val F1 (micro): 0.7120\n",
            "Epoch: 090, Train Acc: 0.9929, Val Acc: 0.7280, Val F1 (micro): 0.7280\n",
            "Epoch: 100, Train Acc: 0.9929, Val Acc: 0.7300, Val F1 (micro): 0.7300\n",
            "Training time: 11.14 seconds\n",
            "Memory after cleanup: 49.72 MB\n",
            "Epoch: 010, Train Acc: 0.9929, Val Acc: 0.7380, Val F1 (micro): 0.7380\n",
            "Epoch: 020, Train Acc: 0.9929, Val Acc: 0.7380, Val F1 (micro): 0.7380\n",
            "Epoch: 030, Train Acc: 0.9929, Val Acc: 0.7340, Val F1 (micro): 0.7340\n",
            "Epoch: 040, Train Acc: 0.9714, Val Acc: 0.6940, Val F1 (micro): 0.6940\n",
            "Epoch: 050, Train Acc: 0.9857, Val Acc: 0.6460, Val F1 (micro): 0.6460\n",
            "Epoch: 060, Train Acc: 0.9929, Val Acc: 0.6860, Val F1 (micro): 0.6860\n",
            "Epoch: 070, Train Acc: 0.9929, Val Acc: 0.7080, Val F1 (micro): 0.7080\n",
            "Epoch: 080, Train Acc: 0.9929, Val Acc: 0.6980, Val F1 (micro): 0.6980\n",
            "Epoch: 090, Train Acc: 0.9929, Val Acc: 0.6960, Val F1 (micro): 0.6960\n",
            "Epoch: 100, Train Acc: 0.9929, Val Acc: 0.6900, Val F1 (micro): 0.6900\n",
            "Training time: 11.82 seconds\n",
            "Memory after cleanup: 49.72 MB\n",
            "Epoch: 010, Train Acc: 0.9929, Val Acc: 0.7220, Val F1 (micro): 0.7220\n",
            "Epoch: 020, Train Acc: 0.9929, Val Acc: 0.6860, Val F1 (micro): 0.6860\n",
            "Epoch: 030, Train Acc: 0.9929, Val Acc: 0.6720, Val F1 (micro): 0.6720\n",
            "Epoch: 040, Train Acc: 0.9929, Val Acc: 0.7380, Val F1 (micro): 0.7380\n",
            "Epoch: 050, Train Acc: 0.9929, Val Acc: 0.6840, Val F1 (micro): 0.6840\n",
            "Epoch: 060, Train Acc: 0.9929, Val Acc: 0.6920, Val F1 (micro): 0.6920\n",
            "Epoch: 070, Train Acc: 0.9929, Val Acc: 0.7180, Val F1 (micro): 0.7180\n",
            "Epoch: 080, Train Acc: 0.9929, Val Acc: 0.6820, Val F1 (micro): 0.6820\n",
            "Epoch: 090, Train Acc: 0.9929, Val Acc: 0.6820, Val F1 (micro): 0.6820\n",
            "Epoch: 100, Train Acc: 0.9929, Val Acc: 0.6960, Val F1 (micro): 0.6960\n",
            "Training time: 11.69 seconds\n"
          ]
        }
      ]
    },
    {
      "cell_type": "code",
      "source": [
        "print(res)\n",
        "print(sum(res)/10)"
      ],
      "metadata": {
        "id": "jl5VGPfq3rYO",
        "outputId": "1b270e61-bb67-4bb4-d9f9-475576a2a369",
        "colab": {
          "base_uri": "https://localhost:8080/"
        }
      },
      "execution_count": 51,
      "outputs": [
        {
          "output_type": "stream",
          "name": "stdout",
          "text": [
            "[0.753, 0.754, 0.741, 0.733, 0.736, 0.718, 0.748, 0.762, 0.724, 0.733]\n",
            "0.7402\n"
          ]
        }
      ]
    },
    {
      "cell_type": "code",
      "source": [
        "test_acc = test(data, data.test_mask)\n",
        "\n",
        "test_f1 = f1_micro(data, data.test_mask)\n",
        "print(f'Test F1 Score (micro): {test_f1:.4f}')\n",
        "print(f'Test test accuracy (micro):  {test_acc:.4f}')"
      ],
      "metadata": {
        "colab": {
          "base_uri": "https://localhost:8080/"
        },
        "id": "hcNfZBSmNiLn",
        "outputId": "c3640783-9a90-4bb3-a3b2-1cead4323ced"
      },
      "execution_count": 52,
      "outputs": [
        {
          "output_type": "stream",
          "name": "stdout",
          "text": [
            "Test F1 Score (micro): 0.7330\n",
            "Test test accuracy (micro):  0.7330\n"
          ]
        }
      ]
    },
    {
      "cell_type": "code",
      "source": [
        "print(f\"Allocated memory after tensor creation: {torch.cuda.memory_allocated() / (1024**2):.2f} MB\")\n",
        "print(f\"Reserved memory after tensor creation: {torch.cuda.memory_reserved() / (1024**2):.2f} MB\")\n",
        "print(f\"Peak allocated memory: {torch.cuda.max_memory_allocated() / (1024**2):.2f} MB\")\n"
      ],
      "metadata": {
        "colab": {
          "base_uri": "https://localhost:8080/"
        },
        "id": "M1XAKTikNvgG",
        "outputId": "542efe45-41b9-4da8-bfb0-7928f26d3d52"
      },
      "execution_count": 53,
      "outputs": [
        {
          "output_type": "stream",
          "name": "stdout",
          "text": [
            "Allocated memory after tensor creation: 49.72 MB\n",
            "Reserved memory after tensor creation: 90.00 MB\n",
            "Peak allocated memory: 57.77 MB\n"
          ]
        }
      ]
    },
    {
      "cell_type": "code",
      "source": [
        "peak_memory_mb=f\"{torch.cuda.max_memory_allocated()/1024**2:.2f}\"\n",
        "total_train_time=f\"{end_time - start_time:.2f}\"\n",
        "\n",
        "metrics = {\n",
        "    \"model\": \"clusterGCN\",\n",
        "    \"accuracy\": test_acc,\n",
        "    \"f1_micro\":test_f1,\n",
        "    \"peak_memory_MB\": peak_memory_mb,\n",
        "    \"train_time_sec\": total_train_time,\n",
        "    \"mem_MB\":peak_memory_mb\n",
        "}\n",
        "\n",
        "with open(\"clusterGCN_pubmed_results.json\", \"w\") as f:\n",
        "    json.dump(metrics, f)"
      ],
      "metadata": {
        "id": "t0dJbrwYWh4R"
      },
      "execution_count": null,
      "outputs": []
    },
    {
      "cell_type": "markdown",
      "source": [
        "**cora dataset**"
      ],
      "metadata": {
        "id": "q8jleIIAXtCZ"
      }
    },
    {
      "cell_type": "code",
      "source": [
        "clean_gpu_memory()\n",
        "\n",
        "def dataset_load():\n",
        "  print(f\"Using device: {device}\")\n",
        "  dataset = Planetoid(root='data/Planetoid', name='Cora', transform=NormalizeFeatures())\n",
        "  num_features = dataset.num_features\n",
        "  num_classes = dataset.num_classes\n",
        "  data = dataset[0].to(device)  # Get the first graph object.\n",
        "  return num_features, data, num_classes, device,dataset\n",
        "\n",
        "num_features, data, num_classes, device, dataset = dataset_load()\n",
        "subgraphs = custom_partition(data, num_neighbors=5, num_hops=2)\n",
        "\n",
        "loader = DataLoader(subgraphs, batch_size=128, shuffle=True)\n",
        "\n",
        "\n",
        "model = GCN(hidden_channels=64).to(device)\n",
        "optimizer = torch.optim.Adam(model.parameters(), lr=0.01)\n",
        "criterion = torch.nn.CrossEntropyLoss().to(device)\n",
        "\n",
        "display(Javascript('''google.colab.output.setIframeHeight(0, true, {maxHeight: 300})'''))\n",
        "data=data.to(device)\n",
        "\n",
        "res=[]\n",
        "for i in range(10):\n",
        "  clean_gpu_memory()\n",
        "  start_time= time.time()\n",
        "  for epoch in range(1, 101):\n",
        "    loss = train_batch(loader)\n",
        "    if epoch % 10 == 0:\n",
        "      train_acc = test(data, data.train_mask)\n",
        "      val_acc = test(data, data.val_mask)\n",
        "      val_f1 = f1_micro(data, data.val_mask)\n",
        "      print(f'Epoch: {epoch:03d}, Train Acc: {train_acc:.4f}, Val Acc: {val_acc:.4f}, Val F1 (micro): {val_f1:.4f}')\n",
        "\n",
        "  end_time = time.time()\n",
        "  print(f\"Training time: {end_time - start_time:.2f} seconds\")\n",
        "  test_acc = test(data, data.test_mask)\n",
        "  res.append(test_acc)\n",
        "\n",
        "\n",
        "test_acc = test(data, data.test_mask)\n",
        "\n",
        "test_f1 = f1_micro(data, data.test_mask)\n",
        "print(f'Test F1 Score (micro): {test_f1:.4f}')\n",
        "print(f'Test test accuracy (micro):  {test_acc:.4f}')"
      ],
      "metadata": {
        "colab": {
          "base_uri": "https://localhost:8080/",
          "height": 300
        },
        "id": "fMWEipJkcz_j",
        "outputId": "d4b14d17-5fd7-4e98-d090-fc968132788e"
      },
      "execution_count": 54,
      "outputs": [
        {
          "output_type": "stream",
          "name": "stdout",
          "text": [
            "Memory after cleanup: 49.72 MB\n",
            "Using device: cuda\n"
          ]
        },
        {
          "output_type": "display_data",
          "data": {
            "text/plain": [
              "<IPython.core.display.Javascript object>"
            ],
            "application/javascript": [
              "google.colab.output.setIframeHeight(0, true, {maxHeight: 300})"
            ]
          },
          "metadata": {}
        },
        {
          "output_type": "stream",
          "name": "stdout",
          "text": [
            "Memory after cleanup: 66.54 MB\n",
            "Epoch: 010, Train Acc: 0.9643, Val Acc: 0.7800, Val F1 (micro): 0.7800\n",
            "Epoch: 020, Train Acc: 0.9786, Val Acc: 0.7860, Val F1 (micro): 0.7860\n",
            "Epoch: 030, Train Acc: 0.9786, Val Acc: 0.7820, Val F1 (micro): 0.7820\n",
            "Epoch: 040, Train Acc: 0.9929, Val Acc: 0.7720, Val F1 (micro): 0.7720\n",
            "Epoch: 050, Train Acc: 0.9857, Val Acc: 0.7720, Val F1 (micro): 0.7720\n",
            "Epoch: 060, Train Acc: 0.9929, Val Acc: 0.7800, Val F1 (micro): 0.7800\n",
            "Epoch: 070, Train Acc: 0.9929, Val Acc: 0.7780, Val F1 (micro): 0.7780\n",
            "Epoch: 080, Train Acc: 1.0000, Val Acc: 0.7780, Val F1 (micro): 0.7780\n",
            "Epoch: 090, Train Acc: 1.0000, Val Acc: 0.7760, Val F1 (micro): 0.7760\n",
            "Epoch: 100, Train Acc: 0.9929, Val Acc: 0.7800, Val F1 (micro): 0.7800\n",
            "Training time: 10.51 seconds\n",
            "Memory after cleanup: 49.67 MB\n",
            "Epoch: 010, Train Acc: 0.9929, Val Acc: 0.7760, Val F1 (micro): 0.7760\n",
            "Epoch: 020, Train Acc: 0.9857, Val Acc: 0.7500, Val F1 (micro): 0.7500\n",
            "Epoch: 030, Train Acc: 0.9929, Val Acc: 0.7680, Val F1 (micro): 0.7680\n",
            "Epoch: 040, Train Acc: 0.9929, Val Acc: 0.7760, Val F1 (micro): 0.7760\n",
            "Epoch: 050, Train Acc: 1.0000, Val Acc: 0.7640, Val F1 (micro): 0.7640\n",
            "Epoch: 060, Train Acc: 1.0000, Val Acc: 0.7780, Val F1 (micro): 0.7780\n",
            "Epoch: 070, Train Acc: 1.0000, Val Acc: 0.7720, Val F1 (micro): 0.7720\n",
            "Epoch: 080, Train Acc: 0.9929, Val Acc: 0.7800, Val F1 (micro): 0.7800\n",
            "Epoch: 090, Train Acc: 0.9929, Val Acc: 0.7820, Val F1 (micro): 0.7820\n",
            "Epoch: 100, Train Acc: 1.0000, Val Acc: 0.7740, Val F1 (micro): 0.7740\n",
            "Training time: 10.59 seconds\n",
            "Memory after cleanup: 49.67 MB\n",
            "Epoch: 010, Train Acc: 0.9929, Val Acc: 0.7700, Val F1 (micro): 0.7700\n",
            "Epoch: 020, Train Acc: 0.9857, Val Acc: 0.7800, Val F1 (micro): 0.7800\n",
            "Epoch: 030, Train Acc: 0.9929, Val Acc: 0.7640, Val F1 (micro): 0.7640\n",
            "Epoch: 040, Train Acc: 0.9929, Val Acc: 0.7760, Val F1 (micro): 0.7760\n",
            "Epoch: 050, Train Acc: 1.0000, Val Acc: 0.7640, Val F1 (micro): 0.7640\n",
            "Epoch: 060, Train Acc: 0.9929, Val Acc: 0.7800, Val F1 (micro): 0.7800\n",
            "Epoch: 070, Train Acc: 1.0000, Val Acc: 0.7680, Val F1 (micro): 0.7680\n",
            "Epoch: 080, Train Acc: 0.9929, Val Acc: 0.7620, Val F1 (micro): 0.7620\n",
            "Epoch: 090, Train Acc: 0.9929, Val Acc: 0.7700, Val F1 (micro): 0.7700\n",
            "Epoch: 100, Train Acc: 0.9929, Val Acc: 0.7700, Val F1 (micro): 0.7700\n",
            "Training time: 10.13 seconds\n",
            "Memory after cleanup: 49.67 MB\n",
            "Epoch: 010, Train Acc: 1.0000, Val Acc: 0.7640, Val F1 (micro): 0.7640\n",
            "Epoch: 020, Train Acc: 1.0000, Val Acc: 0.7600, Val F1 (micro): 0.7600\n",
            "Epoch: 030, Train Acc: 1.0000, Val Acc: 0.7760, Val F1 (micro): 0.7760\n",
            "Epoch: 040, Train Acc: 1.0000, Val Acc: 0.7880, Val F1 (micro): 0.7880\n",
            "Epoch: 050, Train Acc: 1.0000, Val Acc: 0.7460, Val F1 (micro): 0.7460\n",
            "Epoch: 060, Train Acc: 1.0000, Val Acc: 0.7680, Val F1 (micro): 0.7680\n",
            "Epoch: 070, Train Acc: 1.0000, Val Acc: 0.7560, Val F1 (micro): 0.7560\n",
            "Epoch: 080, Train Acc: 1.0000, Val Acc: 0.7540, Val F1 (micro): 0.7540\n",
            "Epoch: 090, Train Acc: 1.0000, Val Acc: 0.7660, Val F1 (micro): 0.7660\n",
            "Epoch: 100, Train Acc: 1.0000, Val Acc: 0.7700, Val F1 (micro): 0.7700\n",
            "Training time: 10.14 seconds\n",
            "Memory after cleanup: 49.67 MB\n",
            "Epoch: 010, Train Acc: 1.0000, Val Acc: 0.7680, Val F1 (micro): 0.7680\n",
            "Epoch: 020, Train Acc: 1.0000, Val Acc: 0.7680, Val F1 (micro): 0.7680\n",
            "Epoch: 030, Train Acc: 1.0000, Val Acc: 0.7380, Val F1 (micro): 0.7380\n",
            "Epoch: 040, Train Acc: 1.0000, Val Acc: 0.7840, Val F1 (micro): 0.7840\n",
            "Epoch: 050, Train Acc: 1.0000, Val Acc: 0.7520, Val F1 (micro): 0.7520\n",
            "Epoch: 060, Train Acc: 1.0000, Val Acc: 0.7560, Val F1 (micro): 0.7560\n",
            "Epoch: 070, Train Acc: 1.0000, Val Acc: 0.7900, Val F1 (micro): 0.7900\n",
            "Epoch: 080, Train Acc: 0.9929, Val Acc: 0.7240, Val F1 (micro): 0.7240\n",
            "Epoch: 090, Train Acc: 1.0000, Val Acc: 0.7620, Val F1 (micro): 0.7620\n",
            "Epoch: 100, Train Acc: 0.9786, Val Acc: 0.7520, Val F1 (micro): 0.7520\n",
            "Training time: 10.61 seconds\n",
            "Memory after cleanup: 49.67 MB\n",
            "Epoch: 010, Train Acc: 0.9929, Val Acc: 0.7720, Val F1 (micro): 0.7720\n",
            "Epoch: 020, Train Acc: 0.9857, Val Acc: 0.7420, Val F1 (micro): 0.7420\n",
            "Epoch: 030, Train Acc: 1.0000, Val Acc: 0.7540, Val F1 (micro): 0.7540\n",
            "Epoch: 040, Train Acc: 0.9857, Val Acc: 0.7340, Val F1 (micro): 0.7340\n",
            "Epoch: 050, Train Acc: 1.0000, Val Acc: 0.7460, Val F1 (micro): 0.7460\n",
            "Epoch: 060, Train Acc: 0.9857, Val Acc: 0.7260, Val F1 (micro): 0.7260\n",
            "Epoch: 070, Train Acc: 0.9857, Val Acc: 0.7440, Val F1 (micro): 0.7440\n",
            "Epoch: 080, Train Acc: 0.9929, Val Acc: 0.7700, Val F1 (micro): 0.7700\n",
            "Epoch: 090, Train Acc: 1.0000, Val Acc: 0.7580, Val F1 (micro): 0.7580\n",
            "Epoch: 100, Train Acc: 1.0000, Val Acc: 0.7740, Val F1 (micro): 0.7740\n",
            "Training time: 10.42 seconds\n",
            "Memory after cleanup: 49.67 MB\n",
            "Epoch: 010, Train Acc: 0.9929, Val Acc: 0.7480, Val F1 (micro): 0.7480\n",
            "Epoch: 020, Train Acc: 1.0000, Val Acc: 0.7660, Val F1 (micro): 0.7660\n",
            "Epoch: 030, Train Acc: 1.0000, Val Acc: 0.7860, Val F1 (micro): 0.7860\n",
            "Epoch: 040, Train Acc: 1.0000, Val Acc: 0.7580, Val F1 (micro): 0.7580\n",
            "Epoch: 050, Train Acc: 1.0000, Val Acc: 0.7800, Val F1 (micro): 0.7800\n",
            "Epoch: 060, Train Acc: 1.0000, Val Acc: 0.7620, Val F1 (micro): 0.7620\n",
            "Epoch: 070, Train Acc: 1.0000, Val Acc: 0.7860, Val F1 (micro): 0.7860\n",
            "Epoch: 080, Train Acc: 1.0000, Val Acc: 0.7820, Val F1 (micro): 0.7820\n",
            "Epoch: 090, Train Acc: 1.0000, Val Acc: 0.7600, Val F1 (micro): 0.7600\n",
            "Epoch: 100, Train Acc: 0.9929, Val Acc: 0.7480, Val F1 (micro): 0.7480\n",
            "Training time: 10.46 seconds\n",
            "Memory after cleanup: 49.67 MB\n",
            "Epoch: 010, Train Acc: 1.0000, Val Acc: 0.7640, Val F1 (micro): 0.7640\n",
            "Epoch: 020, Train Acc: 1.0000, Val Acc: 0.7640, Val F1 (micro): 0.7640\n",
            "Epoch: 030, Train Acc: 1.0000, Val Acc: 0.7720, Val F1 (micro): 0.7720\n",
            "Epoch: 040, Train Acc: 1.0000, Val Acc: 0.7640, Val F1 (micro): 0.7640\n",
            "Epoch: 050, Train Acc: 1.0000, Val Acc: 0.7720, Val F1 (micro): 0.7720\n",
            "Epoch: 060, Train Acc: 1.0000, Val Acc: 0.7740, Val F1 (micro): 0.7740\n",
            "Epoch: 070, Train Acc: 1.0000, Val Acc: 0.7620, Val F1 (micro): 0.7620\n",
            "Epoch: 080, Train Acc: 0.9786, Val Acc: 0.7160, Val F1 (micro): 0.7160\n",
            "Epoch: 090, Train Acc: 0.9929, Val Acc: 0.7540, Val F1 (micro): 0.7540\n",
            "Epoch: 100, Train Acc: 1.0000, Val Acc: 0.7560, Val F1 (micro): 0.7560\n",
            "Training time: 10.51 seconds\n",
            "Memory after cleanup: 49.67 MB\n",
            "Epoch: 010, Train Acc: 1.0000, Val Acc: 0.7460, Val F1 (micro): 0.7460\n",
            "Epoch: 020, Train Acc: 1.0000, Val Acc: 0.7360, Val F1 (micro): 0.7360\n",
            "Epoch: 030, Train Acc: 0.9929, Val Acc: 0.6980, Val F1 (micro): 0.6980\n",
            "Epoch: 040, Train Acc: 0.9929, Val Acc: 0.7340, Val F1 (micro): 0.7340\n",
            "Epoch: 050, Train Acc: 1.0000, Val Acc: 0.7460, Val F1 (micro): 0.7460\n",
            "Epoch: 060, Train Acc: 0.9929, Val Acc: 0.7440, Val F1 (micro): 0.7440\n",
            "Epoch: 070, Train Acc: 0.9857, Val Acc: 0.6900, Val F1 (micro): 0.6900\n",
            "Epoch: 080, Train Acc: 0.9929, Val Acc: 0.7280, Val F1 (micro): 0.7280\n",
            "Epoch: 090, Train Acc: 0.9929, Val Acc: 0.7520, Val F1 (micro): 0.7520\n",
            "Epoch: 100, Train Acc: 0.9929, Val Acc: 0.7340, Val F1 (micro): 0.7340\n",
            "Training time: 10.40 seconds\n",
            "Memory after cleanup: 49.67 MB\n",
            "Epoch: 010, Train Acc: 0.9929, Val Acc: 0.7500, Val F1 (micro): 0.7500\n",
            "Epoch: 020, Train Acc: 0.9929, Val Acc: 0.7480, Val F1 (micro): 0.7480\n",
            "Epoch: 030, Train Acc: 0.9929, Val Acc: 0.7580, Val F1 (micro): 0.7580\n",
            "Epoch: 040, Train Acc: 1.0000, Val Acc: 0.7680, Val F1 (micro): 0.7680\n",
            "Epoch: 050, Train Acc: 0.9929, Val Acc: 0.7620, Val F1 (micro): 0.7620\n",
            "Epoch: 060, Train Acc: 0.9929, Val Acc: 0.7580, Val F1 (micro): 0.7580\n",
            "Epoch: 070, Train Acc: 0.9929, Val Acc: 0.7560, Val F1 (micro): 0.7560\n",
            "Epoch: 080, Train Acc: 0.9929, Val Acc: 0.7500, Val F1 (micro): 0.7500\n",
            "Epoch: 090, Train Acc: 1.0000, Val Acc: 0.7460, Val F1 (micro): 0.7460\n",
            "Epoch: 100, Train Acc: 1.0000, Val Acc: 0.7400, Val F1 (micro): 0.7400\n",
            "Training time: 10.53 seconds\n",
            "Test F1 Score (micro): 0.7630\n",
            "Test test accuracy (micro):  0.7630\n"
          ]
        }
      ]
    },
    {
      "cell_type": "code",
      "source": [
        "print(res)\n",
        "print(sum(res)/10)"
      ],
      "metadata": {
        "id": "NTuBRvlv4O9s",
        "outputId": "4d97ea28-fcea-4e65-fca0-3f34eee64b12",
        "colab": {
          "base_uri": "https://localhost:8080/"
        }
      },
      "execution_count": 55,
      "outputs": [
        {
          "output_type": "stream",
          "name": "stdout",
          "text": [
            "[0.779, 0.771, 0.772, 0.78, 0.756, 0.769, 0.772, 0.759, 0.75, 0.763]\n",
            "0.7671000000000001\n"
          ]
        }
      ]
    },
    {
      "cell_type": "code",
      "source": [
        "print(f\"Allocated memory after tensor creation: {torch.cuda.memory_allocated() / (1024**2):.2f} MB\")\n",
        "print(f\"Reserved memory after tensor creation: {torch.cuda.memory_reserved() / (1024**2):.2f} MB\")\n",
        "print(f\"Peak allocated memory: {torch.cuda.max_memory_allocated() / (1024**2):.2f} MB\")\n"
      ],
      "metadata": {
        "id": "YErsFwmf1daW",
        "outputId": "5b47cf85-d838-4784-bba9-4b11d5d45dfe",
        "colab": {
          "base_uri": "https://localhost:8080/"
        }
      },
      "execution_count": 56,
      "outputs": [
        {
          "output_type": "stream",
          "name": "stdout",
          "text": [
            "Allocated memory after tensor creation: 49.67 MB\n",
            "Reserved memory after tensor creation: 90.00 MB\n",
            "Peak allocated memory: 57.72 MB\n"
          ]
        }
      ]
    },
    {
      "cell_type": "code",
      "source": [
        "peak_memory_mb=f\"{torch.cuda.max_memory_allocated()/1024**2:.2f}\"\n",
        "total_train_time=f\"{end_time - start_time:.2f}\"\n",
        "\n",
        "metrics = {\n",
        "    \"model\": \"clusterGCN\",\n",
        "    \"accuracy\": test_acc,\n",
        "    \"f1_micro\":test_f1,\n",
        "    \"peak_memory_MB\": peak_memory_mb,\n",
        "    \"train_time_sec\": total_train_time,\n",
        "    \"mem_MB\":peak_memory_mb\n",
        "}\n",
        "\n",
        "with open(\"clusterGCN_Cora_results.json\", \"w\") as f:\n",
        "    json.dump(metrics, f)"
      ],
      "metadata": {
        "id": "ooDLb5xXeZeC"
      },
      "execution_count": null,
      "outputs": []
    },
    {
      "cell_type": "markdown",
      "source": [
        "**citeser dataset**"
      ],
      "metadata": {
        "id": "YKZulth9emqc"
      }
    },
    {
      "cell_type": "code",
      "source": [
        "clean_gpu_memory()\n",
        "\n",
        "def dataset_load():\n",
        "  print(f\"Using device: {device}\")\n",
        "  dataset = Planetoid(root='data/Planetoid', name='CiteSeer', transform=NormalizeFeatures())\n",
        "  num_features = dataset.num_features\n",
        "  num_classes = dataset.num_classes\n",
        "  data = dataset[0].to(device)  # Get the first graph object.\n",
        "  return num_features, data, num_classes, device,dataset\n",
        "\n",
        "num_features, data, num_classes, device, dataset = dataset_load()\n",
        "subgraphs = custom_partition(data, num_neighbors=5, num_hops=2)\n",
        "\n",
        "loader = DataLoader(subgraphs, batch_size=128, shuffle=True)\n",
        "\n",
        "\n",
        "model = GCN(hidden_channels=64).to(device)\n",
        "optimizer = torch.optim.Adam(model.parameters(), lr=0.01)\n",
        "criterion = torch.nn.CrossEntropyLoss().to(device)\n",
        "\n",
        "display(Javascript('''google.colab.output.setIframeHeight(0, true, {maxHeight: 300})'''))\n",
        "data=data.to(device)\n",
        "res=[]\n",
        "for i in range(10):\n",
        "  clean_gpu_memory()\n",
        "  start_time= time.time()\n",
        "  for epoch in range(1, 101):\n",
        "    loss = train_batch(loader)\n",
        "    if epoch % 10 == 0:\n",
        "      train_acc = test(data, data.train_mask)\n",
        "      val_acc = test(data, data.val_mask)\n",
        "      val_f1 = f1_micro(data, data.val_mask)\n",
        "      print(f'Epoch: {epoch:03d}, Train Acc: {train_acc:.4f}, Val Acc: {val_acc:.4f}, Val F1 (micro): {val_f1:.4f}')\n",
        "\n",
        "  end_time = time.time()\n",
        "  print(f\"Training time: {end_time - start_time:.2f} seconds\")\n",
        "  test_acc = test(data, data.test_mask)\n",
        "  res.append(test_acc)\n",
        "\n",
        "\n",
        "test_acc = test(data, data.test_mask)\n",
        "\n",
        "test_f1 = f1_micro(data, data.test_mask)\n",
        "print(f'Test F1 Score (micro): {test_f1:.4f}')\n",
        "print(f'Test test accuracy (micro):  {test_acc:.4f}')"
      ],
      "metadata": {
        "id": "GzLUKUyEesF1",
        "outputId": "e0f5e9de-3cf3-4b64-ba52-48960686ac03",
        "colab": {
          "base_uri": "https://localhost:8080/",
          "height": 300
        }
      },
      "execution_count": 57,
      "outputs": [
        {
          "output_type": "stream",
          "name": "stdout",
          "text": [
            "Memory after cleanup: 49.67 MB\n",
            "Using device: cuda\n"
          ]
        },
        {
          "output_type": "stream",
          "name": "stderr",
          "text": [
            "Downloading https://github.com/kimiyoung/planetoid/raw/master/data/ind.citeseer.x\n",
            "Downloading https://github.com/kimiyoung/planetoid/raw/master/data/ind.citeseer.tx\n",
            "Downloading https://github.com/kimiyoung/planetoid/raw/master/data/ind.citeseer.allx\n",
            "Downloading https://github.com/kimiyoung/planetoid/raw/master/data/ind.citeseer.y\n",
            "Downloading https://github.com/kimiyoung/planetoid/raw/master/data/ind.citeseer.ty\n",
            "Downloading https://github.com/kimiyoung/planetoid/raw/master/data/ind.citeseer.ally\n",
            "Downloading https://github.com/kimiyoung/planetoid/raw/master/data/ind.citeseer.graph\n",
            "Downloading https://github.com/kimiyoung/planetoid/raw/master/data/ind.citeseer.test.index\n",
            "Processing...\n",
            "Done!\n",
            "/tmp/ipython-input-14-2948250694.py:12: ConstantInputWarning: An input array is constant; the correlation coefficient is not defined.\n",
            "  corr, _ = pearsonr(features[i], features[j])\n"
          ]
        },
        {
          "output_type": "display_data",
          "data": {
            "text/plain": [
              "<IPython.core.display.Javascript object>"
            ],
            "application/javascript": [
              "google.colab.output.setIframeHeight(0, true, {maxHeight: 300})"
            ]
          },
          "metadata": {}
        },
        {
          "output_type": "stream",
          "name": "stdout",
          "text": [
            "Memory after cleanup: 130.57 MB\n",
            "Epoch: 010, Train Acc: 0.9667, Val Acc: 0.6660, Val F1 (micro): 0.6660\n",
            "Epoch: 020, Train Acc: 0.9750, Val Acc: 0.6680, Val F1 (micro): 0.6680\n",
            "Epoch: 030, Train Acc: 0.9833, Val Acc: 0.7040, Val F1 (micro): 0.7040\n",
            "Epoch: 040, Train Acc: 0.9917, Val Acc: 0.6820, Val F1 (micro): 0.6820\n",
            "Epoch: 050, Train Acc: 0.9750, Val Acc: 0.6900, Val F1 (micro): 0.6900\n",
            "Epoch: 060, Train Acc: 0.9917, Val Acc: 0.6860, Val F1 (micro): 0.6860\n",
            "Epoch: 070, Train Acc: 0.9917, Val Acc: 0.6860, Val F1 (micro): 0.6860\n",
            "Epoch: 080, Train Acc: 0.9917, Val Acc: 0.6860, Val F1 (micro): 0.6860\n",
            "Epoch: 090, Train Acc: 0.9917, Val Acc: 0.6740, Val F1 (micro): 0.6740\n",
            "Epoch: 100, Train Acc: 0.9833, Val Acc: 0.6700, Val F1 (micro): 0.6700\n",
            "Training time: 16.56 seconds\n",
            "Memory after cleanup: 117.05 MB\n",
            "Epoch: 010, Train Acc: 0.9917, Val Acc: 0.6880, Val F1 (micro): 0.6880\n",
            "Epoch: 020, Train Acc: 0.9917, Val Acc: 0.6840, Val F1 (micro): 0.6840\n",
            "Epoch: 030, Train Acc: 0.9917, Val Acc: 0.6720, Val F1 (micro): 0.6720\n",
            "Epoch: 040, Train Acc: 0.9917, Val Acc: 0.6780, Val F1 (micro): 0.6780\n",
            "Epoch: 050, Train Acc: 0.9917, Val Acc: 0.6600, Val F1 (micro): 0.6600\n",
            "Epoch: 060, Train Acc: 0.9833, Val Acc: 0.6860, Val F1 (micro): 0.6860\n",
            "Epoch: 070, Train Acc: 0.9917, Val Acc: 0.6920, Val F1 (micro): 0.6920\n",
            "Epoch: 080, Train Acc: 0.9917, Val Acc: 0.6800, Val F1 (micro): 0.6800\n",
            "Epoch: 090, Train Acc: 0.9917, Val Acc: 0.6500, Val F1 (micro): 0.6500\n",
            "Epoch: 100, Train Acc: 0.9917, Val Acc: 0.6840, Val F1 (micro): 0.6840\n",
            "Training time: 16.53 seconds\n",
            "Memory after cleanup: 117.05 MB\n",
            "Epoch: 010, Train Acc: 0.9917, Val Acc: 0.6900, Val F1 (micro): 0.6900\n",
            "Epoch: 020, Train Acc: 0.9750, Val Acc: 0.6860, Val F1 (micro): 0.6860\n",
            "Epoch: 030, Train Acc: 0.9833, Val Acc: 0.7140, Val F1 (micro): 0.7140\n",
            "Epoch: 040, Train Acc: 0.9917, Val Acc: 0.6840, Val F1 (micro): 0.6840\n",
            "Epoch: 050, Train Acc: 0.9833, Val Acc: 0.6980, Val F1 (micro): 0.6980\n",
            "Epoch: 060, Train Acc: 0.9917, Val Acc: 0.6860, Val F1 (micro): 0.6860\n",
            "Epoch: 070, Train Acc: 0.9833, Val Acc: 0.7080, Val F1 (micro): 0.7080\n",
            "Epoch: 080, Train Acc: 0.9917, Val Acc: 0.6540, Val F1 (micro): 0.6540\n",
            "Epoch: 090, Train Acc: 0.9917, Val Acc: 0.6600, Val F1 (micro): 0.6600\n",
            "Epoch: 100, Train Acc: 0.9833, Val Acc: 0.6700, Val F1 (micro): 0.6700\n",
            "Training time: 16.80 seconds\n",
            "Memory after cleanup: 117.05 MB\n",
            "Epoch: 010, Train Acc: 0.9833, Val Acc: 0.6820, Val F1 (micro): 0.6820\n",
            "Epoch: 020, Train Acc: 0.9833, Val Acc: 0.6600, Val F1 (micro): 0.6600\n",
            "Epoch: 030, Train Acc: 0.9917, Val Acc: 0.6900, Val F1 (micro): 0.6900\n",
            "Epoch: 040, Train Acc: 0.9917, Val Acc: 0.7020, Val F1 (micro): 0.7020\n",
            "Epoch: 050, Train Acc: 0.9917, Val Acc: 0.6880, Val F1 (micro): 0.6880\n",
            "Epoch: 060, Train Acc: 0.9917, Val Acc: 0.6920, Val F1 (micro): 0.6920\n",
            "Epoch: 070, Train Acc: 0.9917, Val Acc: 0.6420, Val F1 (micro): 0.6420\n",
            "Epoch: 080, Train Acc: 0.9917, Val Acc: 0.6680, Val F1 (micro): 0.6680\n",
            "Epoch: 090, Train Acc: 0.9833, Val Acc: 0.6620, Val F1 (micro): 0.6620\n",
            "Epoch: 100, Train Acc: 0.9917, Val Acc: 0.7100, Val F1 (micro): 0.7100\n",
            "Training time: 16.40 seconds\n",
            "Memory after cleanup: 117.05 MB\n",
            "Epoch: 010, Train Acc: 0.9667, Val Acc: 0.6740, Val F1 (micro): 0.6740\n",
            "Epoch: 020, Train Acc: 0.9833, Val Acc: 0.6860, Val F1 (micro): 0.6860\n",
            "Epoch: 030, Train Acc: 0.9583, Val Acc: 0.6700, Val F1 (micro): 0.6700\n",
            "Epoch: 040, Train Acc: 0.9917, Val Acc: 0.6460, Val F1 (micro): 0.6460\n",
            "Epoch: 050, Train Acc: 0.9833, Val Acc: 0.6860, Val F1 (micro): 0.6860\n",
            "Epoch: 060, Train Acc: 0.9917, Val Acc: 0.6820, Val F1 (micro): 0.6820\n",
            "Epoch: 070, Train Acc: 0.9917, Val Acc: 0.6780, Val F1 (micro): 0.6780\n",
            "Epoch: 080, Train Acc: 0.9917, Val Acc: 0.6780, Val F1 (micro): 0.6780\n",
            "Epoch: 090, Train Acc: 0.9917, Val Acc: 0.6680, Val F1 (micro): 0.6680\n",
            "Epoch: 100, Train Acc: 0.9833, Val Acc: 0.6720, Val F1 (micro): 0.6720\n",
            "Training time: 17.11 seconds\n",
            "Memory after cleanup: 117.05 MB\n",
            "Epoch: 010, Train Acc: 0.9833, Val Acc: 0.6820, Val F1 (micro): 0.6820\n",
            "Epoch: 020, Train Acc: 0.9917, Val Acc: 0.6720, Val F1 (micro): 0.6720\n",
            "Epoch: 030, Train Acc: 0.9917, Val Acc: 0.6780, Val F1 (micro): 0.6780\n",
            "Epoch: 040, Train Acc: 0.9917, Val Acc: 0.6000, Val F1 (micro): 0.6000\n",
            "Epoch: 050, Train Acc: 0.9917, Val Acc: 0.6320, Val F1 (micro): 0.6320\n",
            "Epoch: 060, Train Acc: 0.9917, Val Acc: 0.6520, Val F1 (micro): 0.6520\n",
            "Epoch: 070, Train Acc: 0.9917, Val Acc: 0.6480, Val F1 (micro): 0.6480\n",
            "Epoch: 080, Train Acc: 0.9833, Val Acc: 0.6820, Val F1 (micro): 0.6820\n",
            "Epoch: 090, Train Acc: 0.9833, Val Acc: 0.6680, Val F1 (micro): 0.6680\n",
            "Epoch: 100, Train Acc: 0.9833, Val Acc: 0.6320, Val F1 (micro): 0.6320\n",
            "Training time: 16.46 seconds\n",
            "Memory after cleanup: 117.05 MB\n",
            "Epoch: 010, Train Acc: 0.9917, Val Acc: 0.6340, Val F1 (micro): 0.6340\n",
            "Epoch: 020, Train Acc: 0.9833, Val Acc: 0.6640, Val F1 (micro): 0.6640\n",
            "Epoch: 030, Train Acc: 0.9833, Val Acc: 0.6660, Val F1 (micro): 0.6660\n",
            "Epoch: 040, Train Acc: 0.9833, Val Acc: 0.6780, Val F1 (micro): 0.6780\n",
            "Epoch: 050, Train Acc: 0.9917, Val Acc: 0.6760, Val F1 (micro): 0.6760\n",
            "Epoch: 060, Train Acc: 0.9917, Val Acc: 0.6900, Val F1 (micro): 0.6900\n",
            "Epoch: 070, Train Acc: 0.9917, Val Acc: 0.6920, Val F1 (micro): 0.6920\n",
            "Epoch: 080, Train Acc: 0.9917, Val Acc: 0.6960, Val F1 (micro): 0.6960\n",
            "Epoch: 090, Train Acc: 0.9917, Val Acc: 0.6740, Val F1 (micro): 0.6740\n",
            "Epoch: 100, Train Acc: 0.9917, Val Acc: 0.6780, Val F1 (micro): 0.6780\n",
            "Training time: 16.80 seconds\n",
            "Memory after cleanup: 117.05 MB\n",
            "Epoch: 010, Train Acc: 0.9917, Val Acc: 0.6660, Val F1 (micro): 0.6660\n",
            "Epoch: 020, Train Acc: 0.9917, Val Acc: 0.6600, Val F1 (micro): 0.6600\n",
            "Epoch: 030, Train Acc: 0.9917, Val Acc: 0.6800, Val F1 (micro): 0.6800\n",
            "Epoch: 040, Train Acc: 0.9833, Val Acc: 0.6320, Val F1 (micro): 0.6320\n",
            "Epoch: 050, Train Acc: 0.9917, Val Acc: 0.6300, Val F1 (micro): 0.6300\n",
            "Epoch: 060, Train Acc: 0.9583, Val Acc: 0.6600, Val F1 (micro): 0.6600\n",
            "Epoch: 070, Train Acc: 0.9833, Val Acc: 0.6760, Val F1 (micro): 0.6760\n",
            "Epoch: 080, Train Acc: 0.9750, Val Acc: 0.6720, Val F1 (micro): 0.6720\n",
            "Epoch: 090, Train Acc: 0.9833, Val Acc: 0.6800, Val F1 (micro): 0.6800\n",
            "Epoch: 100, Train Acc: 0.9833, Val Acc: 0.6540, Val F1 (micro): 0.6540\n",
            "Training time: 17.12 seconds\n",
            "Memory after cleanup: 117.05 MB\n",
            "Epoch: 010, Train Acc: 0.9833, Val Acc: 0.6660, Val F1 (micro): 0.6660\n",
            "Epoch: 020, Train Acc: 0.9750, Val Acc: 0.6460, Val F1 (micro): 0.6460\n",
            "Epoch: 030, Train Acc: 0.9750, Val Acc: 0.6440, Val F1 (micro): 0.6440\n",
            "Epoch: 040, Train Acc: 0.9917, Val Acc: 0.6460, Val F1 (micro): 0.6460\n",
            "Epoch: 050, Train Acc: 0.9917, Val Acc: 0.6680, Val F1 (micro): 0.6680\n",
            "Epoch: 060, Train Acc: 0.9917, Val Acc: 0.6660, Val F1 (micro): 0.6660\n",
            "Epoch: 070, Train Acc: 0.9917, Val Acc: 0.6720, Val F1 (micro): 0.6720\n",
            "Epoch: 080, Train Acc: 0.9667, Val Acc: 0.6900, Val F1 (micro): 0.6900\n",
            "Epoch: 090, Train Acc: 0.9833, Val Acc: 0.6740, Val F1 (micro): 0.6740\n",
            "Epoch: 100, Train Acc: 0.9833, Val Acc: 0.6880, Val F1 (micro): 0.6880\n",
            "Training time: 16.73 seconds\n",
            "Memory after cleanup: 117.05 MB\n",
            "Epoch: 010, Train Acc: 0.9667, Val Acc: 0.6660, Val F1 (micro): 0.6660\n",
            "Epoch: 020, Train Acc: 0.9750, Val Acc: 0.6520, Val F1 (micro): 0.6520\n",
            "Epoch: 030, Train Acc: 0.9750, Val Acc: 0.6680, Val F1 (micro): 0.6680\n",
            "Epoch: 040, Train Acc: 0.9750, Val Acc: 0.6720, Val F1 (micro): 0.6720\n",
            "Epoch: 050, Train Acc: 0.9750, Val Acc: 0.6620, Val F1 (micro): 0.6620\n",
            "Epoch: 060, Train Acc: 0.9917, Val Acc: 0.6660, Val F1 (micro): 0.6660\n",
            "Epoch: 070, Train Acc: 0.9917, Val Acc: 0.6140, Val F1 (micro): 0.6140\n",
            "Epoch: 080, Train Acc: 0.9917, Val Acc: 0.6820, Val F1 (micro): 0.6820\n",
            "Epoch: 090, Train Acc: 0.9750, Val Acc: 0.6800, Val F1 (micro): 0.6800\n",
            "Epoch: 100, Train Acc: 0.9750, Val Acc: 0.6720, Val F1 (micro): 0.6720\n",
            "Training time: 17.37 seconds\n",
            "Test F1 Score (micro): 0.6490\n",
            "Test test accuracy (micro):  0.6490\n"
          ]
        }
      ]
    },
    {
      "cell_type": "code",
      "source": [
        "print(res)\n",
        "print(sum(res)/10)\n",
        "print(f\"Allocated memory after tensor creation: {torch.cuda.memory_allocated() / (1024**2):.2f} MB\")\n",
        "print(f\"Reserved memory after tensor creation: {torch.cuda.memory_reserved() / (1024**2):.2f} MB\")\n",
        "print(f\"Peak allocated memory: {torch.cuda.max_memory_allocated() / (1024**2):.2f} MB\")\n"
      ],
      "metadata": {
        "id": "ux_tjd2T40qQ",
        "outputId": "71d9ddad-acf3-44a5-da0d-8bd5f790d0d0",
        "colab": {
          "base_uri": "https://localhost:8080/"
        }
      },
      "execution_count": 58,
      "outputs": [
        {
          "output_type": "stream",
          "name": "stdout",
          "text": [
            "[0.674, 0.662, 0.657, 0.671, 0.644, 0.595, 0.666, 0.63, 0.668, 0.649]\n",
            "0.6516000000000001\n",
            "Allocated memory after tensor creation: 117.05 MB\n",
            "Reserved memory after tensor creation: 156.00 MB\n",
            "Peak allocated memory: 127.21 MB\n"
          ]
        }
      ]
    },
    {
      "cell_type": "code",
      "source": [
        "peak_memory_mb=f\"{torch.cuda.max_memory_allocated()/1024**2:.2f}\"\n",
        "total_train_time=f\"{end_time - start_time:.2f}\"\n",
        "\n",
        "metrics = {\n",
        "    \"model\": \"clusterGCN\",\n",
        "    \"accuracy\": test_acc,\n",
        "    \"f1_micro\":test_f1,\n",
        "    \"peak_memory_MB\": peak_memory_mb,\n",
        "    \"train_time_sec\": total_train_time,\n",
        "    \"mem_MB\":peak_memory_mb\n",
        "}\n",
        "\n",
        "with open(\"clusterGCN_CiteSeer_results.json\", \"w\") as f:\n",
        "    json.dump(metrics, f)"
      ],
      "metadata": {
        "id": "lzUy-01ve370"
      },
      "execution_count": null,
      "outputs": []
    },
    {
      "cell_type": "markdown",
      "source": [
        "**Amazon dataset**"
      ],
      "metadata": {
        "id": "38Lu3wX1fLKC"
      }
    },
    {
      "cell_type": "code",
      "source": [
        "clean_gpu_memory()\n",
        "\n",
        "def dataset_load():\n",
        "  print(f\"Using device: {device}\")\n",
        "  dataset = Amazon(\n",
        "        root='data/Amazon',\n",
        "        name='Computers',\n",
        "        transform=T.Compose([\n",
        "        NormalizeFeatures(),          # feature‑wise ℓ₂ normalisation\n",
        "        RandomNodeSplit(              # ⇦ add a split transform\n",
        "                split='train_rest',       # 10% val, 10% test by default\n",
        "                num_val=0.1,\n",
        "                num_test=0.1,\n",
        "                num_splits=1,\n",
        "            )\n",
        "        ])\n",
        "    )\n",
        "  num_features = dataset.num_features\n",
        "  num_classes = dataset.num_classes\n",
        "  data = dataset[0].to(device)  # Get the first graph object.\n",
        "  return num_features, data, num_classes, device,dataset\n",
        "\n",
        "num_features, data, num_classes, device, dataset = dataset_load()\n",
        "subgraphs = custom_partition(data, num_neighbors=5, num_hops=2)\n",
        "\n",
        "loader = DataLoader(subgraphs, batch_size=128, shuffle=True)\n",
        "\n",
        "model = GCN(hidden_channels=64).to(device)\n",
        "optimizer = torch.optim.Adam(model.parameters(), lr=0.01)\n",
        "criterion = torch.nn.CrossEntropyLoss().to(device)\n",
        "\n",
        "display(Javascript('''google.colab.output.setIframeHeight(0, true, {maxHeight: 300})'''))\n",
        "data=data.to(device)\n",
        "\n",
        "res=[]\n",
        "for i in range(10):\n",
        "  clean_gpu_memory()\n",
        "  start_time= time.time()\n",
        "  for epoch in range(1, 101):\n",
        "    loss = train_batch(loader)\n",
        "    if epoch % 10 == 0:\n",
        "      train_acc = test(data, data.train_mask)\n",
        "      val_acc = test(data, data.val_mask)\n",
        "      val_f1 = f1_micro(data, data.val_mask)\n",
        "      print(f'Epoch: {epoch:03d}, Train Acc: {train_acc:.4f}, Val Acc: {val_acc:.4f}, Val F1 (micro): {val_f1:.4f}')\n",
        "\n",
        "  end_time = time.time()\n",
        "  print(f\"Training time: {end_time - start_time:.2f} seconds\")\n",
        "  test_acc = test(data, data.test_mask)\n",
        "  res.append(test_acc)\n",
        "\n",
        "test_acc = test(data, data.test_mask)\n",
        "\n",
        "test_f1 = f1_micro(data, data.test_mask)\n",
        "print(f'Test F1 Score (micro): {test_f1:.4f}')\n",
        "print(f'Test test accuracy (micro):  {test_acc:.4f}')"
      ],
      "metadata": {
        "id": "IwvBacXte8XG",
        "outputId": "8f2b37be-4d32-474c-d2a1-0c41a4dd25fd",
        "colab": {
          "base_uri": "https://localhost:8080/",
          "height": 300
        }
      },
      "execution_count": 59,
      "outputs": [
        {
          "output_type": "stream",
          "name": "stdout",
          "text": [
            "Memory after cleanup: 117.05 MB\n",
            "Using device: cuda\n"
          ]
        },
        {
          "output_type": "stream",
          "name": "stderr",
          "text": [
            "Downloading https://github.com/shchur/gnn-benchmark/raw/master/data/npz/amazon_electronics_computers.npz\n",
            "Processing...\n",
            "Done!\n",
            "/tmp/ipython-input-14-2948250694.py:12: ConstantInputWarning: An input array is constant; the correlation coefficient is not defined.\n",
            "  corr, _ = pearsonr(features[i], features[j])\n"
          ]
        },
        {
          "output_type": "display_data",
          "data": {
            "text/plain": [
              "<IPython.core.display.Javascript object>"
            ],
            "application/javascript": [
              "google.colab.output.setIframeHeight(0, true, {maxHeight: 300})"
            ]
          },
          "metadata": {}
        },
        {
          "output_type": "stream",
          "name": "stdout",
          "text": [
            "Memory after cleanup: 166.81 MB\n",
            "Epoch: 010, Train Acc: 0.6537, Val Acc: 0.6793, Val F1 (micro): 0.6793\n",
            "Epoch: 020, Train Acc: 0.7433, Val Acc: 0.7549, Val F1 (micro): 0.7549\n",
            "Epoch: 030, Train Acc: 0.7874, Val Acc: 0.7920, Val F1 (micro): 0.7920\n",
            "Epoch: 040, Train Acc: 0.8193, Val Acc: 0.8160, Val F1 (micro): 0.8160\n",
            "Epoch: 050, Train Acc: 0.8464, Val Acc: 0.8422, Val F1 (micro): 0.8422\n",
            "Epoch: 060, Train Acc: 0.8504, Val Acc: 0.8451, Val F1 (micro): 0.8451\n",
            "Epoch: 070, Train Acc: 0.8672, Val Acc: 0.8655, Val F1 (micro): 0.8655\n",
            "Epoch: 080, Train Acc: 0.8738, Val Acc: 0.8647, Val F1 (micro): 0.8647\n",
            "Epoch: 090, Train Acc: 0.8876, Val Acc: 0.8785, Val F1 (micro): 0.8785\n",
            "Epoch: 100, Train Acc: 0.8787, Val Acc: 0.8705, Val F1 (micro): 0.8705\n",
            "Training time: 24.53 seconds\n",
            "Memory after cleanup: 113.57 MB\n",
            "Epoch: 010, Train Acc: 0.8912, Val Acc: 0.8749, Val F1 (micro): 0.8749\n",
            "Epoch: 020, Train Acc: 0.8902, Val Acc: 0.8778, Val F1 (micro): 0.8778\n",
            "Epoch: 030, Train Acc: 0.8977, Val Acc: 0.8865, Val F1 (micro): 0.8865\n",
            "Epoch: 040, Train Acc: 0.8905, Val Acc: 0.8785, Val F1 (micro): 0.8785\n",
            "Epoch: 050, Train Acc: 0.8919, Val Acc: 0.8778, Val F1 (micro): 0.8778\n",
            "Epoch: 060, Train Acc: 0.9047, Val Acc: 0.8924, Val F1 (micro): 0.8924\n",
            "Epoch: 070, Train Acc: 0.9047, Val Acc: 0.8938, Val F1 (micro): 0.8938\n",
            "Epoch: 080, Train Acc: 0.9021, Val Acc: 0.8902, Val F1 (micro): 0.8902\n",
            "Epoch: 090, Train Acc: 0.9051, Val Acc: 0.8916, Val F1 (micro): 0.8916\n",
            "Epoch: 100, Train Acc: 0.9127, Val Acc: 0.8982, Val F1 (micro): 0.8982\n",
            "Training time: 24.31 seconds\n",
            "Memory after cleanup: 113.57 MB\n",
            "Epoch: 010, Train Acc: 0.9079, Val Acc: 0.8953, Val F1 (micro): 0.8953\n",
            "Epoch: 020, Train Acc: 0.9075, Val Acc: 0.8996, Val F1 (micro): 0.8996\n",
            "Epoch: 030, Train Acc: 0.9102, Val Acc: 0.8975, Val F1 (micro): 0.8975\n",
            "Epoch: 040, Train Acc: 0.9100, Val Acc: 0.8960, Val F1 (micro): 0.8960\n",
            "Epoch: 050, Train Acc: 0.9127, Val Acc: 0.8982, Val F1 (micro): 0.8982\n",
            "Epoch: 060, Train Acc: 0.9136, Val Acc: 0.9004, Val F1 (micro): 0.9004\n",
            "Epoch: 070, Train Acc: 0.9127, Val Acc: 0.8982, Val F1 (micro): 0.8982\n",
            "Epoch: 080, Train Acc: 0.9154, Val Acc: 0.8989, Val F1 (micro): 0.8989\n",
            "Epoch: 090, Train Acc: 0.9179, Val Acc: 0.9011, Val F1 (micro): 0.9011\n",
            "Epoch: 100, Train Acc: 0.9116, Val Acc: 0.8975, Val F1 (micro): 0.8975\n",
            "Training time: 25.01 seconds\n",
            "Memory after cleanup: 113.57 MB\n",
            "Epoch: 010, Train Acc: 0.9194, Val Acc: 0.9018, Val F1 (micro): 0.9018\n",
            "Epoch: 020, Train Acc: 0.9205, Val Acc: 0.8960, Val F1 (micro): 0.8960\n",
            "Epoch: 030, Train Acc: 0.9167, Val Acc: 0.9011, Val F1 (micro): 0.9011\n",
            "Epoch: 040, Train Acc: 0.9163, Val Acc: 0.9055, Val F1 (micro): 0.9055\n",
            "Epoch: 050, Train Acc: 0.9214, Val Acc: 0.9011, Val F1 (micro): 0.9011\n",
            "Epoch: 060, Train Acc: 0.9203, Val Acc: 0.9018, Val F1 (micro): 0.9018\n",
            "Epoch: 070, Train Acc: 0.9213, Val Acc: 0.9011, Val F1 (micro): 0.9011\n",
            "Epoch: 080, Train Acc: 0.9204, Val Acc: 0.9040, Val F1 (micro): 0.9040\n",
            "Epoch: 090, Train Acc: 0.9184, Val Acc: 0.9004, Val F1 (micro): 0.9004\n",
            "Epoch: 100, Train Acc: 0.9161, Val Acc: 0.8996, Val F1 (micro): 0.8996\n",
            "Training time: 24.91 seconds\n",
            "Memory after cleanup: 113.57 MB\n",
            "Epoch: 010, Train Acc: 0.9176, Val Acc: 0.9025, Val F1 (micro): 0.9025\n",
            "Epoch: 020, Train Acc: 0.9219, Val Acc: 0.9018, Val F1 (micro): 0.9018\n",
            "Epoch: 030, Train Acc: 0.9255, Val Acc: 0.9018, Val F1 (micro): 0.9018\n",
            "Epoch: 040, Train Acc: 0.9197, Val Acc: 0.9033, Val F1 (micro): 0.9033\n",
            "Epoch: 050, Train Acc: 0.9218, Val Acc: 0.9025, Val F1 (micro): 0.9025\n",
            "Epoch: 060, Train Acc: 0.9247, Val Acc: 0.9055, Val F1 (micro): 0.9055\n",
            "Epoch: 070, Train Acc: 0.9259, Val Acc: 0.9076, Val F1 (micro): 0.9076\n",
            "Epoch: 080, Train Acc: 0.9199, Val Acc: 0.8996, Val F1 (micro): 0.8996\n",
            "Epoch: 090, Train Acc: 0.9240, Val Acc: 0.9062, Val F1 (micro): 0.9062\n",
            "Epoch: 100, Train Acc: 0.9269, Val Acc: 0.9062, Val F1 (micro): 0.9062\n",
            "Training time: 25.20 seconds\n",
            "Memory after cleanup: 113.57 MB\n",
            "Epoch: 010, Train Acc: 0.9247, Val Acc: 0.9069, Val F1 (micro): 0.9069\n",
            "Epoch: 020, Train Acc: 0.9273, Val Acc: 0.9062, Val F1 (micro): 0.9062\n",
            "Epoch: 030, Train Acc: 0.9252, Val Acc: 0.9040, Val F1 (micro): 0.9040\n",
            "Epoch: 040, Train Acc: 0.9297, Val Acc: 0.9076, Val F1 (micro): 0.9076\n",
            "Epoch: 050, Train Acc: 0.9288, Val Acc: 0.9033, Val F1 (micro): 0.9033\n",
            "Epoch: 060, Train Acc: 0.9281, Val Acc: 0.9033, Val F1 (micro): 0.9033\n",
            "Epoch: 070, Train Acc: 0.9288, Val Acc: 0.9055, Val F1 (micro): 0.9055\n",
            "Epoch: 080, Train Acc: 0.9288, Val Acc: 0.9025, Val F1 (micro): 0.9025\n",
            "Epoch: 090, Train Acc: 0.9277, Val Acc: 0.9040, Val F1 (micro): 0.9040\n",
            "Epoch: 100, Train Acc: 0.9289, Val Acc: 0.9033, Val F1 (micro): 0.9033\n",
            "Training time: 24.67 seconds\n",
            "Memory after cleanup: 113.57 MB\n",
            "Epoch: 010, Train Acc: 0.9293, Val Acc: 0.9076, Val F1 (micro): 0.9076\n",
            "Epoch: 020, Train Acc: 0.9241, Val Acc: 0.9033, Val F1 (micro): 0.9033\n",
            "Epoch: 030, Train Acc: 0.9254, Val Acc: 0.9055, Val F1 (micro): 0.9055\n",
            "Epoch: 040, Train Acc: 0.9262, Val Acc: 0.9055, Val F1 (micro): 0.9055\n",
            "Epoch: 050, Train Acc: 0.9280, Val Acc: 0.9062, Val F1 (micro): 0.9062\n",
            "Epoch: 060, Train Acc: 0.9297, Val Acc: 0.9025, Val F1 (micro): 0.9025\n",
            "Epoch: 070, Train Acc: 0.9298, Val Acc: 0.9040, Val F1 (micro): 0.9040\n",
            "Epoch: 080, Train Acc: 0.9313, Val Acc: 0.9062, Val F1 (micro): 0.9062\n",
            "Epoch: 090, Train Acc: 0.9309, Val Acc: 0.9055, Val F1 (micro): 0.9055\n",
            "Epoch: 100, Train Acc: 0.9270, Val Acc: 0.9055, Val F1 (micro): 0.9055\n",
            "Training time: 24.51 seconds\n",
            "Memory after cleanup: 113.57 MB\n",
            "Epoch: 010, Train Acc: 0.9289, Val Acc: 0.9033, Val F1 (micro): 0.9033\n",
            "Epoch: 020, Train Acc: 0.9273, Val Acc: 0.9076, Val F1 (micro): 0.9076\n",
            "Epoch: 030, Train Acc: 0.9311, Val Acc: 0.9062, Val F1 (micro): 0.9062\n",
            "Epoch: 040, Train Acc: 0.9246, Val Acc: 0.9025, Val F1 (micro): 0.9025\n",
            "Epoch: 050, Train Acc: 0.9316, Val Acc: 0.9047, Val F1 (micro): 0.9047\n",
            "Epoch: 060, Train Acc: 0.9302, Val Acc: 0.9062, Val F1 (micro): 0.9062\n",
            "Epoch: 070, Train Acc: 0.9286, Val Acc: 0.9047, Val F1 (micro): 0.9047\n",
            "Epoch: 080, Train Acc: 0.9322, Val Acc: 0.9062, Val F1 (micro): 0.9062\n",
            "Epoch: 090, Train Acc: 0.9322, Val Acc: 0.9062, Val F1 (micro): 0.9062\n",
            "Epoch: 100, Train Acc: 0.9306, Val Acc: 0.9040, Val F1 (micro): 0.9040\n",
            "Training time: 24.52 seconds\n",
            "Memory after cleanup: 113.57 MB\n",
            "Epoch: 010, Train Acc: 0.9286, Val Acc: 0.9076, Val F1 (micro): 0.9076\n",
            "Epoch: 020, Train Acc: 0.9309, Val Acc: 0.9062, Val F1 (micro): 0.9062\n",
            "Epoch: 030, Train Acc: 0.9294, Val Acc: 0.9084, Val F1 (micro): 0.9084\n",
            "Epoch: 040, Train Acc: 0.9331, Val Acc: 0.9091, Val F1 (micro): 0.9091\n",
            "Epoch: 050, Train Acc: 0.9307, Val Acc: 0.9025, Val F1 (micro): 0.9025\n",
            "Epoch: 060, Train Acc: 0.9333, Val Acc: 0.9069, Val F1 (micro): 0.9069\n",
            "Epoch: 070, Train Acc: 0.9301, Val Acc: 0.9047, Val F1 (micro): 0.9047\n",
            "Epoch: 080, Train Acc: 0.9323, Val Acc: 0.9084, Val F1 (micro): 0.9084\n",
            "Epoch: 090, Train Acc: 0.9296, Val Acc: 0.9055, Val F1 (micro): 0.9055\n",
            "Epoch: 100, Train Acc: 0.9326, Val Acc: 0.9055, Val F1 (micro): 0.9055\n",
            "Training time: 24.58 seconds\n",
            "Memory after cleanup: 113.57 MB\n",
            "Epoch: 010, Train Acc: 0.9281, Val Acc: 0.9047, Val F1 (micro): 0.9047\n",
            "Epoch: 020, Train Acc: 0.9283, Val Acc: 0.9069, Val F1 (micro): 0.9069\n",
            "Epoch: 030, Train Acc: 0.9292, Val Acc: 0.9055, Val F1 (micro): 0.9055\n",
            "Epoch: 040, Train Acc: 0.9307, Val Acc: 0.9055, Val F1 (micro): 0.9055\n",
            "Epoch: 050, Train Acc: 0.9347, Val Acc: 0.9076, Val F1 (micro): 0.9076\n",
            "Epoch: 060, Train Acc: 0.9336, Val Acc: 0.9076, Val F1 (micro): 0.9076\n",
            "Epoch: 070, Train Acc: 0.9296, Val Acc: 0.9033, Val F1 (micro): 0.9033\n",
            "Epoch: 080, Train Acc: 0.9326, Val Acc: 0.9047, Val F1 (micro): 0.9047\n",
            "Epoch: 090, Train Acc: 0.9310, Val Acc: 0.9047, Val F1 (micro): 0.9047\n",
            "Epoch: 100, Train Acc: 0.9306, Val Acc: 0.9069, Val F1 (micro): 0.9069\n",
            "Training time: 24.57 seconds\n",
            "Test F1 Score (micro): 0.8960\n",
            "Test test accuracy (micro):  0.8960\n"
          ]
        }
      ]
    },
    {
      "cell_type": "code",
      "source": [
        "print(res)\n",
        "print(sum(res)/10)\n",
        "print(f\"Allocated memory after tensor creation: {torch.cuda.memory_allocated() / (1024**2):.2f} MB\")\n",
        "print(f\"Reserved memory after tensor creation: {torch.cuda.memory_reserved() / (1024**2):.2f} MB\")\n",
        "print(f\"Peak allocated memory: {torch.cuda.max_memory_allocated() / (1024**2):.2f} MB\")\n"
      ],
      "metadata": {
        "id": "NFsid8Rx-zJa",
        "outputId": "7f352e5b-3e91-4745-fb91-8647d83c4bbe",
        "colab": {
          "base_uri": "https://localhost:8080/"
        }
      },
      "execution_count": 60,
      "outputs": [
        {
          "output_type": "stream",
          "name": "stdout",
          "text": [
            "[0.8552727272727273, 0.885090909090909, 0.8887272727272727, 0.8836363636363637, 0.901090909090909, 0.9032727272727272, 0.8974545454545455, 0.9054545454545454, 0.9061818181818182, 0.896]\n",
            "0.8922181818181819\n",
            "Allocated memory after tensor creation: 113.57 MB\n",
            "Reserved memory after tensor creation: 538.00 MB\n",
            "Peak allocated memory: 378.43 MB\n"
          ]
        }
      ]
    },
    {
      "cell_type": "code",
      "source": [
        "peak_memory_mb=f\"{torch.cuda.max_memory_allocated()/1024**2:.2f}\"\n",
        "total_train_time=f\"{end_time - start_time:.2f}\"\n",
        "\n",
        "metrics = {\n",
        "    \"model\": \"clusterGCN\",\n",
        "    \"accuracy\": test_acc,\n",
        "    \"f1_micro\":test_f1,\n",
        "    \"peak_memory_MB\": peak_memory_mb,\n",
        "    \"train_time_sec\": total_train_time,\n",
        "    \"mem_MB\":peak_memory_mb\n",
        "}\n",
        "\n",
        "with open(\"clusterGCN_Amazon_results.json\", \"w\") as f:\n",
        "    json.dump(metrics, f)"
      ],
      "metadata": {
        "id": "MjuBc24QfqKN"
      },
      "execution_count": null,
      "outputs": []
    }
  ]
}