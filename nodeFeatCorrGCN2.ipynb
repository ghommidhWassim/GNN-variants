{
  "nbformat": 4,
  "nbformat_minor": 0,
  "metadata": {
    "colab": {
      "provenance": [],
      "gpuType": "T4",
      "include_colab_link": true
    },
    "kernelspec": {
      "name": "python3",
      "display_name": "Python 3"
    },
    "language_info": {
      "name": "python"
    },
    "accelerator": "GPU"
  },
  "cells": [
    {
      "cell_type": "markdown",
      "metadata": {
        "id": "view-in-github",
        "colab_type": "text"
      },
      "source": [
        "<a href=\"https://colab.research.google.com/github/ghommidhWassim/GNN-variants/blob/main/nodeFeatCorrGCN2.ipynb\" target=\"_parent\"><img src=\"https://colab.research.google.com/assets/colab-badge.svg\" alt=\"Open In Colab\"/></a>"
      ]
    },
    {
      "cell_type": "code",
      "execution_count": 2,
      "metadata": {
        "colab": {
          "base_uri": "https://localhost:8080/"
        },
        "id": "qZOSwsC8Mjpt",
        "outputId": "8c084e32-ac15-46a6-8a56-5436cb2c816b"
      },
      "outputs": [
        {
          "output_type": "stream",
          "name": "stdout",
          "text": [
            "  Installing build dependencies ... \u001b[?25l\u001b[?25hdone\n",
            "  Getting requirements to build wheel ... \u001b[?25l\u001b[?25hdone\n",
            "  Preparing metadata (pyproject.toml) ... \u001b[?25l\u001b[?25hdone\n",
            "2.8.0+cu126\n",
            "12.6\n",
            "Requirement already satisfied: torchvision in /usr/local/lib/python3.12/dist-packages (0.23.0+cu126)\n",
            "Requirement already satisfied: numpy in /usr/local/lib/python3.12/dist-packages (from torchvision) (2.0.2)\n",
            "Requirement already satisfied: torch==2.8.0 in /usr/local/lib/python3.12/dist-packages (from torchvision) (2.8.0+cu126)\n",
            "Requirement already satisfied: pillow!=8.3.*,>=5.3.0 in /usr/local/lib/python3.12/dist-packages (from torchvision) (11.3.0)\n",
            "Requirement already satisfied: filelock in /usr/local/lib/python3.12/dist-packages (from torch==2.8.0->torchvision) (3.20.0)\n",
            "Requirement already satisfied: typing-extensions>=4.10.0 in /usr/local/lib/python3.12/dist-packages (from torch==2.8.0->torchvision) (4.15.0)\n",
            "Requirement already satisfied: setuptools in /usr/local/lib/python3.12/dist-packages (from torch==2.8.0->torchvision) (75.2.0)\n",
            "Requirement already satisfied: sympy>=1.13.3 in /usr/local/lib/python3.12/dist-packages (from torch==2.8.0->torchvision) (1.13.3)\n",
            "Requirement already satisfied: networkx in /usr/local/lib/python3.12/dist-packages (from torch==2.8.0->torchvision) (3.5)\n",
            "Requirement already satisfied: jinja2 in /usr/local/lib/python3.12/dist-packages (from torch==2.8.0->torchvision) (3.1.6)\n",
            "Requirement already satisfied: fsspec in /usr/local/lib/python3.12/dist-packages (from torch==2.8.0->torchvision) (2025.3.0)\n",
            "Requirement already satisfied: nvidia-cuda-nvrtc-cu12==12.6.77 in /usr/local/lib/python3.12/dist-packages (from torch==2.8.0->torchvision) (12.6.77)\n",
            "Requirement already satisfied: nvidia-cuda-runtime-cu12==12.6.77 in /usr/local/lib/python3.12/dist-packages (from torch==2.8.0->torchvision) (12.6.77)\n",
            "Requirement already satisfied: nvidia-cuda-cupti-cu12==12.6.80 in /usr/local/lib/python3.12/dist-packages (from torch==2.8.0->torchvision) (12.6.80)\n",
            "Requirement already satisfied: nvidia-cudnn-cu12==9.10.2.21 in /usr/local/lib/python3.12/dist-packages (from torch==2.8.0->torchvision) (9.10.2.21)\n",
            "Requirement already satisfied: nvidia-cublas-cu12==12.6.4.1 in /usr/local/lib/python3.12/dist-packages (from torch==2.8.0->torchvision) (12.6.4.1)\n",
            "Requirement already satisfied: nvidia-cufft-cu12==11.3.0.4 in /usr/local/lib/python3.12/dist-packages (from torch==2.8.0->torchvision) (11.3.0.4)\n",
            "Requirement already satisfied: nvidia-curand-cu12==10.3.7.77 in /usr/local/lib/python3.12/dist-packages (from torch==2.8.0->torchvision) (10.3.7.77)\n",
            "Requirement already satisfied: nvidia-cusolver-cu12==11.7.1.2 in /usr/local/lib/python3.12/dist-packages (from torch==2.8.0->torchvision) (11.7.1.2)\n",
            "Requirement already satisfied: nvidia-cusparse-cu12==12.5.4.2 in /usr/local/lib/python3.12/dist-packages (from torch==2.8.0->torchvision) (12.5.4.2)\n",
            "Requirement already satisfied: nvidia-cusparselt-cu12==0.7.1 in /usr/local/lib/python3.12/dist-packages (from torch==2.8.0->torchvision) (0.7.1)\n",
            "Requirement already satisfied: nvidia-nccl-cu12==2.27.3 in /usr/local/lib/python3.12/dist-packages (from torch==2.8.0->torchvision) (2.27.3)\n",
            "Requirement already satisfied: nvidia-nvtx-cu12==12.6.77 in /usr/local/lib/python3.12/dist-packages (from torch==2.8.0->torchvision) (12.6.77)\n",
            "Requirement already satisfied: nvidia-nvjitlink-cu12==12.6.85 in /usr/local/lib/python3.12/dist-packages (from torch==2.8.0->torchvision) (12.6.85)\n",
            "Requirement already satisfied: nvidia-cufile-cu12==1.11.1.6 in /usr/local/lib/python3.12/dist-packages (from torch==2.8.0->torchvision) (1.11.1.6)\n",
            "Requirement already satisfied: triton==3.4.0 in /usr/local/lib/python3.12/dist-packages (from torch==2.8.0->torchvision) (3.4.0)\n",
            "Requirement already satisfied: mpmath<1.4,>=1.1.0 in /usr/local/lib/python3.12/dist-packages (from sympy>=1.13.3->torch==2.8.0->torchvision) (1.3.0)\n",
            "Requirement already satisfied: MarkupSafe>=2.0 in /usr/local/lib/python3.12/dist-packages (from jinja2->torch==2.8.0->torchvision) (3.0.3)\n",
            "Looking in links: https://data.pyg.org/whl/torch-2.8.0+cu126.html\n",
            "Requirement already satisfied: pyg_lib in /usr/local/lib/python3.12/dist-packages (0.5.0+pt28cu126)\n",
            "Requirement already satisfied: torch_scatter in /usr/local/lib/python3.12/dist-packages (2.1.2+pt28cu126)\n",
            "Requirement already satisfied: torch_sparse in /usr/local/lib/python3.12/dist-packages (0.6.18+pt28cu126)\n",
            "Requirement already satisfied: torch_cluster in /usr/local/lib/python3.12/dist-packages (1.6.3+pt28cu126)\n",
            "Requirement already satisfied: torch_spline_conv in /usr/local/lib/python3.12/dist-packages (1.2.2+pt28cu126)\n",
            "Requirement already satisfied: scipy in /usr/local/lib/python3.12/dist-packages (from torch_sparse) (1.16.2)\n",
            "Requirement already satisfied: numpy<2.6,>=1.25.2 in /usr/local/lib/python3.12/dist-packages (from scipy->torch_sparse) (2.0.2)\n"
          ]
        }
      ],
      "source": [
        "!pip install -q git+https://github.com/pyg-team/pytorch_geometric.git\n",
        "!python -c \"import torch; print(torch.__version__)\"\n",
        "!python -c \"import torch; print(torch.version.cuda)\"\n",
        "!pip install torchvision\n",
        "!pip install pyg_lib torch_scatter torch_sparse torch_cluster torch_spline_conv -f https://data.pyg.org/whl/torch-2.8.0+cu126.html\n",
        "\n",
        "\n"
      ]
    },
    {
      "cell_type": "code",
      "source": [
        "# Standard libraries\n",
        "import numpy as np\n",
        "from scipy import sparse\n",
        "import seaborn as sns\n",
        "import pandas as pd\n",
        "import time\n",
        "import json\n",
        "# Plotting libraries\n",
        "import matplotlib.pyplot as plt\n",
        "import networkx as nx\n",
        "from matplotlib import cm\n",
        "from IPython.display import Javascript  # Restrict height of output cell.\n",
        "\n",
        "# PyTorch\n",
        "import torch\n",
        "import torch.nn.functional as F\n",
        "from torch.nn import Linear\n",
        "import torch.nn as nn\n",
        "from torch_sparse import spmm\n",
        "# import pyg_lib\n",
        "import torch_sparse\n",
        "from torch_geometric.utils import to_networkx\n",
        "from sklearn.metrics import f1_score\n",
        "\n",
        "# PyTorch geometric\n",
        "from torch_geometric.nn import GCNConv\n",
        "from torch_geometric.datasets import Planetoid,Amazon\n",
        "from torch_geometric.loader import ClusterData, ClusterLoader\n",
        "from torch_geometric.transforms import NormalizeFeatures, RandomNodeSplit\n",
        "import torch_geometric.transforms as T\n",
        "from torch_geometric.data import Data\n",
        "from torch_geometric import seed_everything\n",
        "from torch.profiler import profile, record_function, ProfilerActivity\n",
        "import os.path as osp\n",
        "from torch_geometric.datasets import Planetoid\n",
        "from torch_geometric.loader import NeighborLoader\n",
        "from torch_geometric.nn import GraphSAGE\n",
        "from sklearn.metrics import accuracy_score\n",
        "from transformers import AutoModelForCausalLM\n",
        "from torch.profiler import profile, record_function, ProfilerActivity"
      ],
      "metadata": {
        "id": "Q0y6VyZAMzYu"
      },
      "execution_count": 3,
      "outputs": []
    },
    {
      "cell_type": "code",
      "source": [
        "def clean_gpu_memory():\n",
        "    \"\"\"Cleans GPU memory without fully resetting the CUDA context\"\"\"\n",
        "    import gc\n",
        "    gc.collect()  # Python garbage collection\n",
        "    if torch.cuda.is_available():\n",
        "        torch.cuda.empty_cache()  # PyTorch cache\n",
        "        torch.cuda.reset_peak_memory_stats()  # Reset tracking\n",
        "        print(f\"Memory after cleanup: {torch.cuda.memory_allocated()/1024**2:.2f} MB\")\n",
        "\n",
        "def f1_micro(data, mask):\n",
        "    model.eval()\n",
        "    out = model(data.x.to(device), data.edge_index.to(device))\n",
        "    pred = out.argmax(dim=1)\n",
        "    y_true = data.y[mask].cpu().numpy()\n",
        "    y_pred = pred[mask.to(device)].cpu().numpy()\n",
        "    return f1_score(y_true, y_pred, average='micro')\n"
      ],
      "metadata": {
        "id": "q5vzbaLgWcBv"
      },
      "execution_count": 5,
      "outputs": []
    },
    {
      "cell_type": "code",
      "source": [
        "device = torch.device('cuda' if torch.cuda.is_available() else 'cpu')\n",
        "print(f\"Initial allocated memory: {torch.cuda.memory_allocated() / (1024**2):.2f} MB\")\n",
        "\n",
        "def dataset_load():\n",
        "  print(f\"Using device: {device}\")\n",
        "  dataset = Planetoid(root='data/Planetoid', name='PubMed', transform=NormalizeFeatures())\n",
        "  num_features = dataset.num_features\n",
        "  num_classes = dataset.num_classes\n",
        "  data = dataset[0].to(device)  # Get the first graph object.\n",
        "  return num_features, data, num_classes, device,dataset"
      ],
      "metadata": {
        "colab": {
          "base_uri": "https://localhost:8080/"
        },
        "id": "K_VYH5nBNHXl",
        "outputId": "68a8e610-15f5-46db-bfcb-9ce323bf4c00"
      },
      "execution_count": 4,
      "outputs": [
        {
          "output_type": "stream",
          "name": "stdout",
          "text": [
            "Initial allocated memory: 0.00 MB\n"
          ]
        }
      ]
    },
    {
      "cell_type": "code",
      "source": [
        "num_features, data, num_classes, device, dataset = dataset_load()\n",
        "print(f'Number of nodes:          {data.num_nodes}')\n",
        "print(f'Number of edges:          {data.num_edges}')\n",
        "print(f'Average node degree:      {data.num_edges / data.num_nodes:.2f}')\n",
        "print(f'Number of training nodes: {data.train_mask.sum()}')\n",
        "print(f'Training node label rate: {int(data.train_mask.sum()) / data.num_nodes:.3f}')\n",
        "print(f'Has isolated nodes:       {data.has_isolated_nodes()}')\n",
        "print(f'Has self-loops:           {data.has_self_loops()}')\n",
        "print(f'Is undirected:            {data.is_undirected()}')"
      ],
      "metadata": {
        "colab": {
          "base_uri": "https://localhost:8080/"
        },
        "id": "O328-q0NNMAQ",
        "outputId": "8a461826-f0c5-45ce-bff8-e2a045f61627"
      },
      "execution_count": null,
      "outputs": [
        {
          "output_type": "stream",
          "name": "stdout",
          "text": [
            "Using device: cuda\n"
          ]
        },
        {
          "output_type": "stream",
          "name": "stderr",
          "text": [
            "Downloading https://github.com/kimiyoung/planetoid/raw/master/data/ind.pubmed.x\n",
            "Downloading https://github.com/kimiyoung/planetoid/raw/master/data/ind.pubmed.tx\n",
            "Downloading https://github.com/kimiyoung/planetoid/raw/master/data/ind.pubmed.allx\n",
            "Downloading https://github.com/kimiyoung/planetoid/raw/master/data/ind.pubmed.y\n",
            "Downloading https://github.com/kimiyoung/planetoid/raw/master/data/ind.pubmed.ty\n",
            "Downloading https://github.com/kimiyoung/planetoid/raw/master/data/ind.pubmed.ally\n",
            "Downloading https://github.com/kimiyoung/planetoid/raw/master/data/ind.pubmed.graph\n",
            "Downloading https://github.com/kimiyoung/planetoid/raw/master/data/ind.pubmed.test.index\n",
            "Processing...\n",
            "Done!\n"
          ]
        },
        {
          "output_type": "stream",
          "name": "stdout",
          "text": [
            "Number of nodes:          19717\n",
            "Number of edges:          88648\n",
            "Average node degree:      4.50\n",
            "Number of training nodes: 60\n",
            "Training node label rate: 0.003\n",
            "Has isolated nodes:       False\n",
            "Has self-loops:           False\n",
            "Is undirected:            True\n"
          ]
        }
      ]
    },
    {
      "cell_type": "code",
      "source": [
        "\n",
        "\n",
        "class GCN(torch.nn.Module):\n",
        "    def __init__(self, in_channels, hidden_channels, out_channels):\n",
        "        super().__init__()\n",
        "        self.conv1 = GCNConv(in_channels, hidden_channels)\n",
        "        self.conv2 = GCNConv(hidden_channels, out_channels)\n",
        "\n",
        "\n",
        "    def forward_layer1(self, x, edge_index):\n",
        "        x = self.conv1(x, edge_index)\n",
        "        x = F.relu(x)\n",
        "        return x\n",
        "\n",
        "    def forward_layer2(self, x, edge_index):\n",
        "        x = F.dropout(x, p=0.5, training=self.training)\n",
        "        x = self.conv2(x, edge_index)\n",
        "        return F.log_softmax(x, dim=-1)\n"
      ],
      "metadata": {
        "id": "lPsgIR3oNUFn"
      },
      "execution_count": 5,
      "outputs": []
    },
    {
      "cell_type": "code",
      "source": [
        "def visualize_subgraph(x, edge_index, node_colors=None, title=None):\n",
        "    G = to_networkx(Data(x=x, edge_index=edge_index), to_undirected=True)\n",
        "    plt.figure(figsize=(6, 6))\n",
        "    pos = nx.spring_layout(G, seed=42)  # You can change layout\n",
        "    nx.draw(G, pos, with_labels=False, node_size=20, node_color='skyblue')\n",
        "    plt.title(title or \"Subgraph\")\n",
        "    plt.show()"
      ],
      "metadata": {
        "id": "gnfnnny4QX5j"
      },
      "execution_count": 6,
      "outputs": []
    },
    {
      "cell_type": "code",
      "source": [
        "import torch\n",
        "from torch_geometric.utils import subgraph, to_networkx\n",
        "from torch_geometric.data import Data\n",
        "import numpy as np\n",
        "from sklearn.metrics.pairwise import cosine_similarity\n",
        "import matplotlib.pyplot as plt\n",
        "import networkx as nx\n",
        "import random\n",
        "\n",
        "def compute_corr_matrix(features):\n",
        "    norm_features = features / (np.linalg.norm(features, axis=1, keepdims=True) + 1e-8)\n",
        "    return cosine_similarity(norm_features)\n",
        "\n",
        "def drop_correlated_nodes(candidates, feature_matrix, threshold):\n",
        "    if len(candidates) < 2:\n",
        "        return candidates\n",
        "\n",
        "    sub_feats = feature_matrix[candidates]\n",
        "    corr_matrix = compute_corr_matrix(sub_feats)\n",
        "\n",
        "    to_drop = set()\n",
        "    for i in range(len(candidates)):\n",
        "        for j in range(i + 1, len(candidates)):\n",
        "            if corr_matrix[i][j] > threshold:\n",
        "                drop_node = random.choice([candidates[i], candidates[j]])\n",
        "                to_drop.add(drop_node)\n",
        "\n",
        "    filtered = [n for n in candidates if n not in to_drop]\n",
        "    return filtered\n",
        "\n",
        "def custom_partition(data, num_subgraphs=128, similarity_threshold=0.7, nodes_per_subgraph=None):\n",
        "    total_nodes = data.num_nodes\n",
        "    if nodes_per_subgraph is None:\n",
        "        nodes_per_subgraph = total_nodes // num_subgraphs\n",
        "\n",
        "    all_nodes = set(range(total_nodes))\n",
        "    used_nodes = set()\n",
        "    subgraphs = []\n",
        "    x_np = data.x.cpu().numpy()\n",
        "\n",
        "    while len(used_nodes) < total_nodes and len(subgraphs) < num_subgraphs:\n",
        "        candidate_nodes = list(all_nodes - used_nodes)\n",
        "        if not candidate_nodes:\n",
        "            break\n",
        "\n",
        "        seed = np.random.choice(candidate_nodes)\n",
        "        current_hop_nodes = [seed]\n",
        "        selected_nodes = set([seed])\n",
        "        visited = set([seed])\n",
        "\n",
        "        while len(selected_nodes) < nodes_per_subgraph:\n",
        "            neighbors = []\n",
        "            for node in current_hop_nodes:\n",
        "                neigh = data.edge_index[1][data.edge_index[0] == node].cpu().numpy()\n",
        "                neighbors.extend(neigh.tolist())\n",
        "            neighbors = list(set(neighbors) - used_nodes - selected_nodes)\n",
        "\n",
        "            if not neighbors:\n",
        "                break\n",
        "\n",
        "            # Drop correlated neighbors based on cosine similarity\n",
        "            filtered_neighbors = drop_correlated_nodes(neighbors, x_np, threshold=similarity_threshold)\n",
        "\n",
        "            if not filtered_neighbors:\n",
        "                break\n",
        "\n",
        "            for n in filtered_neighbors:\n",
        "                if len(selected_nodes) >= nodes_per_subgraph:\n",
        "                    break\n",
        "                if n not in visited:\n",
        "                    selected_nodes.add(n)\n",
        "                    visited.add(n)\n",
        "\n",
        "            current_hop_nodes = filtered_neighbors\n",
        "\n",
        "        used_nodes.update(selected_nodes)\n",
        "\n",
        "        sub_nodes = list(selected_nodes)\n",
        "        edge_index_sub, _ = subgraph(sub_nodes, data.edge_index, relabel_nodes=True, num_nodes=total_nodes)\n",
        "        x_sub = data.x[sub_nodes]\n",
        "        y_sub = data.y[sub_nodes]\n",
        "        mask_sub = {}\n",
        "        for key in ['train_mask', 'val_mask', 'test_mask']:\n",
        "            if hasattr(data, key):\n",
        "                mask = getattr(data, key)\n",
        "                mask_sub[key] = mask[sub_nodes]\n",
        "\n",
        "        subgraph_data = Data(x=x_sub, edge_index=edge_index_sub, y=y_sub, **mask_sub)\n",
        "        subgraphs.append(subgraph_data)\n",
        "\n",
        "        #visualize_subgraph(x_sub, edge_index_sub, title=f\"Subgraph #{len(subgraphs)}\")\n",
        "\n",
        "    return subgraphs\n"
      ],
      "metadata": {
        "id": "VFfeiFcBrMfz"
      },
      "execution_count": 6,
      "outputs": []
    },
    {
      "cell_type": "code",
      "source": [
        "subgraphs = custom_partition(data, num_subgraphs=512, similarity_threshold=0.6)\n",
        "print(subgraphs)\n",
        "#subgraphs = custom_partition(data, num_neighbors=4.5, num_hops=3)\n",
        "\n",
        "from torch_geometric.loader import DataLoader\n",
        "loader = DataLoader(subgraphs, batch_size=128, shuffle=True)\n",
        "total=0\n",
        "for i, sg in enumerate(subgraphs):\n",
        "    #print(f\"Subgraph {i}: {sg.num_nodes} nodes\")\n",
        "    total=total+sg.num_nodes\n",
        "print(total)\n"
      ],
      "metadata": {
        "id": "-P1I3AuKg_BX",
        "colab": {
          "base_uri": "https://localhost:8080/"
        },
        "outputId": "6e9cd037-bb60-4ab8-aec9-78f7ee03e768"
      },
      "execution_count": null,
      "outputs": [
        {
          "output_type": "stream",
          "name": "stdout",
          "text": [
            "[Data(x=[38, 500], edge_index=[2, 84], y=[38], train_mask=[38], val_mask=[38], test_mask=[38]), Data(x=[38, 500], edge_index=[2, 116], y=[38], train_mask=[38], val_mask=[38], test_mask=[38]), Data(x=[38, 500], edge_index=[2, 92], y=[38], train_mask=[38], val_mask=[38], test_mask=[38]), Data(x=[38, 500], edge_index=[2, 88], y=[38], train_mask=[38], val_mask=[38], test_mask=[38]), Data(x=[38, 500], edge_index=[2, 84], y=[38], train_mask=[38], val_mask=[38], test_mask=[38]), Data(x=[38, 500], edge_index=[2, 84], y=[38], train_mask=[38], val_mask=[38], test_mask=[38]), Data(x=[38, 500], edge_index=[2, 94], y=[38], train_mask=[38], val_mask=[38], test_mask=[38]), Data(x=[38, 500], edge_index=[2, 96], y=[38], train_mask=[38], val_mask=[38], test_mask=[38]), Data(x=[38, 500], edge_index=[2, 82], y=[38], train_mask=[38], val_mask=[38], test_mask=[38]), Data(x=[1, 500], edge_index=[2, 0], y=[1], train_mask=[1], val_mask=[1], test_mask=[1]), Data(x=[38, 500], edge_index=[2, 86], y=[38], train_mask=[38], val_mask=[38], test_mask=[38]), Data(x=[38, 500], edge_index=[2, 140], y=[38], train_mask=[38], val_mask=[38], test_mask=[38]), Data(x=[38, 500], edge_index=[2, 102], y=[38], train_mask=[38], val_mask=[38], test_mask=[38]), Data(x=[38, 500], edge_index=[2, 86], y=[38], train_mask=[38], val_mask=[38], test_mask=[38]), Data(x=[38, 500], edge_index=[2, 102], y=[38], train_mask=[38], val_mask=[38], test_mask=[38]), Data(x=[38, 500], edge_index=[2, 94], y=[38], train_mask=[38], val_mask=[38], test_mask=[38]), Data(x=[38, 500], edge_index=[2, 86], y=[38], train_mask=[38], val_mask=[38], test_mask=[38]), Data(x=[38, 500], edge_index=[2, 76], y=[38], train_mask=[38], val_mask=[38], test_mask=[38]), Data(x=[38, 500], edge_index=[2, 80], y=[38], train_mask=[38], val_mask=[38], test_mask=[38]), Data(x=[38, 500], edge_index=[2, 74], y=[38], train_mask=[38], val_mask=[38], test_mask=[38]), Data(x=[38, 500], edge_index=[2, 88], y=[38], train_mask=[38], val_mask=[38], test_mask=[38]), Data(x=[38, 500], edge_index=[2, 80], y=[38], train_mask=[38], val_mask=[38], test_mask=[38]), Data(x=[38, 500], edge_index=[2, 130], y=[38], train_mask=[38], val_mask=[38], test_mask=[38]), Data(x=[38, 500], edge_index=[2, 84], y=[38], train_mask=[38], val_mask=[38], test_mask=[38]), Data(x=[38, 500], edge_index=[2, 96], y=[38], train_mask=[38], val_mask=[38], test_mask=[38]), Data(x=[38, 500], edge_index=[2, 142], y=[38], train_mask=[38], val_mask=[38], test_mask=[38]), Data(x=[38, 500], edge_index=[2, 74], y=[38], train_mask=[38], val_mask=[38], test_mask=[38]), Data(x=[38, 500], edge_index=[2, 102], y=[38], train_mask=[38], val_mask=[38], test_mask=[38]), Data(x=[38, 500], edge_index=[2, 88], y=[38], train_mask=[38], val_mask=[38], test_mask=[38]), Data(x=[1, 500], edge_index=[2, 0], y=[1], train_mask=[1], val_mask=[1], test_mask=[1]), Data(x=[38, 500], edge_index=[2, 100], y=[38], train_mask=[38], val_mask=[38], test_mask=[38]), Data(x=[38, 500], edge_index=[2, 114], y=[38], train_mask=[38], val_mask=[38], test_mask=[38]), Data(x=[38, 500], edge_index=[2, 88], y=[38], train_mask=[38], val_mask=[38], test_mask=[38]), Data(x=[38, 500], edge_index=[2, 82], y=[38], train_mask=[38], val_mask=[38], test_mask=[38]), Data(x=[38, 500], edge_index=[2, 82], y=[38], train_mask=[38], val_mask=[38], test_mask=[38]), Data(x=[38, 500], edge_index=[2, 86], y=[38], train_mask=[38], val_mask=[38], test_mask=[38]), Data(x=[38, 500], edge_index=[2, 82], y=[38], train_mask=[38], val_mask=[38], test_mask=[38]), Data(x=[38, 500], edge_index=[2, 84], y=[38], train_mask=[38], val_mask=[38], test_mask=[38]), Data(x=[38, 500], edge_index=[2, 88], y=[38], train_mask=[38], val_mask=[38], test_mask=[38]), Data(x=[38, 500], edge_index=[2, 100], y=[38], train_mask=[38], val_mask=[38], test_mask=[38]), Data(x=[38, 500], edge_index=[2, 82], y=[38], train_mask=[38], val_mask=[38], test_mask=[38]), Data(x=[38, 500], edge_index=[2, 88], y=[38], train_mask=[38], val_mask=[38], test_mask=[38]), Data(x=[38, 500], edge_index=[2, 82], y=[38], train_mask=[38], val_mask=[38], test_mask=[38]), Data(x=[38, 500], edge_index=[2, 84], y=[38], train_mask=[38], val_mask=[38], test_mask=[38]), Data(x=[38, 500], edge_index=[2, 74], y=[38], train_mask=[38], val_mask=[38], test_mask=[38]), Data(x=[38, 500], edge_index=[2, 118], y=[38], train_mask=[38], val_mask=[38], test_mask=[38]), Data(x=[38, 500], edge_index=[2, 108], y=[38], train_mask=[38], val_mask=[38], test_mask=[38]), Data(x=[5, 500], edge_index=[2, 8], y=[5], train_mask=[5], val_mask=[5], test_mask=[5]), Data(x=[38, 500], edge_index=[2, 96], y=[38], train_mask=[38], val_mask=[38], test_mask=[38]), Data(x=[38, 500], edge_index=[2, 102], y=[38], train_mask=[38], val_mask=[38], test_mask=[38]), Data(x=[38, 500], edge_index=[2, 102], y=[38], train_mask=[38], val_mask=[38], test_mask=[38]), Data(x=[38, 500], edge_index=[2, 90], y=[38], train_mask=[38], val_mask=[38], test_mask=[38]), Data(x=[38, 500], edge_index=[2, 116], y=[38], train_mask=[38], val_mask=[38], test_mask=[38]), Data(x=[38, 500], edge_index=[2, 76], y=[38], train_mask=[38], val_mask=[38], test_mask=[38]), Data(x=[38, 500], edge_index=[2, 82], y=[38], train_mask=[38], val_mask=[38], test_mask=[38]), Data(x=[38, 500], edge_index=[2, 82], y=[38], train_mask=[38], val_mask=[38], test_mask=[38]), Data(x=[38, 500], edge_index=[2, 90], y=[38], train_mask=[38], val_mask=[38], test_mask=[38]), Data(x=[1, 500], edge_index=[2, 0], y=[1], train_mask=[1], val_mask=[1], test_mask=[1]), Data(x=[38, 500], edge_index=[2, 94], y=[38], train_mask=[38], val_mask=[38], test_mask=[38]), Data(x=[38, 500], edge_index=[2, 88], y=[38], train_mask=[38], val_mask=[38], test_mask=[38]), Data(x=[38, 500], edge_index=[2, 80], y=[38], train_mask=[38], val_mask=[38], test_mask=[38]), Data(x=[38, 500], edge_index=[2, 88], y=[38], train_mask=[38], val_mask=[38], test_mask=[38]), Data(x=[38, 500], edge_index=[2, 82], y=[38], train_mask=[38], val_mask=[38], test_mask=[38]), Data(x=[38, 500], edge_index=[2, 82], y=[38], train_mask=[38], val_mask=[38], test_mask=[38]), Data(x=[38, 500], edge_index=[2, 90], y=[38], train_mask=[38], val_mask=[38], test_mask=[38]), Data(x=[38, 500], edge_index=[2, 88], y=[38], train_mask=[38], val_mask=[38], test_mask=[38]), Data(x=[38, 500], edge_index=[2, 96], y=[38], train_mask=[38], val_mask=[38], test_mask=[38]), Data(x=[38, 500], edge_index=[2, 86], y=[38], train_mask=[38], val_mask=[38], test_mask=[38]), Data(x=[38, 500], edge_index=[2, 76], y=[38], train_mask=[38], val_mask=[38], test_mask=[38]), Data(x=[38, 500], edge_index=[2, 90], y=[38], train_mask=[38], val_mask=[38], test_mask=[38]), Data(x=[38, 500], edge_index=[2, 118], y=[38], train_mask=[38], val_mask=[38], test_mask=[38]), Data(x=[38, 500], edge_index=[2, 74], y=[38], train_mask=[38], val_mask=[38], test_mask=[38]), Data(x=[38, 500], edge_index=[2, 104], y=[38], train_mask=[38], val_mask=[38], test_mask=[38]), Data(x=[1, 500], edge_index=[2, 0], y=[1], train_mask=[1], val_mask=[1], test_mask=[1]), Data(x=[38, 500], edge_index=[2, 96], y=[38], train_mask=[38], val_mask=[38], test_mask=[38]), Data(x=[38, 500], edge_index=[2, 74], y=[38], train_mask=[38], val_mask=[38], test_mask=[38]), Data(x=[1, 500], edge_index=[2, 0], y=[1], train_mask=[1], val_mask=[1], test_mask=[1]), Data(x=[38, 500], edge_index=[2, 92], y=[38], train_mask=[38], val_mask=[38], test_mask=[38]), Data(x=[38, 500], edge_index=[2, 90], y=[38], train_mask=[38], val_mask=[38], test_mask=[38]), Data(x=[38, 500], edge_index=[2, 132], y=[38], train_mask=[38], val_mask=[38], test_mask=[38]), Data(x=[38, 500], edge_index=[2, 86], y=[38], train_mask=[38], val_mask=[38], test_mask=[38]), Data(x=[38, 500], edge_index=[2, 76], y=[38], train_mask=[38], val_mask=[38], test_mask=[38]), Data(x=[38, 500], edge_index=[2, 90], y=[38], train_mask=[38], val_mask=[38], test_mask=[38]), Data(x=[1, 500], edge_index=[2, 0], y=[1], train_mask=[1], val_mask=[1], test_mask=[1]), Data(x=[38, 500], edge_index=[2, 90], y=[38], train_mask=[38], val_mask=[38], test_mask=[38]), Data(x=[38, 500], edge_index=[2, 92], y=[38], train_mask=[38], val_mask=[38], test_mask=[38]), Data(x=[38, 500], edge_index=[2, 82], y=[38], train_mask=[38], val_mask=[38], test_mask=[38]), Data(x=[38, 500], edge_index=[2, 86], y=[38], train_mask=[38], val_mask=[38], test_mask=[38]), Data(x=[38, 500], edge_index=[2, 88], y=[38], train_mask=[38], val_mask=[38], test_mask=[38]), Data(x=[38, 500], edge_index=[2, 96], y=[38], train_mask=[38], val_mask=[38], test_mask=[38]), Data(x=[1, 500], edge_index=[2, 0], y=[1], train_mask=[1], val_mask=[1], test_mask=[1]), Data(x=[1, 500], edge_index=[2, 0], y=[1], train_mask=[1], val_mask=[1], test_mask=[1]), Data(x=[38, 500], edge_index=[2, 88], y=[38], train_mask=[38], val_mask=[38], test_mask=[38]), Data(x=[1, 500], edge_index=[2, 0], y=[1], train_mask=[1], val_mask=[1], test_mask=[1]), Data(x=[1, 500], edge_index=[2, 0], y=[1], train_mask=[1], val_mask=[1], test_mask=[1]), Data(x=[1, 500], edge_index=[2, 0], y=[1], train_mask=[1], val_mask=[1], test_mask=[1]), Data(x=[38, 500], edge_index=[2, 80], y=[38], train_mask=[38], val_mask=[38], test_mask=[38]), Data(x=[38, 500], edge_index=[2, 78], y=[38], train_mask=[38], val_mask=[38], test_mask=[38]), Data(x=[38, 500], edge_index=[2, 104], y=[38], train_mask=[38], val_mask=[38], test_mask=[38]), Data(x=[38, 500], edge_index=[2, 106], y=[38], train_mask=[38], val_mask=[38], test_mask=[38]), Data(x=[38, 500], edge_index=[2, 106], y=[38], train_mask=[38], val_mask=[38], test_mask=[38]), Data(x=[38, 500], edge_index=[2, 100], y=[38], train_mask=[38], val_mask=[38], test_mask=[38]), Data(x=[1, 500], edge_index=[2, 0], y=[1], train_mask=[1], val_mask=[1], test_mask=[1]), Data(x=[38, 500], edge_index=[2, 86], y=[38], train_mask=[38], val_mask=[38], test_mask=[38]), Data(x=[38, 500], edge_index=[2, 86], y=[38], train_mask=[38], val_mask=[38], test_mask=[38]), Data(x=[38, 500], edge_index=[2, 90], y=[38], train_mask=[38], val_mask=[38], test_mask=[38]), Data(x=[38, 500], edge_index=[2, 78], y=[38], train_mask=[38], val_mask=[38], test_mask=[38]), Data(x=[38, 500], edge_index=[2, 74], y=[38], train_mask=[38], val_mask=[38], test_mask=[38]), Data(x=[38, 500], edge_index=[2, 86], y=[38], train_mask=[38], val_mask=[38], test_mask=[38]), Data(x=[38, 500], edge_index=[2, 82], y=[38], train_mask=[38], val_mask=[38], test_mask=[38]), Data(x=[1, 500], edge_index=[2, 0], y=[1], train_mask=[1], val_mask=[1], test_mask=[1]), Data(x=[38, 500], edge_index=[2, 76], y=[38], train_mask=[38], val_mask=[38], test_mask=[38]), Data(x=[1, 500], edge_index=[2, 0], y=[1], train_mask=[1], val_mask=[1], test_mask=[1]), Data(x=[38, 500], edge_index=[2, 82], y=[38], train_mask=[38], val_mask=[38], test_mask=[38]), Data(x=[38, 500], edge_index=[2, 92], y=[38], train_mask=[38], val_mask=[38], test_mask=[38]), Data(x=[1, 500], edge_index=[2, 0], y=[1], train_mask=[1], val_mask=[1], test_mask=[1]), Data(x=[38, 500], edge_index=[2, 88], y=[38], train_mask=[38], val_mask=[38], test_mask=[38]), Data(x=[38, 500], edge_index=[2, 92], y=[38], train_mask=[38], val_mask=[38], test_mask=[38]), Data(x=[1, 500], edge_index=[2, 0], y=[1], train_mask=[1], val_mask=[1], test_mask=[1]), Data(x=[38, 500], edge_index=[2, 74], y=[38], train_mask=[38], val_mask=[38], test_mask=[38]), Data(x=[1, 500], edge_index=[2, 0], y=[1], train_mask=[1], val_mask=[1], test_mask=[1]), Data(x=[38, 500], edge_index=[2, 124], y=[38], train_mask=[38], val_mask=[38], test_mask=[38]), Data(x=[38, 500], edge_index=[2, 78], y=[38], train_mask=[38], val_mask=[38], test_mask=[38]), Data(x=[1, 500], edge_index=[2, 0], y=[1], train_mask=[1], val_mask=[1], test_mask=[1]), Data(x=[6, 500], edge_index=[2, 10], y=[6], train_mask=[6], val_mask=[6], test_mask=[6]), Data(x=[38, 500], edge_index=[2, 78], y=[38], train_mask=[38], val_mask=[38], test_mask=[38]), Data(x=[38, 500], edge_index=[2, 84], y=[38], train_mask=[38], val_mask=[38], test_mask=[38]), Data(x=[38, 500], edge_index=[2, 92], y=[38], train_mask=[38], val_mask=[38], test_mask=[38]), Data(x=[38, 500], edge_index=[2, 74], y=[38], train_mask=[38], val_mask=[38], test_mask=[38]), Data(x=[1, 500], edge_index=[2, 0], y=[1], train_mask=[1], val_mask=[1], test_mask=[1]), Data(x=[38, 500], edge_index=[2, 82], y=[38], train_mask=[38], val_mask=[38], test_mask=[38]), Data(x=[38, 500], edge_index=[2, 84], y=[38], train_mask=[38], val_mask=[38], test_mask=[38]), Data(x=[38, 500], edge_index=[2, 80], y=[38], train_mask=[38], val_mask=[38], test_mask=[38]), Data(x=[1, 500], edge_index=[2, 0], y=[1], train_mask=[1], val_mask=[1], test_mask=[1]), Data(x=[38, 500], edge_index=[2, 88], y=[38], train_mask=[38], val_mask=[38], test_mask=[38]), Data(x=[1, 500], edge_index=[2, 0], y=[1], train_mask=[1], val_mask=[1], test_mask=[1]), Data(x=[38, 500], edge_index=[2, 120], y=[38], train_mask=[38], val_mask=[38], test_mask=[38]), Data(x=[38, 500], edge_index=[2, 76], y=[38], train_mask=[38], val_mask=[38], test_mask=[38]), Data(x=[38, 500], edge_index=[2, 94], y=[38], train_mask=[38], val_mask=[38], test_mask=[38]), Data(x=[38, 500], edge_index=[2, 76], y=[38], train_mask=[38], val_mask=[38], test_mask=[38]), Data(x=[38, 500], edge_index=[2, 98], y=[38], train_mask=[38], val_mask=[38], test_mask=[38]), Data(x=[38, 500], edge_index=[2, 82], y=[38], train_mask=[38], val_mask=[38], test_mask=[38]), Data(x=[1, 500], edge_index=[2, 0], y=[1], train_mask=[1], val_mask=[1], test_mask=[1]), Data(x=[38, 500], edge_index=[2, 78], y=[38], train_mask=[38], val_mask=[38], test_mask=[38]), Data(x=[4, 500], edge_index=[2, 6], y=[4], train_mask=[4], val_mask=[4], test_mask=[4]), Data(x=[1, 500], edge_index=[2, 0], y=[1], train_mask=[1], val_mask=[1], test_mask=[1]), Data(x=[1, 500], edge_index=[2, 0], y=[1], train_mask=[1], val_mask=[1], test_mask=[1]), Data(x=[38, 500], edge_index=[2, 82], y=[38], train_mask=[38], val_mask=[38], test_mask=[38]), Data(x=[38, 500], edge_index=[2, 106], y=[38], train_mask=[38], val_mask=[38], test_mask=[38]), Data(x=[38, 500], edge_index=[2, 88], y=[38], train_mask=[38], val_mask=[38], test_mask=[38]), Data(x=[38, 500], edge_index=[2, 88], y=[38], train_mask=[38], val_mask=[38], test_mask=[38]), Data(x=[10, 500], edge_index=[2, 18], y=[10], train_mask=[10], val_mask=[10], test_mask=[10]), Data(x=[1, 500], edge_index=[2, 0], y=[1], train_mask=[1], val_mask=[1], test_mask=[1]), Data(x=[38, 500], edge_index=[2, 122], y=[38], train_mask=[38], val_mask=[38], test_mask=[38]), Data(x=[38, 500], edge_index=[2, 80], y=[38], train_mask=[38], val_mask=[38], test_mask=[38]), Data(x=[1, 500], edge_index=[2, 0], y=[1], train_mask=[1], val_mask=[1], test_mask=[1]), Data(x=[9, 500], edge_index=[2, 16], y=[9], train_mask=[9], val_mask=[9], test_mask=[9]), Data(x=[1, 500], edge_index=[2, 0], y=[1], train_mask=[1], val_mask=[1], test_mask=[1]), Data(x=[38, 500], edge_index=[2, 88], y=[38], train_mask=[38], val_mask=[38], test_mask=[38]), Data(x=[38, 500], edge_index=[2, 74], y=[38], train_mask=[38], val_mask=[38], test_mask=[38]), Data(x=[1, 500], edge_index=[2, 0], y=[1], train_mask=[1], val_mask=[1], test_mask=[1]), Data(x=[1, 500], edge_index=[2, 0], y=[1], train_mask=[1], val_mask=[1], test_mask=[1]), Data(x=[38, 500], edge_index=[2, 86], y=[38], train_mask=[38], val_mask=[38], test_mask=[38]), Data(x=[38, 500], edge_index=[2, 82], y=[38], train_mask=[38], val_mask=[38], test_mask=[38]), Data(x=[1, 500], edge_index=[2, 0], y=[1], train_mask=[1], val_mask=[1], test_mask=[1]), Data(x=[1, 500], edge_index=[2, 0], y=[1], train_mask=[1], val_mask=[1], test_mask=[1]), Data(x=[38, 500], edge_index=[2, 74], y=[38], train_mask=[38], val_mask=[38], test_mask=[38]), Data(x=[38, 500], edge_index=[2, 76], y=[38], train_mask=[38], val_mask=[38], test_mask=[38]), Data(x=[1, 500], edge_index=[2, 0], y=[1], train_mask=[1], val_mask=[1], test_mask=[1]), Data(x=[1, 500], edge_index=[2, 0], y=[1], train_mask=[1], val_mask=[1], test_mask=[1]), Data(x=[1, 500], edge_index=[2, 0], y=[1], train_mask=[1], val_mask=[1], test_mask=[1]), Data(x=[1, 500], edge_index=[2, 0], y=[1], train_mask=[1], val_mask=[1], test_mask=[1]), Data(x=[38, 500], edge_index=[2, 76], y=[38], train_mask=[38], val_mask=[38], test_mask=[38]), Data(x=[38, 500], edge_index=[2, 74], y=[38], train_mask=[38], val_mask=[38], test_mask=[38]), Data(x=[38, 500], edge_index=[2, 128], y=[38], train_mask=[38], val_mask=[38], test_mask=[38]), Data(x=[38, 500], edge_index=[2, 106], y=[38], train_mask=[38], val_mask=[38], test_mask=[38]), Data(x=[38, 500], edge_index=[2, 80], y=[38], train_mask=[38], val_mask=[38], test_mask=[38]), Data(x=[1, 500], edge_index=[2, 0], y=[1], train_mask=[1], val_mask=[1], test_mask=[1]), Data(x=[1, 500], edge_index=[2, 0], y=[1], train_mask=[1], val_mask=[1], test_mask=[1]), Data(x=[38, 500], edge_index=[2, 84], y=[38], train_mask=[38], val_mask=[38], test_mask=[38]), Data(x=[38, 500], edge_index=[2, 94], y=[38], train_mask=[38], val_mask=[38], test_mask=[38]), Data(x=[38, 500], edge_index=[2, 106], y=[38], train_mask=[38], val_mask=[38], test_mask=[38]), Data(x=[1, 500], edge_index=[2, 0], y=[1], train_mask=[1], val_mask=[1], test_mask=[1]), Data(x=[38, 500], edge_index=[2, 102], y=[38], train_mask=[38], val_mask=[38], test_mask=[38]), Data(x=[38, 500], edge_index=[2, 76], y=[38], train_mask=[38], val_mask=[38], test_mask=[38]), Data(x=[1, 500], edge_index=[2, 0], y=[1], train_mask=[1], val_mask=[1], test_mask=[1]), Data(x=[1, 500], edge_index=[2, 0], y=[1], train_mask=[1], val_mask=[1], test_mask=[1]), Data(x=[38, 500], edge_index=[2, 94], y=[38], train_mask=[38], val_mask=[38], test_mask=[38]), Data(x=[38, 500], edge_index=[2, 78], y=[38], train_mask=[38], val_mask=[38], test_mask=[38]), Data(x=[1, 500], edge_index=[2, 0], y=[1], train_mask=[1], val_mask=[1], test_mask=[1]), Data(x=[1, 500], edge_index=[2, 0], y=[1], train_mask=[1], val_mask=[1], test_mask=[1]), Data(x=[38, 500], edge_index=[2, 82], y=[38], train_mask=[38], val_mask=[38], test_mask=[38]), Data(x=[38, 500], edge_index=[2, 84], y=[38], train_mask=[38], val_mask=[38], test_mask=[38]), Data(x=[1, 500], edge_index=[2, 0], y=[1], train_mask=[1], val_mask=[1], test_mask=[1]), Data(x=[38, 500], edge_index=[2, 78], y=[38], train_mask=[38], val_mask=[38], test_mask=[38]), Data(x=[38, 500], edge_index=[2, 76], y=[38], train_mask=[38], val_mask=[38], test_mask=[38]), Data(x=[1, 500], edge_index=[2, 0], y=[1], train_mask=[1], val_mask=[1], test_mask=[1]), Data(x=[38, 500], edge_index=[2, 84], y=[38], train_mask=[38], val_mask=[38], test_mask=[38]), Data(x=[38, 500], edge_index=[2, 76], y=[38], train_mask=[38], val_mask=[38], test_mask=[38]), Data(x=[38, 500], edge_index=[2, 78], y=[38], train_mask=[38], val_mask=[38], test_mask=[38]), Data(x=[38, 500], edge_index=[2, 86], y=[38], train_mask=[38], val_mask=[38], test_mask=[38]), Data(x=[38, 500], edge_index=[2, 78], y=[38], train_mask=[38], val_mask=[38], test_mask=[38]), Data(x=[1, 500], edge_index=[2, 0], y=[1], train_mask=[1], val_mask=[1], test_mask=[1]), Data(x=[3, 500], edge_index=[2, 4], y=[3], train_mask=[3], val_mask=[3], test_mask=[3]), Data(x=[38, 500], edge_index=[2, 104], y=[38], train_mask=[38], val_mask=[38], test_mask=[38]), Data(x=[10, 500], edge_index=[2, 24], y=[10], train_mask=[10], val_mask=[10], test_mask=[10]), Data(x=[38, 500], edge_index=[2, 84], y=[38], train_mask=[38], val_mask=[38], test_mask=[38]), Data(x=[38, 500], edge_index=[2, 82], y=[38], train_mask=[38], val_mask=[38], test_mask=[38]), Data(x=[38, 500], edge_index=[2, 74], y=[38], train_mask=[38], val_mask=[38], test_mask=[38]), Data(x=[1, 500], edge_index=[2, 0], y=[1], train_mask=[1], val_mask=[1], test_mask=[1]), Data(x=[1, 500], edge_index=[2, 0], y=[1], train_mask=[1], val_mask=[1], test_mask=[1]), Data(x=[38, 500], edge_index=[2, 74], y=[38], train_mask=[38], val_mask=[38], test_mask=[38]), Data(x=[38, 500], edge_index=[2, 80], y=[38], train_mask=[38], val_mask=[38], test_mask=[38]), Data(x=[1, 500], edge_index=[2, 0], y=[1], train_mask=[1], val_mask=[1], test_mask=[1]), Data(x=[38, 500], edge_index=[2, 82], y=[38], train_mask=[38], val_mask=[38], test_mask=[38]), Data(x=[38, 500], edge_index=[2, 74], y=[38], train_mask=[38], val_mask=[38], test_mask=[38]), Data(x=[38, 500], edge_index=[2, 78], y=[38], train_mask=[38], val_mask=[38], test_mask=[38]), Data(x=[38, 500], edge_index=[2, 86], y=[38], train_mask=[38], val_mask=[38], test_mask=[38]), Data(x=[1, 500], edge_index=[2, 0], y=[1], train_mask=[1], val_mask=[1], test_mask=[1]), Data(x=[38, 500], edge_index=[2, 84], y=[38], train_mask=[38], val_mask=[38], test_mask=[38]), Data(x=[38, 500], edge_index=[2, 84], y=[38], train_mask=[38], val_mask=[38], test_mask=[38]), Data(x=[1, 500], edge_index=[2, 0], y=[1], train_mask=[1], val_mask=[1], test_mask=[1]), Data(x=[9, 500], edge_index=[2, 16], y=[9], train_mask=[9], val_mask=[9], test_mask=[9]), Data(x=[38, 500], edge_index=[2, 86], y=[38], train_mask=[38], val_mask=[38], test_mask=[38]), Data(x=[6, 500], edge_index=[2, 10], y=[6], train_mask=[6], val_mask=[6], test_mask=[6]), Data(x=[38, 500], edge_index=[2, 74], y=[38], train_mask=[38], val_mask=[38], test_mask=[38]), Data(x=[38, 500], edge_index=[2, 86], y=[38], train_mask=[38], val_mask=[38], test_mask=[38]), Data(x=[1, 500], edge_index=[2, 0], y=[1], train_mask=[1], val_mask=[1], test_mask=[1]), Data(x=[1, 500], edge_index=[2, 0], y=[1], train_mask=[1], val_mask=[1], test_mask=[1]), Data(x=[38, 500], edge_index=[2, 90], y=[38], train_mask=[38], val_mask=[38], test_mask=[38]), Data(x=[1, 500], edge_index=[2, 0], y=[1], train_mask=[1], val_mask=[1], test_mask=[1]), Data(x=[1, 500], edge_index=[2, 0], y=[1], train_mask=[1], val_mask=[1], test_mask=[1]), Data(x=[1, 500], edge_index=[2, 0], y=[1], train_mask=[1], val_mask=[1], test_mask=[1]), Data(x=[3, 500], edge_index=[2, 4], y=[3], train_mask=[3], val_mask=[3], test_mask=[3]), Data(x=[38, 500], edge_index=[2, 78], y=[38], train_mask=[38], val_mask=[38], test_mask=[38]), Data(x=[7, 500], edge_index=[2, 12], y=[7], train_mask=[7], val_mask=[7], test_mask=[7]), Data(x=[38, 500], edge_index=[2, 94], y=[38], train_mask=[38], val_mask=[38], test_mask=[38]), Data(x=[1, 500], edge_index=[2, 0], y=[1], train_mask=[1], val_mask=[1], test_mask=[1]), Data(x=[38, 500], edge_index=[2, 74], y=[38], train_mask=[38], val_mask=[38], test_mask=[38]), Data(x=[38, 500], edge_index=[2, 76], y=[38], train_mask=[38], val_mask=[38], test_mask=[38]), Data(x=[1, 500], edge_index=[2, 0], y=[1], train_mask=[1], val_mask=[1], test_mask=[1]), Data(x=[38, 500], edge_index=[2, 74], y=[38], train_mask=[38], val_mask=[38], test_mask=[38]), Data(x=[1, 500], edge_index=[2, 0], y=[1], train_mask=[1], val_mask=[1], test_mask=[1]), Data(x=[1, 500], edge_index=[2, 0], y=[1], train_mask=[1], val_mask=[1], test_mask=[1]), Data(x=[38, 500], edge_index=[2, 76], y=[38], train_mask=[38], val_mask=[38], test_mask=[38]), Data(x=[38, 500], edge_index=[2, 84], y=[38], train_mask=[38], val_mask=[38], test_mask=[38]), Data(x=[1, 500], edge_index=[2, 0], y=[1], train_mask=[1], val_mask=[1], test_mask=[1]), Data(x=[1, 500], edge_index=[2, 0], y=[1], train_mask=[1], val_mask=[1], test_mask=[1]), Data(x=[1, 500], edge_index=[2, 0], y=[1], train_mask=[1], val_mask=[1], test_mask=[1]), Data(x=[38, 500], edge_index=[2, 78], y=[38], train_mask=[38], val_mask=[38], test_mask=[38]), Data(x=[38, 500], edge_index=[2, 76], y=[38], train_mask=[38], val_mask=[38], test_mask=[38]), Data(x=[38, 500], edge_index=[2, 74], y=[38], train_mask=[38], val_mask=[38], test_mask=[38]), Data(x=[1, 500], edge_index=[2, 0], y=[1], train_mask=[1], val_mask=[1], test_mask=[1]), Data(x=[1, 500], edge_index=[2, 0], y=[1], train_mask=[1], val_mask=[1], test_mask=[1]), Data(x=[1, 500], edge_index=[2, 0], y=[1], train_mask=[1], val_mask=[1], test_mask=[1]), Data(x=[38, 500], edge_index=[2, 76], y=[38], train_mask=[38], val_mask=[38], test_mask=[38]), Data(x=[38, 500], edge_index=[2, 76], y=[38], train_mask=[38], val_mask=[38], test_mask=[38]), Data(x=[38, 500], edge_index=[2, 92], y=[38], train_mask=[38], val_mask=[38], test_mask=[38]), Data(x=[38, 500], edge_index=[2, 76], y=[38], train_mask=[38], val_mask=[38], test_mask=[38]), Data(x=[2, 500], edge_index=[2, 2], y=[2], train_mask=[2], val_mask=[2], test_mask=[2]), Data(x=[38, 500], edge_index=[2, 78], y=[38], train_mask=[38], val_mask=[38], test_mask=[38]), Data(x=[1, 500], edge_index=[2, 0], y=[1], train_mask=[1], val_mask=[1], test_mask=[1]), Data(x=[38, 500], edge_index=[2, 80], y=[38], train_mask=[38], val_mask=[38], test_mask=[38]), Data(x=[38, 500], edge_index=[2, 94], y=[38], train_mask=[38], val_mask=[38], test_mask=[38]), Data(x=[1, 500], edge_index=[2, 0], y=[1], train_mask=[1], val_mask=[1], test_mask=[1]), Data(x=[1, 500], edge_index=[2, 0], y=[1], train_mask=[1], val_mask=[1], test_mask=[1]), Data(x=[38, 500], edge_index=[2, 102], y=[38], train_mask=[38], val_mask=[38], test_mask=[38]), Data(x=[38, 500], edge_index=[2, 76], y=[38], train_mask=[38], val_mask=[38], test_mask=[38]), Data(x=[1, 500], edge_index=[2, 0], y=[1], train_mask=[1], val_mask=[1], test_mask=[1]), Data(x=[1, 500], edge_index=[2, 0], y=[1], train_mask=[1], val_mask=[1], test_mask=[1]), Data(x=[38, 500], edge_index=[2, 76], y=[38], train_mask=[38], val_mask=[38], test_mask=[38]), Data(x=[1, 500], edge_index=[2, 0], y=[1], train_mask=[1], val_mask=[1], test_mask=[1]), Data(x=[1, 500], edge_index=[2, 0], y=[1], train_mask=[1], val_mask=[1], test_mask=[1]), Data(x=[1, 500], edge_index=[2, 0], y=[1], train_mask=[1], val_mask=[1], test_mask=[1]), Data(x=[2, 500], edge_index=[2, 2], y=[2], train_mask=[2], val_mask=[2], test_mask=[2]), Data(x=[1, 500], edge_index=[2, 0], y=[1], train_mask=[1], val_mask=[1], test_mask=[1]), Data(x=[38, 500], edge_index=[2, 74], y=[38], train_mask=[38], val_mask=[38], test_mask=[38]), Data(x=[1, 500], edge_index=[2, 0], y=[1], train_mask=[1], val_mask=[1], test_mask=[1]), Data(x=[1, 500], edge_index=[2, 0], y=[1], train_mask=[1], val_mask=[1], test_mask=[1]), Data(x=[8, 500], edge_index=[2, 18], y=[8], train_mask=[8], val_mask=[8], test_mask=[8]), Data(x=[1, 500], edge_index=[2, 0], y=[1], train_mask=[1], val_mask=[1], test_mask=[1]), Data(x=[38, 500], edge_index=[2, 76], y=[38], train_mask=[38], val_mask=[38], test_mask=[38]), Data(x=[1, 500], edge_index=[2, 0], y=[1], train_mask=[1], val_mask=[1], test_mask=[1]), Data(x=[38, 500], edge_index=[2, 78], y=[38], train_mask=[38], val_mask=[38], test_mask=[38]), Data(x=[1, 500], edge_index=[2, 0], y=[1], train_mask=[1], val_mask=[1], test_mask=[1]), Data(x=[1, 500], edge_index=[2, 0], y=[1], train_mask=[1], val_mask=[1], test_mask=[1]), Data(x=[38, 500], edge_index=[2, 76], y=[38], train_mask=[38], val_mask=[38], test_mask=[38]), Data(x=[38, 500], edge_index=[2, 82], y=[38], train_mask=[38], val_mask=[38], test_mask=[38]), Data(x=[9, 500], edge_index=[2, 16], y=[9], train_mask=[9], val_mask=[9], test_mask=[9]), Data(x=[1, 500], edge_index=[2, 0], y=[1], train_mask=[1], val_mask=[1], test_mask=[1]), Data(x=[38, 500], edge_index=[2, 76], y=[38], train_mask=[38], val_mask=[38], test_mask=[38]), Data(x=[38, 500], edge_index=[2, 86], y=[38], train_mask=[38], val_mask=[38], test_mask=[38]), Data(x=[3, 500], edge_index=[2, 4], y=[3], train_mask=[3], val_mask=[3], test_mask=[3]), Data(x=[1, 500], edge_index=[2, 0], y=[1], train_mask=[1], val_mask=[1], test_mask=[1]), Data(x=[38, 500], edge_index=[2, 84], y=[38], train_mask=[38], val_mask=[38], test_mask=[38]), Data(x=[1, 500], edge_index=[2, 0], y=[1], train_mask=[1], val_mask=[1], test_mask=[1]), Data(x=[38, 500], edge_index=[2, 82], y=[38], train_mask=[38], val_mask=[38], test_mask=[38]), Data(x=[1, 500], edge_index=[2, 0], y=[1], train_mask=[1], val_mask=[1], test_mask=[1]), Data(x=[38, 500], edge_index=[2, 88], y=[38], train_mask=[38], val_mask=[38], test_mask=[38]), Data(x=[1, 500], edge_index=[2, 0], y=[1], train_mask=[1], val_mask=[1], test_mask=[1]), Data(x=[1, 500], edge_index=[2, 0], y=[1], train_mask=[1], val_mask=[1], test_mask=[1]), Data(x=[38, 500], edge_index=[2, 74], y=[38], train_mask=[38], val_mask=[38], test_mask=[38]), Data(x=[1, 500], edge_index=[2, 0], y=[1], train_mask=[1], val_mask=[1], test_mask=[1]), Data(x=[1, 500], edge_index=[2, 0], y=[1], train_mask=[1], val_mask=[1], test_mask=[1]), Data(x=[38, 500], edge_index=[2, 88], y=[38], train_mask=[38], val_mask=[38], test_mask=[38]), Data(x=[1, 500], edge_index=[2, 0], y=[1], train_mask=[1], val_mask=[1], test_mask=[1]), Data(x=[6, 500], edge_index=[2, 10], y=[6], train_mask=[6], val_mask=[6], test_mask=[6]), Data(x=[38, 500], edge_index=[2, 84], y=[38], train_mask=[38], val_mask=[38], test_mask=[38]), Data(x=[1, 500], edge_index=[2, 0], y=[1], train_mask=[1], val_mask=[1], test_mask=[1]), Data(x=[1, 500], edge_index=[2, 0], y=[1], train_mask=[1], val_mask=[1], test_mask=[1]), Data(x=[1, 500], edge_index=[2, 0], y=[1], train_mask=[1], val_mask=[1], test_mask=[1]), Data(x=[1, 500], edge_index=[2, 0], y=[1], train_mask=[1], val_mask=[1], test_mask=[1]), Data(x=[1, 500], edge_index=[2, 0], y=[1], train_mask=[1], val_mask=[1], test_mask=[1]), Data(x=[1, 500], edge_index=[2, 0], y=[1], train_mask=[1], val_mask=[1], test_mask=[1]), Data(x=[7, 500], edge_index=[2, 12], y=[7], train_mask=[7], val_mask=[7], test_mask=[7]), Data(x=[38, 500], edge_index=[2, 82], y=[38], train_mask=[38], val_mask=[38], test_mask=[38]), Data(x=[38, 500], edge_index=[2, 74], y=[38], train_mask=[38], val_mask=[38], test_mask=[38]), Data(x=[21, 500], edge_index=[2, 40], y=[21], train_mask=[21], val_mask=[21], test_mask=[21]), Data(x=[38, 500], edge_index=[2, 76], y=[38], train_mask=[38], val_mask=[38], test_mask=[38]), Data(x=[1, 500], edge_index=[2, 0], y=[1], train_mask=[1], val_mask=[1], test_mask=[1]), Data(x=[25, 500], edge_index=[2, 50], y=[25], train_mask=[25], val_mask=[25], test_mask=[25]), Data(x=[1, 500], edge_index=[2, 0], y=[1], train_mask=[1], val_mask=[1], test_mask=[1]), Data(x=[1, 500], edge_index=[2, 0], y=[1], train_mask=[1], val_mask=[1], test_mask=[1]), Data(x=[1, 500], edge_index=[2, 0], y=[1], train_mask=[1], val_mask=[1], test_mask=[1]), Data(x=[38, 500], edge_index=[2, 102], y=[38], train_mask=[38], val_mask=[38], test_mask=[38]), Data(x=[38, 500], edge_index=[2, 78], y=[38], train_mask=[38], val_mask=[38], test_mask=[38]), Data(x=[1, 500], edge_index=[2, 0], y=[1], train_mask=[1], val_mask=[1], test_mask=[1]), Data(x=[38, 500], edge_index=[2, 94], y=[38], train_mask=[38], val_mask=[38], test_mask=[38]), Data(x=[23, 500], edge_index=[2, 44], y=[23], train_mask=[23], val_mask=[23], test_mask=[23]), Data(x=[6, 500], edge_index=[2, 10], y=[6], train_mask=[6], val_mask=[6], test_mask=[6]), Data(x=[1, 500], edge_index=[2, 0], y=[1], train_mask=[1], val_mask=[1], test_mask=[1]), Data(x=[1, 500], edge_index=[2, 0], y=[1], train_mask=[1], val_mask=[1], test_mask=[1]), Data(x=[1, 500], edge_index=[2, 0], y=[1], train_mask=[1], val_mask=[1], test_mask=[1]), Data(x=[1, 500], edge_index=[2, 0], y=[1], train_mask=[1], val_mask=[1], test_mask=[1]), Data(x=[1, 500], edge_index=[2, 0], y=[1], train_mask=[1], val_mask=[1], test_mask=[1]), Data(x=[38, 500], edge_index=[2, 84], y=[38], train_mask=[38], val_mask=[38], test_mask=[38]), Data(x=[1, 500], edge_index=[2, 0], y=[1], train_mask=[1], val_mask=[1], test_mask=[1]), Data(x=[1, 500], edge_index=[2, 0], y=[1], train_mask=[1], val_mask=[1], test_mask=[1]), Data(x=[38, 500], edge_index=[2, 84], y=[38], train_mask=[38], val_mask=[38], test_mask=[38]), Data(x=[1, 500], edge_index=[2, 0], y=[1], train_mask=[1], val_mask=[1], test_mask=[1]), Data(x=[1, 500], edge_index=[2, 0], y=[1], train_mask=[1], val_mask=[1], test_mask=[1]), Data(x=[1, 500], edge_index=[2, 0], y=[1], train_mask=[1], val_mask=[1], test_mask=[1]), Data(x=[1, 500], edge_index=[2, 0], y=[1], train_mask=[1], val_mask=[1], test_mask=[1]), Data(x=[1, 500], edge_index=[2, 0], y=[1], train_mask=[1], val_mask=[1], test_mask=[1]), Data(x=[2, 500], edge_index=[2, 2], y=[2], train_mask=[2], val_mask=[2], test_mask=[2]), Data(x=[1, 500], edge_index=[2, 0], y=[1], train_mask=[1], val_mask=[1], test_mask=[1]), Data(x=[38, 500], edge_index=[2, 78], y=[38], train_mask=[38], val_mask=[38], test_mask=[38]), Data(x=[1, 500], edge_index=[2, 0], y=[1], train_mask=[1], val_mask=[1], test_mask=[1]), Data(x=[1, 500], edge_index=[2, 0], y=[1], train_mask=[1], val_mask=[1], test_mask=[1]), Data(x=[1, 500], edge_index=[2, 0], y=[1], train_mask=[1], val_mask=[1], test_mask=[1]), Data(x=[1, 500], edge_index=[2, 0], y=[1], train_mask=[1], val_mask=[1], test_mask=[1]), Data(x=[1, 500], edge_index=[2, 0], y=[1], train_mask=[1], val_mask=[1], test_mask=[1]), Data(x=[38, 500], edge_index=[2, 90], y=[38], train_mask=[38], val_mask=[38], test_mask=[38]), Data(x=[38, 500], edge_index=[2, 74], y=[38], train_mask=[38], val_mask=[38], test_mask=[38]), Data(x=[1, 500], edge_index=[2, 0], y=[1], train_mask=[1], val_mask=[1], test_mask=[1]), Data(x=[1, 500], edge_index=[2, 0], y=[1], train_mask=[1], val_mask=[1], test_mask=[1]), Data(x=[1, 500], edge_index=[2, 0], y=[1], train_mask=[1], val_mask=[1], test_mask=[1]), Data(x=[1, 500], edge_index=[2, 0], y=[1], train_mask=[1], val_mask=[1], test_mask=[1]), Data(x=[1, 500], edge_index=[2, 0], y=[1], train_mask=[1], val_mask=[1], test_mask=[1]), Data(x=[2, 500], edge_index=[2, 2], y=[2], train_mask=[2], val_mask=[2], test_mask=[2]), Data(x=[1, 500], edge_index=[2, 0], y=[1], train_mask=[1], val_mask=[1], test_mask=[1]), Data(x=[14, 500], edge_index=[2, 26], y=[14], train_mask=[14], val_mask=[14], test_mask=[14]), Data(x=[38, 500], edge_index=[2, 78], y=[38], train_mask=[38], val_mask=[38], test_mask=[38]), Data(x=[38, 500], edge_index=[2, 76], y=[38], train_mask=[38], val_mask=[38], test_mask=[38]), Data(x=[1, 500], edge_index=[2, 0], y=[1], train_mask=[1], val_mask=[1], test_mask=[1]), Data(x=[7, 500], edge_index=[2, 12], y=[7], train_mask=[7], val_mask=[7], test_mask=[7]), Data(x=[1, 500], edge_index=[2, 0], y=[1], train_mask=[1], val_mask=[1], test_mask=[1]), Data(x=[38, 500], edge_index=[2, 76], y=[38], train_mask=[38], val_mask=[38], test_mask=[38]), Data(x=[1, 500], edge_index=[2, 0], y=[1], train_mask=[1], val_mask=[1], test_mask=[1]), Data(x=[1, 500], edge_index=[2, 0], y=[1], train_mask=[1], val_mask=[1], test_mask=[1]), Data(x=[1, 500], edge_index=[2, 0], y=[1], train_mask=[1], val_mask=[1], test_mask=[1]), Data(x=[1, 500], edge_index=[2, 0], y=[1], train_mask=[1], val_mask=[1], test_mask=[1]), Data(x=[12, 500], edge_index=[2, 22], y=[12], train_mask=[12], val_mask=[12], test_mask=[12]), Data(x=[38, 500], edge_index=[2, 78], y=[38], train_mask=[38], val_mask=[38], test_mask=[38]), Data(x=[38, 500], edge_index=[2, 86], y=[38], train_mask=[38], val_mask=[38], test_mask=[38]), Data(x=[1, 500], edge_index=[2, 0], y=[1], train_mask=[1], val_mask=[1], test_mask=[1]), Data(x=[1, 500], edge_index=[2, 0], y=[1], train_mask=[1], val_mask=[1], test_mask=[1]), Data(x=[1, 500], edge_index=[2, 0], y=[1], train_mask=[1], val_mask=[1], test_mask=[1]), Data(x=[1, 500], edge_index=[2, 0], y=[1], train_mask=[1], val_mask=[1], test_mask=[1]), Data(x=[14, 500], edge_index=[2, 30], y=[14], train_mask=[14], val_mask=[14], test_mask=[14]), Data(x=[1, 500], edge_index=[2, 0], y=[1], train_mask=[1], val_mask=[1], test_mask=[1]), Data(x=[1, 500], edge_index=[2, 0], y=[1], train_mask=[1], val_mask=[1], test_mask=[1]), Data(x=[6, 500], edge_index=[2, 10], y=[6], train_mask=[6], val_mask=[6], test_mask=[6]), Data(x=[1, 500], edge_index=[2, 0], y=[1], train_mask=[1], val_mask=[1], test_mask=[1]), Data(x=[3, 500], edge_index=[2, 4], y=[3], train_mask=[3], val_mask=[3], test_mask=[3]), Data(x=[1, 500], edge_index=[2, 0], y=[1], train_mask=[1], val_mask=[1], test_mask=[1]), Data(x=[6, 500], edge_index=[2, 10], y=[6], train_mask=[6], val_mask=[6], test_mask=[6]), Data(x=[5, 500], edge_index=[2, 8], y=[5], train_mask=[5], val_mask=[5], test_mask=[5]), Data(x=[6, 500], edge_index=[2, 10], y=[6], train_mask=[6], val_mask=[6], test_mask=[6]), Data(x=[5, 500], edge_index=[2, 8], y=[5], train_mask=[5], val_mask=[5], test_mask=[5]), Data(x=[7, 500], edge_index=[2, 12], y=[7], train_mask=[7], val_mask=[7], test_mask=[7]), Data(x=[1, 500], edge_index=[2, 0], y=[1], train_mask=[1], val_mask=[1], test_mask=[1]), Data(x=[1, 500], edge_index=[2, 0], y=[1], train_mask=[1], val_mask=[1], test_mask=[1]), Data(x=[1, 500], edge_index=[2, 0], y=[1], train_mask=[1], val_mask=[1], test_mask=[1]), Data(x=[4, 500], edge_index=[2, 6], y=[4], train_mask=[4], val_mask=[4], test_mask=[4]), Data(x=[1, 500], edge_index=[2, 0], y=[1], train_mask=[1], val_mask=[1], test_mask=[1]), Data(x=[9, 500], edge_index=[2, 20], y=[9], train_mask=[9], val_mask=[9], test_mask=[9]), Data(x=[1, 500], edge_index=[2, 0], y=[1], train_mask=[1], val_mask=[1], test_mask=[1]), Data(x=[1, 500], edge_index=[2, 0], y=[1], train_mask=[1], val_mask=[1], test_mask=[1]), Data(x=[10, 500], edge_index=[2, 18], y=[10], train_mask=[10], val_mask=[10], test_mask=[10]), Data(x=[1, 500], edge_index=[2, 0], y=[1], train_mask=[1], val_mask=[1], test_mask=[1]), Data(x=[1, 500], edge_index=[2, 0], y=[1], train_mask=[1], val_mask=[1], test_mask=[1]), Data(x=[6, 500], edge_index=[2, 10], y=[6], train_mask=[6], val_mask=[6], test_mask=[6]), Data(x=[1, 500], edge_index=[2, 0], y=[1], train_mask=[1], val_mask=[1], test_mask=[1]), Data(x=[1, 500], edge_index=[2, 0], y=[1], train_mask=[1], val_mask=[1], test_mask=[1]), Data(x=[23, 500], edge_index=[2, 44], y=[23], train_mask=[23], val_mask=[23], test_mask=[23]), Data(x=[1, 500], edge_index=[2, 0], y=[1], train_mask=[1], val_mask=[1], test_mask=[1]), Data(x=[1, 500], edge_index=[2, 0], y=[1], train_mask=[1], val_mask=[1], test_mask=[1]), Data(x=[7, 500], edge_index=[2, 16], y=[7], train_mask=[7], val_mask=[7], test_mask=[7]), Data(x=[1, 500], edge_index=[2, 0], y=[1], train_mask=[1], val_mask=[1], test_mask=[1]), Data(x=[1, 500], edge_index=[2, 0], y=[1], train_mask=[1], val_mask=[1], test_mask=[1]), Data(x=[1, 500], edge_index=[2, 0], y=[1], train_mask=[1], val_mask=[1], test_mask=[1]), Data(x=[1, 500], edge_index=[2, 0], y=[1], train_mask=[1], val_mask=[1], test_mask=[1]), Data(x=[1, 500], edge_index=[2, 0], y=[1], train_mask=[1], val_mask=[1], test_mask=[1]), Data(x=[1, 500], edge_index=[2, 0], y=[1], train_mask=[1], val_mask=[1], test_mask=[1]), Data(x=[38, 500], edge_index=[2, 88], y=[38], train_mask=[38], val_mask=[38], test_mask=[38]), Data(x=[7, 500], edge_index=[2, 12], y=[7], train_mask=[7], val_mask=[7], test_mask=[7]), Data(x=[1, 500], edge_index=[2, 0], y=[1], train_mask=[1], val_mask=[1], test_mask=[1]), Data(x=[38, 500], edge_index=[2, 80], y=[38], train_mask=[38], val_mask=[38], test_mask=[38]), Data(x=[4, 500], edge_index=[2, 6], y=[4], train_mask=[4], val_mask=[4], test_mask=[4]), Data(x=[38, 500], edge_index=[2, 84], y=[38], train_mask=[38], val_mask=[38], test_mask=[38]), Data(x=[1, 500], edge_index=[2, 0], y=[1], train_mask=[1], val_mask=[1], test_mask=[1]), Data(x=[1, 500], edge_index=[2, 0], y=[1], train_mask=[1], val_mask=[1], test_mask=[1]), Data(x=[4, 500], edge_index=[2, 6], y=[4], train_mask=[4], val_mask=[4], test_mask=[4]), Data(x=[11, 500], edge_index=[2, 20], y=[11], train_mask=[11], val_mask=[11], test_mask=[11]), Data(x=[1, 500], edge_index=[2, 0], y=[1], train_mask=[1], val_mask=[1], test_mask=[1]), Data(x=[1, 500], edge_index=[2, 0], y=[1], train_mask=[1], val_mask=[1], test_mask=[1]), Data(x=[3, 500], edge_index=[2, 4], y=[3], train_mask=[3], val_mask=[3], test_mask=[3]), Data(x=[10, 500], edge_index=[2, 18], y=[10], train_mask=[10], val_mask=[10], test_mask=[10]), Data(x=[1, 500], edge_index=[2, 0], y=[1], train_mask=[1], val_mask=[1], test_mask=[1]), Data(x=[1, 500], edge_index=[2, 0], y=[1], train_mask=[1], val_mask=[1], test_mask=[1]), Data(x=[5, 500], edge_index=[2, 8], y=[5], train_mask=[5], val_mask=[5], test_mask=[5]), Data(x=[1, 500], edge_index=[2, 0], y=[1], train_mask=[1], val_mask=[1], test_mask=[1]), Data(x=[1, 500], edge_index=[2, 0], y=[1], train_mask=[1], val_mask=[1], test_mask=[1]), Data(x=[1, 500], edge_index=[2, 0], y=[1], train_mask=[1], val_mask=[1], test_mask=[1]), Data(x=[1, 500], edge_index=[2, 0], y=[1], train_mask=[1], val_mask=[1], test_mask=[1]), Data(x=[1, 500], edge_index=[2, 0], y=[1], train_mask=[1], val_mask=[1], test_mask=[1]), Data(x=[6, 500], edge_index=[2, 10], y=[6], train_mask=[6], val_mask=[6], test_mask=[6]), Data(x=[1, 500], edge_index=[2, 0], y=[1], train_mask=[1], val_mask=[1], test_mask=[1]), Data(x=[38, 500], edge_index=[2, 78], y=[38], train_mask=[38], val_mask=[38], test_mask=[38]), Data(x=[1, 500], edge_index=[2, 0], y=[1], train_mask=[1], val_mask=[1], test_mask=[1]), Data(x=[14, 500], edge_index=[2, 26], y=[14], train_mask=[14], val_mask=[14], test_mask=[14]), Data(x=[38, 500], edge_index=[2, 78], y=[38], train_mask=[38], val_mask=[38], test_mask=[38]), Data(x=[1, 500], edge_index=[2, 0], y=[1], train_mask=[1], val_mask=[1], test_mask=[1]), Data(x=[1, 500], edge_index=[2, 0], y=[1], train_mask=[1], val_mask=[1], test_mask=[1]), Data(x=[2, 500], edge_index=[2, 2], y=[2], train_mask=[2], val_mask=[2], test_mask=[2]), Data(x=[1, 500], edge_index=[2, 0], y=[1], train_mask=[1], val_mask=[1], test_mask=[1]), Data(x=[1, 500], edge_index=[2, 0], y=[1], train_mask=[1], val_mask=[1], test_mask=[1]), Data(x=[1, 500], edge_index=[2, 0], y=[1], train_mask=[1], val_mask=[1], test_mask=[1]), Data(x=[1, 500], edge_index=[2, 0], y=[1], train_mask=[1], val_mask=[1], test_mask=[1]), Data(x=[1, 500], edge_index=[2, 0], y=[1], train_mask=[1], val_mask=[1], test_mask=[1]), Data(x=[5, 500], edge_index=[2, 8], y=[5], train_mask=[5], val_mask=[5], test_mask=[5]), Data(x=[1, 500], edge_index=[2, 0], y=[1], train_mask=[1], val_mask=[1], test_mask=[1]), Data(x=[1, 500], edge_index=[2, 0], y=[1], train_mask=[1], val_mask=[1], test_mask=[1]), Data(x=[1, 500], edge_index=[2, 0], y=[1], train_mask=[1], val_mask=[1], test_mask=[1]), Data(x=[8, 500], edge_index=[2, 14], y=[8], train_mask=[8], val_mask=[8], test_mask=[8]), Data(x=[1, 500], edge_index=[2, 0], y=[1], train_mask=[1], val_mask=[1], test_mask=[1]), Data(x=[38, 500], edge_index=[2, 74], y=[38], train_mask=[38], val_mask=[38], test_mask=[38]), Data(x=[1, 500], edge_index=[2, 0], y=[1], train_mask=[1], val_mask=[1], test_mask=[1]), Data(x=[1, 500], edge_index=[2, 0], y=[1], train_mask=[1], val_mask=[1], test_mask=[1]), Data(x=[1, 500], edge_index=[2, 0], y=[1], train_mask=[1], val_mask=[1], test_mask=[1]), Data(x=[38, 500], edge_index=[2, 84], y=[38], train_mask=[38], val_mask=[38], test_mask=[38]), Data(x=[5, 500], edge_index=[2, 8], y=[5], train_mask=[5], val_mask=[5], test_mask=[5]), Data(x=[11, 500], edge_index=[2, 20], y=[11], train_mask=[11], val_mask=[11], test_mask=[11]), Data(x=[1, 500], edge_index=[2, 0], y=[1], train_mask=[1], val_mask=[1], test_mask=[1]), Data(x=[1, 500], edge_index=[2, 0], y=[1], train_mask=[1], val_mask=[1], test_mask=[1]), Data(x=[1, 500], edge_index=[2, 0], y=[1], train_mask=[1], val_mask=[1], test_mask=[1]), Data(x=[1, 500], edge_index=[2, 0], y=[1], train_mask=[1], val_mask=[1], test_mask=[1]), Data(x=[1, 500], edge_index=[2, 0], y=[1], train_mask=[1], val_mask=[1], test_mask=[1]), Data(x=[1, 500], edge_index=[2, 0], y=[1], train_mask=[1], val_mask=[1], test_mask=[1]), Data(x=[1, 500], edge_index=[2, 0], y=[1], train_mask=[1], val_mask=[1], test_mask=[1]), Data(x=[1, 500], edge_index=[2, 0], y=[1], train_mask=[1], val_mask=[1], test_mask=[1]), Data(x=[1, 500], edge_index=[2, 0], y=[1], train_mask=[1], val_mask=[1], test_mask=[1]), Data(x=[1, 500], edge_index=[2, 0], y=[1], train_mask=[1], val_mask=[1], test_mask=[1]), Data(x=[1, 500], edge_index=[2, 0], y=[1], train_mask=[1], val_mask=[1], test_mask=[1]), Data(x=[1, 500], edge_index=[2, 0], y=[1], train_mask=[1], val_mask=[1], test_mask=[1]), Data(x=[38, 500], edge_index=[2, 78], y=[38], train_mask=[38], val_mask=[38], test_mask=[38]), Data(x=[38, 500], edge_index=[2, 80], y=[38], train_mask=[38], val_mask=[38], test_mask=[38]), Data(x=[1, 500], edge_index=[2, 0], y=[1], train_mask=[1], val_mask=[1], test_mask=[1]), Data(x=[27, 500], edge_index=[2, 60], y=[27], train_mask=[27], val_mask=[27], test_mask=[27]), Data(x=[1, 500], edge_index=[2, 0], y=[1], train_mask=[1], val_mask=[1], test_mask=[1]), Data(x=[38, 500], edge_index=[2, 82], y=[38], train_mask=[38], val_mask=[38], test_mask=[38]), Data(x=[1, 500], edge_index=[2, 0], y=[1], train_mask=[1], val_mask=[1], test_mask=[1]), Data(x=[1, 500], edge_index=[2, 0], y=[1], train_mask=[1], val_mask=[1], test_mask=[1]), Data(x=[2, 500], edge_index=[2, 2], y=[2], train_mask=[2], val_mask=[2], test_mask=[2]), Data(x=[2, 500], edge_index=[2, 2], y=[2], train_mask=[2], val_mask=[2], test_mask=[2]), Data(x=[1, 500], edge_index=[2, 0], y=[1], train_mask=[1], val_mask=[1], test_mask=[1]), Data(x=[27, 500], edge_index=[2, 56], y=[27], train_mask=[27], val_mask=[27], test_mask=[27]), Data(x=[1, 500], edge_index=[2, 0], y=[1], train_mask=[1], val_mask=[1], test_mask=[1]), Data(x=[1, 500], edge_index=[2, 0], y=[1], train_mask=[1], val_mask=[1], test_mask=[1]), Data(x=[1, 500], edge_index=[2, 0], y=[1], train_mask=[1], val_mask=[1], test_mask=[1]), Data(x=[1, 500], edge_index=[2, 0], y=[1], train_mask=[1], val_mask=[1], test_mask=[1]), Data(x=[1, 500], edge_index=[2, 0], y=[1], train_mask=[1], val_mask=[1], test_mask=[1]), Data(x=[38, 500], edge_index=[2, 78], y=[38], train_mask=[38], val_mask=[38], test_mask=[38]), Data(x=[1, 500], edge_index=[2, 0], y=[1], train_mask=[1], val_mask=[1], test_mask=[1]), Data(x=[1, 500], edge_index=[2, 0], y=[1], train_mask=[1], val_mask=[1], test_mask=[1]), Data(x=[1, 500], edge_index=[2, 0], y=[1], train_mask=[1], val_mask=[1], test_mask=[1]), Data(x=[1, 500], edge_index=[2, 0], y=[1], train_mask=[1], val_mask=[1], test_mask=[1]), Data(x=[4, 500], edge_index=[2, 6], y=[4], train_mask=[4], val_mask=[4], test_mask=[4]), Data(x=[6, 500], edge_index=[2, 10], y=[6], train_mask=[6], val_mask=[6], test_mask=[6]), Data(x=[3, 500], edge_index=[2, 4], y=[3], train_mask=[3], val_mask=[3], test_mask=[3]), Data(x=[1, 500], edge_index=[2, 0], y=[1], train_mask=[1], val_mask=[1], test_mask=[1]), Data(x=[12, 500], edge_index=[2, 22], y=[12], train_mask=[12], val_mask=[12], test_mask=[12]), Data(x=[3, 500], edge_index=[2, 6], y=[3], train_mask=[3], val_mask=[3], test_mask=[3]), Data(x=[1, 500], edge_index=[2, 0], y=[1], train_mask=[1], val_mask=[1], test_mask=[1]), Data(x=[1, 500], edge_index=[2, 0], y=[1], train_mask=[1], val_mask=[1], test_mask=[1]), Data(x=[5, 500], edge_index=[2, 8], y=[5], train_mask=[5], val_mask=[5], test_mask=[5]), Data(x=[7, 500], edge_index=[2, 14], y=[7], train_mask=[7], val_mask=[7], test_mask=[7]), Data(x=[1, 500], edge_index=[2, 0], y=[1], train_mask=[1], val_mask=[1], test_mask=[1]), Data(x=[1, 500], edge_index=[2, 0], y=[1], train_mask=[1], val_mask=[1], test_mask=[1]), Data(x=[1, 500], edge_index=[2, 0], y=[1], train_mask=[1], val_mask=[1], test_mask=[1]), Data(x=[1, 500], edge_index=[2, 0], y=[1], train_mask=[1], val_mask=[1], test_mask=[1])]\n",
            "9444\n"
          ]
        }
      ]
    },
    {
      "cell_type": "code",
      "source": [
        "def avg_neighbors_per_node(subgraphs):\n",
        "    total_neighbors = 0\n",
        "    total_nodes = 0\n",
        "\n",
        "    for g in subgraphs:\n",
        "        edge_index = g.edge_index\n",
        "        num_nodes = g.num_nodes\n",
        "        num_edges = edge_index.size(1)\n",
        "        # Each edge connects two nodes, but we count for undirected graph\n",
        "        total_neighbors += num_edges\n",
        "        total_nodes += num_nodes\n",
        "\n",
        "    avg = total_neighbors / total_nodes\n",
        "    print(f\"Average neighbors per node: {avg:.2f}\")\n",
        "    return avg\n",
        "\n"
      ],
      "metadata": {
        "id": "ABqsSNDkmxj7"
      },
      "execution_count": null,
      "outputs": []
    },
    {
      "cell_type": "code",
      "source": [],
      "metadata": {
        "id": "ub1apqbdNb0i"
      },
      "execution_count": null,
      "outputs": []
    },
    {
      "cell_type": "code",
      "source": [
        "def estimate_subgraph_memory(subgraph):\n",
        "    bytes_per_float = 4  # float32\n",
        "    bytes_per_int = 4    # int32\n",
        "\n",
        "    num_nodes = subgraph.num_nodes\n",
        "    num_edges = subgraph.edge_index.size(1)\n",
        "    num_features = subgraph.x.size(1)\n",
        "\n",
        "    feature_memory = num_nodes * num_features * bytes_per_float\n",
        "    edge_memory = 2 * num_edges * bytes_per_int\n",
        "    label_memory = num_nodes * bytes_per_int\n",
        "\n",
        "    total_memory_bytes = feature_memory + edge_memory + label_memory\n",
        "    total_memory_MB = total_memory_bytes / (1024 ** 2)\n",
        "\n",
        "    return total_memory_MB\n",
        "\n",
        "memories = [estimate_subgraph_memory(g) for g in subgraphs]\n",
        "avg_mem = sum(memories) / len(memories)\n",
        "print(f\"Average subgraph memory: {avg_mem:.2f} MB\")\n",
        "avg_neighbors_per_node(subgraphs)\n",
        "print(f\"Number of subgraphs: {len(subgraphs)}\")"
      ],
      "metadata": {
        "id": "XFCIB7kMHHSU",
        "outputId": "79aaaac6-c535-4788-c7d1-d1ba2a9cb07e",
        "colab": {
          "base_uri": "https://localhost:8080/"
        }
      },
      "execution_count": null,
      "outputs": [
        {
          "output_type": "stream",
          "name": "stdout",
          "text": [
            "Average subgraph memory: 0.13 MB\n",
            "Average neighbors per node: 2.63\n",
            "Number of subgraphs: 128\n"
          ]
        }
      ]
    },
    {
      "cell_type": "code",
      "source": [
        "from torch_geometric.loader import DataLoader\n",
        "\n",
        "def train_layerwise_subgraph_sampling(subgraphs, q):\n",
        "    model.train()\n",
        "    total_loss = 0\n",
        "    K = len(subgraphs)\n",
        "\n",
        "    # Layer 1 sampling\n",
        "    sampled1 = random.sample(subgraphs, q)\n",
        "    intermediate_outputs = []\n",
        "    masks_and_labels = []\n",
        "\n",
        "    for data in sampled1:\n",
        "        data = data.to(device)\n",
        "        x1 = model.forward_layer1(data.x, data.edge_index)\n",
        "        intermediate_outputs.append(x1)\n",
        "        masks_and_labels.append((data.train_mask, data.y))\n",
        "\n",
        "    # Layer 2 sampling (optional: different q)\n",
        "    sampled2 = random.sample(list(zip(intermediate_outputs, sampled1, masks_and_labels)), q)\n",
        "\n",
        "    for x1, data, (mask, y) in sampled2:\n",
        "        x2 = model.forward_layer2(x1, data.edge_index)\n",
        "\n",
        "        if mask.sum() == 0:\n",
        "            continue\n",
        "\n",
        "        loss = criterion(x2[mask], y[mask])\n",
        "        loss.backward()\n",
        "        optimizer.step()\n",
        "        optimizer.zero_grad()\n",
        "        total_loss += loss.item()\n",
        "\n",
        "    return total_loss / q\n"
      ],
      "metadata": {
        "id": "Ku2UO5Zcgy_u"
      },
      "execution_count": 8,
      "outputs": []
    },
    {
      "cell_type": "code",
      "source": [
        "@torch.no_grad()\n",
        "def test_layerwise_subgraph_sampling(model, subgraphs, mask_name='test_mask'):\n",
        "    model.eval()\n",
        "    total_correct = 0\n",
        "    total_examples = 0\n",
        "\n",
        "    for data in subgraphs:\n",
        "        data = data.to(device)\n",
        "\n",
        "        x1 = model.forward_layer1(data.x, data.edge_index)\n",
        "        out = model.forward_layer2(x1, data.edge_index)\n",
        "\n",
        "        mask = getattr(data, mask_name)\n",
        "        if mask.sum() == 0:\n",
        "            continue\n",
        "\n",
        "        pred = out[mask].max(dim=1)[1]\n",
        "        correct = pred.eq(data.y[mask]).sum().item()\n",
        "        total_correct += correct\n",
        "        total_examples += mask.sum().item()\n",
        "\n",
        "    accuracy = total_correct / total_examples if total_examples > 0 else 0\n",
        "    return accuracy\n"
      ],
      "metadata": {
        "id": "1h_3jb1ah1wv"
      },
      "execution_count": 9,
      "outputs": []
    },
    {
      "cell_type": "code",
      "source": [
        "\n",
        "#model = GCN(hidden_channels=64).to(device)\n",
        "model = GCN(\n",
        "    in_channels=num_features,\n",
        "    hidden_channels=64,\n",
        "    out_channels=num_classes\n",
        ").to(device)\n",
        "optimizer = torch.optim.Adam(model.parameters(), lr=0.01)\n",
        "criterion = torch.nn.CrossEntropyLoss().to(device)\n",
        "\n",
        "display(Javascript('''google.colab.output.setIframeHeight(0, true, {maxHeight: 300})'''))\n",
        "data=data.to(device)\n",
        "res=[]\n",
        "training=[]\n",
        "memory=[]\n",
        "for i in range(10):\n",
        "  model = GCN(\n",
        "    in_channels=num_features,\n",
        "    hidden_channels=64,\n",
        "    out_channels=num_classes\n",
        ").to(device)\n",
        "  optimizer = torch.optim.Adam(model.parameters(), lr=0.01)\n",
        "  criterion = torch.nn.CrossEntropyLoss().to(device)\n",
        "  clean_gpu_memory()\n",
        "  start_time= time.time()\n",
        "  for epoch in range(1, 101):\n",
        "    loss = train_layerwise_subgraph_sampling(subgraphs, q=32)\n",
        "    #loss = train_batch(loader)\n",
        "    if epoch % 10 == 0:\n",
        "\n",
        "      train_acc = test_layerwise_subgraph_sampling(model, subgraphs, mask_name='train_mask')\n",
        "      val_acc = test_layerwise_subgraph_sampling(model, subgraphs, mask_name='val_mask')\n",
        "      print(f'Epoch: {epoch:03d}, Train Acc: {train_acc:.4f}, Val Acc: {val_acc:.4f}, loss:,{loss:.4f} ')\n",
        "  test_acc =  test_layerwise_subgraph_sampling(model, subgraphs, mask_name='test_mask')\n",
        "  end_time = time.time()\n",
        "  res.append(test_acc)\n",
        "  training.append(end_time - start_time)\n",
        "  memory.append(torch.cuda.max_memory_allocated() / 1024**2)\n",
        "  print(f\"Training time: {end_time - start_time:.2f} seconds\")\n"
      ],
      "metadata": {
        "colab": {
          "base_uri": "https://localhost:8080/",
          "height": 300
        },
        "id": "4AauHVIeNeaF",
        "outputId": "14c50d0c-70e2-47a0-f1dc-6b011fdc5d3b"
      },
      "execution_count": null,
      "outputs": [
        {
          "output_type": "display_data",
          "data": {
            "text/plain": [
              "<IPython.core.display.Javascript object>"
            ],
            "application/javascript": [
              "google.colab.output.setIframeHeight(0, true, {maxHeight: 300})"
            ]
          },
          "metadata": {}
        },
        {
          "output_type": "stream",
          "name": "stdout",
          "text": [
            "Memory after cleanup: 106.97 MB\n",
            "Epoch: 010, Train Acc: 0.6944, Val Acc: 0.3302, loss:,0.1302 \n",
            "Epoch: 020, Train Acc: 0.9722, Val Acc: 0.7256, loss:,0.0414 \n",
            "Epoch: 030, Train Acc: 1.0000, Val Acc: 0.7256, loss:,0.0313 \n",
            "Epoch: 040, Train Acc: 1.0000, Val Acc: 0.7674, loss:,0.0061 \n",
            "Epoch: 050, Train Acc: 1.0000, Val Acc: 0.7442, loss:,0.0107 \n",
            "Epoch: 060, Train Acc: 1.0000, Val Acc: 0.7442, loss:,0.0060 \n",
            "Epoch: 070, Train Acc: 1.0000, Val Acc: 0.7488, loss:,0.0021 \n",
            "Epoch: 080, Train Acc: 1.0000, Val Acc: 0.7209, loss:,0.0024 \n",
            "Epoch: 090, Train Acc: 1.0000, Val Acc: 0.7256, loss:,0.0017 \n",
            "Epoch: 100, Train Acc: 1.0000, Val Acc: 0.7302, loss:,0.0016 \n",
            "Training time: 10.46 seconds\n",
            "Memory after cleanup: 106.60 MB\n",
            "Epoch: 010, Train Acc: 0.8611, Val Acc: 0.5628, loss:,0.1968 \n",
            "Epoch: 020, Train Acc: 0.8056, Val Acc: 0.5209, loss:,0.0779 \n",
            "Epoch: 030, Train Acc: 0.9722, Val Acc: 0.7209, loss:,0.0332 \n",
            "Epoch: 040, Train Acc: 0.9722, Val Acc: 0.7256, loss:,0.0318 \n",
            "Epoch: 050, Train Acc: 1.0000, Val Acc: 0.7023, loss:,0.0074 \n",
            "Epoch: 060, Train Acc: 1.0000, Val Acc: 0.6930, loss:,0.0143 \n",
            "Epoch: 070, Train Acc: 1.0000, Val Acc: 0.7116, loss:,0.0054 \n",
            "Epoch: 080, Train Acc: 1.0000, Val Acc: 0.7070, loss:,0.0023 \n",
            "Epoch: 090, Train Acc: 1.0000, Val Acc: 0.7070, loss:,0.0035 \n",
            "Epoch: 100, Train Acc: 1.0000, Val Acc: 0.7209, loss:,0.0018 \n",
            "Training time: 10.62 seconds\n",
            "Memory after cleanup: 106.60 MB\n",
            "Epoch: 010, Train Acc: 0.7500, Val Acc: 0.4977, loss:,0.1195 \n",
            "Epoch: 020, Train Acc: 0.9444, Val Acc: 0.5907, loss:,0.1805 \n",
            "Epoch: 030, Train Acc: 0.9444, Val Acc: 0.6698, loss:,0.0454 \n",
            "Epoch: 040, Train Acc: 1.0000, Val Acc: 0.6884, loss:,0.0137 \n",
            "Epoch: 050, Train Acc: 1.0000, Val Acc: 0.7395, loss:,0.0126 \n",
            "Epoch: 060, Train Acc: 1.0000, Val Acc: 0.7163, loss:,0.0076 \n",
            "Epoch: 070, Train Acc: 1.0000, Val Acc: 0.6930, loss:,0.0028 \n",
            "Epoch: 080, Train Acc: 1.0000, Val Acc: 0.7395, loss:,0.0018 \n",
            "Epoch: 090, Train Acc: 1.0000, Val Acc: 0.7209, loss:,0.0007 \n",
            "Epoch: 100, Train Acc: 1.0000, Val Acc: 0.7302, loss:,0.0015 \n",
            "Training time: 10.93 seconds\n",
            "Memory after cleanup: 106.97 MB\n",
            "Epoch: 010, Train Acc: 0.5556, Val Acc: 0.5070, loss:,0.1628 \n",
            "Epoch: 020, Train Acc: 1.0000, Val Acc: 0.6744, loss:,0.0447 \n",
            "Epoch: 030, Train Acc: 1.0000, Val Acc: 0.6465, loss:,0.0273 \n",
            "Epoch: 040, Train Acc: 1.0000, Val Acc: 0.7256, loss:,0.0258 \n",
            "Epoch: 050, Train Acc: 1.0000, Val Acc: 0.7209, loss:,0.0263 \n",
            "Epoch: 060, Train Acc: 1.0000, Val Acc: 0.7209, loss:,0.0035 \n",
            "Epoch: 070, Train Acc: 1.0000, Val Acc: 0.7256, loss:,0.0010 \n",
            "Epoch: 080, Train Acc: 1.0000, Val Acc: 0.7209, loss:,0.0080 \n",
            "Epoch: 090, Train Acc: 1.0000, Val Acc: 0.7256, loss:,0.0035 \n",
            "Epoch: 100, Train Acc: 1.0000, Val Acc: 0.7023, loss:,0.0029 \n",
            "Training time: 10.78 seconds\n",
            "Memory after cleanup: 106.97 MB\n",
            "Epoch: 010, Train Acc: 0.8333, Val Acc: 0.5581, loss:,0.1960 \n",
            "Epoch: 020, Train Acc: 0.8333, Val Acc: 0.5860, loss:,0.0746 \n",
            "Epoch: 030, Train Acc: 1.0000, Val Acc: 0.7488, loss:,0.0721 \n",
            "Epoch: 040, Train Acc: 1.0000, Val Acc: 0.7395, loss:,0.0031 \n",
            "Epoch: 050, Train Acc: 1.0000, Val Acc: 0.7395, loss:,0.0075 \n",
            "Epoch: 060, Train Acc: 1.0000, Val Acc: 0.6977, loss:,0.0039 \n",
            "Epoch: 070, Train Acc: 1.0000, Val Acc: 0.7395, loss:,0.0003 \n",
            "Epoch: 080, Train Acc: 1.0000, Val Acc: 0.7256, loss:,0.0011 \n",
            "Epoch: 090, Train Acc: 1.0000, Val Acc: 0.7209, loss:,0.0056 \n",
            "Epoch: 100, Train Acc: 1.0000, Val Acc: 0.7256, loss:,0.0006 \n",
            "Training time: 10.78 seconds\n",
            "Memory after cleanup: 106.97 MB\n",
            "Epoch: 010, Train Acc: 0.8889, Val Acc: 0.6093, loss:,0.1247 \n",
            "Epoch: 020, Train Acc: 0.8333, Val Acc: 0.5302, loss:,0.0701 \n",
            "Epoch: 030, Train Acc: 1.0000, Val Acc: 0.7349, loss:,0.0252 \n",
            "Epoch: 040, Train Acc: 1.0000, Val Acc: 0.7395, loss:,0.0159 \n",
            "Epoch: 050, Train Acc: 1.0000, Val Acc: 0.7209, loss:,0.0013 \n",
            "Epoch: 060, Train Acc: 1.0000, Val Acc: 0.7349, loss:,0.0098 \n",
            "Epoch: 070, Train Acc: 1.0000, Val Acc: 0.7209, loss:,0.0014 \n",
            "Epoch: 080, Train Acc: 1.0000, Val Acc: 0.7349, loss:,0.0022 \n",
            "Epoch: 090, Train Acc: 1.0000, Val Acc: 0.7349, loss:,0.0017 \n",
            "Epoch: 100, Train Acc: 1.0000, Val Acc: 0.7209, loss:,0.0012 \n",
            "Training time: 10.71 seconds\n",
            "Memory after cleanup: 106.60 MB\n",
            "Epoch: 010, Train Acc: 0.7778, Val Acc: 0.5209, loss:,0.3017 \n",
            "Epoch: 020, Train Acc: 0.9722, Val Acc: 0.6465, loss:,0.0995 \n",
            "Epoch: 030, Train Acc: 1.0000, Val Acc: 0.7349, loss:,0.0356 \n",
            "Epoch: 040, Train Acc: 1.0000, Val Acc: 0.6837, loss:,0.0188 \n",
            "Epoch: 050, Train Acc: 1.0000, Val Acc: 0.7442, loss:,0.0235 \n",
            "Epoch: 060, Train Acc: 1.0000, Val Acc: 0.7256, loss:,0.0019 \n",
            "Epoch: 070, Train Acc: 1.0000, Val Acc: 0.7302, loss:,0.0023 \n",
            "Epoch: 080, Train Acc: 1.0000, Val Acc: 0.7070, loss:,0.0059 \n",
            "Epoch: 090, Train Acc: 1.0000, Val Acc: 0.7163, loss:,0.0038 \n",
            "Epoch: 100, Train Acc: 1.0000, Val Acc: 0.7209, loss:,0.0019 \n",
            "Training time: 10.82 seconds\n",
            "Memory after cleanup: 106.97 MB\n",
            "Epoch: 010, Train Acc: 0.9444, Val Acc: 0.6326, loss:,0.1676 \n",
            "Epoch: 020, Train Acc: 0.9722, Val Acc: 0.6372, loss:,0.1188 \n",
            "Epoch: 030, Train Acc: 0.9444, Val Acc: 0.6791, loss:,0.0201 \n",
            "Epoch: 040, Train Acc: 1.0000, Val Acc: 0.6326, loss:,0.0231 \n",
            "Epoch: 050, Train Acc: 1.0000, Val Acc: 0.7302, loss:,0.0130 \n",
            "Epoch: 060, Train Acc: 1.0000, Val Acc: 0.7163, loss:,0.0029 \n",
            "Epoch: 070, Train Acc: 1.0000, Val Acc: 0.7256, loss:,0.0023 \n",
            "Epoch: 080, Train Acc: 1.0000, Val Acc: 0.7116, loss:,0.0052 \n",
            "Epoch: 090, Train Acc: 1.0000, Val Acc: 0.7256, loss:,0.0040 \n",
            "Epoch: 100, Train Acc: 1.0000, Val Acc: 0.7209, loss:,0.0020 \n",
            "Training time: 10.77 seconds\n",
            "Memory after cleanup: 106.97 MB\n",
            "Epoch: 010, Train Acc: 0.7778, Val Acc: 0.5721, loss:,0.1817 \n",
            "Epoch: 020, Train Acc: 0.9722, Val Acc: 0.7023, loss:,0.0490 \n",
            "Epoch: 030, Train Acc: 1.0000, Val Acc: 0.6651, loss:,0.0528 \n",
            "Epoch: 040, Train Acc: 1.0000, Val Acc: 0.7116, loss:,0.0140 \n",
            "Epoch: 050, Train Acc: 1.0000, Val Acc: 0.7209, loss:,0.0025 \n",
            "Epoch: 060, Train Acc: 1.0000, Val Acc: 0.7302, loss:,0.0076 \n",
            "Epoch: 070, Train Acc: 1.0000, Val Acc: 0.7302, loss:,0.0034 \n",
            "Epoch: 080, Train Acc: 1.0000, Val Acc: 0.7302, loss:,0.0037 \n",
            "Epoch: 090, Train Acc: 1.0000, Val Acc: 0.7256, loss:,0.0011 \n",
            "Epoch: 100, Train Acc: 1.0000, Val Acc: 0.7256, loss:,0.0014 \n",
            "Training time: 10.76 seconds\n",
            "Memory after cleanup: 106.97 MB\n",
            "Epoch: 010, Train Acc: 0.8889, Val Acc: 0.7070, loss:,0.2681 \n",
            "Epoch: 020, Train Acc: 0.9167, Val Acc: 0.6605, loss:,0.0869 \n",
            "Epoch: 030, Train Acc: 1.0000, Val Acc: 0.6791, loss:,0.0776 \n",
            "Epoch: 040, Train Acc: 1.0000, Val Acc: 0.6930, loss:,0.0346 \n",
            "Epoch: 050, Train Acc: 1.0000, Val Acc: 0.7256, loss:,0.0159 \n",
            "Epoch: 060, Train Acc: 1.0000, Val Acc: 0.6884, loss:,0.0238 \n",
            "Epoch: 070, Train Acc: 1.0000, Val Acc: 0.7209, loss:,0.0018 \n",
            "Epoch: 080, Train Acc: 1.0000, Val Acc: 0.6930, loss:,0.0007 \n",
            "Epoch: 090, Train Acc: 1.0000, Val Acc: 0.7209, loss:,0.0027 \n",
            "Epoch: 100, Train Acc: 1.0000, Val Acc: 0.7256, loss:,0.0023 \n",
            "Training time: 10.80 seconds\n"
          ]
        }
      ]
    },
    {
      "cell_type": "code",
      "source": [
        "std_acc = np.std(res)\n",
        "mean_test_acc = np.mean(res)\n",
        "print(f\"Test Accuracy: {mean_test_acc:.4f} ± {std_acc:.4f}\")\n",
        "std_training = np.std(training)\n",
        "mean_training = np.mean(training)\n",
        "print(f\"training time: {mean_training:.4f} ± {std_training:.4f}\")\n",
        "std_memory = np.std(memory)\n",
        "mean_memory = np.mean(memory)\n",
        "print(f\"peak memory: {mean_memory:.4f} ± {std_memory:.4f}\")"
      ],
      "metadata": {
        "id": "FFUxVGXX3UCq",
        "outputId": "3266a161-7a45-4264-d15b-e965fbe6b3d5",
        "colab": {
          "base_uri": "https://localhost:8080/"
        }
      },
      "execution_count": null,
      "outputs": [
        {
          "output_type": "stream",
          "name": "stdout",
          "text": [
            "Test Accuracy: 0.7245 ± 0.0056\n",
            "training time: 10.7413 ± 0.1188\n",
            "peak memory: 108.1104 ± 0.0260\n"
          ]
        }
      ]
    },
    {
      "cell_type": "code",
      "source": [
        "print(res)\n",
        "print(sum(res)/10)"
      ],
      "metadata": {
        "id": "jl5VGPfq3rYO"
      },
      "execution_count": null,
      "outputs": []
    },
    {
      "cell_type": "code",
      "source": [
        "print(training)\n",
        "print(sum(training)/10)"
      ],
      "metadata": {
        "id": "dxGVSYwcVCtu"
      },
      "execution_count": null,
      "outputs": []
    },
    {
      "cell_type": "code",
      "source": [
        "test_acc = test(data, data.test_mask)\n",
        "\n",
        "test_f1 = f1_micro(data, data.test_mask)\n",
        "print(f'Test F1 Score (micro): {test_f1:.4f}')\n",
        "print(f'Test test accuracy (micro):  {test_acc:.4f}')"
      ],
      "metadata": {
        "id": "hcNfZBSmNiLn"
      },
      "execution_count": null,
      "outputs": []
    },
    {
      "cell_type": "code",
      "source": [
        "print(f\"Allocated memory after tensor creation: {torch.cuda.memory_allocated() / (1024**2):.2f} MB\")\n",
        "print(f\"Reserved memory after tensor creation: {torch.cuda.memory_reserved() / (1024**2):.2f} MB\")\n",
        "print(f\"Peak allocated memory: {torch.cuda.max_memory_allocated() / (1024**2):.2f} MB\")\n"
      ],
      "metadata": {
        "id": "M1XAKTikNvgG"
      },
      "execution_count": null,
      "outputs": []
    },
    {
      "cell_type": "code",
      "source": [
        "peak_memory_mb=f\"{torch.cuda.max_memory_allocated()/1024**2:.2f}\"\n",
        "total_train_time=f\"{end_time - start_time:.2f}\"\n",
        "\n",
        "metrics = {\n",
        "    \"model\": \"clusterGCN\",\n",
        "    \"accuracy\": test_acc,\n",
        "    \"f1_micro\":test_f1,\n",
        "    \"peak_memory_MB\": peak_memory_mb,\n",
        "    \"train_time_sec\": total_train_time,\n",
        "    \"mem_MB\":peak_memory_mb\n",
        "}\n",
        "\n",
        "with open(\"clusterGCN_pubmed_results.json\", \"w\") as f:\n",
        "    json.dump(metrics, f)"
      ],
      "metadata": {
        "id": "t0dJbrwYWh4R"
      },
      "execution_count": null,
      "outputs": []
    },
    {
      "cell_type": "markdown",
      "source": [
        "**cora dataset**"
      ],
      "metadata": {
        "id": "q8jleIIAXtCZ"
      }
    },
    {
      "cell_type": "code",
      "source": [
        "clean_gpu_memory()\n",
        "\n",
        "def dataset_load():\n",
        "  print(f\"Using device: {device}\")\n",
        "  dataset = Planetoid(root='data/Planetoid', name='Cora', transform=NormalizeFeatures())\n",
        "  num_features = dataset.num_features\n",
        "  num_classes = dataset.num_classes\n",
        "  data = dataset[0].to(device)  # Get the first graph object.\n",
        "  return num_features, data, num_classes, device,dataset\n",
        "\n",
        "num_features, data, num_classes, device, dataset = dataset_load()\n",
        "subgraphs = custom_partition(data, num_subgraphs=512, similarity_threshold=0.6)\n",
        "\n",
        "loader = DataLoader(subgraphs, batch_size=128, shuffle=True)\n",
        "print(f'Number of nodes:          {data.num_nodes}')\n",
        "\n",
        "total=0\n",
        "for i, sg in enumerate(subgraphs):\n",
        "    #print(f\"Subgraph {i}: {sg.num_nodes} nodes\")\n",
        "    total=total+sg.num_nodes\n",
        "print(total)\n"
      ],
      "metadata": {
        "id": "SM5dFqrWbVUn",
        "outputId": "ddd3129a-23f8-4f54-9575-b4de23e0c5c5",
        "colab": {
          "base_uri": "https://localhost:8080/"
        }
      },
      "execution_count": null,
      "outputs": [
        {
          "output_type": "stream",
          "name": "stdout",
          "text": [
            "Memory after cleanup: 26.64 MB\n",
            "Using device: cuda\n",
            "Number of nodes:          2708\n",
            "1879\n"
          ]
        }
      ]
    },
    {
      "cell_type": "code",
      "source": [
        "\n",
        "\n",
        "\n",
        "model = GCN(\n",
        "    in_channels=num_features,\n",
        "    hidden_channels=64,\n",
        "    out_channels=num_classes\n",
        ").to(device)\n",
        "optimizer = torch.optim.Adam(model.parameters(), lr=0.01)\n",
        "criterion = torch.nn.CrossEntropyLoss().to(device)\n",
        "\n",
        "display(Javascript('''google.colab.output.setIframeHeight(0, true, {maxHeight: 300})'''))\n",
        "data=data.to(device)\n",
        "\n",
        "res=[]\n",
        "training=[]\n",
        "for i in range(10):\n",
        "  clean_gpu_memory()\n",
        "  start_time= time.time()\n",
        "  for epoch in range(1, 101):\n",
        "    loss = train_batch(loader)\n",
        "    if epoch % 10 == 0:\n",
        "      train_acc = test(data, data.train_mask)\n",
        "      val_acc = test(data, data.val_mask)\n",
        "      val_f1 = f1_micro(data, data.val_mask)\n",
        "      print(f'Epoch: {epoch:03d}, Train Acc: {train_acc:.4f}, Val Acc: {val_acc:.4f}, Val F1 (micro): {val_f1:.4f}')\n",
        "\n",
        "  end_time = time.time()\n",
        "  print(f\"Training time: {end_time - start_time:.2f} seconds\")\n",
        "  test_acc = test(data, data.test_mask)\n",
        "  res.append(test_acc)\n",
        "  training.append(end_time - start_time)\n",
        "\n",
        "test_acc = test(data, data.test_mask)\n",
        "\n",
        "test_f1 = f1_micro(data, data.test_mask)\n",
        "print(f'Test F1 Score (micro): {test_f1:.4f}')\n",
        "print(f'Test test accuracy (micro):  {test_acc:.4f}')"
      ],
      "metadata": {
        "colab": {
          "base_uri": "https://localhost:8080/",
          "height": 300
        },
        "id": "fMWEipJkcz_j",
        "outputId": "96ec31d3-26ea-4973-c33b-a9a46577f514"
      },
      "execution_count": null,
      "outputs": [
        {
          "output_type": "display_data",
          "data": {
            "text/plain": [
              "<IPython.core.display.Javascript object>"
            ],
            "application/javascript": [
              "google.colab.output.setIframeHeight(0, true, {maxHeight: 300})"
            ]
          },
          "metadata": {}
        },
        {
          "output_type": "stream",
          "name": "stdout",
          "text": [
            "Memory after cleanup: 40.81 MB\n",
            "Epoch: 010, Train Acc: 0.1857, Val Acc: 0.0780, Val F1 (micro): 0.0780\n",
            "Epoch: 020, Train Acc: 0.7143, Val Acc: 0.5060, Val F1 (micro): 0.5060\n",
            "Epoch: 030, Train Acc: 0.8429, Val Acc: 0.7360, Val F1 (micro): 0.7360\n",
            "Epoch: 040, Train Acc: 0.8714, Val Acc: 0.7720, Val F1 (micro): 0.7720\n",
            "Epoch: 050, Train Acc: 0.9143, Val Acc: 0.7480, Val F1 (micro): 0.7480\n",
            "Epoch: 060, Train Acc: 0.8786, Val Acc: 0.7640, Val F1 (micro): 0.7640\n",
            "Epoch: 070, Train Acc: 0.9143, Val Acc: 0.7660, Val F1 (micro): 0.7660\n",
            "Epoch: 080, Train Acc: 0.9286, Val Acc: 0.7580, Val F1 (micro): 0.7580\n",
            "Epoch: 090, Train Acc: 0.9071, Val Acc: 0.7560, Val F1 (micro): 0.7560\n",
            "Epoch: 100, Train Acc: 0.9214, Val Acc: 0.7560, Val F1 (micro): 0.7560\n",
            "Training time: 1.44 seconds\n",
            "Memory after cleanup: 41.52 MB\n",
            "Epoch: 010, Train Acc: 0.9143, Val Acc: 0.7600, Val F1 (micro): 0.7600\n",
            "Epoch: 020, Train Acc: 0.9143, Val Acc: 0.7500, Val F1 (micro): 0.7500\n",
            "Epoch: 030, Train Acc: 0.9071, Val Acc: 0.7500, Val F1 (micro): 0.7500\n",
            "Epoch: 040, Train Acc: 0.9143, Val Acc: 0.7520, Val F1 (micro): 0.7520\n",
            "Epoch: 050, Train Acc: 0.9214, Val Acc: 0.7500, Val F1 (micro): 0.7500\n",
            "Epoch: 060, Train Acc: 0.9143, Val Acc: 0.7540, Val F1 (micro): 0.7540\n",
            "Epoch: 070, Train Acc: 0.9214, Val Acc: 0.7420, Val F1 (micro): 0.7420\n",
            "Epoch: 080, Train Acc: 0.9214, Val Acc: 0.7400, Val F1 (micro): 0.7400\n",
            "Epoch: 090, Train Acc: 0.9071, Val Acc: 0.7460, Val F1 (micro): 0.7460\n",
            "Epoch: 100, Train Acc: 0.9071, Val Acc: 0.7440, Val F1 (micro): 0.7440\n",
            "Training time: 1.29 seconds\n",
            "Memory after cleanup: 41.52 MB\n",
            "Epoch: 010, Train Acc: 0.9071, Val Acc: 0.7320, Val F1 (micro): 0.7320\n",
            "Epoch: 020, Train Acc: 0.9071, Val Acc: 0.7420, Val F1 (micro): 0.7420\n",
            "Epoch: 030, Train Acc: 0.9071, Val Acc: 0.7440, Val F1 (micro): 0.7440\n",
            "Epoch: 040, Train Acc: 0.9000, Val Acc: 0.7460, Val F1 (micro): 0.7460\n",
            "Epoch: 050, Train Acc: 0.9143, Val Acc: 0.7480, Val F1 (micro): 0.7480\n",
            "Epoch: 060, Train Acc: 0.9143, Val Acc: 0.7420, Val F1 (micro): 0.7420\n",
            "Epoch: 070, Train Acc: 0.9071, Val Acc: 0.7480, Val F1 (micro): 0.7480\n",
            "Epoch: 080, Train Acc: 0.9071, Val Acc: 0.7420, Val F1 (micro): 0.7420\n",
            "Epoch: 090, Train Acc: 0.9071, Val Acc: 0.7340, Val F1 (micro): 0.7340\n",
            "Epoch: 100, Train Acc: 0.9000, Val Acc: 0.7340, Val F1 (micro): 0.7340\n",
            "Training time: 1.28 seconds\n",
            "Memory after cleanup: 41.52 MB\n",
            "Epoch: 010, Train Acc: 0.9143, Val Acc: 0.7280, Val F1 (micro): 0.7280\n",
            "Epoch: 020, Train Acc: 0.9143, Val Acc: 0.7380, Val F1 (micro): 0.7380\n",
            "Epoch: 030, Train Acc: 0.9214, Val Acc: 0.7300, Val F1 (micro): 0.7300\n",
            "Epoch: 040, Train Acc: 0.9071, Val Acc: 0.7340, Val F1 (micro): 0.7340\n",
            "Epoch: 050, Train Acc: 0.9071, Val Acc: 0.7360, Val F1 (micro): 0.7360\n",
            "Epoch: 060, Train Acc: 0.9143, Val Acc: 0.7280, Val F1 (micro): 0.7280\n",
            "Epoch: 070, Train Acc: 0.9143, Val Acc: 0.7320, Val F1 (micro): 0.7320\n",
            "Epoch: 080, Train Acc: 0.9071, Val Acc: 0.7400, Val F1 (micro): 0.7400\n",
            "Epoch: 090, Train Acc: 0.9071, Val Acc: 0.7380, Val F1 (micro): 0.7380\n",
            "Epoch: 100, Train Acc: 0.9143, Val Acc: 0.7240, Val F1 (micro): 0.7240\n",
            "Training time: 1.28 seconds\n",
            "Memory after cleanup: 41.52 MB\n",
            "Epoch: 010, Train Acc: 0.9071, Val Acc: 0.7280, Val F1 (micro): 0.7280\n",
            "Epoch: 020, Train Acc: 0.9071, Val Acc: 0.7320, Val F1 (micro): 0.7320\n",
            "Epoch: 030, Train Acc: 0.9000, Val Acc: 0.7320, Val F1 (micro): 0.7320\n",
            "Epoch: 040, Train Acc: 0.8929, Val Acc: 0.7280, Val F1 (micro): 0.7280\n",
            "Epoch: 050, Train Acc: 0.9000, Val Acc: 0.7280, Val F1 (micro): 0.7280\n",
            "Epoch: 060, Train Acc: 0.9286, Val Acc: 0.7280, Val F1 (micro): 0.7280\n",
            "Epoch: 070, Train Acc: 0.9071, Val Acc: 0.7380, Val F1 (micro): 0.7380\n",
            "Epoch: 080, Train Acc: 0.9071, Val Acc: 0.7420, Val F1 (micro): 0.7420\n",
            "Epoch: 090, Train Acc: 0.9000, Val Acc: 0.7400, Val F1 (micro): 0.7400\n",
            "Epoch: 100, Train Acc: 0.8929, Val Acc: 0.7320, Val F1 (micro): 0.7320\n",
            "Training time: 1.32 seconds\n",
            "Memory after cleanup: 41.52 MB\n",
            "Epoch: 010, Train Acc: 0.9071, Val Acc: 0.7360, Val F1 (micro): 0.7360\n",
            "Epoch: 020, Train Acc: 0.8929, Val Acc: 0.7300, Val F1 (micro): 0.7300\n",
            "Epoch: 030, Train Acc: 0.9071, Val Acc: 0.7400, Val F1 (micro): 0.7400\n",
            "Epoch: 040, Train Acc: 0.9071, Val Acc: 0.7360, Val F1 (micro): 0.7360\n",
            "Epoch: 050, Train Acc: 0.9071, Val Acc: 0.7300, Val F1 (micro): 0.7300\n",
            "Epoch: 060, Train Acc: 0.9000, Val Acc: 0.7240, Val F1 (micro): 0.7240\n",
            "Epoch: 070, Train Acc: 0.9000, Val Acc: 0.7280, Val F1 (micro): 0.7280\n",
            "Epoch: 080, Train Acc: 0.9000, Val Acc: 0.7280, Val F1 (micro): 0.7280\n",
            "Epoch: 090, Train Acc: 0.9143, Val Acc: 0.7400, Val F1 (micro): 0.7400\n",
            "Epoch: 100, Train Acc: 0.9143, Val Acc: 0.7320, Val F1 (micro): 0.7320\n",
            "Training time: 1.28 seconds\n",
            "Memory after cleanup: 41.52 MB\n",
            "Epoch: 010, Train Acc: 0.9071, Val Acc: 0.7280, Val F1 (micro): 0.7280\n",
            "Epoch: 020, Train Acc: 0.9071, Val Acc: 0.7320, Val F1 (micro): 0.7320\n",
            "Epoch: 030, Train Acc: 0.9143, Val Acc: 0.7300, Val F1 (micro): 0.7300\n",
            "Epoch: 040, Train Acc: 0.9000, Val Acc: 0.7200, Val F1 (micro): 0.7200\n",
            "Epoch: 050, Train Acc: 0.8929, Val Acc: 0.7300, Val F1 (micro): 0.7300\n",
            "Epoch: 060, Train Acc: 0.8929, Val Acc: 0.7260, Val F1 (micro): 0.7260\n",
            "Epoch: 070, Train Acc: 0.8929, Val Acc: 0.7220, Val F1 (micro): 0.7220\n",
            "Epoch: 080, Train Acc: 0.9000, Val Acc: 0.7300, Val F1 (micro): 0.7300\n",
            "Epoch: 090, Train Acc: 0.9071, Val Acc: 0.7340, Val F1 (micro): 0.7340\n",
            "Epoch: 100, Train Acc: 0.9071, Val Acc: 0.7280, Val F1 (micro): 0.7280\n",
            "Training time: 1.33 seconds\n",
            "Memory after cleanup: 41.52 MB\n",
            "Epoch: 010, Train Acc: 0.9071, Val Acc: 0.7180, Val F1 (micro): 0.7180\n",
            "Epoch: 020, Train Acc: 0.9000, Val Acc: 0.7240, Val F1 (micro): 0.7240\n",
            "Epoch: 030, Train Acc: 0.9000, Val Acc: 0.7260, Val F1 (micro): 0.7260\n",
            "Epoch: 040, Train Acc: 0.9000, Val Acc: 0.7220, Val F1 (micro): 0.7220\n",
            "Epoch: 050, Train Acc: 0.9000, Val Acc: 0.7260, Val F1 (micro): 0.7260\n",
            "Epoch: 060, Train Acc: 0.9000, Val Acc: 0.7220, Val F1 (micro): 0.7220\n",
            "Epoch: 070, Train Acc: 0.8929, Val Acc: 0.7260, Val F1 (micro): 0.7260\n",
            "Epoch: 080, Train Acc: 0.8929, Val Acc: 0.7300, Val F1 (micro): 0.7300\n",
            "Epoch: 090, Train Acc: 0.9000, Val Acc: 0.7240, Val F1 (micro): 0.7240\n",
            "Epoch: 100, Train Acc: 0.9000, Val Acc: 0.7220, Val F1 (micro): 0.7220\n",
            "Training time: 1.78 seconds\n",
            "Memory after cleanup: 41.52 MB\n",
            "Epoch: 010, Train Acc: 0.9000, Val Acc: 0.7260, Val F1 (micro): 0.7260\n",
            "Epoch: 020, Train Acc: 0.9000, Val Acc: 0.7200, Val F1 (micro): 0.7200\n",
            "Epoch: 030, Train Acc: 0.9000, Val Acc: 0.7240, Val F1 (micro): 0.7240\n",
            "Epoch: 040, Train Acc: 0.9000, Val Acc: 0.7260, Val F1 (micro): 0.7260\n",
            "Epoch: 050, Train Acc: 0.9143, Val Acc: 0.7320, Val F1 (micro): 0.7320\n",
            "Epoch: 060, Train Acc: 0.9143, Val Acc: 0.7260, Val F1 (micro): 0.7260\n",
            "Epoch: 070, Train Acc: 0.9143, Val Acc: 0.7180, Val F1 (micro): 0.7180\n",
            "Epoch: 080, Train Acc: 0.9143, Val Acc: 0.7200, Val F1 (micro): 0.7200\n",
            "Epoch: 090, Train Acc: 0.9071, Val Acc: 0.7240, Val F1 (micro): 0.7240\n",
            "Epoch: 100, Train Acc: 0.9000, Val Acc: 0.7240, Val F1 (micro): 0.7240\n",
            "Training time: 1.28 seconds\n",
            "Memory after cleanup: 41.52 MB\n",
            "Epoch: 010, Train Acc: 0.9000, Val Acc: 0.7220, Val F1 (micro): 0.7220\n",
            "Epoch: 020, Train Acc: 0.8929, Val Acc: 0.7240, Val F1 (micro): 0.7240\n",
            "Epoch: 030, Train Acc: 0.8929, Val Acc: 0.7220, Val F1 (micro): 0.7220\n",
            "Epoch: 040, Train Acc: 0.9000, Val Acc: 0.7280, Val F1 (micro): 0.7280\n",
            "Epoch: 050, Train Acc: 0.9000, Val Acc: 0.7240, Val F1 (micro): 0.7240\n",
            "Epoch: 060, Train Acc: 0.9071, Val Acc: 0.7240, Val F1 (micro): 0.7240\n",
            "Epoch: 070, Train Acc: 0.9071, Val Acc: 0.7320, Val F1 (micro): 0.7320\n",
            "Epoch: 080, Train Acc: 0.9143, Val Acc: 0.7300, Val F1 (micro): 0.7300\n",
            "Epoch: 090, Train Acc: 0.9071, Val Acc: 0.7260, Val F1 (micro): 0.7260\n",
            "Epoch: 100, Train Acc: 0.9000, Val Acc: 0.7240, Val F1 (micro): 0.7240\n",
            "Training time: 1.28 seconds\n",
            "Test F1 Score (micro): 0.7420\n",
            "Test test accuracy (micro):  0.7420\n"
          ]
        }
      ]
    },
    {
      "cell_type": "code",
      "source": [
        "print(res)\n",
        "print(sum(res)/10)"
      ],
      "metadata": {
        "id": "NTuBRvlv4O9s"
      },
      "execution_count": null,
      "outputs": []
    },
    {
      "cell_type": "code",
      "source": [
        "print(training)\n",
        "print(sum(training)/10)"
      ],
      "metadata": {
        "id": "NRftGp7TZUmC"
      },
      "execution_count": null,
      "outputs": []
    },
    {
      "cell_type": "code",
      "source": [
        "print(f\"Allocated memory after tensor creation: {torch.cuda.memory_allocated() / (1024**2):.2f} MB\")\n",
        "print(f\"Reserved memory after tensor creation: {torch.cuda.memory_reserved() / (1024**2):.2f} MB\")\n",
        "print(f\"Peak allocated memory: {torch.cuda.max_memory_allocated() / (1024**2):.2f} MB\")\n",
        "memories = [estimate_subgraph_memory(g) for g in cluster_data]\n",
        "avg_mem = sum(memories) / len(memories)\n",
        "print(f\"Average subgraph memory: {avg_mem:.2f} MB\")\n",
        "avg_neighbors_per_node(subgraphs)\n",
        "print(f\"Number of subgraphs: {len(subgraphs)}\")"
      ],
      "metadata": {
        "id": "YErsFwmf1daW"
      },
      "execution_count": null,
      "outputs": []
    },
    {
      "cell_type": "code",
      "source": [
        "peak_memory_mb=f\"{torch.cuda.max_memory_allocated()/1024**2:.2f}\"\n",
        "total_train_time=f\"{end_time - start_time:.2f}\"\n",
        "\n",
        "metrics = {\n",
        "    \"model\": \"clusterGCN\",\n",
        "    \"accuracy\": test_acc,\n",
        "    \"f1_micro\":test_f1,\n",
        "    \"peak_memory_MB\": peak_memory_mb,\n",
        "    \"train_time_sec\": total_train_time,\n",
        "    \"mem_MB\":peak_memory_mb\n",
        "}\n",
        "\n",
        "with open(\"clusterGCN_Cora_results.json\", \"w\") as f:\n",
        "    json.dump(metrics, f)"
      ],
      "metadata": {
        "id": "ooDLb5xXeZeC"
      },
      "execution_count": null,
      "outputs": []
    },
    {
      "cell_type": "markdown",
      "source": [
        "**citeser dataset**"
      ],
      "metadata": {
        "id": "YKZulth9emqc"
      }
    },
    {
      "cell_type": "code",
      "source": [
        "clean_gpu_memory()\n",
        "\n",
        "def dataset_load():\n",
        "  print(f\"Using device: {device}\")\n",
        "  dataset = Planetoid(root='data/Planetoid', name='CiteSeer', transform=NormalizeFeatures())\n",
        "  num_features = dataset.num_features\n",
        "  num_classes = dataset.num_classes\n",
        "  data = dataset[0].to(device)  # Get the first graph object.\n",
        "  return num_features, data, num_classes, device,dataset\n",
        "\n",
        "num_features, data, num_classes, device, dataset = dataset_load()\n",
        "subgraphs = custom_partition(data, num_subgraphs=512, similarity_threshold=0.6)\n",
        "\n",
        "loader = DataLoader(subgraphs, batch_size=128, shuffle=True)\n",
        "print(f'Number of nodes:          {data.num_nodes}')\n",
        "\n",
        "total=0\n",
        "for i, sg in enumerate(subgraphs):\n",
        "    #print(f\"Subgraph {i}: {sg.num_nodes} nodes\")\n",
        "    total=total+sg.num_nodes\n",
        "print(total)"
      ],
      "metadata": {
        "id": "K6Bt5AVCb64k",
        "outputId": "626c3ee5-a4c6-4b6c-ef7b-324661015a55",
        "colab": {
          "base_uri": "https://localhost:8080/"
        }
      },
      "execution_count": null,
      "outputs": [
        {
          "output_type": "stream",
          "name": "stdout",
          "text": [
            "Memory after cleanup: 26.54 MB\n",
            "Using device: cuda\n"
          ]
        },
        {
          "output_type": "stream",
          "name": "stderr",
          "text": [
            "Downloading https://github.com/kimiyoung/planetoid/raw/master/data/ind.citeseer.x\n",
            "Downloading https://github.com/kimiyoung/planetoid/raw/master/data/ind.citeseer.tx\n",
            "Downloading https://github.com/kimiyoung/planetoid/raw/master/data/ind.citeseer.allx\n",
            "Downloading https://github.com/kimiyoung/planetoid/raw/master/data/ind.citeseer.y\n",
            "Downloading https://github.com/kimiyoung/planetoid/raw/master/data/ind.citeseer.ty\n",
            "Downloading https://github.com/kimiyoung/planetoid/raw/master/data/ind.citeseer.ally\n",
            "Downloading https://github.com/kimiyoung/planetoid/raw/master/data/ind.citeseer.graph\n",
            "Downloading https://github.com/kimiyoung/planetoid/raw/master/data/ind.citeseer.test.index\n",
            "Processing...\n",
            "Done!\n"
          ]
        },
        {
          "output_type": "stream",
          "name": "stdout",
          "text": [
            "Number of nodes:          3327\n",
            "1999\n"
          ]
        }
      ]
    },
    {
      "cell_type": "code",
      "source": [
        "memories = [estimate_subgraph_memory(g) for g in cluster_data]\n",
        "avg_mem = sum(memories) / len(memories)\n",
        "print(f\"Average subgraph memory: {avg_mem:.2f} MB\")"
      ],
      "metadata": {
        "id": "KN_CwiXTCAB9"
      },
      "execution_count": null,
      "outputs": []
    },
    {
      "cell_type": "code",
      "source": [
        "\n",
        "\n",
        "\n",
        "model = GCN(\n",
        "    in_channels=num_features,\n",
        "    hidden_channels=64,\n",
        "    out_channels=num_classes\n",
        ").to(device)\n",
        "optimizer = torch.optim.Adam(model.parameters(), lr=0.01)\n",
        "criterion = torch.nn.CrossEntropyLoss().to(device)\n",
        "\n",
        "display(Javascript('''google.colab.output.setIframeHeight(0, true, {maxHeight: 300})'''))\n",
        "data=data.to(device)\n",
        "res=[]\n",
        "training=[]\n",
        "for i in range(10):\n",
        "  clean_gpu_memory()\n",
        "  start_time= time.time()\n",
        "  for epoch in range(1, 101):\n",
        "    loss = train_batch(loader)\n",
        "    if epoch % 10 == 0:\n",
        "      train_acc = test(data, data.train_mask)\n",
        "      val_acc = test(data, data.val_mask)\n",
        "      val_f1 = f1_micro(data, data.val_mask)\n",
        "      print(f'Epoch: {epoch:03d}, Train Acc: {train_acc:.4f}, Val Acc: {val_acc:.4f}, Val F1 (micro): {val_f1:.4f}')\n",
        "\n",
        "  end_time = time.time()\n",
        "  print(f\"Training time: {end_time - start_time:.2f} seconds\")\n",
        "  test_acc = test(data, data.test_mask)\n",
        "  res.append(test_acc)\n",
        "  training.append(end_time - start_time)\n",
        "\n",
        "test_acc = test(data, data.test_mask)\n",
        "\n",
        "test_f1 = f1_micro(data, data.test_mask)\n",
        "print(f'Test F1 Score (micro): {test_f1:.4f}')\n",
        "print(f'Test test accuracy (micro):  {test_acc:.4f}')"
      ],
      "metadata": {
        "id": "GzLUKUyEesF1"
      },
      "execution_count": null,
      "outputs": []
    },
    {
      "cell_type": "code",
      "source": [
        "print(res)\n",
        "print(sum(res)/10)\n",
        "print(training)\n",
        "print(sum(training)/10)\n",
        "print(f\"Allocated memory after tensor creation: {torch.cuda.memory_allocated() / (1024**2):.2f} MB\")\n",
        "print(f\"Reserved memory after tensor creation: {torch.cuda.memory_reserved() / (1024**2):.2f} MB\")\n",
        "print(f\"Peak allocated memory: {torch.cuda.max_memory_allocated() / (1024**2):.2f} MB\")\n",
        "memories = [estimate_subgraph_memory(g) for g in subgraphs]\n",
        "avg_mem = sum(memories) / len(memories)\n",
        "print(f\"Average subgraph memory: {avg_mem:.2f} MB\")\n",
        "avg_neighbors_per_node(subgraphs)\n",
        "print(f\"Number of subgraphs: {len(subgraphs)}\")\n"
      ],
      "metadata": {
        "id": "ux_tjd2T40qQ"
      },
      "execution_count": null,
      "outputs": []
    },
    {
      "cell_type": "code",
      "source": [
        "peak_memory_mb=f\"{torch.cuda.max_memory_allocated()/1024**2:.2f}\"\n",
        "total_train_time=f\"{end_time - start_time:.2f}\"\n",
        "\n",
        "metrics = {\n",
        "    \"model\": \"clusterGCN\",\n",
        "    \"accuracy\": test_acc,\n",
        "    \"f1_micro\":test_f1,\n",
        "    \"peak_memory_MB\": peak_memory_mb,\n",
        "    \"train_time_sec\": total_train_time,\n",
        "    \"mem_MB\":peak_memory_mb\n",
        "}\n",
        "\n",
        "with open(\"clusterGCN_CiteSeer_results.json\", \"w\") as f:\n",
        "    json.dump(metrics, f)"
      ],
      "metadata": {
        "id": "lzUy-01ve370"
      },
      "execution_count": null,
      "outputs": []
    },
    {
      "cell_type": "markdown",
      "source": [
        "**Reddit dataset**"
      ],
      "metadata": {
        "id": "38Lu3wX1fLKC"
      }
    },
    {
      "cell_type": "code",
      "source": [
        "def dataset_load():\n",
        "  print(f\"Using device: {device}\")\n",
        "  dataset = Amazon(\n",
        "        root='data/Amazon',\n",
        "        name='Computers',\n",
        "        transform=T.Compose([\n",
        "        NormalizeFeatures(),          # feature‑wise ℓ₂ normalisation\n",
        "        RandomNodeSplit(              # ⇦ add a split transform\n",
        "                split='train_rest',       # 10% val, 10% test by default\n",
        "                num_val=0.1,\n",
        "                num_test=0.1,\n",
        "                num_splits=1,\n",
        "            )\n",
        "        ])\n",
        "    )\n",
        "  num_features = dataset.num_features\n",
        "  num_classes = dataset.num_classes\n",
        "  data = dataset[0].to(device)  # Get the first graph object.\n",
        "  return num_features, data, num_classes, device,dataset"
      ],
      "metadata": {
        "id": "bv5jo7xjQoQK"
      },
      "execution_count": null,
      "outputs": []
    },
    {
      "cell_type": "code",
      "source": [
        "clean_gpu_memory()\n",
        "from torch_geometric.loader import DataLoader\n",
        "\n",
        "from torch_geometric.datasets import Reddit\n",
        "import torch_geometric.transforms as T\n",
        "\n",
        "def dataset_load():\n",
        "    print(f\"Using device: {device}\")\n",
        "    dataset = Reddit(\n",
        "        root='data/Reddit',\n",
        "        transform=T.Compose([\n",
        "            T.NormalizeFeatures(),\n",
        "            T.ToSparseTensor(remove_edge_index=False)\n",
        "        ])\n",
        "    )\n",
        "    num_features = dataset.num_features\n",
        "    num_classes = dataset.num_classes\n",
        "    data = dataset[0].to(device)  # Get the single graph object\n",
        "    return num_features, data, num_classes, device, dataset\n",
        "\n",
        "num_features, data, num_classes, device, dataset = dataset_load()\n",
        "\n",
        "\n",
        "\n",
        "\n",
        "#loader = DataLoader(subgraphs, batch_size=128, shuffle=True)\n",
        "\n"
      ],
      "metadata": {
        "id": "PjEjGTadfnUT",
        "outputId": "26f49d73-aec2-4259-c067-51caf74d91d7",
        "colab": {
          "base_uri": "https://localhost:8080/"
        }
      },
      "execution_count": 7,
      "outputs": [
        {
          "output_type": "stream",
          "name": "stdout",
          "text": [
            "Memory after cleanup: 0.00 MB\n",
            "Using device: cuda\n"
          ]
        }
      ]
    },
    {
      "cell_type": "code",
      "source": [
        "clean_gpu_memory()"
      ],
      "metadata": {
        "id": "flvjmAOqaFTm",
        "outputId": "5783a7e5-1b70-43c2-a0de-8b504f67596e",
        "colab": {
          "base_uri": "https://localhost:8080/"
        }
      },
      "execution_count": 8,
      "outputs": [
        {
          "output_type": "stream",
          "name": "stdout",
          "text": [
            "Memory after cleanup: 4911.47 MB\n"
          ]
        }
      ]
    },
    {
      "cell_type": "code",
      "source": [],
      "metadata": {
        "id": "hQRqbT_k5I2j"
      },
      "execution_count": null,
      "outputs": []
    },
    {
      "cell_type": "code",
      "source": [
        "subgraphs = custom_partition(data, num_subgraphs=1024, similarity_threshold=1)\n",
        "\n",
        "print(f'Number of nodes:          {data.num_nodes}')\n",
        "\n",
        "total=0\n",
        "for i, sg in enumerate(subgraphs):\n",
        "    #print(f\"Subgraph {i}: {sg.num_nodes} nodes\")\n",
        "    total=total+sg.num_nodes\n",
        "print(total)"
      ],
      "metadata": {
        "id": "kXERet_lxxTN"
      },
      "execution_count": null,
      "outputs": []
    },
    {
      "cell_type": "code",
      "source": [
        "memories = [estimate_subgraph_memory(g) for g in subgraphs]\n",
        "avg_mem = sum(memories) / len(memories)\n",
        "print(f\"Average subgraph memory: {avg_mem:.2f} MB\")"
      ],
      "metadata": {
        "id": "daKZ_GzfCaLo",
        "outputId": "6e670581-0b14-410c-a598-8298d0f71edf",
        "colab": {
          "base_uri": "https://localhost:8080/",
          "height": 184
        }
      },
      "execution_count": null,
      "outputs": [
        {
          "output_type": "error",
          "ename": "NameError",
          "evalue": "name 'subgraphs' is not defined",
          "traceback": [
            "\u001b[0;31m---------------------------------------------------------------------------\u001b[0m",
            "\u001b[0;31mNameError\u001b[0m                                 Traceback (most recent call last)",
            "\u001b[0;32m/tmp/ipython-input-2602737514.py\u001b[0m in \u001b[0;36m<cell line: 0>\u001b[0;34m()\u001b[0m\n\u001b[0;32m----> 1\u001b[0;31m \u001b[0mmemories\u001b[0m \u001b[0;34m=\u001b[0m \u001b[0;34m[\u001b[0m\u001b[0mestimate_subgraph_memory\u001b[0m\u001b[0;34m(\u001b[0m\u001b[0mg\u001b[0m\u001b[0;34m)\u001b[0m \u001b[0;32mfor\u001b[0m \u001b[0mg\u001b[0m \u001b[0;32min\u001b[0m \u001b[0msubgraphs\u001b[0m\u001b[0;34m]\u001b[0m\u001b[0;34m\u001b[0m\u001b[0;34m\u001b[0m\u001b[0m\n\u001b[0m\u001b[1;32m      2\u001b[0m \u001b[0mavg_mem\u001b[0m \u001b[0;34m=\u001b[0m \u001b[0msum\u001b[0m\u001b[0;34m(\u001b[0m\u001b[0mmemories\u001b[0m\u001b[0;34m)\u001b[0m \u001b[0;34m/\u001b[0m \u001b[0mlen\u001b[0m\u001b[0;34m(\u001b[0m\u001b[0mmemories\u001b[0m\u001b[0;34m)\u001b[0m\u001b[0;34m\u001b[0m\u001b[0;34m\u001b[0m\u001b[0m\n\u001b[1;32m      3\u001b[0m \u001b[0mprint\u001b[0m\u001b[0;34m(\u001b[0m\u001b[0;34mf\"Average subgraph memory: {avg_mem:.2f} MB\"\u001b[0m\u001b[0;34m)\u001b[0m\u001b[0;34m\u001b[0m\u001b[0;34m\u001b[0m\u001b[0m\n",
            "\u001b[0;31mNameError\u001b[0m: name 'subgraphs' is not defined"
          ]
        }
      ]
    },
    {
      "cell_type": "code",
      "source": [
        "\n",
        "\n",
        "\n",
        "model = GCN(\n",
        "    in_channels=num_features,\n",
        "    hidden_channels=64,\n",
        "    out_channels=num_classes\n",
        ").to(device)\n",
        "optimizer = torch.optim.Adam(model.parameters(), lr=0.01)\n",
        "criterion = torch.nn.CrossEntropyLoss().to(device)\n",
        "\n",
        "display(Javascript('''google.colab.output.setIframeHeight(0, true, {maxHeight: 300})'''))\n",
        "data=data.to(device)\n",
        "\n",
        "res=[]\n",
        "training=[]\n",
        "memory=[]\n",
        "for i in range(10):\n",
        "  model = GCN(\n",
        "    in_channels=num_features,\n",
        "    hidden_channels=64,\n",
        "    out_channels=num_classes\n",
        ").to(device)\n",
        "  optimizer = torch.optim.Adam(model.parameters(), lr=0.01)\n",
        "  criterion = torch.nn.CrossEntropyLoss().to(device)\n",
        "  clean_gpu_memory()\n",
        "  start_time= time.time()\n",
        "  for epoch in range(1, 101):\n",
        "    loss = train_layerwise_subgraph_sampling(subgraphs, q=64)\n",
        "    #loss = train_batch(loader)\n",
        "    if epoch % 10 == 0:\n",
        "\n",
        "      train_acc = test_layerwise_subgraph_sampling(model, subgraphs, mask_name='train_mask')\n",
        "      val_acc = test_layerwise_subgraph_sampling(model, subgraphs, mask_name='val_mask')\n",
        "      print(f'Epoch: {epoch:03d}, Train Acc: {train_acc:.4f}, Val Acc: {val_acc:.4f}, loss:,{loss:.4f} ')\n",
        "  test_acc =  test_layerwise_subgraph_sampling(model, subgraphs, mask_name='test_mask')\n",
        "  end_time = time.time()\n",
        "  res.append(test_acc)\n",
        "  training.append(end_time - start_time)\n",
        "  memory.append(torch.cuda.max_memory_allocated() / 1024**2)\n",
        "  print(f\"Training time: {end_time - start_time:.2f} seconds\")"
      ],
      "metadata": {
        "id": "IwvBacXte8XG",
        "outputId": "16a7d751-cfc3-4132-e978-b72521516eb9",
        "colab": {
          "base_uri": "https://localhost:8080/",
          "height": 300
        }
      },
      "execution_count": null,
      "outputs": [
        {
          "output_type": "display_data",
          "data": {
            "text/plain": [
              "<IPython.core.display.Javascript object>"
            ],
            "application/javascript": [
              "google.colab.output.setIframeHeight(0, true, {maxHeight: 300})"
            ]
          },
          "metadata": {}
        },
        {
          "output_type": "stream",
          "name": "stdout",
          "text": [
            "Memory after cleanup: 4913.92 MB\n",
            "Epoch: 010, Train Acc: 0.1111, Val Acc: 0.2041, loss:,2.3736 \n",
            "Epoch: 020, Train Acc: 0.1111, Val Acc: 0.2041, loss:,2.1338 \n",
            "Epoch: 030, Train Acc: 0.1111, Val Acc: 0.2041, loss:,2.3435 \n",
            "Epoch: 040, Train Acc: 0.1111, Val Acc: 0.2041, loss:,2.5130 \n",
            "Epoch: 050, Train Acc: 0.1111, Val Acc: 0.2041, loss:,2.4568 \n",
            "Epoch: 060, Train Acc: 0.1111, Val Acc: 0.2041, loss:,2.1318 \n",
            "Epoch: 070, Train Acc: 0.1111, Val Acc: 0.2041, loss:,1.9765 \n",
            "Epoch: 080, Train Acc: 0.1111, Val Acc: 0.2041, loss:,2.5148 \n",
            "Epoch: 090, Train Acc: 0.0877, Val Acc: 0.0408, loss:,2.1542 \n",
            "Epoch: 100, Train Acc: 0.1111, Val Acc: 0.2041, loss:,1.9791 \n",
            "Training time: 35.73 seconds\n",
            "Memory after cleanup: 4930.36 MB\n",
            "Epoch: 010, Train Acc: 0.1111, Val Acc: 0.2041, loss:,2.2651 \n",
            "Epoch: 020, Train Acc: 0.1111, Val Acc: 0.2041, loss:,1.8508 \n",
            "Epoch: 030, Train Acc: 0.1111, Val Acc: 0.2041, loss:,2.5416 \n",
            "Epoch: 040, Train Acc: 0.1111, Val Acc: 0.2041, loss:,2.2821 \n",
            "Epoch: 050, Train Acc: 0.1111, Val Acc: 0.2041, loss:,2.2692 \n",
            "Epoch: 060, Train Acc: 0.1111, Val Acc: 0.2041, loss:,2.1920 \n",
            "Epoch: 070, Train Acc: 0.1111, Val Acc: 0.2041, loss:,2.1333 \n"
          ]
        },
        {
          "output_type": "error",
          "ename": "KeyboardInterrupt",
          "evalue": "",
          "traceback": [
            "\u001b[0;31m---------------------------------------------------------------------------\u001b[0m",
            "\u001b[0;31mKeyboardInterrupt\u001b[0m                         Traceback (most recent call last)",
            "\u001b[0;32m/tmp/ipython-input-2200071147.py\u001b[0m in \u001b[0;36m<cell line: 0>\u001b[0;34m()\u001b[0m\n\u001b[1;32m     24\u001b[0m   \u001b[0mstart_time\u001b[0m\u001b[0;34m=\u001b[0m \u001b[0mtime\u001b[0m\u001b[0;34m.\u001b[0m\u001b[0mtime\u001b[0m\u001b[0;34m(\u001b[0m\u001b[0;34m)\u001b[0m\u001b[0;34m\u001b[0m\u001b[0;34m\u001b[0m\u001b[0m\n\u001b[1;32m     25\u001b[0m   \u001b[0;32mfor\u001b[0m \u001b[0mepoch\u001b[0m \u001b[0;32min\u001b[0m \u001b[0mrange\u001b[0m\u001b[0;34m(\u001b[0m\u001b[0;36m1\u001b[0m\u001b[0;34m,\u001b[0m \u001b[0;36m101\u001b[0m\u001b[0;34m)\u001b[0m\u001b[0;34m:\u001b[0m\u001b[0;34m\u001b[0m\u001b[0;34m\u001b[0m\u001b[0m\n\u001b[0;32m---> 26\u001b[0;31m     \u001b[0mloss\u001b[0m \u001b[0;34m=\u001b[0m \u001b[0mtrain_layerwise_subgraph_sampling\u001b[0m\u001b[0;34m(\u001b[0m\u001b[0msubgraphs\u001b[0m\u001b[0;34m,\u001b[0m \u001b[0mq\u001b[0m\u001b[0;34m=\u001b[0m\u001b[0;36m64\u001b[0m\u001b[0;34m)\u001b[0m\u001b[0;34m\u001b[0m\u001b[0;34m\u001b[0m\u001b[0m\n\u001b[0m\u001b[1;32m     27\u001b[0m     \u001b[0;31m#loss = train_batch(loader)\u001b[0m\u001b[0;34m\u001b[0m\u001b[0;34m\u001b[0m\u001b[0m\n\u001b[1;32m     28\u001b[0m     \u001b[0;32mif\u001b[0m \u001b[0mepoch\u001b[0m \u001b[0;34m%\u001b[0m \u001b[0;36m10\u001b[0m \u001b[0;34m==\u001b[0m \u001b[0;36m0\u001b[0m\u001b[0;34m:\u001b[0m\u001b[0;34m\u001b[0m\u001b[0;34m\u001b[0m\u001b[0m\n",
            "\u001b[0;32m/tmp/ipython-input-487539110.py\u001b[0m in \u001b[0;36mtrain_layerwise_subgraph_sampling\u001b[0;34m(subgraphs, q)\u001b[0m\n\u001b[1;32m     13\u001b[0m     \u001b[0;32mfor\u001b[0m \u001b[0mdata\u001b[0m \u001b[0;32min\u001b[0m \u001b[0msampled1\u001b[0m\u001b[0;34m:\u001b[0m\u001b[0;34m\u001b[0m\u001b[0;34m\u001b[0m\u001b[0m\n\u001b[1;32m     14\u001b[0m         \u001b[0mdata\u001b[0m \u001b[0;34m=\u001b[0m \u001b[0mdata\u001b[0m\u001b[0;34m.\u001b[0m\u001b[0mto\u001b[0m\u001b[0;34m(\u001b[0m\u001b[0mdevice\u001b[0m\u001b[0;34m)\u001b[0m\u001b[0;34m\u001b[0m\u001b[0;34m\u001b[0m\u001b[0m\n\u001b[0;32m---> 15\u001b[0;31m         \u001b[0mx1\u001b[0m \u001b[0;34m=\u001b[0m \u001b[0mmodel\u001b[0m\u001b[0;34m.\u001b[0m\u001b[0mforward_layer1\u001b[0m\u001b[0;34m(\u001b[0m\u001b[0mdata\u001b[0m\u001b[0;34m.\u001b[0m\u001b[0mx\u001b[0m\u001b[0;34m,\u001b[0m \u001b[0mdata\u001b[0m\u001b[0;34m.\u001b[0m\u001b[0medge_index\u001b[0m\u001b[0;34m)\u001b[0m\u001b[0;34m\u001b[0m\u001b[0;34m\u001b[0m\u001b[0m\n\u001b[0m\u001b[1;32m     16\u001b[0m         \u001b[0mintermediate_outputs\u001b[0m\u001b[0;34m.\u001b[0m\u001b[0mappend\u001b[0m\u001b[0;34m(\u001b[0m\u001b[0mx1\u001b[0m\u001b[0;34m)\u001b[0m\u001b[0;34m\u001b[0m\u001b[0;34m\u001b[0m\u001b[0m\n\u001b[1;32m     17\u001b[0m         \u001b[0mmasks_and_labels\u001b[0m\u001b[0;34m.\u001b[0m\u001b[0mappend\u001b[0m\u001b[0;34m(\u001b[0m\u001b[0;34m(\u001b[0m\u001b[0mdata\u001b[0m\u001b[0;34m.\u001b[0m\u001b[0mtrain_mask\u001b[0m\u001b[0;34m,\u001b[0m \u001b[0mdata\u001b[0m\u001b[0;34m.\u001b[0m\u001b[0my\u001b[0m\u001b[0;34m)\u001b[0m\u001b[0;34m)\u001b[0m\u001b[0;34m\u001b[0m\u001b[0;34m\u001b[0m\u001b[0m\n",
            "\u001b[0;32m/tmp/ipython-input-260506664.py\u001b[0m in \u001b[0;36mforward_layer1\u001b[0;34m(self, x, edge_index)\u001b[0m\n\u001b[1;32m      7\u001b[0m \u001b[0;34m\u001b[0m\u001b[0m\n\u001b[1;32m      8\u001b[0m     \u001b[0;32mdef\u001b[0m \u001b[0mforward_layer1\u001b[0m\u001b[0;34m(\u001b[0m\u001b[0mself\u001b[0m\u001b[0;34m,\u001b[0m \u001b[0mx\u001b[0m\u001b[0;34m,\u001b[0m \u001b[0medge_index\u001b[0m\u001b[0;34m)\u001b[0m\u001b[0;34m:\u001b[0m\u001b[0;34m\u001b[0m\u001b[0;34m\u001b[0m\u001b[0m\n\u001b[0;32m----> 9\u001b[0;31m         \u001b[0mx\u001b[0m \u001b[0;34m=\u001b[0m \u001b[0mself\u001b[0m\u001b[0;34m.\u001b[0m\u001b[0mconv1\u001b[0m\u001b[0;34m(\u001b[0m\u001b[0mx\u001b[0m\u001b[0;34m,\u001b[0m \u001b[0medge_index\u001b[0m\u001b[0;34m)\u001b[0m\u001b[0;34m\u001b[0m\u001b[0;34m\u001b[0m\u001b[0m\n\u001b[0m\u001b[1;32m     10\u001b[0m         \u001b[0mx\u001b[0m \u001b[0;34m=\u001b[0m \u001b[0mF\u001b[0m\u001b[0;34m.\u001b[0m\u001b[0mrelu\u001b[0m\u001b[0;34m(\u001b[0m\u001b[0mx\u001b[0m\u001b[0;34m)\u001b[0m\u001b[0;34m\u001b[0m\u001b[0;34m\u001b[0m\u001b[0m\n\u001b[1;32m     11\u001b[0m         \u001b[0;32mreturn\u001b[0m \u001b[0mx\u001b[0m\u001b[0;34m\u001b[0m\u001b[0;34m\u001b[0m\u001b[0m\n",
            "\u001b[0;32m/usr/local/lib/python3.11/dist-packages/torch/nn/modules/module.py\u001b[0m in \u001b[0;36m_wrapped_call_impl\u001b[0;34m(self, *args, **kwargs)\u001b[0m\n\u001b[1;32m   1737\u001b[0m             \u001b[0;32mreturn\u001b[0m \u001b[0mself\u001b[0m\u001b[0;34m.\u001b[0m\u001b[0m_compiled_call_impl\u001b[0m\u001b[0;34m(\u001b[0m\u001b[0;34m*\u001b[0m\u001b[0margs\u001b[0m\u001b[0;34m,\u001b[0m \u001b[0;34m**\u001b[0m\u001b[0mkwargs\u001b[0m\u001b[0;34m)\u001b[0m  \u001b[0;31m# type: ignore[misc]\u001b[0m\u001b[0;34m\u001b[0m\u001b[0;34m\u001b[0m\u001b[0m\n\u001b[1;32m   1738\u001b[0m         \u001b[0;32melse\u001b[0m\u001b[0;34m:\u001b[0m\u001b[0;34m\u001b[0m\u001b[0;34m\u001b[0m\u001b[0m\n\u001b[0;32m-> 1739\u001b[0;31m             \u001b[0;32mreturn\u001b[0m \u001b[0mself\u001b[0m\u001b[0;34m.\u001b[0m\u001b[0m_call_impl\u001b[0m\u001b[0;34m(\u001b[0m\u001b[0;34m*\u001b[0m\u001b[0margs\u001b[0m\u001b[0;34m,\u001b[0m \u001b[0;34m**\u001b[0m\u001b[0mkwargs\u001b[0m\u001b[0;34m)\u001b[0m\u001b[0;34m\u001b[0m\u001b[0;34m\u001b[0m\u001b[0m\n\u001b[0m\u001b[1;32m   1740\u001b[0m \u001b[0;34m\u001b[0m\u001b[0m\n\u001b[1;32m   1741\u001b[0m     \u001b[0;31m# torchrec tests the code consistency with the following code\u001b[0m\u001b[0;34m\u001b[0m\u001b[0;34m\u001b[0m\u001b[0m\n",
            "\u001b[0;32m/usr/local/lib/python3.11/dist-packages/torch/nn/modules/module.py\u001b[0m in \u001b[0;36m_call_impl\u001b[0;34m(self, *args, **kwargs)\u001b[0m\n\u001b[1;32m   1748\u001b[0m                 \u001b[0;32mor\u001b[0m \u001b[0m_global_backward_pre_hooks\u001b[0m \u001b[0;32mor\u001b[0m \u001b[0m_global_backward_hooks\u001b[0m\u001b[0;34m\u001b[0m\u001b[0;34m\u001b[0m\u001b[0m\n\u001b[1;32m   1749\u001b[0m                 or _global_forward_hooks or _global_forward_pre_hooks):\n\u001b[0;32m-> 1750\u001b[0;31m             \u001b[0;32mreturn\u001b[0m \u001b[0mforward_call\u001b[0m\u001b[0;34m(\u001b[0m\u001b[0;34m*\u001b[0m\u001b[0margs\u001b[0m\u001b[0;34m,\u001b[0m \u001b[0;34m**\u001b[0m\u001b[0mkwargs\u001b[0m\u001b[0;34m)\u001b[0m\u001b[0;34m\u001b[0m\u001b[0;34m\u001b[0m\u001b[0m\n\u001b[0m\u001b[1;32m   1751\u001b[0m \u001b[0;34m\u001b[0m\u001b[0m\n\u001b[1;32m   1752\u001b[0m         \u001b[0mresult\u001b[0m \u001b[0;34m=\u001b[0m \u001b[0;32mNone\u001b[0m\u001b[0;34m\u001b[0m\u001b[0;34m\u001b[0m\u001b[0m\n",
            "\u001b[0;31mKeyboardInterrupt\u001b[0m: "
          ]
        }
      ]
    },
    {
      "cell_type": "code",
      "source": [
        "std_acc = np.std(res)\n",
        "mean_test_acc = np.mean(res)\n",
        "print(f\"Test Accuracy: {mean_test_acc:.4f} ± {std_acc:.4f}\")\n",
        "std_training = np.std(training)\n",
        "mean_training = np.mean(training)\n",
        "print(f\"training time: {mean_training:.4f} ± {std_training:.4f}\")\n",
        "std_memory = np.std(memory)\n",
        "mean_memory = np.mean(memory)\n",
        "print(f\"peak memory: {mean_memory:.4f} ± {std_memory:.4f}\")"
      ],
      "metadata": {
        "id": "NFsid8Rx-zJa",
        "outputId": "3fc34a73-24d1-4264-a45d-0e652a6ba045",
        "colab": {
          "base_uri": "https://localhost:8080/"
        }
      },
      "execution_count": null,
      "outputs": [
        {
          "output_type": "stream",
          "name": "stdout",
          "text": [
            "Test Accuracy: 0.1524 ± 0.0444\n",
            "training time: 33.7990 ± 0.3905\n",
            "peak memory: 4931.0806 ± 0.0000\n"
          ]
        }
      ]
    },
    {
      "cell_type": "markdown",
      "source": [
        "q= 64\n",
        "Test Accuracy: 0.1524 ± 0.0444\n",
        "training time: 33.7990 ± 0.3905\n",
        "peak memory: 4931.0806 ± 0.0000\n"
      ],
      "metadata": {
        "id": "7iyrBxbtvDCQ"
      }
    },
    {
      "cell_type": "code",
      "source": [
        "peak_memory_mb=f\"{torch.cuda.max_memory_allocated()/1024**2:.2f}\"\n",
        "total_train_time=f\"{end_time - start_time:.2f}\"\n",
        "\n",
        "metrics = {\n",
        "    \"model\": \"clusterGCN\",\n",
        "    \"accuracy\": test_acc,\n",
        "    \"f1_micro\":test_f1,\n",
        "    \"peak_memory_MB\": peak_memory_mb,\n",
        "    \"train_time_sec\": total_train_time,\n",
        "    \"mem_MB\":peak_memory_mb\n",
        "}\n",
        "\n",
        "with open(\"clusterGCN_Amazon_results.json\", \"w\") as f:\n",
        "    json.dump(metrics, f)"
      ],
      "metadata": {
        "id": "MjuBc24QfqKN"
      },
      "execution_count": null,
      "outputs": []
    },
    {
      "cell_type": "code",
      "source": [
        "import pandas as pd\n",
        "\n",
        "# Example results (replace with your actual values)\n",
        "results = [\n",
        "    # dataset, method, accuracy, training_time (s), peak_memory (MB), num_subgraphs, avg_subgraph_memory (MB)\n",
        "    (\"Cora\", \"Custom-1\", 0.78, 1.94, 70.48, 152, 0.10),\n",
        "    (\"Cora\", \"METIS\", 0.78, 2.87, 70.69, 128, 0.12),\n",
        "    (\"Cora\", \"Custom-2\", 0.78, 1.89, 168.80, 147, 0.10),\n",
        "    (\"Cora\", \"Custom-3\", 0.80, 8.27, 58.03, -1, 0.02),  # num_subgraphs missing for Custom-3\n",
        "\n",
        "    (\"Pubmed\", \"Custom-1\", 0.76, 6.65, 159.85, 295, 0.17),\n",
        "    (\"Pubmed\", \"METIS\", 0.76, 6.39, 160.35, 128, 0.12),\n",
        "    (\"Pubmed\", \"Custom-2\", 0.75, 0.89, 297.64, 29, 2.13),\n",
        "    (\"Pubmed\", \"Custom-3\", 0.76, 8.12, 58.72, -1, 0.02),  # num_subgraphs missing for Custom-3\n",
        "\n",
        "    (\"Citeseer\", \"Custom-1\", 0.62, 9.00, 155.42, 880, 0.05),\n",
        "    (\"Citeseer\", \"METIS\", 0.65, 6.60, 170.18, 128, 0.37),\n",
        "    (\"Citeseer\", \"Custom-2\", 0.62, 8.20, 255.00, 860, 0.05),\n",
        "    (\"Citeseer\", \"Custom-3\", 0.63, 15.07, 129.82, -1, 0.03),  # num_subgraphs missing for Custom-3\n",
        "\n",
        "    (\"Amazon\", \"Custom-1\", 0.74, 5.08, 427.28, 388, 0.12),\n",
        "    (\"Amazon\", \"METIS\", 0.85, 9.26, 426.65, 128, 0.33),\n",
        "    (\"Amazon\", \"Custom-2\", 0.83, 4.18, 474.98, 361, 0.11),\n",
        "    (\"Amazon\", \"Custom-3\", 0.88, 11.53, 374.09, -1, 0.03),  # num_subgraphs missing for Custom-3\n",
        "]\n",
        "df = pd.DataFrame(results, columns=[\"Dataset\", \"Method\", \"Accuracy\", \"TrainingTime\", \"PeakMemory\", \"SubgraphCount\", \"AVG_Subgraph_Mem\"])\n",
        "import seaborn as sns\n",
        "import matplotlib.pyplot as plt\n",
        "\n",
        "sns.set(style=\"whitegrid\")\n",
        "plt.figure(figsize=(12, 6))\n",
        "sns.barplot(data=df, x=\"Dataset\", y=\"Accuracy\", hue=\"Method\")\n",
        "plt.title(\"Accuracy by Dataset and Method\")\n",
        "plt.ylim(0.6, 1.0)\n",
        "plt.show()\n",
        "\n",
        "plt.figure(figsize=(12, 6))\n",
        "sns.barplot(data=df, x=\"Dataset\", y=\"TrainingTime\", hue=\"Method\")\n",
        "plt.title(\"Training Time by Dataset and Method\")\n",
        "plt.ylabel(\"Training Time (seconds)\")\n",
        "plt.show()\n",
        "\n",
        "plt.figure(figsize=(12, 6))\n",
        "sns.barplot(data=df, x=\"Dataset\", y=\"PeakMemory\", hue=\"Method\")\n",
        "plt.title(\"Peak Memory Usage by Dataset and Method\")\n",
        "plt.ylabel(\"Peak Memory (MB)\")\n",
        "plt.show()\n",
        "\n",
        "plt.figure(figsize=(12, 6))\n",
        "sns.barplot(data=df, x=\"Dataset\", y=\"AVG_Subgraph_Mem\", hue=\"Method\")\n",
        "plt.title(\"avg subgraph Memory  Usage by Dataset and Method\")\n",
        "plt.ylabel(\"AVG_Subgraph_Mem\")\n",
        "plt.show()\n",
        "\n",
        "plt.figure(figsize=(10, 6))\n",
        "sns.lineplot(data=df, x=\"SubgraphCount\", y=\"TrainingTime\", hue=\"Dataset\", style=\"Method\", markers=True)\n",
        "plt.title(\"Training Time vs. Subgraph Count\")\n",
        "plt.xlabel(\"Subgraph Count\")\n",
        "plt.ylabel(\"Training Time (s)\")\n",
        "plt.show()\n",
        "# Create pivot for heatmap\n",
        "heatmap_df = df.pivot_table(index=\"Dataset\", columns=\"Method\", values=\"Accuracy\")\n",
        "\n",
        "plt.figure(figsize=(8, 5))\n",
        "sns.heatmap(heatmap_df, annot=True, fmt=\".3f\", cmap=\"YlGnBu\")\n",
        "plt.title(\"Accuracy Heatmap: Custom vs. METIS\")\n",
        "plt.show()\n"
      ],
      "metadata": {
        "id": "andXw5ZUtzon"
      },
      "execution_count": null,
      "outputs": []
    },
    {
      "cell_type": "code",
      "source": [
        "import torch\n",
        "import numpy as np\n",
        "import matplotlib.pyplot as plt\n",
        "import seaborn as sns\n",
        "from torch_geometric.datasets import Planetoid\n",
        "from sklearn.metrics.pairwise import cosine_similarity\n",
        "from scipy.stats import spearmanr\n",
        "\n",
        "# -------- 1. Load Pubmed dataset --------\n",
        "from torch_geometric.transforms import NormalizeFeatures\n",
        "dataset = Planetoid(root='/tmp/Cora', name='Cora', transform=NormalizeFeatures())\n",
        "data = dataset[0]\n",
        "\n",
        "# -------- 2. Get node features --------\n",
        "features = data.x.cpu().numpy()  # shape: [19717, 500]\n",
        "\n",
        "# -------- 3. Select 50 random nodes --------\n",
        "np.random.seed(42)\n",
        "selected_nodes = np.random.choice(features.shape[0], size=50, replace=False)\n",
        "selected_features = features[selected_nodes]  # shape: [50, 500]\n",
        "\n",
        "# -------- 4. Compute node-to-node similarity matrices --------\n",
        "\n",
        "# 4.1 Cosine Similarity\n",
        "cosine_sim = cosine_similarity(selected_features)\n",
        "\n",
        "# 4.2 Pearson Correlation (same as np.corrcoef)\n",
        "pearson_corr = np.corrcoef(selected_features)\n",
        "\n",
        "# 4.3 Spearman Correlation\n",
        "spearman_corr, _ = spearmanr(selected_features, axis=1)\n",
        "\n",
        "# -------- 5. Plot heatmaps --------\n",
        "def plot_heatmap(matrix, title):\n",
        "    plt.figure(figsize=(10, 8))\n",
        "    sns.heatmap(matrix, cmap='coolwarm', square=True, cbar_kws={\"shrink\": 0.7})\n",
        "    plt.title(title)\n",
        "    plt.xlabel(\"Node Index\")\n",
        "    plt.ylabel(\"Node Index\")\n",
        "    plt.tight_layout()\n",
        "    plt.show()\n",
        "\n",
        "plot_heatmap(cosine_sim, \"Cosine Similarity Between 50 Cora Nodes\")\n",
        "#plot_heatmap(pearson_corr, \"Pearson Correlation Between 50 Pubmed Nodes\")\n",
        "#plot_heatmap(spearman_corr, \"Spearman Correlation Between 50 Pubmed Nodes\")\n"
      ],
      "metadata": {
        "id": "KyUrdp2LJFg2",
        "outputId": "171cc3dd-c691-439d-b122-d62112a11200",
        "colab": {
          "base_uri": "https://localhost:8080/",
          "height": 806
        }
      },
      "execution_count": null,
      "outputs": [
        {
          "output_type": "display_data",
          "data": {
            "text/plain": [
              "<Figure size 1000x800 with 2 Axes>"
            ],
            "image/png": "[encoded data removed]"
          },
          "metadata": {}
        }
      ]
    }
  ]
}