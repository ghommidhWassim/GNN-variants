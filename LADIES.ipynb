{
  "nbformat": 4,
  "nbformat_minor": 0,
  "metadata": {
    "colab": {
      "provenance": [],
      "gpuType": "T4",
      "authorship_tag": "ABX9TyPvVMsu8sJgABs9sEnd+4od",
      "include_colab_link": true
    },
    "kernelspec": {
      "name": "python3",
      "display_name": "Python 3"
    },
    "language_info": {
      "name": "python"
    },
    "accelerator": "GPU"
  },
  "cells": [
    {
      "cell_type": "markdown",
      "metadata": {
        "id": "view-in-github",
        "colab_type": "text"
      },
      "source": [
        "<a href=\"https://colab.research.google.com/github/ghommidhWassim/GNN-variants/blob/main/LADIES.ipynb\" target=\"_parent\"><img src=\"https://colab.research.google.com/assets/colab-badge.svg\" alt=\"Open In Colab\"/></a>"
      ]
    },
    {
      "cell_type": "code",
      "execution_count": 1,
      "metadata": {
        "colab": {
          "base_uri": "https://localhost:8080/"
        },
        "id": "BGAF4Yzg7-yP",
        "outputId": "d6a226c5-c0d4-4b73-fff4-3a462d224779"
      },
      "outputs": [
        {
          "output_type": "stream",
          "name": "stdout",
          "text": [
            "  Installing build dependencies ... \u001b[?25l\u001b[?25hdone\n",
            "  Getting requirements to build wheel ... \u001b[?25l\u001b[?25hdone\n",
            "  Preparing metadata (pyproject.toml) ... \u001b[?25l\u001b[?25hdone\n",
            "2.6.0+cu124\n",
            "12.4\n",
            "Requirement already satisfied: torchvision in /usr/local/lib/python3.11/dist-packages (0.21.0+cu124)\n",
            "Requirement already satisfied: numpy in /usr/local/lib/python3.11/dist-packages (from torchvision) (2.0.2)\n",
            "Requirement already satisfied: torch==2.6.0 in /usr/local/lib/python3.11/dist-packages (from torchvision) (2.6.0+cu124)\n",
            "Requirement already satisfied: pillow!=8.3.*,>=5.3.0 in /usr/local/lib/python3.11/dist-packages (from torchvision) (11.2.1)\n",
            "Requirement already satisfied: filelock in /usr/local/lib/python3.11/dist-packages (from torch==2.6.0->torchvision) (3.18.0)\n",
            "Requirement already satisfied: typing-extensions>=4.10.0 in /usr/local/lib/python3.11/dist-packages (from torch==2.6.0->torchvision) (4.14.0)\n",
            "Requirement already satisfied: networkx in /usr/local/lib/python3.11/dist-packages (from torch==2.6.0->torchvision) (3.5)\n",
            "Requirement already satisfied: jinja2 in /usr/local/lib/python3.11/dist-packages (from torch==2.6.0->torchvision) (3.1.6)\n",
            "Requirement already satisfied: fsspec in /usr/local/lib/python3.11/dist-packages (from torch==2.6.0->torchvision) (2025.3.2)\n",
            "Requirement already satisfied: nvidia-cuda-nvrtc-cu12==12.4.127 in /usr/local/lib/python3.11/dist-packages (from torch==2.6.0->torchvision) (12.4.127)\n",
            "Requirement already satisfied: nvidia-cuda-runtime-cu12==12.4.127 in /usr/local/lib/python3.11/dist-packages (from torch==2.6.0->torchvision) (12.4.127)\n",
            "Requirement already satisfied: nvidia-cuda-cupti-cu12==12.4.127 in /usr/local/lib/python3.11/dist-packages (from torch==2.6.0->torchvision) (12.4.127)\n",
            "Requirement already satisfied: nvidia-cudnn-cu12==9.1.0.70 in /usr/local/lib/python3.11/dist-packages (from torch==2.6.0->torchvision) (9.1.0.70)\n",
            "Requirement already satisfied: nvidia-cublas-cu12==12.4.5.8 in /usr/local/lib/python3.11/dist-packages (from torch==2.6.0->torchvision) (12.4.5.8)\n",
            "Requirement already satisfied: nvidia-cufft-cu12==11.2.1.3 in /usr/local/lib/python3.11/dist-packages (from torch==2.6.0->torchvision) (11.2.1.3)\n",
            "Requirement already satisfied: nvidia-curand-cu12==10.3.5.147 in /usr/local/lib/python3.11/dist-packages (from torch==2.6.0->torchvision) (10.3.5.147)\n",
            "Requirement already satisfied: nvidia-cusolver-cu12==11.6.1.9 in /usr/local/lib/python3.11/dist-packages (from torch==2.6.0->torchvision) (11.6.1.9)\n",
            "Requirement already satisfied: nvidia-cusparse-cu12==12.3.1.170 in /usr/local/lib/python3.11/dist-packages (from torch==2.6.0->torchvision) (12.3.1.170)\n",
            "Requirement already satisfied: nvidia-cusparselt-cu12==0.6.2 in /usr/local/lib/python3.11/dist-packages (from torch==2.6.0->torchvision) (0.6.2)\n",
            "Requirement already satisfied: nvidia-nccl-cu12==2.21.5 in /usr/local/lib/python3.11/dist-packages (from torch==2.6.0->torchvision) (2.21.5)\n",
            "Requirement already satisfied: nvidia-nvtx-cu12==12.4.127 in /usr/local/lib/python3.11/dist-packages (from torch==2.6.0->torchvision) (12.4.127)\n",
            "Requirement already satisfied: nvidia-nvjitlink-cu12==12.4.127 in /usr/local/lib/python3.11/dist-packages (from torch==2.6.0->torchvision) (12.4.127)\n",
            "Requirement already satisfied: triton==3.2.0 in /usr/local/lib/python3.11/dist-packages (from torch==2.6.0->torchvision) (3.2.0)\n",
            "Requirement already satisfied: sympy==1.13.1 in /usr/local/lib/python3.11/dist-packages (from torch==2.6.0->torchvision) (1.13.1)\n",
            "Requirement already satisfied: mpmath<1.4,>=1.1.0 in /usr/local/lib/python3.11/dist-packages (from sympy==1.13.1->torch==2.6.0->torchvision) (1.3.0)\n",
            "Requirement already satisfied: MarkupSafe>=2.0 in /usr/local/lib/python3.11/dist-packages (from jinja2->torch==2.6.0->torchvision) (3.0.2)\n",
            "Looking in links: https://data.pyg.org/whl/torch-2.6.0+cu124.html\n",
            "Requirement already satisfied: pyg_lib in /usr/local/lib/python3.11/dist-packages (0.4.0+pt26cu124)\n",
            "Requirement already satisfied: torch_scatter in /usr/local/lib/python3.11/dist-packages (2.1.2+pt26cu124)\n",
            "Requirement already satisfied: torch_sparse in /usr/local/lib/python3.11/dist-packages (0.6.18+pt26cu124)\n",
            "Requirement already satisfied: torch_cluster in /usr/local/lib/python3.11/dist-packages (1.6.3+pt26cu124)\n",
            "Requirement already satisfied: torch_spline_conv in /usr/local/lib/python3.11/dist-packages (1.2.2+pt26cu124)\n",
            "Requirement already satisfied: scipy in /usr/local/lib/python3.11/dist-packages (from torch_sparse) (1.15.3)\n",
            "Requirement already satisfied: numpy<2.5,>=1.23.5 in /usr/local/lib/python3.11/dist-packages (from scipy->torch_sparse) (2.0.2)\n"
          ]
        }
      ],
      "source": [
        "!pip install -q git+https://github.com/pyg-team/pytorch_geometric.git\n",
        "!python -c \"import torch; print(torch.__version__)\"\n",
        "!python -c \"import torch; print(torch.version.cuda)\"\n",
        "!pip install torchvision\n",
        "!pip install pyg_lib torch_scatter torch_sparse torch_cluster torch_spline_conv -f https://data.pyg.org/whl/torch-2.6.0+cu124.html\n"
      ]
    },
    {
      "cell_type": "code",
      "source": [
        "!pip install pyg_lib torch_scatter torch_sparse torch_cluster torch_spline_conv -f https://data.pyg.org/whl/torch-2.6.0+cu124.html\n"
      ],
      "metadata": {
        "colab": {
          "base_uri": "https://localhost:8080/"
        },
        "id": "DDqorQ2B_cJa",
        "outputId": "57f320e8-c283-4c20-eb12-d1f437c162df"
      },
      "execution_count": 2,
      "outputs": [
        {
          "output_type": "stream",
          "name": "stdout",
          "text": [
            "Looking in links: https://data.pyg.org/whl/torch-2.6.0+cu124.html\n",
            "Requirement already satisfied: pyg_lib in /usr/local/lib/python3.11/dist-packages (0.4.0+pt26cu124)\n",
            "Requirement already satisfied: torch_scatter in /usr/local/lib/python3.11/dist-packages (2.1.2+pt26cu124)\n",
            "Requirement already satisfied: torch_sparse in /usr/local/lib/python3.11/dist-packages (0.6.18+pt26cu124)\n",
            "Requirement already satisfied: torch_cluster in /usr/local/lib/python3.11/dist-packages (1.6.3+pt26cu124)\n",
            "Requirement already satisfied: torch_spline_conv in /usr/local/lib/python3.11/dist-packages (1.2.2+pt26cu124)\n",
            "Requirement already satisfied: scipy in /usr/local/lib/python3.11/dist-packages (from torch_sparse) (1.15.3)\n",
            "Requirement already satisfied: numpy<2.5,>=1.23.5 in /usr/local/lib/python3.11/dist-packages (from scipy->torch_sparse) (2.0.2)\n"
          ]
        }
      ]
    },
    {
      "cell_type": "code",
      "source": [
        "import torch\n",
        "import torch.nn as nn\n",
        "import torch.nn.functional as F\n",
        "import numpy as np\n",
        "import scipy.sparse as sp\n",
        "from torch_geometric.datasets import Planetoid, Amazon\n",
        "from torch_geometric.transforms import NormalizeFeatures, RandomNodeSplit\n",
        "import torch_geometric.transforms as T\n",
        "from torch_geometric.utils import to_scipy_sparse_matrix\n",
        "from sklearn.metrics import accuracy_score\n",
        "import random\n",
        "from sklearn.metrics import f1_score\n",
        "import json,time\n",
        "import gc\n",
        "from sklearn.preprocessing import LabelEncoder\n"
      ],
      "metadata": {
        "id": "nPHw6xV4-w4B"
      },
      "execution_count": 3,
      "outputs": []
    },
    {
      "cell_type": "code",
      "source": [
        "def clean_gpu_memory():\n",
        "    \"\"\"Cleans GPU memory without fully resetting the CUDA context\"\"\"\n",
        "    import gc\n",
        "    gc.collect()  # Python garbage collection\n",
        "    if torch.cuda.is_available():\n",
        "        torch.cuda.empty_cache()  # PyTorch cache\n",
        "        torch.cuda.reset_peak_memory_stats()  # Reset tracking\n",
        "        print(f\"Memory after cleanup: {torch.cuda.memory_allocated()/1024**2:.2f} MB\")\n"
      ],
      "metadata": {
        "id": "6PnI4iSN7k3r"
      },
      "execution_count": 4,
      "outputs": []
    },
    {
      "cell_type": "code",
      "source": [
        "clean_gpu_memory()"
      ],
      "metadata": {
        "colab": {
          "base_uri": "https://localhost:8080/"
        },
        "id": "OJqD_ARj_ZgH",
        "outputId": "f3f000d5-22fa-4864-d29c-7fa27830c010"
      },
      "execution_count": 5,
      "outputs": [
        {
          "output_type": "stream",
          "name": "stdout",
          "text": [
            "Memory after cleanup: 0.00 MB\n"
          ]
        }
      ]
    },
    {
      "cell_type": "code",
      "source": [
        "\n",
        "\n",
        "# Ensure reproducibility\n",
        "def seed_everything(seed=42):\n",
        "    torch.manual_seed(seed)\n",
        "    np.random.seed(seed)\n",
        "    random.seed(seed)\n",
        "\n",
        "seed_everything()\n",
        "\n",
        "device = torch.device('cuda' if torch.cuda.is_available() else 'cpu')\n",
        "def estimate_ladies_memory_MB(K, L, slayer):\n",
        "    bytes_per_float = 4  # float32\n",
        "    total_floats = L * K * slayer + L * K * K\n",
        "    total_bytes = total_floats * bytes_per_float\n",
        "    return total_bytes / (1024 ** 2)\n",
        "\n",
        "# ------------------- Load Dataset -------------------\n",
        "def dataset_load():\n",
        "    print(f\"Using device: {device}\")\n",
        "    dataset = Planetoid(root='data/Planetoid', name='PubMed', transform=NormalizeFeatures())\n",
        "    data = dataset[0].to(device)\n",
        "    return dataset.num_features, data, dataset.num_classes\n",
        "\n",
        "num_features, data, num_classes = dataset_load()\n",
        "\n",
        "# ------------------- Prepare Adjacency -------------------\n",
        "adj = to_scipy_sparse_matrix(data.edge_index, num_nodes=data.num_nodes)\n",
        "lap_matrix = adj + sp.eye(adj.shape[0])\n",
        "\n",
        "def row_normalize(mx):\n",
        "    rowsum = np.array(mx.sum(1)).flatten()\n",
        "    rowsum[rowsum == 0] = 1  # Avoid division by zero\n",
        "    r_inv = np.power(rowsum, -1)\n",
        "    r_mat_inv = sp.diags(r_inv)\n",
        "    return r_mat_inv.dot(mx)\n",
        "\n",
        "\n",
        "lap_matrix = row_normalize(lap_matrix)\n",
        "\n",
        "# ------------------- Sampler -------------------\n",
        "def sparse_mx_to_torch_sparse_tensor(sparse_mx):\n",
        "    \"\"\"Convert scipy sparse matrix to torch sparse tensor\"\"\"\n",
        "    sparse_mx = sparse_mx.tocoo().astype(np.float32)\n",
        "    indices = torch.from_numpy(np.vstack((sparse_mx.row, sparse_mx.col)).astype(np.int64))\n",
        "    values = torch.from_numpy(sparse_mx.data)\n",
        "    shape = torch.Size(sparse_mx.shape)\n",
        "    return torch.sparse_coo_tensor(indices, values, shape, device=device)\n",
        "def evaluate(model, features, adjs, labels, nodes):\n",
        "    model.eval()\n",
        "    with torch.no_grad():\n",
        "        out = model(features, adjs)\n",
        "        preds = out[nodes].argmax(dim=1).cpu()\n",
        "        targets = labels[nodes].cpu()\n",
        "\n",
        "        acc = (preds == targets).float().mean().item()\n",
        "        f1_micro = f1_score(targets, preds, average='micro')\n",
        "\n",
        "    return acc, f1_micro\n",
        "\n",
        "def ladies_sampler(seed, batch_nodes, samp_num_list, num_nodes, lap_matrix, depth):\n",
        "    np.random.seed(seed)\n",
        "    previous_nodes = batch_nodes.cpu().numpy()\n",
        "    adjs = []\n",
        "    for d in range(depth):\n",
        "        U = lap_matrix[previous_nodes, :]\n",
        "        pi = np.array(np.sum(U.multiply(U), axis=0))[0]\n",
        "        p = pi / np.sum(pi)\n",
        "        s_num = np.min([np.sum(p > 0), samp_num_list[d]])\n",
        "        after_nodes = np.random.choice(num_nodes, s_num, p=p, replace=False)\n",
        "        after_nodes = np.unique(np.concatenate((after_nodes, batch_nodes.cpu().numpy())))\n",
        "        adj = U[:, after_nodes].multiply(1 / p[after_nodes])\n",
        "        adj = row_normalize(adj)\n",
        "        adjs.append(sparse_mx_to_torch_sparse_tensor(adj))\n",
        "        previous_nodes = after_nodes\n",
        "    adjs.reverse()\n",
        "    return adjs, torch.tensor(previous_nodes, device=device), batch_nodes\n",
        "\n",
        "# ------------------- Model -------------------\n",
        "class GCN(nn.Module):\n",
        "    def __init__(self, in_channels, hidden_channels, out_channels, num_layers):\n",
        "        super().__init__()\n",
        "        self.convs = nn.ModuleList()\n",
        "        self.convs.append(nn.Linear(in_channels, hidden_channels))\n",
        "        for _ in range(num_layers - 2):\n",
        "            self.convs.append(nn.Linear(hidden_channels, hidden_channels))\n",
        "        self.convs.append(nn.Linear(hidden_channels, out_channels))\n",
        "\n",
        "    def forward(self, x, adjs):\n",
        "        for i, (conv, adj) in enumerate(zip(self.convs[:-1], adjs)):\n",
        "            x = conv(x)\n",
        "            x = torch.sparse.mm(adj, x)\n",
        "            x = F.relu(x)\n",
        "        x = self.convs[-1](x)\n",
        "        return x\n",
        "\n",
        "# ------------------- Training -------------------\n",
        "model = GCN(num_features, 64, num_classes, num_layers=2).to(device)\n",
        "optimizer = torch.optim.Adam(model.parameters(), lr=0.01)\n",
        "criterion = nn.CrossEntropyLoss()\n",
        "\n",
        "train_nodes = torch.where(data.train_mask)[0]\n",
        "valid_nodes = torch.where(data.val_mask)[0]\n",
        "labels = data.y\n",
        "features = data.x\n",
        "batch_size = 128\n",
        "samp_num_list = [64, 64]\n",
        "depth = len(samp_num_list)\n",
        "start_time = time.time()\n",
        "\n",
        "for epoch in range(1, 101):\n",
        "    model.train()\n",
        "    optimizer.zero_grad()\n",
        "\n",
        "    idx = torch.randperm(train_nodes.size(0), device=device)[:batch_size]\n",
        "    batch_nodes = train_nodes[idx]\n",
        "\n",
        "    adjs, input_nodes, output_nodes = ladies_sampler(\n",
        "        seed=np.random.randint(0, 100000),\n",
        "        batch_nodes=batch_nodes,\n",
        "        samp_num_list=samp_num_list,\n",
        "        num_nodes=data.num_nodes,\n",
        "        lap_matrix=lap_matrix,\n",
        "        depth=depth\n",
        "    )\n",
        "\n",
        "    out = model(features[input_nodes], adjs)\n",
        "    loss = criterion(out[output_nodes], labels[output_nodes])\n",
        "\n",
        "    loss.backward()\n",
        "    optimizer.step()\n",
        "\n",
        "    if epoch % 10 == 0:\n",
        "        full_adj = sparse_mx_to_torch_sparse_tensor(row_normalize(adj + sp.eye(adj.shape[0])))\n",
        "        acc, f1_micro = evaluate(model, features, [full_adj]*depth, labels, valid_nodes)\n",
        "        print(f\"Epoch {epoch:03d} | Loss: {loss:.4f} | Val Acc: {acc:.4f} | F1-micro: {f1_micro:.4f}\")\n",
        "\n",
        "\n",
        "end_time = time.time()\n",
        "test_nodes = torch.where(data.test_mask)[0]\n",
        "full_adj = sparse_mx_to_torch_sparse_tensor(row_normalize(adj + sp.eye(adj.shape[0])))\n",
        "test_acc, test_f1 = evaluate(model, features, [full_adj]*depth, labels, test_nodes)\n",
        "\n",
        "print(f\"Test Accuracy: {test_acc:.4f} | Test F1-micro: {test_f1:.4f}\")\n",
        "\n",
        "# LADIES theoretical memory\n",
        "K = 64         # hidden dimension\n",
        "L = 2          # number of layers\n",
        "slayer = 64    # number of sampled nodes per layer\n",
        "mem_MB = estimate_ladies_memory_MB(K, L, slayer)\n",
        "\n",
        "print(f\"Theoretical LADIES memory usage: {mem_MB:.2f} MB (embedding + transformation weights)\")\n",
        "\n",
        "print(f\"Training time: {end_time - start_time:.2f} seconds\")\n",
        "\n",
        "# ------------------- GPU Usage -------------------\n",
        "print(f\"GPU memory allocated: {torch.cuda.memory_allocated()/1024**2:.2f} MB\")\n",
        "print(f\"Max GPU memory used:  {torch.cuda.max_memory_allocated()/1024**2:.2f} MB\")\n"
      ],
      "metadata": {
        "colab": {
          "base_uri": "https://localhost:8080/"
        },
        "id": "PMQ0aYykE-it",
        "outputId": "79bb366d-c1ff-4474-c785-7335a25d8a20"
      },
      "execution_count": 6,
      "outputs": [
        {
          "output_type": "stream",
          "name": "stdout",
          "text": [
            "Using device: cuda\n",
            "Epoch 010 | Loss: 0.9537 | Val Acc: 0.7080 | F1-micro: 0.7080\n",
            "Epoch 020 | Loss: 0.6219 | Val Acc: 0.7440 | F1-micro: 0.7440\n",
            "Epoch 030 | Loss: 0.2689 | Val Acc: 0.7600 | F1-micro: 0.7600\n",
            "Epoch 040 | Loss: 0.1102 | Val Acc: 0.7660 | F1-micro: 0.7660\n",
            "Epoch 050 | Loss: 0.0542 | Val Acc: 0.7580 | F1-micro: 0.7580\n",
            "Epoch 060 | Loss: 0.0345 | Val Acc: 0.7560 | F1-micro: 0.7560\n",
            "Epoch 070 | Loss: 0.0155 | Val Acc: 0.7700 | F1-micro: 0.7700\n",
            "Epoch 080 | Loss: 0.0173 | Val Acc: 0.7540 | F1-micro: 0.7540\n",
            "Epoch 090 | Loss: 0.0102 | Val Acc: 0.7620 | F1-micro: 0.7620\n",
            "Epoch 100 | Loss: 0.0079 | Val Acc: 0.7700 | F1-micro: 0.7700\n",
            "Test Accuracy: 0.7450 | Test F1-micro: 0.7450\n",
            "Theoretical LADIES memory usage: 0.06 MB (embedding + transformation weights)\n",
            "Training time: 2.03 seconds\n",
            "GPU memory allocated: 59.14 MB\n",
            "Max GPU memory used:  80.96 MB\n"
          ]
        }
      ]
    },
    {
      "cell_type": "code",
      "source": [
        "peak_memory_mb=f\"{torch.cuda.max_memory_allocated()/1024**2:.2f}\"\n",
        "total_train_time=f\"{end_time - start_time:.2f}\"\n",
        "\n",
        "metrics = {\n",
        "    \"model\": \"Ladies\",\n",
        "    \"accuracy\": test_acc,\n",
        "    \"f1_micro\":f1_micro,\n",
        "    \"peak_memory_MB\": peak_memory_mb,\n",
        "    \"train_time_sec\": total_train_time,\n",
        "    \"mem_MB\":mem_MB\n",
        "}\n",
        "\n",
        "with open(\"Ladies_pubmed_results.json\", \"w\") as f:\n",
        "    json.dump(metrics, f)"
      ],
      "metadata": {
        "id": "sq7-ArWa5Hty"
      },
      "execution_count": 7,
      "outputs": []
    },
    {
      "cell_type": "markdown",
      "source": [
        "**Cora**"
      ],
      "metadata": {
        "id": "KqxWp-2z7bgO"
      }
    },
    {
      "cell_type": "code",
      "source": [
        "clean_gpu_memory()\n",
        "def dataset_load():\n",
        "    print(f\"Using device: {device}\")\n",
        "    dataset = Planetoid(root='data/Planetoid', name='Cora', transform=NormalizeFeatures())\n",
        "    data = dataset[0].to(device)\n",
        "    return dataset.num_features, data, dataset.num_classes\n",
        "\n",
        "num_features, data, num_classes = dataset_load()\n",
        "adj = to_scipy_sparse_matrix(data.edge_index, num_nodes=data.num_nodes)\n",
        "lap_matrix = adj + sp.eye(adj.shape[0])\n",
        "lap_matrix = row_normalize(lap_matrix)\n",
        "model = GCN(num_features, 64, num_classes, num_layers=2).to(device)\n",
        "optimizer = torch.optim.Adam(model.parameters(), lr=0.01)\n",
        "criterion = nn.CrossEntropyLoss()\n",
        "\n",
        "train_nodes = torch.where(data.train_mask)[0]\n",
        "valid_nodes = torch.where(data.val_mask)[0]\n",
        "labels = data.y\n",
        "features = data.x\n",
        "batch_size = 128\n",
        "samp_num_list = [64, 64]\n",
        "depth = len(samp_num_list)\n",
        "start_time = time.time()\n",
        "\n",
        "for epoch in range(1, 101):\n",
        "    model.train()\n",
        "    optimizer.zero_grad()\n",
        "\n",
        "    idx = torch.randperm(train_nodes.size(0), device=device)[:batch_size]\n",
        "    batch_nodes = train_nodes[idx]\n",
        "\n",
        "    adjs, input_nodes, output_nodes = ladies_sampler(\n",
        "        seed=np.random.randint(0, 100000),\n",
        "        batch_nodes=batch_nodes,\n",
        "        samp_num_list=samp_num_list,\n",
        "        num_nodes=data.num_nodes,\n",
        "        lap_matrix=lap_matrix,\n",
        "        depth=depth\n",
        "    )\n",
        "\n",
        "    out = model(features[input_nodes], adjs)\n",
        "    loss = criterion(out[output_nodes], labels[output_nodes])\n",
        "\n",
        "    loss.backward()\n",
        "    optimizer.step()\n",
        "\n",
        "    if epoch % 10 == 0:\n",
        "        full_adj = sparse_mx_to_torch_sparse_tensor(row_normalize(adj + sp.eye(adj.shape[0])))\n",
        "        acc, f1_micro = evaluate(model, features, [full_adj]*depth, labels, valid_nodes)\n",
        "        print(f\"Epoch {epoch:03d} | Loss: {loss:.4f} | Val Acc: {acc:.4f} | F1-micro: {f1_micro:.4f}\")\n",
        "\n",
        "\n",
        "end_time = time.time()\n",
        "test_nodes = torch.where(data.test_mask)[0]\n",
        "full_adj = sparse_mx_to_torch_sparse_tensor(row_normalize(adj + sp.eye(adj.shape[0])))\n",
        "test_acc, test_f1 = evaluate(model, features, [full_adj]*depth, labels, test_nodes)\n",
        "\n",
        "print(f\"Test Accuracy: {test_acc:.4f} | Test F1-micro: {test_f1:.4f}\")\n",
        "\n",
        "# LADIES theoretical memory\n",
        "K = 64         # hidden dimension\n",
        "L = 2          # number of layers\n",
        "slayer = 64    # number of sampled nodes per layer\n",
        "mem_MB = estimate_ladies_memory_MB(K, L, slayer)\n",
        "\n",
        "print(f\"Theoretical LADIES memory usage: {mem_MB:.2f} MB (embedding + transformation weights)\")\n",
        "\n",
        "print(f\"Training time: {end_time - start_time:.2f} seconds\")\n",
        "\n",
        "# ------------------- GPU Usage -------------------\n",
        "print(f\"GPU memory allocated: {torch.cuda.memory_allocated()/1024**2:.2f} MB\")\n",
        "print(f\"Max GPU memory used:  {torch.cuda.max_memory_allocated()/1024**2:.2f} MB\")\n"
      ],
      "metadata": {
        "colab": {
          "base_uri": "https://localhost:8080/"
        },
        "id": "lYeRKAjw7fkf",
        "outputId": "468fbf22-46f8-4a65-b6ac-70b110950037"
      },
      "execution_count": 8,
      "outputs": [
        {
          "output_type": "stream",
          "name": "stdout",
          "text": [
            "Memory after cleanup: 59.14 MB\n",
            "Using device: cuda\n",
            "Epoch 010 | Loss: 1.9201 | Val Acc: 0.3540 | F1-micro: 0.3540\n",
            "Epoch 020 | Loss: 1.8112 | Val Acc: 0.3320 | F1-micro: 0.3320\n",
            "Epoch 030 | Loss: 1.7370 | Val Acc: 0.3460 | F1-micro: 0.3460\n",
            "Epoch 040 | Loss: 1.6298 | Val Acc: 0.2460 | F1-micro: 0.2460\n",
            "Epoch 050 | Loss: 1.5298 | Val Acc: 0.2880 | F1-micro: 0.2880\n",
            "Epoch 060 | Loss: 1.4164 | Val Acc: 0.2760 | F1-micro: 0.2760\n",
            "Epoch 070 | Loss: 1.3651 | Val Acc: 0.2340 | F1-micro: 0.2340\n",
            "Epoch 080 | Loss: 1.2404 | Val Acc: 0.2820 | F1-micro: 0.2820\n",
            "Epoch 090 | Loss: 1.2279 | Val Acc: 0.2420 | F1-micro: 0.2420\n",
            "Epoch 100 | Loss: 1.2857 | Val Acc: 0.2060 | F1-micro: 0.2060\n",
            "Test Accuracy: 0.2380 | Test F1-micro: 0.2380\n",
            "Theoretical LADIES memory usage: 0.06 MB (embedding + transformation weights)\n",
            "Training time: 1.31 seconds\n",
            "GPU memory allocated: 33.23 MB\n",
            "Max GPU memory used:  74.13 MB\n"
          ]
        }
      ]
    },
    {
      "cell_type": "code",
      "source": [
        "peak_memory_mb=f\"{torch.cuda.max_memory_allocated()/1024**2:.2f}\"\n",
        "total_train_time=f\"{end_time - start_time:.2f}\"\n",
        "\n",
        "metrics = {\n",
        "    \"model\": \"Ladies\",\n",
        "    \"accuracy\": test_acc,\n",
        "    \"f1_micro\":f1_micro,\n",
        "    \"peak_memory_MB\": peak_memory_mb,\n",
        "    \"train_time_sec\": total_train_time,\n",
        "    \"mem_MB\":mem_MB\n",
        "}\n",
        "\n",
        "with open(\"Ladies_cora_results.json\", \"w\") as f:\n",
        "    json.dump(metrics, f)"
      ],
      "metadata": {
        "id": "9GYbgx3r8PNA"
      },
      "execution_count": 9,
      "outputs": []
    },
    {
      "cell_type": "markdown",
      "source": [
        "**Citeser**"
      ],
      "metadata": {
        "id": "0WUyOoJF8Z9t"
      }
    },
    {
      "cell_type": "code",
      "source": [
        "clean_gpu_memory()\n",
        "def dataset_load():\n",
        "    print(f\"Using device: {device}\")\n",
        "    dataset = Planetoid(root='data/Planetoid', name='CiteSeer', transform=NormalizeFeatures())\n",
        "    data = dataset[0].to(device)\n",
        "    return dataset.num_features, data, dataset.num_classes\n",
        "\n",
        "num_features, data, num_classes = dataset_load()\n",
        "adj = to_scipy_sparse_matrix(data.edge_index, num_nodes=data.num_nodes)\n",
        "lap_matrix = adj + sp.eye(adj.shape[0])\n",
        "lap_matrix = row_normalize(lap_matrix)\n",
        "model = GCN(num_features, 64, num_classes, num_layers=2).to(device)\n",
        "optimizer = torch.optim.Adam(model.parameters(), lr=0.01)\n",
        "criterion = nn.CrossEntropyLoss()\n",
        "\n",
        "train_nodes = torch.where(data.train_mask)[0]\n",
        "valid_nodes = torch.where(data.val_mask)[0]\n",
        "labels = data.y\n",
        "features = data.x\n",
        "batch_size = 128\n",
        "samp_num_list = [64, 64]\n",
        "depth = len(samp_num_list)\n",
        "start_time = time.time()\n",
        "\n",
        "for epoch in range(1, 101):\n",
        "    model.train()\n",
        "    optimizer.zero_grad()\n",
        "\n",
        "    idx = torch.randperm(train_nodes.size(0), device=device)[:batch_size]\n",
        "    batch_nodes = train_nodes[idx]\n",
        "\n",
        "    adjs, input_nodes, output_nodes = ladies_sampler(\n",
        "        seed=np.random.randint(0, 100000),\n",
        "        batch_nodes=batch_nodes,\n",
        "        samp_num_list=samp_num_list,\n",
        "        num_nodes=data.num_nodes,\n",
        "        lap_matrix=lap_matrix,\n",
        "        depth=depth\n",
        "    )\n",
        "\n",
        "    out = model(features[input_nodes], adjs)\n",
        "    loss = criterion(out[output_nodes], labels[output_nodes])\n",
        "\n",
        "    loss.backward()\n",
        "    optimizer.step()\n",
        "\n",
        "    if epoch % 10 == 0:\n",
        "        full_adj = sparse_mx_to_torch_sparse_tensor(row_normalize(adj + sp.eye(adj.shape[0])))\n",
        "        acc, f1_micro = evaluate(model, features, [full_adj]*depth, labels, valid_nodes)\n",
        "        print(f\"Epoch {epoch:03d} | Loss: {loss:.4f} | Val Acc: {acc:.4f} | F1-micro: {f1_micro:.4f}\")\n",
        "\n",
        "\n",
        "end_time = time.time()\n",
        "test_nodes = torch.where(data.test_mask)[0]\n",
        "full_adj = sparse_mx_to_torch_sparse_tensor(row_normalize(adj + sp.eye(adj.shape[0])))\n",
        "test_acc, test_f1 = evaluate(model, features, [full_adj]*depth, labels, test_nodes)\n",
        "\n",
        "print(f\"Test Accuracy: {test_acc:.4f} | Test F1-micro: {test_f1:.4f}\")\n",
        "\n",
        "# LADIES theoretical memory\n",
        "K = 64         # hidden dimension\n",
        "L = 2          # number of layers\n",
        "slayer = 64    # number of sampled nodes per layer\n",
        "mem_MB = estimate_ladies_memory_MB(K, L, slayer)\n",
        "\n",
        "print(f\"Theoretical LADIES memory usage: {mem_MB:.2f} MB (embedding + transformation weights)\")\n",
        "\n",
        "print(f\"Training time: {end_time - start_time:.2f} seconds\")\n",
        "\n",
        "# ------------------- GPU Usage -------------------\n",
        "print(f\"GPU memory allocated: {torch.cuda.memory_allocated()/1024**2:.2f} MB\")\n",
        "print(f\"Max GPU memory used:  {torch.cuda.max_memory_allocated()/1024**2:.2f} MB\")\n"
      ],
      "metadata": {
        "colab": {
          "base_uri": "https://localhost:8080/"
        },
        "id": "fbM-R9tN8d5d",
        "outputId": "ce3d1f2b-3696-4397-f956-b72bb31e6324"
      },
      "execution_count": 10,
      "outputs": [
        {
          "output_type": "stream",
          "name": "stdout",
          "text": [
            "Memory after cleanup: 32.94 MB\n",
            "Using device: cuda\n",
            "Epoch 010 | Loss: 1.6401 | Val Acc: 0.4960 | F1-micro: 0.4960\n",
            "Epoch 020 | Loss: 1.1947 | Val Acc: 0.5660 | F1-micro: 0.5660\n",
            "Epoch 030 | Loss: 0.6185 | Val Acc: 0.5860 | F1-micro: 0.5860\n",
            "Epoch 040 | Loss: 0.2521 | Val Acc: 0.6100 | F1-micro: 0.6100\n",
            "Epoch 050 | Loss: 0.1264 | Val Acc: 0.5960 | F1-micro: 0.5960\n",
            "Epoch 060 | Loss: 0.0935 | Val Acc: 0.6160 | F1-micro: 0.6160\n",
            "Epoch 070 | Loss: 0.0679 | Val Acc: 0.6300 | F1-micro: 0.6300\n",
            "Epoch 080 | Loss: 0.0593 | Val Acc: 0.6260 | F1-micro: 0.6260\n",
            "Epoch 090 | Loss: 0.0573 | Val Acc: 0.6240 | F1-micro: 0.6240\n",
            "Epoch 100 | Loss: 0.0594 | Val Acc: 0.6220 | F1-micro: 0.6220\n",
            "Test Accuracy: 0.6340 | Test F1-micro: 0.6340\n",
            "Theoretical LADIES memory usage: 0.06 MB (embedding + transformation weights)\n",
            "Training time: 1.47 seconds\n",
            "GPU memory allocated: 67.58 MB\n",
            "Max GPU memory used:  87.55 MB\n"
          ]
        }
      ]
    },
    {
      "cell_type": "code",
      "source": [
        "peak_memory_mb=f\"{torch.cuda.max_memory_allocated()/1024**2:.2f}\"\n",
        "total_train_time=f\"{end_time - start_time:.2f}\"\n",
        "\n",
        "metrics = {\n",
        "    \"model\": \"Ladies\",\n",
        "    \"accuracy\": test_acc,\n",
        "    \"f1_micro\":f1_micro,\n",
        "    \"peak_memory_MB\": peak_memory_mb,\n",
        "    \"train_time_sec\": total_train_time,\n",
        "    \"mem_MB\":mem_MB\n",
        "}\n",
        "\n",
        "with open(\"Ladies_citeser_results.json\", \"w\") as f:\n",
        "    json.dump(metrics, f)"
      ],
      "metadata": {
        "id": "2x6He7no8meh"
      },
      "execution_count": 11,
      "outputs": []
    },
    {
      "cell_type": "markdown",
      "source": [
        "**Amazon dataset**"
      ],
      "metadata": {
        "id": "qB5NUpJd8wCT"
      }
    },
    {
      "cell_type": "code",
      "source": [
        "clean_gpu_memory()\n"
      ],
      "metadata": {
        "colab": {
          "base_uri": "https://localhost:8080/"
        },
        "id": "Lmw7b6C8DbTf",
        "outputId": "a78cdc3a-c05b-4b17-c250-724d48c5df3f"
      },
      "execution_count": 12,
      "outputs": [
        {
          "output_type": "stream",
          "name": "stdout",
          "text": [
            "Memory after cleanup: 67.58 MB\n"
          ]
        }
      ]
    },
    {
      "cell_type": "code",
      "source": [
        "# ---------- Stratified train/val/test split ----------\n",
        "def stratified_split(data, train_ratio=0.6, val_ratio=0.2, seed=42):\n",
        "    y = data.y.cpu().numpy()\n",
        "    idx = np.arange(len(y))\n",
        "    train_idx, temp_idx = train_test_split(\n",
        "        idx, stratify=y, train_size=train_ratio, random_state=seed)\n",
        "    val_idx, test_idx = train_test_split(\n",
        "        temp_idx, stratify=y[temp_idx], test_size=0.5, random_state=seed)\n",
        "\n",
        "    data.train_mask = torch.zeros(len(y), dtype=torch.bool)\n",
        "    data.val_mask   = torch.zeros(len(y), dtype=torch.bool)\n",
        "    data.test_mask  = torch.zeros(len(y), dtype=torch.bool)\n",
        "    data.train_mask[train_idx] = True\n",
        "    data.val_mask[val_idx]     = True\n",
        "    data.test_mask[test_idx]   = True\n",
        "    return data\n",
        "\n",
        "dataset = Amazon(root='data/Amazon', name='Computers', transform=NormalizeFeatures())\n",
        "data    = dataset[0]\n",
        "data    = stratified_split(data)        # create masks\n",
        "data    = data.to(device)\n",
        "num_features, num_classes = dataset.num_features, dataset.num_classes\n",
        "print(f'Nodes: {data.num_nodes:,}  Edges: {data.edge_index.size(1):,}  Classes: {num_classes}')\n",
        "\n",
        "# ───────────────────────────────────────────────────────────────\n",
        "#  2. PREPARE LAPLACIAN FOR SAMPLER\n",
        "# ───────────────────────────────────────────────────────────────\n",
        "adj        = to_scipy_sparse_matrix(data.edge_index, num_nodes=data.num_nodes)\n",
        "lap_matrix = row_normalize(adj + sp.eye(adj.shape[0]))   # A + I then D^‑1 (row‑norm)\n",
        "\n",
        "# ───────────────────────────────────────────────────────────────\n",
        "#  3. TRAIN\n",
        "# ───────────────────────────────────────────────────────────────\n",
        "depth          = 2\n",
        "samp_num_list  = [64, 64]\n",
        "batch_size     = 128\n",
        "model          = GCN(num_features, 64, num_classes).to(device)\n",
        "optimizer      = torch.optim.Adam(model.parameters(), lr=0.01)\n",
        "criterion      = nn.CrossEntropyLoss()\n",
        "\n",
        "features = data.x\n",
        "labels   = data.y\n",
        "train_nodes = torch.where(data.train_mask)[0].to(device)\n",
        "val_nodes   = torch.where(data.val_mask)[0].to(device)\n",
        "\n",
        "# Sanity: labels must be in [0, num_classes-1]\n",
        "assert int(labels.max()) < num_classes\n",
        "\n",
        "for epoch in range(1, 101):\n",
        "    model.train()\n",
        "    optimizer.zero_grad()\n",
        "\n",
        "    idx         = torch.randperm(train_nodes.size(0), device=device)[:batch_size]\n",
        "    batch_nodes = train_nodes[idx]\n",
        "\n",
        "    adjs, input_nodes = ladies_sampler(\n",
        "        seed=np.random.randint(1_000_000),\n",
        "        batch_nodes=batch_nodes,\n",
        "        samp_num_list=samp_num_list,\n",
        "        num_nodes=data.num_nodes,\n",
        "        lap_matrix=lap_matrix,\n",
        "        depth=depth\n",
        "    )\n",
        "\n",
        "    # ---- map global ► local for output nodes ----\n",
        "    global2local = {nid.item(): i for i, nid in enumerate(input_nodes)}\n",
        "    local_out    = torch.tensor([global2local[n.item()] for n in batch_nodes],\n",
        "                                device=device, dtype=torch.long)\n",
        "\n",
        "    out  = model(features[input_nodes], adjs)\n",
        "    loss = criterion(out[local_out], labels[batch_nodes])\n",
        "\n",
        "    loss.backward()\n",
        "    optimizer.step()\n",
        "\n",
        "    if epoch % 10 == 0:\n",
        "        model.eval()\n",
        "        with torch.no_grad():\n",
        "            # full adjacency once (row‑norm A+I)\n",
        "            full_adj = sparse_mx_to_torch_sparse_tensor(row_normalize(adj + sp.eye(adj.shape[0])))\n",
        "            outs = model(features, [full_adj]*depth)\n",
        "            preds = outs[val_nodes].argmax(dim=1)\n",
        "            acc   = (preds == labels[val_nodes]).float().mean().item()\n",
        "            f1    = f1_score(labels[val_nodes].cpu(), preds.cpu(), average='micro')\n",
        "        print(f'Epoch {epoch:3d}  |  loss {loss.item():.4f}  '\n",
        "              f'|  val‑acc {acc:.4f}  |  f1 {f1:.4f}')\n",
        "\n",
        "# ───────────────────────────────────────────────────────────────\n",
        "#  4. TEST\n",
        "# ───────────────────────────────────────────────────────────────\n",
        "test_nodes = torch.where(data.test_mask)[0].to(device)\n",
        "full_adj   = sparse_mx_to_torch_sparse_tensor(row_normalize(adj + sp.eye(adj.shape[0])))\n",
        "model.eval()\n",
        "with torch.no_grad():\n",
        "    logits = model(features, [full_adj]*depth)\n",
        "    preds  = logits[test_nodes].argmax(dim=1)\n",
        "    acc    = (preds == labels[test_nodes]).float().mean().item()\n",
        "    f1     = f1_score(labels[test_nodes].cpu(), preds.cpu(), average='micro')\n",
        "print(f'\\nTEST  |  acc {acc:.4f}  |  f1 {f1:.4f}')\n",
        "\n",
        "# ───────────────────────────────────────────────────────────────\n",
        "#  5. GPU MEMORY\n",
        "# ───────────────────────────────────────────────────────────────\n",
        "print(f'\\nGPU allocated  : {torch.cuda.memory_allocated()/1024**2:.1f} MB')\n",
        "print(f'GPU max alloc  : {torch.cuda.max_memory_allocated()/1024**2:.1f} MB')"
      ],
      "metadata": {
        "id": "AYA55eKXMyO9",
        "outputId": "4b62cc03-189e-4734-b732-af29ab2e102e",
        "colab": {
          "base_uri": "https://localhost:8080/",
          "height": 349
        }
      },
      "execution_count": 16,
      "outputs": [
        {
          "output_type": "error",
          "ename": "NameError",
          "evalue": "name 'train_test_split' is not defined",
          "traceback": [
            "\u001b[0;31m---------------------------------------------------------------------------\u001b[0m",
            "\u001b[0;31mNameError\u001b[0m                                 Traceback (most recent call last)",
            "\u001b[0;32m/tmp/ipython-input-16-2531662891.py\u001b[0m in \u001b[0;36m<cell line: 0>\u001b[0;34m()\u001b[0m\n\u001b[1;32m     18\u001b[0m \u001b[0mdataset\u001b[0m \u001b[0;34m=\u001b[0m \u001b[0mAmazon\u001b[0m\u001b[0;34m(\u001b[0m\u001b[0mroot\u001b[0m\u001b[0;34m=\u001b[0m\u001b[0;34m'data/Amazon'\u001b[0m\u001b[0;34m,\u001b[0m \u001b[0mname\u001b[0m\u001b[0;34m=\u001b[0m\u001b[0;34m'Computers'\u001b[0m\u001b[0;34m,\u001b[0m \u001b[0mtransform\u001b[0m\u001b[0;34m=\u001b[0m\u001b[0mNormalizeFeatures\u001b[0m\u001b[0;34m(\u001b[0m\u001b[0;34m)\u001b[0m\u001b[0;34m)\u001b[0m\u001b[0;34m\u001b[0m\u001b[0;34m\u001b[0m\u001b[0m\n\u001b[1;32m     19\u001b[0m \u001b[0mdata\u001b[0m    \u001b[0;34m=\u001b[0m \u001b[0mdataset\u001b[0m\u001b[0;34m[\u001b[0m\u001b[0;36m0\u001b[0m\u001b[0;34m]\u001b[0m\u001b[0;34m\u001b[0m\u001b[0;34m\u001b[0m\u001b[0m\n\u001b[0;32m---> 20\u001b[0;31m \u001b[0mdata\u001b[0m    \u001b[0;34m=\u001b[0m \u001b[0mstratified_split\u001b[0m\u001b[0;34m(\u001b[0m\u001b[0mdata\u001b[0m\u001b[0;34m)\u001b[0m        \u001b[0;31m# create masks\u001b[0m\u001b[0;34m\u001b[0m\u001b[0;34m\u001b[0m\u001b[0m\n\u001b[0m\u001b[1;32m     21\u001b[0m \u001b[0mdata\u001b[0m    \u001b[0;34m=\u001b[0m \u001b[0mdata\u001b[0m\u001b[0;34m.\u001b[0m\u001b[0mto\u001b[0m\u001b[0;34m(\u001b[0m\u001b[0mdevice\u001b[0m\u001b[0;34m)\u001b[0m\u001b[0;34m\u001b[0m\u001b[0;34m\u001b[0m\u001b[0m\n\u001b[1;32m     22\u001b[0m \u001b[0mnum_features\u001b[0m\u001b[0;34m,\u001b[0m \u001b[0mnum_classes\u001b[0m \u001b[0;34m=\u001b[0m \u001b[0mdataset\u001b[0m\u001b[0;34m.\u001b[0m\u001b[0mnum_features\u001b[0m\u001b[0;34m,\u001b[0m \u001b[0mdataset\u001b[0m\u001b[0;34m.\u001b[0m\u001b[0mnum_classes\u001b[0m\u001b[0;34m\u001b[0m\u001b[0;34m\u001b[0m\u001b[0m\n",
            "\u001b[0;32m/tmp/ipython-input-16-2531662891.py\u001b[0m in \u001b[0;36mstratified_split\u001b[0;34m(data, train_ratio, val_ratio, seed)\u001b[0m\n\u001b[1;32m      3\u001b[0m     \u001b[0my\u001b[0m \u001b[0;34m=\u001b[0m \u001b[0mdata\u001b[0m\u001b[0;34m.\u001b[0m\u001b[0my\u001b[0m\u001b[0;34m.\u001b[0m\u001b[0mcpu\u001b[0m\u001b[0;34m(\u001b[0m\u001b[0;34m)\u001b[0m\u001b[0;34m.\u001b[0m\u001b[0mnumpy\u001b[0m\u001b[0;34m(\u001b[0m\u001b[0;34m)\u001b[0m\u001b[0;34m\u001b[0m\u001b[0;34m\u001b[0m\u001b[0m\n\u001b[1;32m      4\u001b[0m     \u001b[0midx\u001b[0m \u001b[0;34m=\u001b[0m \u001b[0mnp\u001b[0m\u001b[0;34m.\u001b[0m\u001b[0marange\u001b[0m\u001b[0;34m(\u001b[0m\u001b[0mlen\u001b[0m\u001b[0;34m(\u001b[0m\u001b[0my\u001b[0m\u001b[0;34m)\u001b[0m\u001b[0;34m)\u001b[0m\u001b[0;34m\u001b[0m\u001b[0;34m\u001b[0m\u001b[0m\n\u001b[0;32m----> 5\u001b[0;31m     train_idx, temp_idx = train_test_split(\n\u001b[0m\u001b[1;32m      6\u001b[0m         idx, stratify=y, train_size=train_ratio, random_state=seed)\n\u001b[1;32m      7\u001b[0m     val_idx, test_idx = train_test_split(\n",
            "\u001b[0;31mNameError\u001b[0m: name 'train_test_split' is not defined"
          ]
        }
      ]
    }
  ]
}