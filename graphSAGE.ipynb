{
  "nbformat": 4,
  "nbformat_minor": 0,
  "metadata": {
    "colab": {
      "provenance": [],
      "gpuType": "T4",
      "authorship_tag": "ABX9TyNEbQQpfp0gx980fuZZj7+e",
      "include_colab_link": true
    },
    "kernelspec": {
      "name": "python3",
      "display_name": "Python 3"
    },
    "language_info": {
      "name": "python"
    },
    "accelerator": "GPU"
  },
  "cells": [
    {
      "cell_type": "markdown",
      "metadata": {
        "id": "view-in-github",
        "colab_type": "text"
      },
      "source": [
        "<a href=\"https://colab.research.google.com/github/ghommidhWassim/GNN-variants/blob/main/graphSAGE.ipynb\" target=\"_parent\"><img src=\"https://colab.research.google.com/assets/colab-badge.svg\" alt=\"Open In Colab\"/></a>"
      ]
    },
    {
      "cell_type": "code",
      "execution_count": 1,
      "metadata": {
        "colab": {
          "base_uri": "https://localhost:8080/"
        },
        "id": "bX64VtCLY-Ur",
        "outputId": "a73af6e0-1eb5-409f-9c79-aed31b6e1837"
      },
      "outputs": [
        {
          "output_type": "stream",
          "name": "stdout",
          "text": [
            "  Installing build dependencies ... \u001b[?25l\u001b[?25hdone\n",
            "  Getting requirements to build wheel ... \u001b[?25l\u001b[?25hdone\n",
            "  Preparing metadata (pyproject.toml) ... \u001b[?25l\u001b[?25hdone\n",
            "  Building wheel for torch-geometric (pyproject.toml) ... \u001b[?25l\u001b[?25hdone\n",
            "2.6.0+cu124\n",
            "12.4\n",
            "Requirement already satisfied: torchvision in /usr/local/lib/python3.11/dist-packages (0.21.0+cu124)\n",
            "Requirement already satisfied: numpy in /usr/local/lib/python3.11/dist-packages (from torchvision) (2.0.2)\n",
            "Requirement already satisfied: torch==2.6.0 in /usr/local/lib/python3.11/dist-packages (from torchvision) (2.6.0+cu124)\n",
            "Requirement already satisfied: pillow!=8.3.*,>=5.3.0 in /usr/local/lib/python3.11/dist-packages (from torchvision) (11.2.1)\n",
            "Requirement already satisfied: filelock in /usr/local/lib/python3.11/dist-packages (from torch==2.6.0->torchvision) (3.18.0)\n",
            "Requirement already satisfied: typing-extensions>=4.10.0 in /usr/local/lib/python3.11/dist-packages (from torch==2.6.0->torchvision) (4.14.0)\n",
            "Requirement already satisfied: networkx in /usr/local/lib/python3.11/dist-packages (from torch==2.6.0->torchvision) (3.5)\n",
            "Requirement already satisfied: jinja2 in /usr/local/lib/python3.11/dist-packages (from torch==2.6.0->torchvision) (3.1.6)\n",
            "Requirement already satisfied: fsspec in /usr/local/lib/python3.11/dist-packages (from torch==2.6.0->torchvision) (2025.3.2)\n",
            "Collecting nvidia-cuda-nvrtc-cu12==12.4.127 (from torch==2.6.0->torchvision)\n",
            "  Downloading nvidia_cuda_nvrtc_cu12-12.4.127-py3-none-manylinux2014_x86_64.whl.metadata (1.5 kB)\n",
            "Collecting nvidia-cuda-runtime-cu12==12.4.127 (from torch==2.6.0->torchvision)\n",
            "  Downloading nvidia_cuda_runtime_cu12-12.4.127-py3-none-manylinux2014_x86_64.whl.metadata (1.5 kB)\n",
            "Collecting nvidia-cuda-cupti-cu12==12.4.127 (from torch==2.6.0->torchvision)\n",
            "  Downloading nvidia_cuda_cupti_cu12-12.4.127-py3-none-manylinux2014_x86_64.whl.metadata (1.6 kB)\n",
            "Collecting nvidia-cudnn-cu12==9.1.0.70 (from torch==2.6.0->torchvision)\n",
            "  Downloading nvidia_cudnn_cu12-9.1.0.70-py3-none-manylinux2014_x86_64.whl.metadata (1.6 kB)\n",
            "Collecting nvidia-cublas-cu12==12.4.5.8 (from torch==2.6.0->torchvision)\n",
            "  Downloading nvidia_cublas_cu12-12.4.5.8-py3-none-manylinux2014_x86_64.whl.metadata (1.5 kB)\n",
            "Collecting nvidia-cufft-cu12==11.2.1.3 (from torch==2.6.0->torchvision)\n",
            "  Downloading nvidia_cufft_cu12-11.2.1.3-py3-none-manylinux2014_x86_64.whl.metadata (1.5 kB)\n",
            "Collecting nvidia-curand-cu12==10.3.5.147 (from torch==2.6.0->torchvision)\n",
            "  Downloading nvidia_curand_cu12-10.3.5.147-py3-none-manylinux2014_x86_64.whl.metadata (1.5 kB)\n",
            "Collecting nvidia-cusolver-cu12==11.6.1.9 (from torch==2.6.0->torchvision)\n",
            "  Downloading nvidia_cusolver_cu12-11.6.1.9-py3-none-manylinux2014_x86_64.whl.metadata (1.6 kB)\n",
            "Collecting nvidia-cusparse-cu12==12.3.1.170 (from torch==2.6.0->torchvision)\n",
            "  Downloading nvidia_cusparse_cu12-12.3.1.170-py3-none-manylinux2014_x86_64.whl.metadata (1.6 kB)\n",
            "Requirement already satisfied: nvidia-cusparselt-cu12==0.6.2 in /usr/local/lib/python3.11/dist-packages (from torch==2.6.0->torchvision) (0.6.2)\n",
            "Requirement already satisfied: nvidia-nccl-cu12==2.21.5 in /usr/local/lib/python3.11/dist-packages (from torch==2.6.0->torchvision) (2.21.5)\n",
            "Requirement already satisfied: nvidia-nvtx-cu12==12.4.127 in /usr/local/lib/python3.11/dist-packages (from torch==2.6.0->torchvision) (12.4.127)\n",
            "Collecting nvidia-nvjitlink-cu12==12.4.127 (from torch==2.6.0->torchvision)\n",
            "  Downloading nvidia_nvjitlink_cu12-12.4.127-py3-none-manylinux2014_x86_64.whl.metadata (1.5 kB)\n",
            "Requirement already satisfied: triton==3.2.0 in /usr/local/lib/python3.11/dist-packages (from torch==2.6.0->torchvision) (3.2.0)\n",
            "Requirement already satisfied: sympy==1.13.1 in /usr/local/lib/python3.11/dist-packages (from torch==2.6.0->torchvision) (1.13.1)\n",
            "Requirement already satisfied: mpmath<1.4,>=1.1.0 in /usr/local/lib/python3.11/dist-packages (from sympy==1.13.1->torch==2.6.0->torchvision) (1.3.0)\n",
            "Requirement already satisfied: MarkupSafe>=2.0 in /usr/local/lib/python3.11/dist-packages (from jinja2->torch==2.6.0->torchvision) (3.0.2)\n",
            "Downloading nvidia_cublas_cu12-12.4.5.8-py3-none-manylinux2014_x86_64.whl (363.4 MB)\n",
            "\u001b[2K   \u001b[90m━━━━━━━━━━━━━━━━━━━━━━━━━━━━━━━━━━━━━━━━\u001b[0m \u001b[32m363.4/363.4 MB\u001b[0m \u001b[31m4.5 MB/s\u001b[0m eta \u001b[36m0:00:00\u001b[0m\n",
            "\u001b[?25hDownloading nvidia_cuda_cupti_cu12-12.4.127-py3-none-manylinux2014_x86_64.whl (13.8 MB)\n",
            "\u001b[2K   \u001b[90m━━━━━━━━━━━━━━━━━━━━━━━━━━━━━━━━━━━━━━━━\u001b[0m \u001b[32m13.8/13.8 MB\u001b[0m \u001b[31m92.1 MB/s\u001b[0m eta \u001b[36m0:00:00\u001b[0m\n",
            "\u001b[?25hDownloading nvidia_cuda_nvrtc_cu12-12.4.127-py3-none-manylinux2014_x86_64.whl (24.6 MB)\n",
            "\u001b[2K   \u001b[90m━━━━━━━━━━━━━━━━━━━━━━━━━━━━━━━━━━━━━━━━\u001b[0m \u001b[32m24.6/24.6 MB\u001b[0m \u001b[31m72.2 MB/s\u001b[0m eta \u001b[36m0:00:00\u001b[0m\n",
            "\u001b[?25hDownloading nvidia_cuda_runtime_cu12-12.4.127-py3-none-manylinux2014_x86_64.whl (883 kB)\n",
            "\u001b[2K   \u001b[90m━━━━━━━━━━━━━━━━━━━━━━━━━━━━━━━━━━━━━━━━\u001b[0m \u001b[32m883.7/883.7 kB\u001b[0m \u001b[31m56.3 MB/s\u001b[0m eta \u001b[36m0:00:00\u001b[0m\n",
            "\u001b[?25hDownloading nvidia_cudnn_cu12-9.1.0.70-py3-none-manylinux2014_x86_64.whl (664.8 MB)\n",
            "\u001b[2K   \u001b[90m━━━━━━━━━━━━━━━━━━━━━━━━━━━━━━━━━━━━━━━\u001b[0m \u001b[32m664.8/664.8 MB\u001b[0m \u001b[31m815.9 kB/s\u001b[0m eta \u001b[36m0:00:00\u001b[0m\n",
            "\u001b[?25hDownloading nvidia_cufft_cu12-11.2.1.3-py3-none-manylinux2014_x86_64.whl (211.5 MB)\n",
            "\u001b[2K   \u001b[90m━━━━━━━━━━━━━━━━━━━━━━━━━━━━━━━━━━━━━━━━\u001b[0m \u001b[32m211.5/211.5 MB\u001b[0m \u001b[31m5.1 MB/s\u001b[0m eta \u001b[36m0:00:00\u001b[0m\n",
            "\u001b[?25hDownloading nvidia_curand_cu12-10.3.5.147-py3-none-manylinux2014_x86_64.whl (56.3 MB)\n",
            "\u001b[2K   \u001b[90m━━━━━━━━━━━━━━━━━━━━━━━━━━━━━━━━━━━━━━━━\u001b[0m \u001b[32m56.3/56.3 MB\u001b[0m \u001b[31m6.7 MB/s\u001b[0m eta \u001b[36m0:00:00\u001b[0m\n",
            "\u001b[?25hDownloading nvidia_cusolver_cu12-11.6.1.9-py3-none-manylinux2014_x86_64.whl (127.9 MB)\n",
            "\u001b[2K   \u001b[90m━━━━━━━━━━━━━━━━━━━━━━━━━━━━━━━━━━━━━━━━\u001b[0m \u001b[32m127.9/127.9 MB\u001b[0m \u001b[31m7.5 MB/s\u001b[0m eta \u001b[36m0:00:00\u001b[0m\n",
            "\u001b[?25hDownloading nvidia_cusparse_cu12-12.3.1.170-py3-none-manylinux2014_x86_64.whl (207.5 MB)\n",
            "\u001b[2K   \u001b[90m━━━━━━━━━━━━━━━━━━━━━━━━━━━━━━━━━━━━━━━━\u001b[0m \u001b[32m207.5/207.5 MB\u001b[0m \u001b[31m2.5 MB/s\u001b[0m eta \u001b[36m0:00:00\u001b[0m\n",
            "\u001b[?25hDownloading nvidia_nvjitlink_cu12-12.4.127-py3-none-manylinux2014_x86_64.whl (21.1 MB)\n",
            "\u001b[2K   \u001b[90m━━━━━━━━━━━━━━━━━━━━━━━━━━━━━━━━━━━━━━━━\u001b[0m \u001b[32m21.1/21.1 MB\u001b[0m \u001b[31m109.9 MB/s\u001b[0m eta \u001b[36m0:00:00\u001b[0m\n",
            "\u001b[?25hInstalling collected packages: nvidia-nvjitlink-cu12, nvidia-curand-cu12, nvidia-cufft-cu12, nvidia-cuda-runtime-cu12, nvidia-cuda-nvrtc-cu12, nvidia-cuda-cupti-cu12, nvidia-cublas-cu12, nvidia-cusparse-cu12, nvidia-cudnn-cu12, nvidia-cusolver-cu12\n",
            "  Attempting uninstall: nvidia-nvjitlink-cu12\n",
            "    Found existing installation: nvidia-nvjitlink-cu12 12.5.82\n",
            "    Uninstalling nvidia-nvjitlink-cu12-12.5.82:\n",
            "      Successfully uninstalled nvidia-nvjitlink-cu12-12.5.82\n",
            "  Attempting uninstall: nvidia-curand-cu12\n",
            "    Found existing installation: nvidia-curand-cu12 10.3.6.82\n",
            "    Uninstalling nvidia-curand-cu12-10.3.6.82:\n",
            "      Successfully uninstalled nvidia-curand-cu12-10.3.6.82\n",
            "  Attempting uninstall: nvidia-cufft-cu12\n",
            "    Found existing installation: nvidia-cufft-cu12 11.2.3.61\n",
            "    Uninstalling nvidia-cufft-cu12-11.2.3.61:\n",
            "      Successfully uninstalled nvidia-cufft-cu12-11.2.3.61\n",
            "  Attempting uninstall: nvidia-cuda-runtime-cu12\n",
            "    Found existing installation: nvidia-cuda-runtime-cu12 12.5.82\n",
            "    Uninstalling nvidia-cuda-runtime-cu12-12.5.82:\n",
            "      Successfully uninstalled nvidia-cuda-runtime-cu12-12.5.82\n",
            "  Attempting uninstall: nvidia-cuda-nvrtc-cu12\n",
            "    Found existing installation: nvidia-cuda-nvrtc-cu12 12.5.82\n",
            "    Uninstalling nvidia-cuda-nvrtc-cu12-12.5.82:\n",
            "      Successfully uninstalled nvidia-cuda-nvrtc-cu12-12.5.82\n",
            "  Attempting uninstall: nvidia-cuda-cupti-cu12\n",
            "    Found existing installation: nvidia-cuda-cupti-cu12 12.5.82\n",
            "    Uninstalling nvidia-cuda-cupti-cu12-12.5.82:\n",
            "      Successfully uninstalled nvidia-cuda-cupti-cu12-12.5.82\n",
            "  Attempting uninstall: nvidia-cublas-cu12\n",
            "    Found existing installation: nvidia-cublas-cu12 12.5.3.2\n",
            "    Uninstalling nvidia-cublas-cu12-12.5.3.2:\n",
            "      Successfully uninstalled nvidia-cublas-cu12-12.5.3.2\n",
            "  Attempting uninstall: nvidia-cusparse-cu12\n",
            "    Found existing installation: nvidia-cusparse-cu12 12.5.1.3\n",
            "    Uninstalling nvidia-cusparse-cu12-12.5.1.3:\n",
            "      Successfully uninstalled nvidia-cusparse-cu12-12.5.1.3\n",
            "  Attempting uninstall: nvidia-cudnn-cu12\n",
            "    Found existing installation: nvidia-cudnn-cu12 9.3.0.75\n",
            "    Uninstalling nvidia-cudnn-cu12-9.3.0.75:\n",
            "      Successfully uninstalled nvidia-cudnn-cu12-9.3.0.75\n",
            "  Attempting uninstall: nvidia-cusolver-cu12\n",
            "    Found existing installation: nvidia-cusolver-cu12 11.6.3.83\n",
            "    Uninstalling nvidia-cusolver-cu12-11.6.3.83:\n",
            "      Successfully uninstalled nvidia-cusolver-cu12-11.6.3.83\n",
            "Successfully installed nvidia-cublas-cu12-12.4.5.8 nvidia-cuda-cupti-cu12-12.4.127 nvidia-cuda-nvrtc-cu12-12.4.127 nvidia-cuda-runtime-cu12-12.4.127 nvidia-cudnn-cu12-9.1.0.70 nvidia-cufft-cu12-11.2.1.3 nvidia-curand-cu12-10.3.5.147 nvidia-cusolver-cu12-11.6.1.9 nvidia-cusparse-cu12-12.3.1.170 nvidia-nvjitlink-cu12-12.4.127\n",
            "Looking in links: https://data.pyg.org/whl/torch-2.6.0+cu124.html\n",
            "Collecting pyg_lib\n",
            "  Downloading https://data.pyg.org/whl/torch-2.6.0%2Bcu124/pyg_lib-0.4.0%2Bpt26cu124-cp311-cp311-linux_x86_64.whl (4.7 MB)\n",
            "\u001b[2K     \u001b[90m━━━━━━━━━━━━━━━━━━━━━━━━━━━━━━━━━━━━━━━━\u001b[0m \u001b[32m4.7/4.7 MB\u001b[0m \u001b[31m51.6 MB/s\u001b[0m eta \u001b[36m0:00:00\u001b[0m\n",
            "\u001b[?25hCollecting torch_scatter\n",
            "  Downloading https://data.pyg.org/whl/torch-2.6.0%2Bcu124/torch_scatter-2.1.2%2Bpt26cu124-cp311-cp311-linux_x86_64.whl (10.8 MB)\n",
            "\u001b[2K     \u001b[90m━━━━━━━━━━━━━━━━━━━━━━━━━━━━━━━━━━━━━━━\u001b[0m \u001b[32m10.8/10.8 MB\u001b[0m \u001b[31m118.9 MB/s\u001b[0m eta \u001b[36m0:00:00\u001b[0m\n",
            "\u001b[?25hCollecting torch_sparse\n",
            "  Downloading https://data.pyg.org/whl/torch-2.6.0%2Bcu124/torch_sparse-0.6.18%2Bpt26cu124-cp311-cp311-linux_x86_64.whl (5.0 MB)\n",
            "\u001b[2K     \u001b[90m━━━━━━━━━━━━━━━━━━━━━━━━━━━━━━━━━━━━━━━━\u001b[0m \u001b[32m5.0/5.0 MB\u001b[0m \u001b[31m109.2 MB/s\u001b[0m eta \u001b[36m0:00:00\u001b[0m\n",
            "\u001b[?25hCollecting torch_cluster\n",
            "  Downloading https://data.pyg.org/whl/torch-2.6.0%2Bcu124/torch_cluster-1.6.3%2Bpt26cu124-cp311-cp311-linux_x86_64.whl (3.4 MB)\n",
            "\u001b[2K     \u001b[90m━━━━━━━━━━━━━━━━━━━━━━━━━━━━━━━━━━━━━━━━\u001b[0m \u001b[32m3.4/3.4 MB\u001b[0m \u001b[31m110.9 MB/s\u001b[0m eta \u001b[36m0:00:00\u001b[0m\n",
            "\u001b[?25hCollecting torch_spline_conv\n",
            "  Downloading https://data.pyg.org/whl/torch-2.6.0%2Bcu124/torch_spline_conv-1.2.2%2Bpt26cu124-cp311-cp311-linux_x86_64.whl (1.0 MB)\n",
            "\u001b[2K     \u001b[90m━━━━━━━━━━━━━━━━━━━━━━━━━━━━━━━━━━━━━━━━\u001b[0m \u001b[32m1.0/1.0 MB\u001b[0m \u001b[31m67.1 MB/s\u001b[0m eta \u001b[36m0:00:00\u001b[0m\n",
            "\u001b[?25hRequirement already satisfied: scipy in /usr/local/lib/python3.11/dist-packages (from torch_sparse) (1.15.3)\n",
            "Requirement already satisfied: numpy<2.5,>=1.23.5 in /usr/local/lib/python3.11/dist-packages (from scipy->torch_sparse) (2.0.2)\n",
            "Installing collected packages: torch_spline_conv, torch_scatter, pyg_lib, torch_sparse, torch_cluster\n",
            "Successfully installed pyg_lib-0.4.0+pt26cu124 torch_cluster-1.6.3+pt26cu124 torch_scatter-2.1.2+pt26cu124 torch_sparse-0.6.18+pt26cu124 torch_spline_conv-1.2.2+pt26cu124\n"
          ]
        }
      ],
      "source": [
        "!pip install -q git+https://github.com/pyg-team/pytorch_geometric.git\n",
        "!python -c \"import torch; print(torch.__version__)\"\n",
        "!python -c \"import torch; print(torch.version.cuda)\"\n",
        "!pip install torchvision\n",
        "!pip install pyg_lib torch_scatter torch_sparse torch_cluster torch_spline_conv -f https://data.pyg.org/whl/torch-2.6.0+cu124.html\n"
      ]
    },
    {
      "cell_type": "code",
      "source": [
        "# Standard libraries\n",
        "import numpy as np\n",
        "from scipy import sparse\n",
        "import seaborn as sns\n",
        "import pandas as pd\n",
        "import time\n",
        "# Plotting libraries\n",
        "import matplotlib.pyplot as plt\n",
        "import networkx as nx\n",
        "from matplotlib import cm\n",
        "from IPython.display import Javascript  # Restrict height of output cell.\n",
        "\n",
        "# PyTorch\n",
        "import torch\n",
        "import torch.nn.functional as F\n",
        "from torch.nn import Linear\n",
        "import torch.nn as nn\n",
        "from torch_sparse import spmm\n",
        "# import pyg_lib\n",
        "import torch_sparse\n",
        "\n",
        "# PyTorch geometric\n",
        "from torch_geometric.nn import GCNConv,SAGEConv\n",
        "from torch_geometric.datasets import Planetoid\n",
        "from torch_geometric.transforms import NormalizeFeatures\n",
        "from torch_geometric import seed_everything\n",
        "import torch\n",
        "import os.path as osp\n",
        "import torch.nn.functional as F\n",
        "from torch_geometric.datasets import Planetoid\n",
        "from torch_geometric.loader import NeighborLoader\n"
      ],
      "metadata": {
        "id": "z6sZeV9iZbZj"
      },
      "execution_count": 55,
      "outputs": []
    },
    {
      "cell_type": "code",
      "source": [
        "device = torch.device('cuda' if torch.cuda.is_available() else 'cpu')\n",
        "\n",
        "def dataset_load():\n",
        "  print(f\"Using device: {device}\")\n",
        "  dataset = Planetoid(root='data/Planetoid', name='PubMed', transform=NormalizeFeatures())\n",
        "  num_features = dataset.num_features\n",
        "  num_classes = dataset.num_classes\n",
        "  data = dataset[0].to(device)  # Get the first graph object.\n",
        "  return num_features, data, num_classes, device,dataset\n",
        "\n",
        "def clean_gpu_memory():\n",
        "    \"\"\"Cleans GPU memory without fully resetting the CUDA context\"\"\"\n",
        "    import gc\n",
        "    gc.collect()  # Python garbage collection\n",
        "    if torch.cuda.is_available():\n",
        "        torch.cuda.empty_cache()  # PyTorch cache\n",
        "        torch.cuda.reset_peak_memory_stats()  # Reset tracking\n",
        "        print(f\"Memory after cleanup: {torch.cuda.memory_allocated()/1024**2:.2f} MB\")\n",
        "\n",
        "num_features, data, num_classes, device, dataset = dataset_load()\n",
        "print(f'Number of nodes:          {data.num_nodes}')\n",
        "print(f'Number of edges:          {data.num_edges}')\n",
        "print(f'Average node degree:      {data.num_edges / data.num_nodes:.2f}')\n",
        "print(f'Number of training nodes: {data.train_mask.sum()}')\n",
        "print(f'Training node label rate: {int(data.train_mask.sum()) / data.num_nodes:.3f}')\n",
        "print(f'Has isolated nodes:       {data.has_isolated_nodes()}')\n",
        "print(f'Has self-loops:           {data.has_self_loops()}')\n",
        "print(f'Is undirected:            {data.is_undirected()}')\n",
        "num_features"
      ],
      "metadata": {
        "colab": {
          "base_uri": "https://localhost:8080/"
        },
        "id": "8YSfmdTwZfWu",
        "outputId": "bdc08129-bd67-4dd0-bb9f-e7ebbbbe04ab"
      },
      "execution_count": 79,
      "outputs": [
        {
          "output_type": "stream",
          "name": "stdout",
          "text": [
            "Using device: cuda\n",
            "Number of nodes:          19717\n",
            "Number of edges:          88648\n",
            "Average node degree:      4.50\n",
            "Number of training nodes: 60\n",
            "Training node label rate: 0.003\n",
            "Has isolated nodes:       False\n",
            "Has self-loops:           False\n",
            "Is undirected:            True\n"
          ]
        },
        {
          "output_type": "execute_result",
          "data": {
            "text/plain": [
              "500"
            ]
          },
          "metadata": {},
          "execution_count": 79
        }
      ]
    },
    {
      "cell_type": "code",
      "source": [
        "print(f\"Allocated memory : {torch.cuda.memory_allocated() / (1024**2):.2f} MB\")\n",
        "print(f\"Reserved memory : {torch.cuda.memory_reserved() / (1024**2):.2f} MB\")\n",
        "print(f\"Peak allocated memory: {torch.cuda.max_memory_allocated() / (1024**2):.2f} MB\")\n"
      ],
      "metadata": {
        "id": "NCqZAWVS7yHD",
        "outputId": "50263f08-3035-40bb-943b-1ec94118f510",
        "colab": {
          "base_uri": "https://localhost:8080/"
        }
      },
      "execution_count": 83,
      "outputs": [
        {
          "output_type": "stream",
          "name": "stdout",
          "text": [
            "Allocated memory : 96.37 MB\n",
            "Reserved memory : 158.00 MB\n",
            "Peak allocated memory: 96.37 MB\n"
          ]
        }
      ]
    },
    {
      "cell_type": "code",
      "source": [
        "clean_gpu_memory()"
      ],
      "metadata": {
        "id": "4ENOBJw0728v",
        "outputId": "4bcc47e6-4475-4ec4-face-8e2267b40806",
        "colab": {
          "base_uri": "https://localhost:8080/"
        }
      },
      "execution_count": 87,
      "outputs": [
        {
          "output_type": "stream",
          "name": "stdout",
          "text": [
            "Memory after cleanup: 56.81 MB\n"
          ]
        }
      ]
    },
    {
      "cell_type": "code",
      "source": [
        "train_loader = NeighborLoader(\n",
        "    data,\n",
        "    input_nodes=data.train_mask,\n",
        "    num_neighbors=[10, 10],  # s = 10 per layer (2 layers)\n",
        "    batch_size=128,\n",
        "    shuffle=True,\n",
        ")\n"
      ],
      "metadata": {
        "id": "1QWm3OO_Y8WK"
      },
      "execution_count": 85,
      "outputs": []
    },
    {
      "cell_type": "code",
      "source": [
        "print(f\"Allocated memory : {torch.cuda.memory_allocated() / (1024**2):.2f} MB\")\n",
        "print(f\"Reserved memory : {torch.cuda.memory_reserved() / (1024**2):.2f} MB\")\n",
        "print(f\"Peak allocated memory: {torch.cuda.max_memory_allocated() / (1024**2):.2f} MB\")"
      ],
      "metadata": {
        "id": "EGLpR8TU8Bu1",
        "outputId": "2ac2c327-7f3c-468c-95d0-46b254b38b90",
        "colab": {
          "base_uri": "https://localhost:8080/"
        }
      },
      "execution_count": 88,
      "outputs": [
        {
          "output_type": "stream",
          "name": "stdout",
          "text": [
            "Allocated memory : 56.81 MB\n",
            "Reserved memory : 120.00 MB\n",
            "Peak allocated memory: 56.81 MB\n"
          ]
        }
      ]
    },
    {
      "cell_type": "code",
      "source": [
        "class testGraphSAGE(torch.nn.Module):\n",
        "    def __init__(self, in_channels, hidden_channels, out_channels, num_layers, dropout=0.5):\n",
        "        super().__init__()\n",
        "        self.num_layers = num_layers\n",
        "        self.dropout = dropout\n",
        "\n",
        "        self.convs = torch.nn.ModuleList()\n",
        "        # First layer: in_channels -> hidden_channels\n",
        "        self.convs.append(SAGEConv(in_channels, hidden_channels))\n",
        "        # Intermediate layers: hidden_channels -> hidden_channels\n",
        "        for _ in range(num_layers - 2):\n",
        "            self.convs.append(SAGEConv(hidden_channels, hidden_channels))\n",
        "        # Last layer: hidden_channels -> out_channels (optional, if no linear layers)\n",
        "        self.convs.append(SAGEConv(hidden_channels, out_channels))\n",
        "\n",
        "        # Optional MLP head (for further transformation)\n",
        "        self.lin1 = Linear(out_channels, hidden_channels)\n",
        "        self.lin2 = Linear(hidden_channels, out_channels)\n",
        "\n",
        "    def forward(self, x, edge_index):\n",
        "        for conv in self.convs[:-1]:\n",
        "            x = F.relu(conv(x, edge_index))\n",
        "            x = F.dropout(x, p=self.dropout, training=self.training)\n",
        "\n",
        "        # Last layer (no ReLU/Dropout for classification)\n",
        "        x = self.convs[-1](x, edge_index)\n",
        "\n",
        "        # Optional MLP head\n",
        "        x = F.relu(self.lin1(x))\n",
        "        x = F.dropout(x, p=self.dropout, training=self.training)\n",
        "        x = self.lin2(x)\n",
        "\n",
        "        return F.log_softmax(x, dim=1)"
      ],
      "metadata": {
        "id": "m-Y5deSUbE66"
      },
      "execution_count": 89,
      "outputs": []
    },
    {
      "cell_type": "code",
      "source": [
        "hidden_channels = 64\n",
        "\n",
        "model = testGraphSAGE(\n",
        "    in_channels=dataset.num_features,  # Input feature dimension\n",
        "    hidden_channels=64,               # Hidden layer size\n",
        "    num_layers=2,                     # Number of SAGEConv layers\n",
        "    out_channels=dataset.num_classes,  # Output dimension (number of classes)\n",
        "    dropout=0.5,                      # Dropout rate                         # Jumping Knowledge (optional: \"cat\", \"max\", \"lstm\")\n",
        ").to(device)\n",
        "optimizer = torch.optim.Adam(model.parameters(), lr=0.01, weight_decay=5e-4)\n",
        "criterion = torch.nn.NLLLoss()  # Negative Log Likelihood (used with log_softmax)\n"
      ],
      "metadata": {
        "id": "ydOqpr29bGWe"
      },
      "execution_count": 90,
      "outputs": []
    },
    {
      "cell_type": "code",
      "source": [
        "# Minibatch training function\n",
        "def train():\n",
        "    model.train()\n",
        "    total_loss = 0\n",
        "    for batch in train_loader:\n",
        "        optimizer.zero_grad()\n",
        "        out = model(batch.x, batch.edge_index)\n",
        "        loss = criterion(out[batch.train_mask], batch.y[batch.train_mask])\n",
        "        loss.backward()\n",
        "        optimizer.step()\n",
        "        total_loss += loss.item()\n",
        "    return total_loss / len(train_loader)\n",
        "\n",
        "# Full-batch evaluation (for simplicity)\n",
        "def evaluate(mask):\n",
        "    model.eval()\n",
        "    with torch.no_grad():\n",
        "        out = model(data.x, data.edge_index)\n",
        "        pred = out[mask].argmax(dim=1)\n",
        "        acc = (pred == data.y[mask]).float().mean().item()\n",
        "    return acc"
      ],
      "metadata": {
        "id": "f0XqokZ3bTJ3"
      },
      "execution_count": 91,
      "outputs": []
    },
    {
      "cell_type": "code",
      "source": [
        "# Training loop\n",
        "start_time = time.time()\n",
        "\n",
        "allocated_mem = []\n",
        "reserved_mem = []\n",
        "peak_mem = []\n",
        "for epoch in range(1, 101):\n",
        "    #torch.cuda.reset_peak_memory_stats()  # reset peak tracking\n",
        "    loss = train()\n",
        "    val_acc = evaluate(data.val_mask)\n",
        "    print(f\"Epoch: {epoch:03d}, Loss: {loss:.4f}, Val Acc: {val_acc:.4f}\")\n",
        "\n",
        "    alloc = torch.cuda.memory_allocated() / 1024**2\n",
        "    reserv = torch.cuda.memory_reserved() / 1024**2\n",
        "    peak = torch.cuda.max_memory_allocated() / 1024**2\n",
        "\n",
        "    allocated_mem.append(alloc)\n",
        "    reserved_mem.append(reserv)\n",
        "    peak_mem.append(peak)\n",
        "end_time = time.time()\n",
        "print(f\"Training time: {end_time - start_time:.2f} seconds\")\n",
        "\n",
        "# Test accuracy\n",
        "test_acc = evaluate(data.test_mask)\n",
        "print(f\"Test Accuracy: {test_acc:.4f}\")"
      ],
      "metadata": {
        "colab": {
          "base_uri": "https://localhost:8080/"
        },
        "id": "kuetwHrbbaQs",
        "outputId": "ddcf200b-080f-4be7-b1bc-01cc66131eaf"
      },
      "execution_count": 92,
      "outputs": [
        {
          "output_type": "stream",
          "name": "stdout",
          "text": [
            "Epoch: 001, Loss: 1.1076, Val Acc: 0.4160\n",
            "Epoch: 002, Loss: 1.0959, Val Acc: 0.4260\n",
            "Epoch: 003, Loss: 1.0954, Val Acc: 0.6000\n",
            "Epoch: 004, Loss: 1.1024, Val Acc: 0.5920\n",
            "Epoch: 005, Loss: 1.1329, Val Acc: 0.5420\n",
            "Epoch: 006, Loss: 1.0844, Val Acc: 0.5420\n",
            "Epoch: 007, Loss: 1.1066, Val Acc: 0.6040\n",
            "Epoch: 008, Loss: 1.0371, Val Acc: 0.4500\n",
            "Epoch: 009, Loss: 1.0534, Val Acc: 0.4340\n",
            "Epoch: 010, Loss: 1.0380, Val Acc: 0.4820\n",
            "Epoch: 011, Loss: 1.0007, Val Acc: 0.5760\n",
            "Epoch: 012, Loss: 0.9730, Val Acc: 0.6380\n",
            "Epoch: 013, Loss: 0.9670, Val Acc: 0.6200\n",
            "Epoch: 014, Loss: 0.9097, Val Acc: 0.6200\n",
            "Epoch: 015, Loss: 0.8417, Val Acc: 0.6160\n",
            "Epoch: 016, Loss: 0.7736, Val Acc: 0.6160\n",
            "Epoch: 017, Loss: 0.7087, Val Acc: 0.6280\n",
            "Epoch: 018, Loss: 0.6131, Val Acc: 0.6680\n",
            "Epoch: 019, Loss: 0.6066, Val Acc: 0.7000\n",
            "Epoch: 020, Loss: 0.5433, Val Acc: 0.6740\n",
            "Epoch: 021, Loss: 0.5763, Val Acc: 0.6300\n",
            "Epoch: 022, Loss: 0.5136, Val Acc: 0.6300\n",
            "Epoch: 023, Loss: 0.4810, Val Acc: 0.6320\n",
            "Epoch: 024, Loss: 0.4742, Val Acc: 0.6400\n",
            "Epoch: 025, Loss: 0.4183, Val Acc: 0.6760\n",
            "Epoch: 026, Loss: 0.3932, Val Acc: 0.6960\n",
            "Epoch: 027, Loss: 0.3783, Val Acc: 0.7140\n",
            "Epoch: 028, Loss: 0.2726, Val Acc: 0.7280\n",
            "Epoch: 029, Loss: 0.2556, Val Acc: 0.7320\n",
            "Epoch: 030, Loss: 0.2540, Val Acc: 0.7280\n",
            "Epoch: 031, Loss: 0.1846, Val Acc: 0.7300\n",
            "Epoch: 032, Loss: 0.1620, Val Acc: 0.7360\n",
            "Epoch: 033, Loss: 0.0765, Val Acc: 0.7600\n",
            "Epoch: 034, Loss: 0.0777, Val Acc: 0.7640\n",
            "Epoch: 035, Loss: 0.0566, Val Acc: 0.7720\n",
            "Epoch: 036, Loss: 0.0318, Val Acc: 0.7900\n",
            "Epoch: 037, Loss: 0.0164, Val Acc: 0.7860\n",
            "Epoch: 038, Loss: 0.0228, Val Acc: 0.7860\n",
            "Epoch: 039, Loss: 0.0250, Val Acc: 0.7860\n",
            "Epoch: 040, Loss: 0.0216, Val Acc: 0.7920\n",
            "Epoch: 041, Loss: 0.0110, Val Acc: 0.7900\n",
            "Epoch: 042, Loss: 0.0098, Val Acc: 0.7840\n",
            "Epoch: 043, Loss: 0.0176, Val Acc: 0.7800\n",
            "Epoch: 044, Loss: 0.0210, Val Acc: 0.7720\n",
            "Epoch: 045, Loss: 0.0067, Val Acc: 0.7540\n",
            "Epoch: 046, Loss: 0.0092, Val Acc: 0.7580\n",
            "Epoch: 047, Loss: 0.0117, Val Acc: 0.7740\n",
            "Epoch: 048, Loss: 0.0024, Val Acc: 0.7780\n",
            "Epoch: 049, Loss: 0.0028, Val Acc: 0.7840\n",
            "Epoch: 050, Loss: 0.0062, Val Acc: 0.7900\n",
            "Epoch: 051, Loss: 0.0227, Val Acc: 0.7880\n",
            "Epoch: 052, Loss: 0.0119, Val Acc: 0.7820\n",
            "Epoch: 053, Loss: 0.0031, Val Acc: 0.7800\n",
            "Epoch: 054, Loss: 0.0145, Val Acc: 0.7960\n",
            "Epoch: 055, Loss: 0.0089, Val Acc: 0.7860\n",
            "Epoch: 056, Loss: 0.0025, Val Acc: 0.7780\n",
            "Epoch: 057, Loss: 0.0191, Val Acc: 0.7660\n",
            "Epoch: 058, Loss: 0.0055, Val Acc: 0.7360\n",
            "Epoch: 059, Loss: 0.0055, Val Acc: 0.7280\n",
            "Epoch: 060, Loss: 0.0075, Val Acc: 0.7360\n",
            "Epoch: 061, Loss: 0.0326, Val Acc: 0.7960\n",
            "Epoch: 062, Loss: 0.0067, Val Acc: 0.7840\n",
            "Epoch: 063, Loss: 0.0281, Val Acc: 0.7720\n",
            "Epoch: 064, Loss: 0.0209, Val Acc: 0.7660\n",
            "Epoch: 065, Loss: 0.0099, Val Acc: 0.7620\n",
            "Epoch: 066, Loss: 0.0330, Val Acc: 0.7740\n",
            "Epoch: 067, Loss: 0.0073, Val Acc: 0.7920\n",
            "Epoch: 068, Loss: 0.0037, Val Acc: 0.7920\n",
            "Epoch: 069, Loss: 0.0016, Val Acc: 0.7900\n",
            "Epoch: 070, Loss: 0.0081, Val Acc: 0.7580\n",
            "Epoch: 071, Loss: 0.0076, Val Acc: 0.7420\n",
            "Epoch: 072, Loss: 0.0035, Val Acc: 0.7400\n",
            "Epoch: 073, Loss: 0.0119, Val Acc: 0.7460\n",
            "Epoch: 074, Loss: 0.0063, Val Acc: 0.7540\n",
            "Epoch: 075, Loss: 0.0102, Val Acc: 0.7800\n",
            "Epoch: 076, Loss: 0.0079, Val Acc: 0.7980\n",
            "Epoch: 077, Loss: 0.0024, Val Acc: 0.8080\n",
            "Epoch: 078, Loss: 0.0039, Val Acc: 0.8060\n",
            "Epoch: 079, Loss: 0.0054, Val Acc: 0.7900\n",
            "Epoch: 080, Loss: 0.0051, Val Acc: 0.7820\n",
            "Epoch: 081, Loss: 0.0038, Val Acc: 0.7740\n",
            "Epoch: 082, Loss: 0.0049, Val Acc: 0.7700\n",
            "Epoch: 083, Loss: 0.0080, Val Acc: 0.7700\n",
            "Epoch: 084, Loss: 0.0058, Val Acc: 0.7800\n",
            "Epoch: 085, Loss: 0.0062, Val Acc: 0.7920\n",
            "Epoch: 086, Loss: 0.0031, Val Acc: 0.7940\n",
            "Epoch: 087, Loss: 0.0019, Val Acc: 0.7900\n",
            "Epoch: 088, Loss: 0.0035, Val Acc: 0.7760\n",
            "Epoch: 089, Loss: 0.0086, Val Acc: 0.7760\n",
            "Epoch: 090, Loss: 0.0093, Val Acc: 0.7760\n",
            "Epoch: 091, Loss: 0.0031, Val Acc: 0.7740\n",
            "Epoch: 092, Loss: 0.0101, Val Acc: 0.7860\n",
            "Epoch: 093, Loss: 0.0029, Val Acc: 0.7800\n",
            "Epoch: 094, Loss: 0.0030, Val Acc: 0.7500\n",
            "Epoch: 095, Loss: 0.0172, Val Acc: 0.7660\n",
            "Epoch: 096, Loss: 0.0090, Val Acc: 0.7760\n",
            "Epoch: 097, Loss: 0.0175, Val Acc: 0.7620\n",
            "Epoch: 098, Loss: 0.0194, Val Acc: 0.7540\n",
            "Epoch: 099, Loss: 0.0061, Val Acc: 0.7580\n",
            "Epoch: 100, Loss: 0.0009, Val Acc: 0.7600\n",
            "Training time: 1.08 seconds\n",
            "Test Accuracy: 0.7510\n"
          ]
        }
      ]
    },
    {
      "cell_type": "code",
      "source": [
        "test_acc = evaluate(data.test_mask)\n",
        "print(f\"Test Accuracy: {test_acc:.4f}\")\n"
      ],
      "metadata": {
        "colab": {
          "base_uri": "https://localhost:8080/"
        },
        "id": "UI7NnuLDbfYp",
        "outputId": "0b19e6ed-2298-451a-a694-b9d179610ae5"
      },
      "execution_count": 62,
      "outputs": [
        {
          "output_type": "stream",
          "name": "stdout",
          "text": [
            "Test Accuracy: 0.7500\n"
          ]
        }
      ]
    },
    {
      "cell_type": "code",
      "source": [
        "import matplotlib.pyplot as plt\n",
        "plt.figure(figsize=(10, 6))\n",
        "plt.plot(allocated_mem, label='Allocated')\n",
        "plt.plot(reserved_mem, label='Reserved')\n",
        "plt.plot(peak_mem, label='Peak')\n",
        "plt.xlabel('Epoch')\n",
        "plt.ylabel('Memory (MB)')\n",
        "plt.title('CUDA Memory Usage Over Epochs')\n",
        "plt.legend()\n",
        "plt.grid(True)\n",
        "plt.tight_layout()\n",
        "plt.show()\n"
      ],
      "metadata": {
        "id": "iS8PF8xW5Nx4",
        "outputId": "5242e68a-aeb7-4114-d389-1f7c26656c8b",
        "colab": {
          "base_uri": "https://localhost:8080/",
          "height": 607
        }
      },
      "execution_count": 70,
      "outputs": [
        {
          "output_type": "display_data",
          "data": {
            "text/plain": [
              "<Figure size 1000x600 with 1 Axes>"
            ],
            "image/png": "[encoded data removed]"
          },
          "metadata": {}
        }
      ]
    },
    {
      "cell_type": "code",
      "source": [
        "import math\n",
        "\n",
        "def calculate_graphsage_memory(\n",
        "    num_layers: int,\n",
        "    hidden_dim: int,\n",
        "    num_classes: int,\n",
        "    batch_size: int,\n",
        "    num_neighbors: list,\n",
        "    dtype_bytes: int = 4,  # float32=4, float16=2\n",
        "    verbose: bool = True\n",
        ") -> dict:\n",
        "    \"\"\"\n",
        "    Calculate memory usage for GraphSAGE based on:\n",
        "    - Weight matrices: O(LK²)\n",
        "    - Intermediate embeddings: Batch size × Neighbor fanout × Hidden dim\n",
        "\n",
        "    Args:\n",
        "        num_layers: Number of SAGEConv layers (L)\n",
        "        hidden_dim: Hidden dimension size (K)\n",
        "        num_classes: Output dimension size (C)\n",
        "        batch_size: Number of seed nodes (B)\n",
        "        num_neighbors: List of neighbors per layer (e.g., [25, 10] for 2 layers)\n",
        "        dtype_bytes: Bytes per parameter (4 for float32, 2 for float16)\n",
        "        verbose: Print detailed breakdown\n",
        "\n",
        "    Returns:\n",
        "        Dictionary with memory components in MB\n",
        "    \"\"\"\n",
        "    # --- Weight Matrices (O(LK²)) ---\n",
        "    # Input-to-hidden: K×K\n",
        "    # Hidden-to-output: K×C\n",
        "    weight_memory = (num_layers * hidden_dim**2 + hidden_dim * num_classes) * dtype_bytes\n",
        "    weight_memory_mb = weight_memory / (1024 ** 2)\n",
        "\n",
        "    # --- Intermediate Embeddings ---\n",
        "    # Layer 0: seed nodes\n",
        "    current_nodes = batch_size\n",
        "    embedding_memory = 0\n",
        "\n",
        "    for l in range(num_layers):\n",
        "        # Nodes in this layer = current_nodes × neighbors[l]\n",
        "        current_nodes *= num_neighbors[l]\n",
        "        # Memory = nodes × hidden_dim × bytes\n",
        "        layer_memory = current_nodes * hidden_dim * dtype_bytes\n",
        "        embedding_memory += layer_memory\n",
        "\n",
        "        if verbose:\n",
        "            print(f\"Layer {l+1}: {current_nodes:,} nodes → {layer_memory/(1024**2):.2f} MB\")\n",
        "\n",
        "    embedding_memory_mb = embedding_memory / (1024 ** 2)\n",
        "\n",
        "    # --- Total ---\n",
        "    total_memory_mb = weight_memory_mb + embedding_memory_mb\n",
        "\n",
        "    if verbose:\n",
        "        print(\"\\nMemory Breakdown:\")\n",
        "        print(f\"- Weights:    {weight_memory_mb:.4f} MB\")\n",
        "        print(f\"- Embeddings: {embedding_memory_mb:.2f} MB\")\n",
        "        print(f\"Total:       {total_memory_mb:.2f} MB\")\n",
        "\n",
        "    return {\n",
        "        'weights_mb': weight_memory_mb,\n",
        "        'embeddings_mb': embedding_memory_mb,\n",
        "        'total_mb': total_memory_mb,\n",
        "        'peak_nodes': current_nodes\n",
        "    }\n",
        "\n",
        "# Example usage for PubMed dataset\n",
        "if __name__ == \"__main__\":\n",
        "    config = {\n",
        "        'num_layers': 2,\n",
        "        'hidden_dim': 64,\n",
        "        'num_classes': num_classes,\n",
        "        'batch_size': 128,\n",
        "        'num_neighbors': [10, 10],\n",
        "        'dtype_bytes': 4  # float32\n",
        "    }\n",
        "\n",
        "    memory_stats = calculate_graphsage_memory(**config)"
      ],
      "metadata": {
        "id": "Erm71oq96Frg",
        "outputId": "c5031c7f-78e8-4840-f513-fc61a1295dbf",
        "colab": {
          "base_uri": "https://localhost:8080/"
        }
      },
      "execution_count": 75,
      "outputs": [
        {
          "output_type": "stream",
          "name": "stdout",
          "text": [
            "Layer 1: 1,280 nodes → 0.31 MB\n",
            "Layer 2: 12,800 nodes → 3.12 MB\n",
            "\n",
            "Memory Breakdown:\n",
            "- Weights:    0.0320 MB\n",
            "- Embeddings: 3.44 MB\n",
            "Total:       3.47 MB\n"
          ]
        }
      ]
    },
    {
      "cell_type": "code",
      "source": [
        "from torch.profiler import profile, record_function, ProfilerActivity\n",
        "\n",
        "def profile_memory_usage(model, data_loader):\n",
        "    with profile(\n",
        "        activities=[ProfilerActivity.CUDA],  # Track CUDA memory\n",
        "        profile_memory=True,\n",
        "        record_shapes=True\n",
        "    ) as prof:\n",
        "        for batch in data_loader:\n",
        "            with record_function(\"forward_pass\"):\n",
        "                out = model(batch.x, batch.edge_index)\n",
        "            with record_function(\"backward_pass\"):\n",
        "                loss = criterion(out[batch.train_mask], batch.y[batch.train_mask])\n",
        "                loss.backward()\n",
        "\n",
        "    # Print memory summary\n",
        "    print(prof.key_averages().table(sort_by=\"cuda_memory_usage\", row_limit=10))"
      ],
      "metadata": {
        "id": "ZpQ-sKpn61Ra"
      },
      "execution_count": 76,
      "outputs": []
    },
    {
      "cell_type": "code",
      "source": [
        "print(f\"Allocated memory : {torch.cuda.memory_allocated() / (1024**2):.2f} MB\")\n",
        "print(f\"Reserved memory : {torch.cuda.memory_reserved() / (1024**2):.2f} MB\")\n",
        "print(f\"Peak allocated memory: {torch.cuda.max_memory_allocated() / (1024**2):.2f} MB\")\n"
      ],
      "metadata": {
        "colab": {
          "base_uri": "https://localhost:8080/"
        },
        "id": "3pviuW1zbsaD",
        "outputId": "6c264876-ff12-4390-c383-e6c4e7583403"
      },
      "execution_count": 94,
      "outputs": [
        {
          "output_type": "stream",
          "name": "stdout",
          "text": [
            "Allocated memory : 56.81 MB\n",
            "Reserved memory : 368.00 MB\n",
            "Peak allocated memory: 302.89 MB\n"
          ]
        }
      ]
    },
    {
      "cell_type": "code",
      "source": [
        "summ=torch.cuda.memory_summary()"
      ],
      "metadata": {
        "id": "1l7_RQ52zvHh"
      },
      "execution_count": 65,
      "outputs": []
    },
    {
      "cell_type": "code",
      "source": [
        "summ"
      ],
      "metadata": {
        "id": "TGCQfCxv0TqI",
        "outputId": "87b51b7e-7cae-49bc-bbb0-ebddbef5135e",
        "colab": {
          "base_uri": "https://localhost:8080/",
          "height": 347
        }
      },
      "execution_count": 66,
      "outputs": [
        {
          "output_type": "execute_result",
          "data": {
            "text/plain": [
              "'|===========================================================================|\\n|                  PyTorch CUDA memory summary, device ID 0                 |\\n|---------------------------------------------------------------------------|\\n|            CUDA OOMs: 0            |        cudaMalloc retries: 0         |\\n|===========================================================================|\\n|        Metric         | Cur Usage  | Peak Usage | Tot Alloc  | Tot Freed  |\\n|---------------------------------------------------------------------------|\\n| Allocated memory      |  58174 KiB | 438032 KiB | 266154 MiB | 266097 MiB |\\n|       from large pool |  56937 KiB | 434194 KiB | 256130 MiB | 256074 MiB |\\n|       from small pool |   1237 KiB |   6679 KiB |  10024 MiB |  10023 MiB |\\n|---------------------------------------------------------------------------|\\n| Active memory         |  58174 KiB | 438032 KiB | 266154 MiB | 266097 MiB |\\n|       from large pool |  56937 KiB | 434194 KiB | 256130 MiB | 256074 MiB |\\n|       from small pool |   1237 KiB |   6679 KiB |  10024 MiB |  10023 MiB |\\n|---------------------------------------------------------------------------|\\n| Requested memory      |  57760 KiB | 435056 KiB | 264296 MiB | 264240 MiB |\\n|       from large pool |  56534 KiB | 431241 KiB | 254289 MiB | 254234 MiB |\\n|       from small pool |   1225 KiB |   6658 KiB |  10006 MiB |  10005 MiB |\\n|---------------------------------------------------------------------------|\\n| GPU reserved memory   | 456704 KiB | 456704 KiB | 456704 KiB |      0 B   |\\n|       from large pool | 448512 KiB | 448512 KiB | 448512 KiB |      0 B   |\\n|       from small pool |   8192 KiB |   8192 KiB |   8192 KiB |      0 B   |\\n|---------------------------------------------------------------------------|\\n| Non-releasable memory |  64705 KiB |  64705 KiB |  70953 MiB |  70890 MiB |\\n|       from large pool |  61846 KiB |  61846 KiB |  57247 MiB |  57187 MiB |\\n|       from small pool |   2859 KiB |   3816 KiB |  13706 MiB |  13703 MiB |\\n|---------------------------------------------------------------------------|\\n| Allocations           |      48    |     122    |   91827    |   91779    |\\n|       from large pool |       4    |      18    |   12241    |   12237    |\\n|       from small pool |      44    |     110    |   79586    |   79542    |\\n|---------------------------------------------------------------------------|\\n| Active allocs         |      48    |     122    |   91827    |   91779    |\\n|       from large pool |       4    |      18    |   12241    |   12237    |\\n|       from small pool |      44    |     110    |   79586    |   79542    |\\n|---------------------------------------------------------------------------|\\n| GPU reserved segments |      13    |      13    |      13    |       0    |\\n|       from large pool |       9    |       9    |       9    |       0    |\\n|       from small pool |       4    |       4    |       4    |       0    |\\n|---------------------------------------------------------------------------|\\n| Non-releasable allocs |      18    |      23    |   39139    |   39121    |\\n|       from large pool |       4    |       5    |    2224    |    2220    |\\n|       from small pool |      14    |      18    |   36915    |   36901    |\\n|---------------------------------------------------------------------------|\\n| Oversize allocations  |       0    |       0    |       0    |       0    |\\n|---------------------------------------------------------------------------|\\n| Oversize GPU segments |       0    |       0    |       0    |       0    |\\n|===========================================================================|\\n'"
            ],
            "application/vnd.google.colaboratory.intrinsic+json": {
              "type": "string"
            }
          },
          "metadata": {},
          "execution_count": 66
        }
      ]
    },
    {
      "cell_type": "code",
      "source": [
        "peak_memory_mb=f\"{torch.cuda.max_memory_allocated()/1024**2:.2f}\"\n",
        "total_train_time=f\"{end_time - start_time:.2f}\"\n",
        "import json\n",
        "\n",
        "metrics = {\n",
        "    \"model\": \"graphSAGE\",\n",
        "    \"accuracy\": \"0.7200\",\n",
        "    \"memory_MB\": peak_memory_mb,\n",
        "    \"train_time_sec\": total_train_time\n",
        "}\n",
        "\n",
        "with open(\"graphSAGE_results.json\", \"w\") as f:\n",
        "    json.dump(metrics, f)"
      ],
      "metadata": {
        "id": "b6WHTssHb1ic"
      },
      "execution_count": null,
      "outputs": []
    },
    {
      "cell_type": "code",
      "source": [
        "def calc_graphsage_memory_requirements(batch_size, fanout, num_layers, hidden_dim):\n",
        "    bytes_per_float = 4\n",
        "\n",
        "    # Total number of unique nodes sampled for 1 batch (approx)\n",
        "    total_sampled_nodes = batch_size * (fanout ** (num_layers - 1))\n",
        "\n",
        "    # Embedding memory for all sampled nodes\n",
        "    intermediate_embeddings = total_sampled_nodes * hidden_dim * bytes_per_float\n",
        "\n",
        "    # Weight matrices: L layers of KxK\n",
        "    weight_params = num_layers * hidden_dim * hidden_dim * bytes_per_float\n",
        "\n",
        "    total = intermediate_embeddings + weight_params\n",
        "\n",
        "    return {\n",
        "        \"intermediate_embeddings_MB\": intermediate_embeddings / 1024**2,\n",
        "        \"weight_matrices_MB\": weight_params / 1024**2,\n",
        "        \"total_MB\": total / 1024**2\n",
        "    }\n",
        "\n",
        "# Example values:\n",
        "batch_size = 128\n",
        "fanout = 10\n",
        "num_layers = 2\n",
        "hidden_dim = 64\n",
        "\n",
        "mem_usage = calc_graphsage_memory_requirements(batch_size, fanout, num_layers, hidden_dim)\n",
        "\n",
        "print(f\"Intermediate Embeddings: {mem_usage['intermediate_embeddings_MB']:.2f} MB\")\n",
        "print(f\"Weight Matrices        : {mem_usage['weight_matrices_MB']:.2f} MB\")\n",
        "print(f\"Total Estimated        : {mem_usage['total_MB']:.2f} MB\")\n"
      ],
      "metadata": {
        "id": "7fc66EE_X3iu"
      },
      "execution_count": null,
      "outputs": []
    }
  ]
}